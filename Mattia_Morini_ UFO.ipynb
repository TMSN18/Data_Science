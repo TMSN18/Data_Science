{
 "cells": [
  {
   "cell_type": "markdown",
   "metadata": {},
   "source": [
    "# UFO Sighting"
   ]
  },
  {
   "cell_type": "code",
   "execution_count": 1,
   "metadata": {},
   "outputs": [],
   "source": [
    "#librerie\n",
    "import pandas as pd\n",
    "import numpy as np\n",
    "import seaborn as sns\n",
    "import matplotlib.pyplot as plt"
   ]
  },
  {
   "cell_type": "code",
   "execution_count": 2,
   "metadata": {},
   "outputs": [
    {
     "name": "stderr",
     "output_type": "stream",
     "text": [
      "C:\\Users\\lnv81f500w7ix\\anaconda3\\lib\\site-packages\\IPython\\core\\interactiveshell.py:3338: DtypeWarning: Columns (5,9) have mixed types.Specify dtype option on import or set low_memory=False.\n",
      "  if (await self.run_code(code, result,  async_=asy)):\n"
     ]
    }
   ],
   "source": [
    "#importo i dati\n",
    "ufo = pd.read_table(\"scrubbed.csv\", sep = \",\")"
   ]
  },
  {
   "cell_type": "code",
   "execution_count": 3,
   "metadata": {},
   "outputs": [
    {
     "data": {
      "text/plain": [
       "(80332, 11)"
      ]
     },
     "execution_count": 3,
     "metadata": {},
     "output_type": "execute_result"
    }
   ],
   "source": [
    "ufo.shape"
   ]
  },
  {
   "cell_type": "code",
   "execution_count": 4,
   "metadata": {},
   "outputs": [
    {
     "data": {
      "text/html": [
       "<div>\n",
       "<style scoped>\n",
       "    .dataframe tbody tr th:only-of-type {\n",
       "        vertical-align: middle;\n",
       "    }\n",
       "\n",
       "    .dataframe tbody tr th {\n",
       "        vertical-align: top;\n",
       "    }\n",
       "\n",
       "    .dataframe thead th {\n",
       "        text-align: right;\n",
       "    }\n",
       "</style>\n",
       "<table border=\"1\" class=\"dataframe\">\n",
       "  <thead>\n",
       "    <tr style=\"text-align: right;\">\n",
       "      <th></th>\n",
       "      <th>datetime</th>\n",
       "      <th>city</th>\n",
       "      <th>state</th>\n",
       "      <th>country</th>\n",
       "      <th>shape</th>\n",
       "      <th>duration (seconds)</th>\n",
       "      <th>duration (hours/min)</th>\n",
       "      <th>comments</th>\n",
       "      <th>date posted</th>\n",
       "      <th>latitude</th>\n",
       "      <th>longitude</th>\n",
       "    </tr>\n",
       "  </thead>\n",
       "  <tbody>\n",
       "    <tr>\n",
       "      <th>0</th>\n",
       "      <td>10/10/1949 20:30</td>\n",
       "      <td>san marcos</td>\n",
       "      <td>tx</td>\n",
       "      <td>us</td>\n",
       "      <td>cylinder</td>\n",
       "      <td>2700</td>\n",
       "      <td>45 minutes</td>\n",
       "      <td>This event took place in early fall around 194...</td>\n",
       "      <td>4/27/2004</td>\n",
       "      <td>29.8830556</td>\n",
       "      <td>-97.941111</td>\n",
       "    </tr>\n",
       "    <tr>\n",
       "      <th>1</th>\n",
       "      <td>10/10/1949 21:00</td>\n",
       "      <td>lackland afb</td>\n",
       "      <td>tx</td>\n",
       "      <td>NaN</td>\n",
       "      <td>light</td>\n",
       "      <td>7200</td>\n",
       "      <td>1-2 hrs</td>\n",
       "      <td>1949 Lackland AFB&amp;#44 TX.  Lights racing acros...</td>\n",
       "      <td>12/16/2005</td>\n",
       "      <td>29.38421</td>\n",
       "      <td>-98.581082</td>\n",
       "    </tr>\n",
       "    <tr>\n",
       "      <th>2</th>\n",
       "      <td>10/10/1955 17:00</td>\n",
       "      <td>chester (uk/england)</td>\n",
       "      <td>NaN</td>\n",
       "      <td>gb</td>\n",
       "      <td>circle</td>\n",
       "      <td>20</td>\n",
       "      <td>20 seconds</td>\n",
       "      <td>Green/Orange circular disc over Chester&amp;#44 En...</td>\n",
       "      <td>1/21/2008</td>\n",
       "      <td>53.2</td>\n",
       "      <td>-2.916667</td>\n",
       "    </tr>\n",
       "    <tr>\n",
       "      <th>3</th>\n",
       "      <td>10/10/1956 21:00</td>\n",
       "      <td>edna</td>\n",
       "      <td>tx</td>\n",
       "      <td>us</td>\n",
       "      <td>circle</td>\n",
       "      <td>20</td>\n",
       "      <td>1/2 hour</td>\n",
       "      <td>My older brother and twin sister were leaving ...</td>\n",
       "      <td>1/17/2004</td>\n",
       "      <td>28.9783333</td>\n",
       "      <td>-96.645833</td>\n",
       "    </tr>\n",
       "    <tr>\n",
       "      <th>4</th>\n",
       "      <td>10/10/1960 20:00</td>\n",
       "      <td>kaneohe</td>\n",
       "      <td>hi</td>\n",
       "      <td>us</td>\n",
       "      <td>light</td>\n",
       "      <td>900</td>\n",
       "      <td>15 minutes</td>\n",
       "      <td>AS a Marine 1st Lt. flying an FJ4B fighter/att...</td>\n",
       "      <td>1/22/2004</td>\n",
       "      <td>21.4180556</td>\n",
       "      <td>-157.803611</td>\n",
       "    </tr>\n",
       "  </tbody>\n",
       "</table>\n",
       "</div>"
      ],
      "text/plain": [
       "           datetime                  city state country     shape  \\\n",
       "0  10/10/1949 20:30            san marcos    tx      us  cylinder   \n",
       "1  10/10/1949 21:00          lackland afb    tx     NaN     light   \n",
       "2  10/10/1955 17:00  chester (uk/england)   NaN      gb    circle   \n",
       "3  10/10/1956 21:00                  edna    tx      us    circle   \n",
       "4  10/10/1960 20:00               kaneohe    hi      us     light   \n",
       "\n",
       "  duration (seconds) duration (hours/min)  \\\n",
       "0               2700           45 minutes   \n",
       "1               7200              1-2 hrs   \n",
       "2                 20           20 seconds   \n",
       "3                 20             1/2 hour   \n",
       "4                900           15 minutes   \n",
       "\n",
       "                                            comments date posted    latitude  \\\n",
       "0  This event took place in early fall around 194...   4/27/2004  29.8830556   \n",
       "1  1949 Lackland AFB&#44 TX.  Lights racing acros...  12/16/2005    29.38421   \n",
       "2  Green/Orange circular disc over Chester&#44 En...   1/21/2008        53.2   \n",
       "3  My older brother and twin sister were leaving ...   1/17/2004  28.9783333   \n",
       "4  AS a Marine 1st Lt. flying an FJ4B fighter/att...   1/22/2004  21.4180556   \n",
       "\n",
       "   longitude   \n",
       "0  -97.941111  \n",
       "1  -98.581082  \n",
       "2   -2.916667  \n",
       "3  -96.645833  \n",
       "4 -157.803611  "
      ]
     },
     "execution_count": 4,
     "metadata": {},
     "output_type": "execute_result"
    }
   ],
   "source": [
    "ufo.head()"
   ]
  },
  {
   "cell_type": "code",
   "execution_count": 5,
   "metadata": {},
   "outputs": [
    {
     "data": {
      "text/plain": [
       "array(['datetime', 'city', 'state', 'country', 'shape',\n",
       "       'duration (seconds)', 'duration (hours/min)', 'comments',\n",
       "       'date posted', 'latitude', 'longitude '], dtype=object)"
      ]
     },
     "execution_count": 5,
     "metadata": {},
     "output_type": "execute_result"
    }
   ],
   "source": [
    "ufo.columns.values"
   ]
  },
  {
   "cell_type": "code",
   "execution_count": 6,
   "metadata": {},
   "outputs": [
    {
     "name": "stdout",
     "output_type": "stream",
     "text": [
      "<class 'pandas.core.frame.DataFrame'>\n",
      "RangeIndex: 80332 entries, 0 to 80331\n",
      "Data columns (total 11 columns):\n",
      " #   Column                Non-Null Count  Dtype  \n",
      "---  ------                --------------  -----  \n",
      " 0   datetime              80332 non-null  object \n",
      " 1   city                  80332 non-null  object \n",
      " 2   state                 74535 non-null  object \n",
      " 3   country               70662 non-null  object \n",
      " 4   shape                 78400 non-null  object \n",
      " 5   duration (seconds)    80332 non-null  object \n",
      " 6   duration (hours/min)  80332 non-null  object \n",
      " 7   comments              80317 non-null  object \n",
      " 8   date posted           80332 non-null  object \n",
      " 9   latitude              80332 non-null  object \n",
      " 10  longitude             80332 non-null  float64\n",
      "dtypes: float64(1), object(10)\n",
      "memory usage: 6.7+ MB\n"
     ]
    }
   ],
   "source": [
    "ufo.info()"
   ]
  },
  {
   "cell_type": "markdown",
   "metadata": {},
   "source": [
    "# Pulizia Dati"
   ]
  },
  {
   "cell_type": "code",
   "execution_count": 7,
   "metadata": {},
   "outputs": [],
   "source": [
    "#Credo una copia su cui smanettare\n",
    "ufo_df = ufo.copy()"
   ]
  },
  {
   "cell_type": "markdown",
   "metadata": {},
   "source": [
    "Trasformo la variabile 'datetime'"
   ]
  },
  {
   "cell_type": "code",
   "execution_count": 8,
   "metadata": {},
   "outputs": [],
   "source": [
    "# ufo_df['datetime'] = ufo_df['datetime'].astype('datetime64')\n",
    " # ParserError: hour must be in 0..23: 10/11/2006 24:00"
   ]
  },
  {
   "cell_type": "code",
   "execution_count": 9,
   "metadata": {},
   "outputs": [
    {
     "data": {
      "text/html": [
       "<div>\n",
       "<style scoped>\n",
       "    .dataframe tbody tr th:only-of-type {\n",
       "        vertical-align: middle;\n",
       "    }\n",
       "\n",
       "    .dataframe tbody tr th {\n",
       "        vertical-align: top;\n",
       "    }\n",
       "\n",
       "    .dataframe thead th {\n",
       "        text-align: right;\n",
       "    }\n",
       "</style>\n",
       "<table border=\"1\" class=\"dataframe\">\n",
       "  <thead>\n",
       "    <tr style=\"text-align: right;\">\n",
       "      <th></th>\n",
       "      <th>datetime</th>\n",
       "      <th>city</th>\n",
       "      <th>state</th>\n",
       "      <th>country</th>\n",
       "      <th>shape</th>\n",
       "      <th>duration (seconds)</th>\n",
       "      <th>duration (hours/min)</th>\n",
       "      <th>comments</th>\n",
       "      <th>date posted</th>\n",
       "      <th>latitude</th>\n",
       "      <th>longitude</th>\n",
       "    </tr>\n",
       "  </thead>\n",
       "  <tbody>\n",
       "    <tr>\n",
       "      <th>388</th>\n",
       "      <td>10/11/2006 24:00</td>\n",
       "      <td>rome</td>\n",
       "      <td>ny</td>\n",
       "      <td>us</td>\n",
       "      <td>oval</td>\n",
       "      <td>120</td>\n",
       "      <td>a min or two</td>\n",
       "      <td>I was walking from the garage to the house&amp;#44...</td>\n",
       "      <td>2/1/2007</td>\n",
       "      <td>43.2127778</td>\n",
       "      <td>-75.456111</td>\n",
       "    </tr>\n",
       "    <tr>\n",
       "      <th>693</th>\n",
       "      <td>10/1/2001 24:00</td>\n",
       "      <td>chulucanas-piura la vieja (peru)</td>\n",
       "      <td>NaN</td>\n",
       "      <td>NaN</td>\n",
       "      <td>other</td>\n",
       "      <td>6312000</td>\n",
       "      <td>2 years</td>\n",
       "      <td>go to:  http://www.24horas.com.pe/data/videos/...</td>\n",
       "      <td>3/4/2003</td>\n",
       "      <td>-5.129547</td>\n",
       "      <td>-80.120569</td>\n",
       "    </tr>\n",
       "    <tr>\n",
       "      <th>962</th>\n",
       "      <td>10/1/2012 24:00</td>\n",
       "      <td>novi</td>\n",
       "      <td>mi</td>\n",
       "      <td>us</td>\n",
       "      <td>triangle</td>\n",
       "      <td>300</td>\n",
       "      <td>5 minutes</td>\n",
       "      <td>V shaped and 8 big and very brite lights&amp;#44mo...</td>\n",
       "      <td>10/30/2012</td>\n",
       "      <td>42.4805556</td>\n",
       "      <td>-83.475556</td>\n",
       "    </tr>\n",
       "    <tr>\n",
       "      <th>1067</th>\n",
       "      <td>10/12/2003 24:00</td>\n",
       "      <td>salatiga (indonesia)</td>\n",
       "      <td>NaN</td>\n",
       "      <td>NaN</td>\n",
       "      <td>disk</td>\n",
       "      <td>22</td>\n",
       "      <td>22 seconds</td>\n",
       "      <td>UFO in Salatiga&amp;#44Indonesia</td>\n",
       "      <td>10/31/2003</td>\n",
       "      <td>-7.33683</td>\n",
       "      <td>110.498817</td>\n",
       "    </tr>\n",
       "    <tr>\n",
       "      <th>1221</th>\n",
       "      <td>10/12/2013 24:00</td>\n",
       "      <td>cincinnati</td>\n",
       "      <td>oh</td>\n",
       "      <td>us</td>\n",
       "      <td>fireball</td>\n",
       "      <td>300</td>\n",
       "      <td>3-5 minutes</td>\n",
       "      <td>A bright orange light split into four&amp;#44 did ...</td>\n",
       "      <td>10/14/2013</td>\n",
       "      <td>39.1619444</td>\n",
       "      <td>-84.456944</td>\n",
       "    </tr>\n",
       "    <tr>\n",
       "      <th>...</th>\n",
       "      <td>...</td>\n",
       "      <td>...</td>\n",
       "      <td>...</td>\n",
       "      <td>...</td>\n",
       "      <td>...</td>\n",
       "      <td>...</td>\n",
       "      <td>...</td>\n",
       "      <td>...</td>\n",
       "      <td>...</td>\n",
       "      <td>...</td>\n",
       "      <td>...</td>\n",
       "    </tr>\n",
       "    <tr>\n",
       "      <th>79136</th>\n",
       "      <td>9/4/2005 24:00</td>\n",
       "      <td>boonville</td>\n",
       "      <td>nc</td>\n",
       "      <td>us</td>\n",
       "      <td>cigar</td>\n",
       "      <td>10800</td>\n",
       "      <td>3+ hours</td>\n",
       "      <td>Unusual activity in our small community&amp;#44 cr...</td>\n",
       "      <td>9/9/2013</td>\n",
       "      <td>36.2325</td>\n",
       "      <td>-80.708333</td>\n",
       "    </tr>\n",
       "    <tr>\n",
       "      <th>79137</th>\n",
       "      <td>9/4/2005 24:00</td>\n",
       "      <td>redondo beach</td>\n",
       "      <td>ca</td>\n",
       "      <td>us</td>\n",
       "      <td>triangle</td>\n",
       "      <td>300</td>\n",
       "      <td>5 minutes</td>\n",
       "      <td>Triangulat UFO seen over Redondo Beach&amp;#44 Cal...</td>\n",
       "      <td>12/16/2005</td>\n",
       "      <td>33.8492</td>\n",
       "      <td>-118.387500</td>\n",
       "    </tr>\n",
       "    <tr>\n",
       "      <th>79740</th>\n",
       "      <td>9/7/2002 24:00</td>\n",
       "      <td>portsmouth</td>\n",
       "      <td>oh</td>\n",
       "      <td>us</td>\n",
       "      <td>changing</td>\n",
       "      <td>900</td>\n",
       "      <td>15 minutes</td>\n",
       "      <td>A bright red light hoovering in the sky.</td>\n",
       "      <td>9/13/2002</td>\n",
       "      <td>38.7317</td>\n",
       "      <td>-82.997778</td>\n",
       "    </tr>\n",
       "    <tr>\n",
       "      <th>79759</th>\n",
       "      <td>9/7/2004 24:00</td>\n",
       "      <td>montrose</td>\n",
       "      <td>co</td>\n",
       "      <td>us</td>\n",
       "      <td>unknown</td>\n",
       "      <td>1200</td>\n",
       "      <td>20 minutes</td>\n",
       "      <td>Stationary object with three pulsating lights ...</td>\n",
       "      <td>9/9/2004</td>\n",
       "      <td>38.4783</td>\n",
       "      <td>-107.875556</td>\n",
       "    </tr>\n",
       "    <tr>\n",
       "      <th>79942</th>\n",
       "      <td>9/8/2003 24:00</td>\n",
       "      <td>cedar rapids</td>\n",
       "      <td>ia</td>\n",
       "      <td>us</td>\n",
       "      <td>changing</td>\n",
       "      <td>900</td>\n",
       "      <td>15 min</td>\n",
       "      <td>WE SEEN IT</td>\n",
       "      <td>9/17/2003</td>\n",
       "      <td>42.0083</td>\n",
       "      <td>-91.643889</td>\n",
       "    </tr>\n",
       "  </tbody>\n",
       "</table>\n",
       "<p>694 rows × 11 columns</p>\n",
       "</div>"
      ],
      "text/plain": [
       "               datetime                              city state country  \\\n",
       "388    10/11/2006 24:00                              rome    ny      us   \n",
       "693     10/1/2001 24:00  chulucanas-piura la vieja (peru)   NaN     NaN   \n",
       "962     10/1/2012 24:00                              novi    mi      us   \n",
       "1067   10/12/2003 24:00              salatiga (indonesia)   NaN     NaN   \n",
       "1221   10/12/2013 24:00                        cincinnati    oh      us   \n",
       "...                 ...                               ...   ...     ...   \n",
       "79136    9/4/2005 24:00                         boonville    nc      us   \n",
       "79137    9/4/2005 24:00                     redondo beach    ca      us   \n",
       "79740    9/7/2002 24:00                        portsmouth    oh      us   \n",
       "79759    9/7/2004 24:00                          montrose    co      us   \n",
       "79942    9/8/2003 24:00                      cedar rapids    ia      us   \n",
       "\n",
       "          shape duration (seconds) duration (hours/min)  \\\n",
       "388        oval                120         a min or two   \n",
       "693       other            6312000              2 years   \n",
       "962    triangle                300            5 minutes   \n",
       "1067       disk                 22           22 seconds   \n",
       "1221   fireball                300          3-5 minutes   \n",
       "...         ...                ...                  ...   \n",
       "79136     cigar              10800             3+ hours   \n",
       "79137  triangle                300            5 minutes   \n",
       "79740  changing                900           15 minutes   \n",
       "79759   unknown               1200           20 minutes   \n",
       "79942  changing                900               15 min   \n",
       "\n",
       "                                                comments date posted  \\\n",
       "388    I was walking from the garage to the house&#44...    2/1/2007   \n",
       "693    go to:  http://www.24horas.com.pe/data/videos/...    3/4/2003   \n",
       "962    V shaped and 8 big and very brite lights&#44mo...  10/30/2012   \n",
       "1067                        UFO in Salatiga&#44Indonesia  10/31/2003   \n",
       "1221   A bright orange light split into four&#44 did ...  10/14/2013   \n",
       "...                                                  ...         ...   \n",
       "79136  Unusual activity in our small community&#44 cr...    9/9/2013   \n",
       "79137  Triangulat UFO seen over Redondo Beach&#44 Cal...  12/16/2005   \n",
       "79740           A bright red light hoovering in the sky.   9/13/2002   \n",
       "79759  Stationary object with three pulsating lights ...    9/9/2004   \n",
       "79942                                         WE SEEN IT   9/17/2003   \n",
       "\n",
       "         latitude  longitude   \n",
       "388    43.2127778  -75.456111  \n",
       "693     -5.129547  -80.120569  \n",
       "962    42.4805556  -83.475556  \n",
       "1067     -7.33683  110.498817  \n",
       "1221   39.1619444  -84.456944  \n",
       "...           ...         ...  \n",
       "79136     36.2325  -80.708333  \n",
       "79137     33.8492 -118.387500  \n",
       "79740     38.7317  -82.997778  \n",
       "79759     38.4783 -107.875556  \n",
       "79942     42.0083  -91.643889  \n",
       "\n",
       "[694 rows x 11 columns]"
      ]
     },
     "execution_count": 9,
     "metadata": {},
     "output_type": "execute_result"
    }
   ],
   "source": [
    "ufo_df[ufo_df['datetime'].str.contains(\"24:00\")] # Non legge le ore 24:00"
   ]
  },
  {
   "cell_type": "code",
   "execution_count": 10,
   "metadata": {},
   "outputs": [],
   "source": [
    "ufo_df[\"datetime\"] = ufo_df[\"datetime\"]. replace('24:00', '00:00', regex = True)  #Sostituisco 24:00 con 00:00\n",
    "ufo_df['datetime'] = ufo_df['datetime'].astype('datetime64') # converto"
   ]
  },
  {
   "cell_type": "code",
   "execution_count": 11,
   "metadata": {},
   "outputs": [],
   "source": [
    "#Trasformo anche 'date posted'\n",
    "ufo_df['date posted'] = ufo_df['date posted'].astype('datetime64')"
   ]
  },
  {
   "cell_type": "markdown",
   "metadata": {},
   "source": [
    "Latitudine e Longitudine "
   ]
  },
  {
   "cell_type": "code",
   "execution_count": 12,
   "metadata": {},
   "outputs": [],
   "source": [
    "# ufo_df[\"latitude\"] = ufo_df['latitude'].astype(float)\n",
    "\n",
    "   # ValueError: could not convert string to float: '33q.200088'"
   ]
  },
  {
   "cell_type": "code",
   "execution_count": 13,
   "metadata": {},
   "outputs": [
    {
     "data": {
      "text/html": [
       "<div>\n",
       "<style scoped>\n",
       "    .dataframe tbody tr th:only-of-type {\n",
       "        vertical-align: middle;\n",
       "    }\n",
       "\n",
       "    .dataframe tbody tr th {\n",
       "        vertical-align: top;\n",
       "    }\n",
       "\n",
       "    .dataframe thead th {\n",
       "        text-align: right;\n",
       "    }\n",
       "</style>\n",
       "<table border=\"1\" class=\"dataframe\">\n",
       "  <thead>\n",
       "    <tr style=\"text-align: right;\">\n",
       "      <th></th>\n",
       "      <th>datetime</th>\n",
       "      <th>city</th>\n",
       "      <th>state</th>\n",
       "      <th>country</th>\n",
       "      <th>shape</th>\n",
       "      <th>duration (seconds)</th>\n",
       "      <th>duration (hours/min)</th>\n",
       "      <th>comments</th>\n",
       "      <th>date posted</th>\n",
       "      <th>latitude</th>\n",
       "      <th>longitude</th>\n",
       "    </tr>\n",
       "  </thead>\n",
       "  <tbody>\n",
       "    <tr>\n",
       "      <th>43782</th>\n",
       "      <td>1974-05-22 05:30:00</td>\n",
       "      <td>mescalero indian reservation</td>\n",
       "      <td>nm</td>\n",
       "      <td>NaN</td>\n",
       "      <td>rectangle</td>\n",
       "      <td>180</td>\n",
       "      <td>two hours</td>\n",
       "      <td>Huge rectangular object emmitting intense whit...</td>\n",
       "      <td>2012-04-18</td>\n",
       "      <td>33q.200088</td>\n",
       "      <td>-105.624152</td>\n",
       "    </tr>\n",
       "  </tbody>\n",
       "</table>\n",
       "</div>"
      ],
      "text/plain": [
       "                 datetime                          city state country  \\\n",
       "43782 1974-05-22 05:30:00  mescalero indian reservation    nm     NaN   \n",
       "\n",
       "           shape duration (seconds) duration (hours/min)  \\\n",
       "43782  rectangle                180            two hours   \n",
       "\n",
       "                                                comments date posted  \\\n",
       "43782  Huge rectangular object emmitting intense whit...  2012-04-18   \n",
       "\n",
       "         latitude  longitude   \n",
       "43782  33q.200088 -105.624152  "
      ]
     },
     "execution_count": 13,
     "metadata": {},
     "output_type": "execute_result"
    }
   ],
   "source": [
    "ufo_df[ufo_df['latitude'].str.contains('q', na = False)] #trovo la 'q' che impedisce la conversione"
   ]
  },
  {
   "cell_type": "code",
   "execution_count": 14,
   "metadata": {},
   "outputs": [],
   "source": [
    "ufo_df['latitude'] = ufo_df['latitude']. replace(\"q\", '', regex = True) # sostituisco\n",
    "ufo_df[\"latitude\"] = ufo_df['latitude'].astype(float) # coverto in float"
   ]
  },
  {
   "cell_type": "code",
   "execution_count": 15,
   "metadata": {},
   "outputs": [],
   "source": [
    "ufo_df['longitude'] = ufo_df['longitude '].astype(float) #ho tolto lo spazio dopo il nome della variabile 'longitude'\n",
    "ufo_df = ufo_df.drop(columns=['longitude ']) #elimino la vecchia variabile"
   ]
  },
  {
   "cell_type": "markdown",
   "metadata": {},
   "source": [
    "Tempo di durata degli avvistamenti"
   ]
  },
  {
   "cell_type": "code",
   "execution_count": 16,
   "metadata": {},
   "outputs": [],
   "source": [
    "# ufo_df['duration (seconds)'].astype('float64')\n",
    "   # ValueError: could not convert string to float: '2`'"
   ]
  },
  {
   "cell_type": "code",
   "execution_count": 17,
   "metadata": {},
   "outputs": [
    {
     "data": {
      "text/html": [
       "<div>\n",
       "<style scoped>\n",
       "    .dataframe tbody tr th:only-of-type {\n",
       "        vertical-align: middle;\n",
       "    }\n",
       "\n",
       "    .dataframe tbody tr th {\n",
       "        vertical-align: top;\n",
       "    }\n",
       "\n",
       "    .dataframe thead th {\n",
       "        text-align: right;\n",
       "    }\n",
       "</style>\n",
       "<table border=\"1\" class=\"dataframe\">\n",
       "  <thead>\n",
       "    <tr style=\"text-align: right;\">\n",
       "      <th></th>\n",
       "      <th>datetime</th>\n",
       "      <th>city</th>\n",
       "      <th>state</th>\n",
       "      <th>country</th>\n",
       "      <th>shape</th>\n",
       "      <th>duration (seconds)</th>\n",
       "      <th>duration (hours/min)</th>\n",
       "      <th>comments</th>\n",
       "      <th>date posted</th>\n",
       "      <th>latitude</th>\n",
       "      <th>longitude</th>\n",
       "    </tr>\n",
       "  </thead>\n",
       "  <tbody>\n",
       "    <tr>\n",
       "      <th>27822</th>\n",
       "      <td>2000-02-02 19:33:00</td>\n",
       "      <td>bouse</td>\n",
       "      <td>az</td>\n",
       "      <td>us</td>\n",
       "      <td>NaN</td>\n",
       "      <td>2`</td>\n",
       "      <td>each a few seconds</td>\n",
       "      <td>Driving through Plomosa Pass towards Bouse Loo...</td>\n",
       "      <td>2000-02-16</td>\n",
       "      <td>33.932500</td>\n",
       "      <td>-114.005000</td>\n",
       "    </tr>\n",
       "    <tr>\n",
       "      <th>35692</th>\n",
       "      <td>2005-04-10 22:52:00</td>\n",
       "      <td>santa cruz</td>\n",
       "      <td>ca</td>\n",
       "      <td>us</td>\n",
       "      <td>NaN</td>\n",
       "      <td>8`</td>\n",
       "      <td>eight seconds</td>\n",
       "      <td>2 red lights moving together and apart with a ...</td>\n",
       "      <td>2005-04-16</td>\n",
       "      <td>36.974167</td>\n",
       "      <td>-122.029722</td>\n",
       "    </tr>\n",
       "    <tr>\n",
       "      <th>58591</th>\n",
       "      <td>2006-07-21 13:00:00</td>\n",
       "      <td>ibague (colombia)</td>\n",
       "      <td>NaN</td>\n",
       "      <td>NaN</td>\n",
       "      <td>circle</td>\n",
       "      <td>0.5`</td>\n",
       "      <td>1/2 segundo</td>\n",
       "      <td>Viajaba a 27.000 pies en un avion comercial ve...</td>\n",
       "      <td>2006-10-30</td>\n",
       "      <td>4.440663</td>\n",
       "      <td>-75.244141</td>\n",
       "    </tr>\n",
       "  </tbody>\n",
       "</table>\n",
       "</div>"
      ],
      "text/plain": [
       "                 datetime               city state country   shape  \\\n",
       "27822 2000-02-02 19:33:00              bouse    az      us     NaN   \n",
       "35692 2005-04-10 22:52:00         santa cruz    ca      us     NaN   \n",
       "58591 2006-07-21 13:00:00  ibague (colombia)   NaN     NaN  circle   \n",
       "\n",
       "      duration (seconds) duration (hours/min)  \\\n",
       "27822                 2`   each a few seconds   \n",
       "35692                 8`        eight seconds   \n",
       "58591               0.5`          1/2 segundo   \n",
       "\n",
       "                                                comments date posted  \\\n",
       "27822  Driving through Plomosa Pass towards Bouse Loo...  2000-02-16   \n",
       "35692  2 red lights moving together and apart with a ...  2005-04-16   \n",
       "58591  Viajaba a 27.000 pies en un avion comercial ve...  2006-10-30   \n",
       "\n",
       "        latitude   longitude  \n",
       "27822  33.932500 -114.005000  \n",
       "35692  36.974167 -122.029722  \n",
       "58591   4.440663  -75.244141  "
      ]
     },
     "execution_count": 17,
     "metadata": {},
     "output_type": "execute_result"
    }
   ],
   "source": [
    "ufo_df[ufo_df['duration (seconds)'].str.contains(\"`\", na = False)] #ci sono 3 valori con l'accento che impediscono la conversione"
   ]
  },
  {
   "cell_type": "code",
   "execution_count": 18,
   "metadata": {},
   "outputs": [],
   "source": [
    "ufo_df['duration (seconds)'] = ufo_df['duration (seconds)']. replace(\"`\", '', regex = True) #sostituisco \n",
    "ufo_df['duration (seconds)'] = ufo_df['duration (seconds)'].astype('float64') # coverto"
   ]
  },
  {
   "cell_type": "markdown",
   "metadata": {},
   "source": [
    "Creo una nuova colonna con la durata in minuti "
   ]
  },
  {
   "cell_type": "code",
   "execution_count": 19,
   "metadata": {},
   "outputs": [],
   "source": [
    "ufo_df['duration(minutes)'] = ufo_df['duration (seconds)'] /60"
   ]
  },
  {
   "cell_type": "markdown",
   "metadata": {},
   "source": [
    "### Missing Values"
   ]
  },
  {
   "cell_type": "code",
   "execution_count": 20,
   "metadata": {},
   "outputs": [
    {
     "data": {
      "text/plain": [
       "datetime                   0\n",
       "city                       0\n",
       "state                   5797\n",
       "country                 9670\n",
       "shape                   1932\n",
       "duration (seconds)         0\n",
       "duration (hours/min)       0\n",
       "comments                  15\n",
       "date posted                0\n",
       "latitude                   0\n",
       "longitude                  0\n",
       "duration(minutes)          0\n",
       "dtype: int64"
      ]
     },
     "execution_count": 20,
     "metadata": {},
     "output_type": "execute_result"
    }
   ],
   "source": [
    "ufo_df.isnull().sum()  #Ho dei valori nulli in stato e paese. "
   ]
  },
  {
   "cell_type": "markdown",
   "metadata": {},
   "source": [
    "Potrei usare un reverse geocoding dalle coordinate lat e long per riempirli"
   ]
  },
  {
   "cell_type": "code",
   "execution_count": 21,
   "metadata": {},
   "outputs": [],
   "source": [
    "#importo la libreria\n",
    "import reverse_geocoder as rg "
   ]
  },
  {
   "cell_type": "code",
   "execution_count": 22,
   "metadata": {},
   "outputs": [
    {
     "name": "stdout",
     "output_type": "stream",
     "text": [
      "Loading formatted geocoded file...\n"
     ]
    }
   ],
   "source": [
    "coordinates = list(zip(ufo_df['latitude'], ufo_df['longitude'])) #Creo una variabile con la tupla di lat e long (per passarla a reverse_geocoding)\n",
    "results = rg.search(coordinates) # cerco le località\n"
   ]
  },
  {
   "cell_type": "code",
   "execution_count": 23,
   "metadata": {},
   "outputs": [
    {
     "data": {
      "text/html": [
       "<div>\n",
       "<style scoped>\n",
       "    .dataframe tbody tr th:only-of-type {\n",
       "        vertical-align: middle;\n",
       "    }\n",
       "\n",
       "    .dataframe tbody tr th {\n",
       "        vertical-align: top;\n",
       "    }\n",
       "\n",
       "    .dataframe thead th {\n",
       "        text-align: right;\n",
       "    }\n",
       "</style>\n",
       "<table border=\"1\" class=\"dataframe\">\n",
       "  <thead>\n",
       "    <tr style=\"text-align: right;\">\n",
       "      <th></th>\n",
       "      <th>lat</th>\n",
       "      <th>lon</th>\n",
       "      <th>name</th>\n",
       "      <th>admin1</th>\n",
       "      <th>admin2</th>\n",
       "      <th>cc</th>\n",
       "    </tr>\n",
       "  </thead>\n",
       "  <tbody>\n",
       "    <tr>\n",
       "      <th>0</th>\n",
       "      <td>29.88327</td>\n",
       "      <td>-97.94139</td>\n",
       "      <td>San Marcos</td>\n",
       "      <td>Texas</td>\n",
       "      <td>Hays County</td>\n",
       "      <td>US</td>\n",
       "    </tr>\n",
       "    <tr>\n",
       "      <th>1</th>\n",
       "      <td>29.38663</td>\n",
       "      <td>-98.61797</td>\n",
       "      <td>Lackland Air Force Base</td>\n",
       "      <td>Texas</td>\n",
       "      <td>Bexar County</td>\n",
       "      <td>US</td>\n",
       "    </tr>\n",
       "    <tr>\n",
       "      <th>2</th>\n",
       "      <td>53.20832</td>\n",
       "      <td>-2.9253</td>\n",
       "      <td>Blacon</td>\n",
       "      <td>England</td>\n",
       "      <td>Cheshire West and Chester</td>\n",
       "      <td>GB</td>\n",
       "    </tr>\n",
       "    <tr>\n",
       "      <th>3</th>\n",
       "      <td>28.97859</td>\n",
       "      <td>-96.64609</td>\n",
       "      <td>Edna</td>\n",
       "      <td>Texas</td>\n",
       "      <td>Jackson County</td>\n",
       "      <td>US</td>\n",
       "    </tr>\n",
       "    <tr>\n",
       "      <th>4</th>\n",
       "      <td>21.40929</td>\n",
       "      <td>-157.80092</td>\n",
       "      <td>Kane'ohe</td>\n",
       "      <td>Hawaii</td>\n",
       "      <td>Honolulu County</td>\n",
       "      <td>US</td>\n",
       "    </tr>\n",
       "  </tbody>\n",
       "</table>\n",
       "</div>"
      ],
      "text/plain": [
       "        lat         lon                     name   admin1  \\\n",
       "0  29.88327   -97.94139               San Marcos    Texas   \n",
       "1  29.38663   -98.61797  Lackland Air Force Base    Texas   \n",
       "2  53.20832     -2.9253                   Blacon  England   \n",
       "3  28.97859   -96.64609                     Edna    Texas   \n",
       "4  21.40929  -157.80092                 Kane'ohe   Hawaii   \n",
       "\n",
       "                      admin2  cc  \n",
       "0                Hays County  US  \n",
       "1               Bexar County  US  \n",
       "2  Cheshire West and Chester  GB  \n",
       "3             Jackson County  US  \n",
       "4            Honolulu County  US  "
      ]
     },
     "execution_count": 23,
     "metadata": {},
     "output_type": "execute_result"
    }
   ],
   "source": [
    "results_df = pd.DataFrame(results) #Converto in df\n",
    "results_df.head()\n",
    "# name = città\n",
    "# admin1 = stato\n",
    "# cc = paese"
   ]
  },
  {
   "cell_type": "code",
   "execution_count": 24,
   "metadata": {},
   "outputs": [],
   "source": [
    "#creo le nuove colonne con i dati ottenuti dal reverse geocoding\n",
    "ufo_df['country_rg']=results_df['cc']\n",
    "ufo_df['city_rg']=results_df['name']\n",
    "ufo_df['state_rg'] = results_df['admin1']"
   ]
  },
  {
   "cell_type": "code",
   "execution_count": 25,
   "metadata": {},
   "outputs": [
    {
     "data": {
      "text/html": [
       "<div>\n",
       "<style scoped>\n",
       "    .dataframe tbody tr th:only-of-type {\n",
       "        vertical-align: middle;\n",
       "    }\n",
       "\n",
       "    .dataframe tbody tr th {\n",
       "        vertical-align: top;\n",
       "    }\n",
       "\n",
       "    .dataframe thead th {\n",
       "        text-align: right;\n",
       "    }\n",
       "</style>\n",
       "<table border=\"1\" class=\"dataframe\">\n",
       "  <thead>\n",
       "    <tr style=\"text-align: right;\">\n",
       "      <th></th>\n",
       "      <th>country</th>\n",
       "      <th>country_rg</th>\n",
       "      <th>state</th>\n",
       "      <th>state_rg</th>\n",
       "      <th>city</th>\n",
       "      <th>city_rg</th>\n",
       "    </tr>\n",
       "  </thead>\n",
       "  <tbody>\n",
       "    <tr>\n",
       "      <th>0</th>\n",
       "      <td>us</td>\n",
       "      <td>US</td>\n",
       "      <td>tx</td>\n",
       "      <td>Texas</td>\n",
       "      <td>san marcos</td>\n",
       "      <td>San Marcos</td>\n",
       "    </tr>\n",
       "    <tr>\n",
       "      <th>1</th>\n",
       "      <td>NaN</td>\n",
       "      <td>US</td>\n",
       "      <td>tx</td>\n",
       "      <td>Texas</td>\n",
       "      <td>lackland afb</td>\n",
       "      <td>Lackland Air Force Base</td>\n",
       "    </tr>\n",
       "    <tr>\n",
       "      <th>2</th>\n",
       "      <td>gb</td>\n",
       "      <td>GB</td>\n",
       "      <td>NaN</td>\n",
       "      <td>England</td>\n",
       "      <td>chester (uk/england)</td>\n",
       "      <td>Blacon</td>\n",
       "    </tr>\n",
       "    <tr>\n",
       "      <th>3</th>\n",
       "      <td>us</td>\n",
       "      <td>US</td>\n",
       "      <td>tx</td>\n",
       "      <td>Texas</td>\n",
       "      <td>edna</td>\n",
       "      <td>Edna</td>\n",
       "    </tr>\n",
       "    <tr>\n",
       "      <th>4</th>\n",
       "      <td>us</td>\n",
       "      <td>US</td>\n",
       "      <td>hi</td>\n",
       "      <td>Hawaii</td>\n",
       "      <td>kaneohe</td>\n",
       "      <td>Kane'ohe</td>\n",
       "    </tr>\n",
       "    <tr>\n",
       "      <th>...</th>\n",
       "      <td>...</td>\n",
       "      <td>...</td>\n",
       "      <td>...</td>\n",
       "      <td>...</td>\n",
       "      <td>...</td>\n",
       "      <td>...</td>\n",
       "    </tr>\n",
       "    <tr>\n",
       "      <th>80327</th>\n",
       "      <td>us</td>\n",
       "      <td>US</td>\n",
       "      <td>tn</td>\n",
       "      <td>Tennessee</td>\n",
       "      <td>nashville</td>\n",
       "      <td>Nashville</td>\n",
       "    </tr>\n",
       "    <tr>\n",
       "      <th>80328</th>\n",
       "      <td>us</td>\n",
       "      <td>US</td>\n",
       "      <td>id</td>\n",
       "      <td>Idaho</td>\n",
       "      <td>boise</td>\n",
       "      <td>Boise</td>\n",
       "    </tr>\n",
       "    <tr>\n",
       "      <th>80329</th>\n",
       "      <td>us</td>\n",
       "      <td>US</td>\n",
       "      <td>ca</td>\n",
       "      <td>California</td>\n",
       "      <td>napa</td>\n",
       "      <td>Napa</td>\n",
       "    </tr>\n",
       "    <tr>\n",
       "      <th>80330</th>\n",
       "      <td>us</td>\n",
       "      <td>US</td>\n",
       "      <td>va</td>\n",
       "      <td>Virginia</td>\n",
       "      <td>vienna</td>\n",
       "      <td>Vienna</td>\n",
       "    </tr>\n",
       "    <tr>\n",
       "      <th>80331</th>\n",
       "      <td>us</td>\n",
       "      <td>US</td>\n",
       "      <td>ok</td>\n",
       "      <td>Oklahoma</td>\n",
       "      <td>edmond</td>\n",
       "      <td>Edmond</td>\n",
       "    </tr>\n",
       "  </tbody>\n",
       "</table>\n",
       "<p>80332 rows × 6 columns</p>\n",
       "</div>"
      ],
      "text/plain": [
       "      country country_rg state    state_rg                  city  \\\n",
       "0          us         US    tx       Texas            san marcos   \n",
       "1         NaN         US    tx       Texas          lackland afb   \n",
       "2          gb         GB   NaN     England  chester (uk/england)   \n",
       "3          us         US    tx       Texas                  edna   \n",
       "4          us         US    hi      Hawaii               kaneohe   \n",
       "...       ...        ...   ...         ...                   ...   \n",
       "80327      us         US    tn   Tennessee             nashville   \n",
       "80328      us         US    id       Idaho                 boise   \n",
       "80329      us         US    ca  California                  napa   \n",
       "80330      us         US    va    Virginia                vienna   \n",
       "80331      us         US    ok    Oklahoma                edmond   \n",
       "\n",
       "                       city_rg  \n",
       "0                   San Marcos  \n",
       "1      Lackland Air Force Base  \n",
       "2                       Blacon  \n",
       "3                         Edna  \n",
       "4                     Kane'ohe  \n",
       "...                        ...  \n",
       "80327                Nashville  \n",
       "80328                    Boise  \n",
       "80329                     Napa  \n",
       "80330                   Vienna  \n",
       "80331                   Edmond  \n",
       "\n",
       "[80332 rows x 6 columns]"
      ]
     },
     "execution_count": 25,
     "metadata": {},
     "output_type": "execute_result"
    }
   ],
   "source": [
    "(ufo_df[['country','country_rg','state','state_rg','city','city_rg']])"
   ]
  },
  {
   "cell_type": "code",
   "execution_count": 26,
   "metadata": {},
   "outputs": [
    {
     "data": {
      "text/plain": [
       "datetime                   0\n",
       "city                       0\n",
       "state                   5797\n",
       "country                 9670\n",
       "shape                   1932\n",
       "duration (seconds)         0\n",
       "duration (hours/min)       0\n",
       "comments                  15\n",
       "date posted                0\n",
       "latitude                   0\n",
       "longitude                  0\n",
       "duration(minutes)          0\n",
       "country_rg                 0\n",
       "city_rg                    0\n",
       "state_rg                   0\n",
       "dtype: int64"
      ]
     },
     "execution_count": 26,
     "metadata": {},
     "output_type": "execute_result"
    }
   ],
   "source": [
    "ufo_df.isnull().sum() #le nuove variabili non hanno missing"
   ]
  },
  {
   "cell_type": "markdown",
   "metadata": {},
   "source": [
    "Elimino ciò che è superfluo"
   ]
  },
  {
   "cell_type": "code",
   "execution_count": 27,
   "metadata": {},
   "outputs": [],
   "source": [
    "# Elimino ciò che è superfluo\n",
    "ufo_df = ufo_df.drop(['country','state','city','duration (hours/min)','duration (seconds)'],axis=1)"
   ]
  },
  {
   "cell_type": "code",
   "execution_count": 28,
   "metadata": {},
   "outputs": [],
   "source": [
    "#Rinomino e riordino\n",
    "ufo_df = ufo_df.rename(columns={'date posted' : 'date_posted',\n",
    "                       'country_rg': 'country',\n",
    "                       'state_rg': 'state',\n",
    "                       'city_rg': 'city' })\n",
    "\n",
    "ufo_clean = ufo_df[[\"datetime\", \"country\", \"state\", \"city\", \"shape\", \"duration(minutes)\",\"comments\", \"date_posted\",\"latitude\",\"longitude\"]]"
   ]
  },
  {
   "cell_type": "code",
   "execution_count": 29,
   "metadata": {},
   "outputs": [
    {
     "name": "stdout",
     "output_type": "stream",
     "text": [
      "<class 'pandas.core.frame.DataFrame'>\n",
      "RangeIndex: 80332 entries, 0 to 80331\n",
      "Data columns (total 10 columns):\n",
      " #   Column             Non-Null Count  Dtype         \n",
      "---  ------             --------------  -----         \n",
      " 0   datetime           80332 non-null  datetime64[ns]\n",
      " 1   country            80332 non-null  object        \n",
      " 2   state              80332 non-null  object        \n",
      " 3   city               80332 non-null  object        \n",
      " 4   shape              78400 non-null  object        \n",
      " 5   duration(minutes)  80332 non-null  float64       \n",
      " 6   comments           80317 non-null  object        \n",
      " 7   date_posted        80332 non-null  datetime64[ns]\n",
      " 8   latitude           80332 non-null  float64       \n",
      " 9   longitude          80332 non-null  float64       \n",
      "dtypes: datetime64[ns](2), float64(3), object(5)\n",
      "memory usage: 6.1+ MB\n"
     ]
    }
   ],
   "source": [
    "ufo_clean.info()"
   ]
  },
  {
   "cell_type": "code",
   "execution_count": 30,
   "metadata": {},
   "outputs": [
    {
     "data": {
      "text/html": [
       "<div>\n",
       "<style scoped>\n",
       "    .dataframe tbody tr th:only-of-type {\n",
       "        vertical-align: middle;\n",
       "    }\n",
       "\n",
       "    .dataframe tbody tr th {\n",
       "        vertical-align: top;\n",
       "    }\n",
       "\n",
       "    .dataframe thead th {\n",
       "        text-align: right;\n",
       "    }\n",
       "</style>\n",
       "<table border=\"1\" class=\"dataframe\">\n",
       "  <thead>\n",
       "    <tr style=\"text-align: right;\">\n",
       "      <th></th>\n",
       "      <th>datetime</th>\n",
       "      <th>country</th>\n",
       "      <th>state</th>\n",
       "      <th>city</th>\n",
       "      <th>shape</th>\n",
       "      <th>duration(minutes)</th>\n",
       "      <th>comments</th>\n",
       "      <th>date_posted</th>\n",
       "      <th>latitude</th>\n",
       "      <th>longitude</th>\n",
       "    </tr>\n",
       "  </thead>\n",
       "  <tbody>\n",
       "    <tr>\n",
       "      <th>0</th>\n",
       "      <td>1949-10-10 20:30:00</td>\n",
       "      <td>US</td>\n",
       "      <td>Texas</td>\n",
       "      <td>San Marcos</td>\n",
       "      <td>cylinder</td>\n",
       "      <td>45.000000</td>\n",
       "      <td>This event took place in early fall around 194...</td>\n",
       "      <td>2004-04-27</td>\n",
       "      <td>29.883056</td>\n",
       "      <td>-97.941111</td>\n",
       "    </tr>\n",
       "    <tr>\n",
       "      <th>1</th>\n",
       "      <td>1949-10-10 21:00:00</td>\n",
       "      <td>US</td>\n",
       "      <td>Texas</td>\n",
       "      <td>Lackland Air Force Base</td>\n",
       "      <td>light</td>\n",
       "      <td>120.000000</td>\n",
       "      <td>1949 Lackland AFB&amp;#44 TX.  Lights racing acros...</td>\n",
       "      <td>2005-12-16</td>\n",
       "      <td>29.384210</td>\n",
       "      <td>-98.581082</td>\n",
       "    </tr>\n",
       "    <tr>\n",
       "      <th>2</th>\n",
       "      <td>1955-10-10 17:00:00</td>\n",
       "      <td>GB</td>\n",
       "      <td>England</td>\n",
       "      <td>Blacon</td>\n",
       "      <td>circle</td>\n",
       "      <td>0.333333</td>\n",
       "      <td>Green/Orange circular disc over Chester&amp;#44 En...</td>\n",
       "      <td>2008-01-21</td>\n",
       "      <td>53.200000</td>\n",
       "      <td>-2.916667</td>\n",
       "    </tr>\n",
       "    <tr>\n",
       "      <th>3</th>\n",
       "      <td>1956-10-10 21:00:00</td>\n",
       "      <td>US</td>\n",
       "      <td>Texas</td>\n",
       "      <td>Edna</td>\n",
       "      <td>circle</td>\n",
       "      <td>0.333333</td>\n",
       "      <td>My older brother and twin sister were leaving ...</td>\n",
       "      <td>2004-01-17</td>\n",
       "      <td>28.978333</td>\n",
       "      <td>-96.645833</td>\n",
       "    </tr>\n",
       "    <tr>\n",
       "      <th>4</th>\n",
       "      <td>1960-10-10 20:00:00</td>\n",
       "      <td>US</td>\n",
       "      <td>Hawaii</td>\n",
       "      <td>Kane'ohe</td>\n",
       "      <td>light</td>\n",
       "      <td>15.000000</td>\n",
       "      <td>AS a Marine 1st Lt. flying an FJ4B fighter/att...</td>\n",
       "      <td>2004-01-22</td>\n",
       "      <td>21.418056</td>\n",
       "      <td>-157.803611</td>\n",
       "    </tr>\n",
       "  </tbody>\n",
       "</table>\n",
       "</div>"
      ],
      "text/plain": [
       "             datetime country    state                     city     shape  \\\n",
       "0 1949-10-10 20:30:00      US    Texas               San Marcos  cylinder   \n",
       "1 1949-10-10 21:00:00      US    Texas  Lackland Air Force Base     light   \n",
       "2 1955-10-10 17:00:00      GB  England                   Blacon    circle   \n",
       "3 1956-10-10 21:00:00      US    Texas                     Edna    circle   \n",
       "4 1960-10-10 20:00:00      US   Hawaii                 Kane'ohe     light   \n",
       "\n",
       "   duration(minutes)                                           comments  \\\n",
       "0          45.000000  This event took place in early fall around 194...   \n",
       "1         120.000000  1949 Lackland AFB&#44 TX.  Lights racing acros...   \n",
       "2           0.333333  Green/Orange circular disc over Chester&#44 En...   \n",
       "3           0.333333  My older brother and twin sister were leaving ...   \n",
       "4          15.000000  AS a Marine 1st Lt. flying an FJ4B fighter/att...   \n",
       "\n",
       "  date_posted   latitude   longitude  \n",
       "0  2004-04-27  29.883056  -97.941111  \n",
       "1  2005-12-16  29.384210  -98.581082  \n",
       "2  2008-01-21  53.200000   -2.916667  \n",
       "3  2004-01-17  28.978333  -96.645833  \n",
       "4  2004-01-22  21.418056 -157.803611  "
      ]
     },
     "execution_count": 30,
     "metadata": {},
     "output_type": "execute_result"
    }
   ],
   "source": [
    "ufo_clean.head()"
   ]
  },
  {
   "cell_type": "markdown",
   "metadata": {},
   "source": [
    "# Analisi Esplorativa"
   ]
  },
  {
   "cell_type": "markdown",
   "metadata": {},
   "source": [
    "Frequenza per paese\n",
    "Quasi il 90% degli avvistamenti riportati sono avvenuti degli Stati Uniti"
   ]
  },
  {
   "cell_type": "code",
   "execution_count": 31,
   "metadata": {},
   "outputs": [
    {
     "data": {
      "text/plain": [
       "US    0.882637\n",
       "CA    0.044665\n",
       "GB    0.029714\n",
       "AU    0.007880\n",
       "MX    0.002938\n",
       "        ...   \n",
       "YE    0.000012\n",
       "AX    0.000012\n",
       "CM    0.000012\n",
       "MO    0.000012\n",
       "KG    0.000012\n",
       "Name: country, Length: 164, dtype: float64"
      ]
     },
     "execution_count": 31,
     "metadata": {},
     "output_type": "execute_result"
    }
   ],
   "source": [
    "ufo_clean['country'].value_counts()/len(ufo_clean) #numero di avvistamenti per paese "
   ]
  },
  {
   "cell_type": "markdown",
   "metadata": {},
   "source": [
    "Focus su Stati Uniti: \n",
    "Frequenza per stato. La California è lo stato con il numero maggiore di avvistamenti UFO"
   ]
  },
  {
   "cell_type": "code",
   "execution_count": 32,
   "metadata": {},
   "outputs": [
    {
     "data": {
      "text/plain": [
       "California      0.135479\n",
       "Washington      0.060095\n",
       "Florida         0.059334\n",
       "Texas           0.052099\n",
       "New York        0.046006\n",
       "Arizona         0.038178\n",
       "Illinois        0.037290\n",
       "Pennsylvania    0.036500\n",
       "Ohio            0.033961\n",
       "Michigan        0.029180\n",
       "Name: state, dtype: float64"
      ]
     },
     "execution_count": 32,
     "metadata": {},
     "output_type": "execute_result"
    }
   ],
   "source": [
    "ufo_us = ufo_clean[ufo_clean['country'] == 'US']\n",
    "(ufo_us['state'].value_counts()/len(ufo_us)).head(10)"
   ]
  },
  {
   "cell_type": "markdown",
   "metadata": {},
   "source": [
    "Mappa Coropletica"
   ]
  },
  {
   "cell_type": "code",
   "execution_count": 33,
   "metadata": {},
   "outputs": [],
   "source": [
    "# creo il dataframe che colorerà la mappa\n",
    "df_us = pd.DataFrame(ufo_us['state'].value_counts())\n",
    "df_us = df_us.reset_index() \n",
    "df_us = df_us.rename(columns={'index' : 'state',\n",
    "                              'state' : 'frequency'})"
   ]
  },
  {
   "cell_type": "code",
   "execution_count": 34,
   "metadata": {},
   "outputs": [],
   "source": [
    "import os # importo il modulo os\n",
    "state_geo = os.path.join('us-states.json') #per caricare lo shapefile\n",
    "import folium #per la mappa coropletica (leaflet)\n",
    "import branca.colormap as cm"
   ]
  },
  {
   "cell_type": "code",
   "execution_count": 35,
   "metadata": {},
   "outputs": [],
   "source": [
    "# inizializzo la mappa\n",
    "m = folium.Map(location=[37, -102], zoom_start=4)"
   ]
  },
  {
   "cell_type": "code",
   "execution_count": 36,
   "metadata": {},
   "outputs": [
    {
     "name": "stderr",
     "output_type": "stream",
     "text": [
      "C:\\Users\\lnv81f500w7ix\\anaconda3\\lib\\site-packages\\folium\\folium.py:409: FutureWarning: The choropleth  method has been deprecated. Instead use the new Choropleth class, which has the same arguments. See the example notebook 'GeoJSON_and_choropleth' for how to do this.\n",
      "  warnings.warn(\n"
     ]
    },
    {
     "data": {
      "text/html": [
       "<div style=\"width:100%;\"><div style=\"position:relative;width:100%;height:0;padding-bottom:60%;\"><span style=\"color:#565656\">Make this Notebook Trusted to load map: File -> Trust Notebook</span><iframe src=\"about:blank\" style=\"position:absolute;width:100%;height:100%;left:0;top:0;border:none !important;\" data-html=%3C%21DOCTYPE%20html%3E%0A%3Chead%3E%20%20%20%20%0A%20%20%20%20%3Cmeta%20http-equiv%3D%22content-type%22%20content%3D%22text/html%3B%20charset%3DUTF-8%22%20/%3E%0A%20%20%20%20%0A%20%20%20%20%20%20%20%20%3Cscript%3E%0A%20%20%20%20%20%20%20%20%20%20%20%20L_NO_TOUCH%20%3D%20false%3B%0A%20%20%20%20%20%20%20%20%20%20%20%20L_DISABLE_3D%20%3D%20false%3B%0A%20%20%20%20%20%20%20%20%3C/script%3E%0A%20%20%20%20%0A%20%20%20%20%3Cstyle%3Ehtml%2C%20body%20%7Bwidth%3A%20100%25%3Bheight%3A%20100%25%3Bmargin%3A%200%3Bpadding%3A%200%3B%7D%3C/style%3E%0A%20%20%20%20%3Cstyle%3E%23map%20%7Bposition%3Aabsolute%3Btop%3A0%3Bbottom%3A0%3Bright%3A0%3Bleft%3A0%3B%7D%3C/style%3E%0A%20%20%20%20%3Cscript%20src%3D%22https%3A//cdn.jsdelivr.net/npm/leaflet%401.6.0/dist/leaflet.js%22%3E%3C/script%3E%0A%20%20%20%20%3Cscript%20src%3D%22https%3A//code.jquery.com/jquery-1.12.4.min.js%22%3E%3C/script%3E%0A%20%20%20%20%3Cscript%20src%3D%22https%3A//maxcdn.bootstrapcdn.com/bootstrap/3.2.0/js/bootstrap.min.js%22%3E%3C/script%3E%0A%20%20%20%20%3Cscript%20src%3D%22https%3A//cdnjs.cloudflare.com/ajax/libs/Leaflet.awesome-markers/2.0.2/leaflet.awesome-markers.js%22%3E%3C/script%3E%0A%20%20%20%20%3Clink%20rel%3D%22stylesheet%22%20href%3D%22https%3A//cdn.jsdelivr.net/npm/leaflet%401.6.0/dist/leaflet.css%22/%3E%0A%20%20%20%20%3Clink%20rel%3D%22stylesheet%22%20href%3D%22https%3A//maxcdn.bootstrapcdn.com/bootstrap/3.2.0/css/bootstrap.min.css%22/%3E%0A%20%20%20%20%3Clink%20rel%3D%22stylesheet%22%20href%3D%22https%3A//maxcdn.bootstrapcdn.com/bootstrap/3.2.0/css/bootstrap-theme.min.css%22/%3E%0A%20%20%20%20%3Clink%20rel%3D%22stylesheet%22%20href%3D%22https%3A//maxcdn.bootstrapcdn.com/font-awesome/4.6.3/css/font-awesome.min.css%22/%3E%0A%20%20%20%20%3Clink%20rel%3D%22stylesheet%22%20href%3D%22https%3A//cdnjs.cloudflare.com/ajax/libs/Leaflet.awesome-markers/2.0.2/leaflet.awesome-markers.css%22/%3E%0A%20%20%20%20%3Clink%20rel%3D%22stylesheet%22%20href%3D%22https%3A//cdn.jsdelivr.net/gh/python-visualization/folium/folium/templates/leaflet.awesome.rotate.min.css%22/%3E%0A%20%20%20%20%0A%20%20%20%20%20%20%20%20%20%20%20%20%3Cmeta%20name%3D%22viewport%22%20content%3D%22width%3Ddevice-width%2C%0A%20%20%20%20%20%20%20%20%20%20%20%20%20%20%20%20initial-scale%3D1.0%2C%20maximum-scale%3D1.0%2C%20user-scalable%3Dno%22%20/%3E%0A%20%20%20%20%20%20%20%20%20%20%20%20%3Cstyle%3E%0A%20%20%20%20%20%20%20%20%20%20%20%20%20%20%20%20%23map_5c291525162d4d7fa90bbf34f00bf97a%20%7B%0A%20%20%20%20%20%20%20%20%20%20%20%20%20%20%20%20%20%20%20%20position%3A%20relative%3B%0A%20%20%20%20%20%20%20%20%20%20%20%20%20%20%20%20%20%20%20%20width%3A%20100.0%25%3B%0A%20%20%20%20%20%20%20%20%20%20%20%20%20%20%20%20%20%20%20%20height%3A%20100.0%25%3B%0A%20%20%20%20%20%20%20%20%20%20%20%20%20%20%20%20%20%20%20%20left%3A%200.0%25%3B%0A%20%20%20%20%20%20%20%20%20%20%20%20%20%20%20%20%20%20%20%20top%3A%200.0%25%3B%0A%20%20%20%20%20%20%20%20%20%20%20%20%20%20%20%20%7D%0A%20%20%20%20%20%20%20%20%20%20%20%20%3C/style%3E%0A%20%20%20%20%20%20%20%20%0A%20%20%20%20%3Cscript%20src%3D%22https%3A//cdnjs.cloudflare.com/ajax/libs/d3/3.5.5/d3.min.js%22%3E%3C/script%3E%0A%3C/head%3E%0A%3Cbody%3E%20%20%20%20%0A%20%20%20%20%0A%20%20%20%20%20%20%20%20%20%20%20%20%3Cdiv%20class%3D%22folium-map%22%20id%3D%22map_5c291525162d4d7fa90bbf34f00bf97a%22%20%3E%3C/div%3E%0A%20%20%20%20%20%20%20%20%0A%3C/body%3E%0A%3Cscript%3E%20%20%20%20%0A%20%20%20%20%0A%20%20%20%20%20%20%20%20%20%20%20%20var%20map_5c291525162d4d7fa90bbf34f00bf97a%20%3D%20L.map%28%0A%20%20%20%20%20%20%20%20%20%20%20%20%20%20%20%20%22map_5c291525162d4d7fa90bbf34f00bf97a%22%2C%0A%20%20%20%20%20%20%20%20%20%20%20%20%20%20%20%20%7B%0A%20%20%20%20%20%20%20%20%20%20%20%20%20%20%20%20%20%20%20%20center%3A%20%5B37.0%2C%20-102.0%5D%2C%0A%20%20%20%20%20%20%20%20%20%20%20%20%20%20%20%20%20%20%20%20crs%3A%20L.CRS.EPSG3857%2C%0A%20%20%20%20%20%20%20%20%20%20%20%20%20%20%20%20%20%20%20%20zoom%3A%204%2C%0A%20%20%20%20%20%20%20%20%20%20%20%20%20%20%20%20%20%20%20%20zoomControl%3A%20true%2C%0A%20%20%20%20%20%20%20%20%20%20%20%20%20%20%20%20%20%20%20%20preferCanvas%3A%20false%2C%0A%20%20%20%20%20%20%20%20%20%20%20%20%20%20%20%20%7D%0A%20%20%20%20%20%20%20%20%20%20%20%20%29%3B%0A%0A%20%20%20%20%20%20%20%20%20%20%20%20%0A%0A%20%20%20%20%20%20%20%20%0A%20%20%20%20%0A%20%20%20%20%20%20%20%20%20%20%20%20var%20tile_layer_b020dd3322cd4b27ae5008b1efebcc68%20%3D%20L.tileLayer%28%0A%20%20%20%20%20%20%20%20%20%20%20%20%20%20%20%20%22https%3A//%7Bs%7D.tile.openstreetmap.org/%7Bz%7D/%7Bx%7D/%7By%7D.png%22%2C%0A%20%20%20%20%20%20%20%20%20%20%20%20%20%20%20%20%7B%22attribution%22%3A%20%22Data%20by%20%5Cu0026copy%3B%20%5Cu003ca%20href%3D%5C%22http%3A//openstreetmap.org%5C%22%5Cu003eOpenStreetMap%5Cu003c/a%5Cu003e%2C%20under%20%5Cu003ca%20href%3D%5C%22http%3A//www.openstreetmap.org/copyright%5C%22%5Cu003eODbL%5Cu003c/a%5Cu003e.%22%2C%20%22detectRetina%22%3A%20false%2C%20%22maxNativeZoom%22%3A%2018%2C%20%22maxZoom%22%3A%2018%2C%20%22minZoom%22%3A%200%2C%20%22noWrap%22%3A%20false%2C%20%22opacity%22%3A%201%2C%20%22subdomains%22%3A%20%22abc%22%2C%20%22tms%22%3A%20false%7D%0A%20%20%20%20%20%20%20%20%20%20%20%20%29.addTo%28map_5c291525162d4d7fa90bbf34f00bf97a%29%3B%0A%20%20%20%20%20%20%20%20%0A%20%20%20%20%0A%20%20%20%20%20%20%20%20%20%20%20%20var%20choropleth_91fbe38f6b9149a994540bcb0da6e5af%20%3D%20L.featureGroup%28%0A%20%20%20%20%20%20%20%20%20%20%20%20%20%20%20%20%7B%7D%0A%20%20%20%20%20%20%20%20%20%20%20%20%29.addTo%28map_5c291525162d4d7fa90bbf34f00bf97a%29%3B%0A%20%20%20%20%20%20%20%20%0A%20%20%20%20%0A%20%20%20%20%20%20%20%20function%20geo_json_9443ef63775a4d2f8f05435e3d4321c3_styler%28feature%29%20%7B%0A%20%20%20%20%20%20%20%20%20%20%20%20switch%28feature.id%29%20%7B%0A%20%20%20%20%20%20%20%20%20%20%20%20%20%20%20%20case%20%22AZ%22%3A%20case%20%22IL%22%3A%20case%20%22MI%22%3A%20case%20%22NY%22%3A%20case%20%22NC%22%3A%20case%20%22OH%22%3A%20case%20%22OR%22%3A%20case%20%22PA%22%3A%20%0A%20%20%20%20%20%20%20%20%20%20%20%20%20%20%20%20%20%20%20%20return%20%7B%22color%22%3A%20%22black%22%2C%20%22fillColor%22%3A%20%22%23d9f0a3%22%2C%20%22fillOpacity%22%3A%200.7%2C%20%22opacity%22%3A%200.2%2C%20%22weight%22%3A%201%7D%3B%0A%20%20%20%20%20%20%20%20%20%20%20%20%20%20%20%20case%20%22CA%22%3A%20%0A%20%20%20%20%20%20%20%20%20%20%20%20%20%20%20%20%20%20%20%20return%20%7B%22color%22%3A%20%22black%22%2C%20%22fillColor%22%3A%20%22%23006837%22%2C%20%22fillOpacity%22%3A%200.7%2C%20%22opacity%22%3A%200.2%2C%20%22weight%22%3A%201%7D%3B%0A%20%20%20%20%20%20%20%20%20%20%20%20%20%20%20%20case%20%22FL%22%3A%20case%20%22TX%22%3A%20case%20%22WA%22%3A%20%0A%20%20%20%20%20%20%20%20%20%20%20%20%20%20%20%20%20%20%20%20return%20%7B%22color%22%3A%20%22black%22%2C%20%22fillColor%22%3A%20%22%23addd8e%22%2C%20%22fillOpacity%22%3A%200.7%2C%20%22opacity%22%3A%200.2%2C%20%22weight%22%3A%201%7D%3B%0A%20%20%20%20%20%20%20%20%20%20%20%20%20%20%20%20default%3A%0A%20%20%20%20%20%20%20%20%20%20%20%20%20%20%20%20%20%20%20%20return%20%7B%22color%22%3A%20%22black%22%2C%20%22fillColor%22%3A%20%22%23ffffcc%22%2C%20%22fillOpacity%22%3A%200.7%2C%20%22opacity%22%3A%200.2%2C%20%22weight%22%3A%201%7D%3B%0A%20%20%20%20%20%20%20%20%20%20%20%20%7D%0A%20%20%20%20%20%20%20%20%7D%0A%0A%20%20%20%20%20%20%20%20function%20geo_json_9443ef63775a4d2f8f05435e3d4321c3_onEachFeature%28feature%2C%20layer%29%20%7B%0A%20%20%20%20%20%20%20%20%20%20%20%20layer.on%28%7B%0A%20%20%20%20%20%20%20%20%20%20%20%20%7D%29%3B%0A%20%20%20%20%20%20%20%20%7D%3B%0A%20%20%20%20%20%20%20%20var%20geo_json_9443ef63775a4d2f8f05435e3d4321c3%20%3D%20L.geoJson%28null%2C%20%7B%0A%20%20%20%20%20%20%20%20%20%20%20%20%20%20%20%20onEachFeature%3A%20geo_json_9443ef63775a4d2f8f05435e3d4321c3_onEachFeature%2C%0A%20%20%20%20%20%20%20%20%20%20%20%20%0A%20%20%20%20%20%20%20%20%20%20%20%20%20%20%20%20style%3A%20geo_json_9443ef63775a4d2f8f05435e3d4321c3_styler%2C%0A%20%20%20%20%20%20%20%20%7D%29%3B%0A%0A%20%20%20%20%20%20%20%20function%20geo_json_9443ef63775a4d2f8f05435e3d4321c3_add%20%28data%29%20%7B%0A%20%20%20%20%20%20%20%20%20%20%20%20geo_json_9443ef63775a4d2f8f05435e3d4321c3%0A%20%20%20%20%20%20%20%20%20%20%20%20%20%20%20%20.addData%28data%29%0A%20%20%20%20%20%20%20%20%20%20%20%20%20%20%20%20.addTo%28choropleth_91fbe38f6b9149a994540bcb0da6e5af%29%3B%0A%20%20%20%20%20%20%20%20%7D%0A%20%20%20%20%20%20%20%20%20%20%20%20geo_json_9443ef63775a4d2f8f05435e3d4321c3_add%28%7B%22features%22%3A%20%5B%7B%22geometry%22%3A%20%7B%22coordinates%22%3A%20%5B%5B%5B-87.359296%2C%2035.00118%5D%2C%20%5B-85.606675%2C%2034.984749%5D%2C%20%5B-85.431413%2C%2034.124869%5D%2C%20%5B-85.184951%2C%2032.859696%5D%2C%20%5B-85.069935%2C%2032.580372%5D%2C%20%5B-84.960397%2C%2032.421541%5D%2C%20%5B-85.004212%2C%2032.322956%5D%2C%20%5B-84.889196%2C%2032.262709%5D%2C%20%5B-85.058981%2C%2032.13674%5D%2C%20%5B-85.053504%2C%2032.01077%5D%2C%20%5B-85.141136%2C%2031.840985%5D%2C%20%5B-85.042551%2C%2031.539753%5D%2C%20%5B-85.113751%2C%2031.27686%5D%2C%20%5B-85.004212%2C%2031.003013%5D%2C%20%5B-85.497137%2C%2030.997536%5D%2C%20%5B-87.600282%2C%2030.997536%5D%2C%20%5B-87.633143%2C%2030.86609%5D%2C%20%5B-87.408589%2C%2030.674397%5D%2C%20%5B-87.446927%2C%2030.510088%5D%2C%20%5B-87.37025%2C%2030.427934%5D%2C%20%5B-87.518128%2C%2030.280057%5D%2C%20%5B-87.655051%2C%2030.247195%5D%2C%20%5B-87.90699%2C%2030.411504%5D%2C%20%5B-87.934375%2C%2030.657966%5D%2C%20%5B-88.011052%2C%2030.685351%5D%2C%20%5B-88.10416%2C%2030.499135%5D%2C%20%5B-88.137022%2C%2030.318396%5D%2C%20%5B-88.394438%2C%2030.367688%5D%2C%20%5B-88.471115%2C%2031.895754%5D%2C%20%5B-88.241084%2C%2033.796253%5D%2C%20%5B-88.098683%2C%2034.891641%5D%2C%20%5B-88.202745%2C%2034.995703%5D%2C%20%5B-87.359296%2C%2035.00118%5D%5D%5D%2C%20%22type%22%3A%20%22Polygon%22%7D%2C%20%22id%22%3A%20%22AL%22%2C%20%22properties%22%3A%20%7B%22name%22%3A%20%22Alabama%22%7D%2C%20%22type%22%3A%20%22Feature%22%7D%2C%20%7B%22geometry%22%3A%20%7B%22coordinates%22%3A%20%5B%5B%5B%5B-131.602021%2C%2055.117982%5D%2C%20%5B-131.569159%2C%2055.28229%5D%2C%20%5B-131.355558%2C%2055.183705%5D%2C%20%5B-131.38842%2C%2055.01392%5D%2C%20%5B-131.645836%2C%2055.035827%5D%2C%20%5B-131.602021%2C%2055.117982%5D%5D%5D%2C%20%5B%5B%5B-131.832052%2C%2055.42469%5D%2C%20%5B-131.645836%2C%2055.304197%5D%2C%20%5B-131.749898%2C%2055.128935%5D%2C%20%5B-131.832052%2C%2055.189182%5D%2C%20%5B-131.832052%2C%2055.42469%5D%5D%5D%2C%20%5B%5B%5B-132.976733%2C%2056.437924%5D%2C%20%5B-132.735747%2C%2056.459832%5D%2C%20%5B-132.631685%2C%2056.421493%5D%2C%20%5B-132.664547%2C%2056.273616%5D%2C%20%5B-132.878148%2C%2056.240754%5D%2C%20%5B-133.069841%2C%2056.333862%5D%2C%20%5B-132.976733%2C%2056.437924%5D%5D%5D%2C%20%5B%5B%5B-133.595627%2C%2056.350293%5D%2C%20%5B-133.162949%2C%2056.317431%5D%2C%20%5B-133.05341%2C%2056.125739%5D%2C%20%5B-132.620732%2C%2055.912138%5D%2C%20%5B-132.472854%2C%2055.780691%5D%2C%20%5B-132.4619%2C%2055.671152%5D%2C%20%5B-132.357838%2C%2055.649245%5D%2C%20%5B-132.341408%2C%2055.506844%5D%2C%20%5B-132.166146%2C%2055.364444%5D%2C%20%5B-132.144238%2C%2055.238474%5D%2C%20%5B-132.029222%2C%2055.276813%5D%2C%20%5B-131.97993%2C%2055.178228%5D%2C%20%5B-131.958022%2C%2054.789365%5D%2C%20%5B-132.029222%2C%2054.701734%5D%2C%20%5B-132.308546%2C%2054.718165%5D%2C%20%5B-132.385223%2C%2054.915335%5D%2C%20%5B-132.483808%2C%2054.898904%5D%2C%20%5B-132.686455%2C%2055.046781%5D%2C%20%5B-132.746701%2C%2054.997489%5D%2C%20%5B-132.916486%2C%2055.046781%5D%2C%20%5B-132.889102%2C%2054.898904%5D%2C%20%5B-132.73027%2C%2054.937242%5D%2C%20%5B-132.626209%2C%2054.882473%5D%2C%20%5B-132.675501%2C%2054.679826%5D%2C%20%5B-132.867194%2C%2054.701734%5D%2C%20%5B-133.157472%2C%2054.95915%5D%2C%20%5B-133.239626%2C%2055.090597%5D%2C%20%5B-133.223195%2C%2055.22752%5D%2C%20%5B-133.453227%2C%2055.216566%5D%2C%20%5B-133.453227%2C%2055.320628%5D%2C%20%5B-133.277964%2C%2055.331582%5D%2C%20%5B-133.102702%2C%2055.42469%5D%2C%20%5B-133.17938%2C%2055.588998%5D%2C%20%5B-133.387503%2C%2055.62186%5D%2C%20%5B-133.420365%2C%2055.884753%5D%2C%20%5B-133.497042%2C%2056.0162%5D%2C%20%5B-133.639442%2C%2055.923092%5D%2C%20%5B-133.694212%2C%2056.070969%5D%2C%20%5B-133.546335%2C%2056.142169%5D%2C%20%5B-133.666827%2C%2056.311955%5D%2C%20%5B-133.595627%2C%2056.350293%5D%5D%5D%2C%20%5B%5B%5B-133.738027%2C%2055.556137%5D%2C%20%5B-133.546335%2C%2055.490413%5D%2C%20%5B-133.414888%2C%2055.572568%5D%2C%20%5B-133.283441%2C%2055.534229%5D%2C%20%5B-133.420365%2C%2055.386352%5D%2C%20%5B-133.633966%2C%2055.430167%5D%2C%20%5B-133.738027%2C%2055.556137%5D%5D%5D%2C%20%5B%5B%5B-133.907813%2C%2056.930849%5D%2C%20%5B-134.050213%2C%2057.029434%5D%2C%20%5B-133.885905%2C%2057.095157%5D%2C%20%5B-133.343688%2C%2057.002049%5D%2C%20%5B-133.102702%2C%2057.007526%5D%2C%20%5B-132.932917%2C%2056.82131%5D%2C%20%5B-132.620732%2C%2056.667956%5D%2C%20%5B-132.653593%2C%2056.55294%5D%2C%20%5B-132.817901%2C%2056.492694%5D%2C%20%5B-133.042456%2C%2056.520078%5D%2C%20%5B-133.201287%2C%2056.448878%5D%2C%20%5B-133.420365%2C%2056.492694%5D%2C%20%5B-133.66135%2C%2056.448878%5D%2C%20%5B-133.710643%2C%2056.684386%5D%2C%20%5B-133.688735%2C%2056.837741%5D%2C%20%5B-133.869474%2C%2056.843218%5D%2C%20%5B-133.907813%2C%2056.930849%5D%5D%5D%2C%20%5B%5B%5B-134.115936%2C%2056.48174%5D%2C%20%5B-134.25286%2C%2056.558417%5D%2C%20%5B-134.400737%2C%2056.722725%5D%2C%20%5B-134.417168%2C%2056.848695%5D%2C%20%5B-134.296675%2C%2056.908941%5D%2C%20%5B-134.170706%2C%2056.848695%5D%2C%20%5B-134.143321%2C%2056.952757%5D%2C%20%5B-133.748981%2C%2056.772017%5D%2C%20%5B-133.710643%2C%2056.596755%5D%2C%20%5B-133.847566%2C%2056.574848%5D%2C%20%5B-133.935197%2C%2056.377678%5D%2C%20%5B-133.836612%2C%2056.322908%5D%2C%20%5B-133.957105%2C%2056.092877%5D%2C%20%5B-134.110459%2C%2056.142169%5D%2C%20%5B-134.132367%2C%2055.999769%5D%2C%20%5B-134.230952%2C%2056.070969%5D%2C%20%5B-134.291198%2C%2056.350293%5D%2C%20%5B-134.115936%2C%2056.48174%5D%5D%5D%2C%20%5B%5B%5B-134.636246%2C%2056.28457%5D%2C%20%5B-134.669107%2C%2056.169554%5D%2C%20%5B-134.806031%2C%2056.235277%5D%2C%20%5B-135.178463%2C%2056.67891%5D%2C%20%5B-135.413971%2C%2056.810356%5D%2C%20%5B-135.331817%2C%2056.914418%5D%2C%20%5B-135.424925%2C%2057.166357%5D%2C%20%5B-135.687818%2C%2057.369004%5D%2C%20%5B-135.419448%2C%2057.566174%5D%2C%20%5B-135.298955%2C%2057.48402%5D%2C%20%5B-135.063447%2C%2057.418296%5D%2C%20%5B-134.849846%2C%2057.407343%5D%2C%20%5B-134.844369%2C%2057.248511%5D%2C%20%5B-134.636246%2C%2056.728202%5D%2C%20%5B-134.636246%2C%2056.28457%5D%5D%5D%2C%20%5B%5B%5B-134.712923%2C%2058.223407%5D%2C%20%5B-134.373353%2C%2058.14673%5D%2C%20%5B-134.176183%2C%2058.157683%5D%2C%20%5B-134.187137%2C%2058.081006%5D%2C%20%5B-133.902336%2C%2057.807159%5D%2C%20%5B-134.099505%2C%2057.850975%5D%2C%20%5B-134.148798%2C%2057.757867%5D%2C%20%5B-133.935197%2C%2057.615466%5D%2C%20%5B-133.869474%2C%2057.363527%5D%2C%20%5B-134.083075%2C%2057.297804%5D%2C%20%5B-134.154275%2C%2057.210173%5D%2C%20%5B-134.499322%2C%2057.029434%5D%2C%20%5B-134.603384%2C%2057.034911%5D%2C%20%5B-134.6472%2C%2057.226604%5D%2C%20%5B-134.575999%2C%2057.341619%5D%2C%20%5B-134.608861%2C%2057.511404%5D%2C%20%5B-134.729354%2C%2057.719528%5D%2C%20%5B-134.707446%2C%2057.829067%5D%2C%20%5B-134.784123%2C%2058.097437%5D%2C%20%5B-134.91557%2C%2058.212453%5D%2C%20%5B-134.953908%2C%2058.409623%5D%2C%20%5B-134.712923%2C%2058.223407%5D%5D%5D%2C%20%5B%5B%5B-135.857603%2C%2057.330665%5D%2C%20%5B-135.715203%2C%2057.330665%5D%2C%20%5B-135.567326%2C%2057.149926%5D%2C%20%5B-135.633049%2C%2057.023957%5D%2C%20%5B-135.857603%2C%2056.996572%5D%2C%20%5B-135.824742%2C%2057.193742%5D%2C%20%5B-135.857603%2C%2057.330665%5D%5D%5D%2C%20%5B%5B%5B-136.279328%2C%2058.206976%5D%2C%20%5B-135.978096%2C%2058.201499%5D%2C%20%5B-135.780926%2C%2058.28913%5D%2C%20%5B-135.496125%2C%2058.168637%5D%2C%20%5B-135.64948%2C%2058.037191%5D%2C%20%5B-135.59471%2C%2057.987898%5D%2C%20%5B-135.45231%2C%2058.135776%5D%2C%20%5B-135.107263%2C%2058.086483%5D%2C%20%5B-134.91557%2C%2057.976944%5D%2C%20%5B-135.025108%2C%2057.779775%5D%2C%20%5B-134.937477%2C%2057.763344%5D%2C%20%5B-134.822462%2C%2057.500451%5D%2C%20%5B-135.085355%2C%2057.462112%5D%2C%20%5B-135.572802%2C%2057.675713%5D%2C%20%5B-135.556372%2C%2057.456635%5D%2C%20%5B-135.709726%2C%2057.369004%5D%2C%20%5B-135.890465%2C%2057.407343%5D%2C%20%5B-136.000004%2C%2057.544266%5D%2C%20%5B-136.208128%2C%2057.637374%5D%2C%20%5B-136.366959%2C%2057.829067%5D%2C%20%5B-136.569606%2C%2057.916698%5D%2C%20%5B-136.558652%2C%2058.075529%5D%2C%20%5B-136.421728%2C%2058.130299%5D%2C%20%5B-136.377913%2C%2058.267222%5D%2C%20%5B-136.279328%2C%2058.206976%5D%5D%5D%2C%20%5B%5B%5B-147.079854%2C%2060.200582%5D%2C%20%5B-147.501579%2C%2059.948643%5D%2C%20%5B-147.53444%2C%2059.850058%5D%2C%20%5B-147.874011%2C%2059.784335%5D%2C%20%5B-147.80281%2C%2059.937689%5D%2C%20%5B-147.435855%2C%2060.09652%5D%2C%20%5B-147.205824%2C%2060.271782%5D%2C%20%5B-147.079854%2C%2060.200582%5D%5D%5D%2C%20%5B%5B%5B-147.561825%2C%2060.578491%5D%2C%20%5B-147.616594%2C%2060.370367%5D%2C%20%5B-147.758995%2C%2060.156767%5D%2C%20%5B-147.956165%2C%2060.227967%5D%2C%20%5B-147.791856%2C%2060.474429%5D%2C%20%5B-147.561825%2C%2060.578491%5D%5D%5D%2C%20%5B%5B%5B-147.786379%2C%2070.245291%5D%2C%20%5B-147.682318%2C%2070.201475%5D%2C%20%5B-147.162008%2C%2070.15766%5D%2C%20%5B-146.888161%2C%2070.185044%5D%2C%20%5B-146.510252%2C%2070.185044%5D%2C%20%5B-146.099482%2C%2070.146706%5D%2C%20%5B-145.858496%2C%2070.168614%5D%2C%20%5B-145.622988%2C%2070.08646%5D%2C%20%5B-145.195787%2C%2069.993352%5D%2C%20%5B-144.620708%2C%2069.971444%5D%2C%20%5B-144.461877%2C%2070.026213%5D%2C%20%5B-144.078491%2C%2070.059075%5D%2C%20%5B-143.914183%2C%2070.130275%5D%2C%20%5B-143.497935%2C%2070.141229%5D%2C%20%5B-143.503412%2C%2070.091936%5D%2C%20%5B-143.25695%2C%2070.119321%5D%2C%20%5B-142.747594%2C%2070.042644%5D%2C%20%5B-142.402547%2C%2069.916674%5D%2C%20%5B-142.079408%2C%2069.856428%5D%2C%20%5B-142.008207%2C%2069.801659%5D%2C%20%5B-141.712453%2C%2069.790705%5D%2C%20%5B-141.433129%2C%2069.697597%5D%2C%20%5B-141.378359%2C%2069.63735%5D%2C%20%5B-141.208574%2C%2069.686643%5D%2C%20%5B-141.00045%2C%2069.648304%5D%2C%20%5B-141.00045%2C%2060.304644%5D%2C%20%5B-140.53491%2C%2060.22249%5D%2C%20%5B-140.474664%2C%2060.310121%5D%2C%20%5B-139.987216%2C%2060.184151%5D%2C%20%5B-139.696939%2C%2060.342983%5D%2C%20%5B-139.088998%2C%2060.359413%5D%2C%20%5B-139.198537%2C%2060.091043%5D%2C%20%5B-139.045183%2C%2059.997935%5D%2C%20%5B-138.700135%2C%2059.910304%5D%2C%20%5B-138.623458%2C%2059.767904%5D%2C%20%5B-137.604747%2C%2059.242118%5D%2C%20%5B-137.445916%2C%2058.908024%5D%2C%20%5B-137.265177%2C%2059.001132%5D%2C%20%5B-136.827022%2C%2059.159963%5D%2C%20%5B-136.580559%2C%2059.16544%5D%2C%20%5B-136.465544%2C%2059.285933%5D%2C%20%5B-136.476498%2C%2059.466672%5D%2C%20%5B-136.301236%2C%2059.466672%5D%2C%20%5B-136.25742%2C%2059.625503%5D%2C%20%5B-135.945234%2C%2059.663842%5D%2C%20%5B-135.479694%2C%2059.800766%5D%2C%20%5B-135.025108%2C%2059.565257%5D%2C%20%5B-135.068924%2C%2059.422857%5D%2C%20%5B-134.959385%2C%2059.280456%5D%2C%20%5B-134.701969%2C%2059.247595%5D%2C%20%5B-134.378829%2C%2059.033994%5D%2C%20%5B-134.400737%2C%2058.973748%5D%2C%20%5B-134.25286%2C%2058.858732%5D%2C%20%5B-133.842089%2C%2058.727285%5D%2C%20%5B-133.173903%2C%2058.152206%5D%2C%20%5B-133.075318%2C%2057.998852%5D%2C%20%5B-132.867194%2C%2057.845498%5D%2C%20%5B-132.560485%2C%2057.505928%5D%2C%20%5B-132.253777%2C%2057.21565%5D%2C%20%5B-132.368792%2C%2057.095157%5D%2C%20%5B-132.05113%2C%2057.051341%5D%2C%20%5B-132.127807%2C%2056.876079%5D%2C%20%5B-131.870391%2C%2056.804879%5D%2C%20%5B-131.837529%2C%2056.602232%5D%2C%20%5B-131.580113%2C%2056.613186%5D%2C%20%5B-131.087188%2C%2056.405062%5D%2C%20%5B-130.78048%2C%2056.366724%5D%2C%20%5B-130.621648%2C%2056.268139%5D%2C%20%5B-130.468294%2C%2056.240754%5D%2C%20%5B-130.424478%2C%2056.142169%5D%2C%20%5B-130.101339%2C%2056.114785%5D%2C%20%5B-130.002754%2C%2055.994292%5D%2C%20%5B-130.150631%2C%2055.769737%5D%2C%20%5B-130.128724%2C%2055.583521%5D%2C%20%5B-129.986323%2C%2055.276813%5D%2C%20%5B-130.095862%2C%2055.200136%5D%2C%20%5B-130.336847%2C%2054.920812%5D%2C%20%5B-130.687372%2C%2054.718165%5D%2C%20%5B-130.785957%2C%2054.822227%5D%2C%20%5B-130.917403%2C%2054.789365%5D%2C%20%5B-131.010511%2C%2054.997489%5D%2C%20%5B-130.983126%2C%2055.08512%5D%2C%20%5B-131.092665%2C%2055.189182%5D%2C%20%5B-130.862634%2C%2055.298721%5D%2C%20%5B-130.928357%2C%2055.337059%5D%2C%20%5B-131.158389%2C%2055.200136%5D%2C%20%5B-131.284358%2C%2055.287767%5D%2C%20%5B-131.426759%2C%2055.238474%5D%2C%20%5B-131.843006%2C%2055.457552%5D%2C%20%5B-131.700606%2C%2055.698537%5D%2C%20%5B-131.963499%2C%2055.616383%5D%2C%20%5B-131.974453%2C%2055.49589%5D%2C%20%5B-132.182576%2C%2055.588998%5D%2C%20%5B-132.226392%2C%2055.704014%5D%2C%20%5B-132.083991%2C%2055.829984%5D%2C%20%5B-132.127807%2C%2055.955953%5D%2C%20%5B-132.324977%2C%2055.851892%5D%2C%20%5B-132.522147%2C%2056.076446%5D%2C%20%5B-132.642639%2C%2056.032631%5D%2C%20%5B-132.719317%2C%2056.218847%5D%2C%20%5B-132.527624%2C%2056.339339%5D%2C%20%5B-132.341408%2C%2056.339339%5D%2C%20%5B-132.396177%2C%2056.487217%5D%2C%20%5B-132.297592%2C%2056.67891%5D%2C%20%5B-132.450946%2C%2056.673433%5D%2C%20%5B-132.768609%2C%2056.837741%5D%2C%20%5B-132.993164%2C%2057.034911%5D%2C%20%5B-133.51895%2C%2057.177311%5D%2C%20%5B-133.507996%2C%2057.577128%5D%2C%20%5B-133.677781%2C%2057.62642%5D%2C%20%5B-133.639442%2C%2057.790728%5D%2C%20%5B-133.814705%2C%2057.834544%5D%2C%20%5B-134.072121%2C%2058.053622%5D%2C%20%5B-134.143321%2C%2058.168637%5D%2C%20%5B-134.586953%2C%2058.206976%5D%2C%20%5B-135.074401%2C%2058.502731%5D%2C%20%5B-135.282525%2C%2059.192825%5D%2C%20%5B-135.38111%2C%2059.033994%5D%2C%20%5B-135.337294%2C%2058.891593%5D%2C%20%5B-135.140124%2C%2058.617746%5D%2C%20%5B-135.189417%2C%2058.573931%5D%2C%20%5B-135.05797%2C%2058.349376%5D%2C%20%5B-135.085355%2C%2058.201499%5D%2C%20%5B-135.277048%2C%2058.234361%5D%2C%20%5B-135.430402%2C%2058.398669%5D%2C%20%5B-135.633049%2C%2058.426053%5D%2C%20%5B-135.91785%2C%2058.382238%5D%2C%20%5B-135.912373%2C%2058.617746%5D%2C%20%5B-136.087635%2C%2058.814916%5D%2C%20%5B-136.246466%2C%2058.75467%5D%2C%20%5B-136.876314%2C%2058.962794%5D%2C%20%5B-136.931084%2C%2058.902547%5D%2C%20%5B-136.586036%2C%2058.836824%5D%2C%20%5B-136.317666%2C%2058.672516%5D%2C%20%5B-136.213604%2C%2058.667039%5D%2C%20%5B-136.180743%2C%2058.535592%5D%2C%20%5B-136.043819%2C%2058.382238%5D%2C%20%5B-136.388867%2C%2058.294607%5D%2C%20%5B-136.591513%2C%2058.349376%5D%2C%20%5B-136.59699%2C%2058.212453%5D%2C%20%5B-136.859883%2C%2058.316515%5D%2C%20%5B-136.947514%2C%2058.393192%5D%2C%20%5B-137.111823%2C%2058.393192%5D%2C%20%5B-137.566409%2C%2058.590362%5D%2C%20%5B-137.900502%2C%2058.765624%5D%2C%20%5B-137.933364%2C%2058.869686%5D%2C%20%5B-138.11958%2C%2059.02304%5D%2C%20%5B-138.634412%2C%2059.132579%5D%2C%20%5B-138.919213%2C%2059.247595%5D%2C%20%5B-139.417615%2C%2059.379041%5D%2C%20%5B-139.746231%2C%2059.505011%5D%2C%20%5B-139.718846%2C%2059.641934%5D%2C%20%5B-139.625738%2C%2059.598119%5D%2C%20%5B-139.5162%2C%2059.68575%5D%2C%20%5B-139.625738%2C%2059.88292%5D%2C%20%5B-139.488815%2C%2059.992458%5D%2C%20%5B-139.554538%2C%2060.041751%5D%2C%20%5B-139.801%2C%2059.833627%5D%2C%20%5B-140.315833%2C%2059.696704%5D%2C%20%5B-140.92925%2C%2059.745996%5D%2C%20%5B-141.444083%2C%2059.871966%5D%2C%20%5B-141.46599%2C%2059.970551%5D%2C%20%5B-141.706976%2C%2059.948643%5D%2C%20%5B-141.964392%2C%2060.019843%5D%2C%20%5B-142.539471%2C%2060.085566%5D%2C%20%5B-142.873564%2C%2060.091043%5D%2C%20%5B-143.623905%2C%2060.036274%5D%2C%20%5B-143.892275%2C%2059.997935%5D%2C%20%5B-144.231845%2C%2060.140336%5D%2C%20%5B-144.65357%2C%2060.206059%5D%2C%20%5B-144.785016%2C%2060.29369%5D%2C%20%5B-144.834309%2C%2060.441568%5D%2C%20%5B-145.124586%2C%2060.430614%5D%2C%20%5B-145.223171%2C%2060.299167%5D%2C%20%5B-145.738004%2C%2060.474429%5D%2C%20%5B-145.820158%2C%2060.551106%5D%2C%20%5B-146.351421%2C%2060.408706%5D%2C%20%5B-146.608837%2C%2060.238921%5D%2C%20%5B-146.718376%2C%2060.397752%5D%2C%20%5B-146.608837%2C%2060.485383%5D%2C%20%5B-146.455483%2C%2060.463475%5D%2C%20%5B-145.951604%2C%2060.578491%5D%2C%20%5B-146.017328%2C%2060.666122%5D%2C%20%5B-146.252836%2C%2060.622307%5D%2C%20%5B-146.345944%2C%2060.737322%5D%2C%20%5B-146.565022%2C%2060.753753%5D%2C%20%5B-146.784099%2C%2061.044031%5D%2C%20%5B-146.866253%2C%2060.972831%5D%2C%20%5B-147.172962%2C%2060.934492%5D%2C%20%5B-147.271547%2C%2060.972831%5D%2C%20%5B-147.375609%2C%2060.879723%5D%2C%20%5B-147.758995%2C%2060.912584%5D%2C%20%5B-147.775426%2C%2060.808523%5D%2C%20%5B-148.032842%2C%2060.781138%5D%2C%20%5B-148.153334%2C%2060.819476%5D%2C%20%5B-148.065703%2C%2061.005692%5D%2C%20%5B-148.175242%2C%2061.000215%5D%2C%20%5B-148.350504%2C%2060.803046%5D%2C%20%5B-148.109519%2C%2060.737322%5D%2C%20%5B-148.087611%2C%2060.594922%5D%2C%20%5B-147.939734%2C%2060.441568%5D%2C%20%5B-148.027365%2C%2060.277259%5D%2C%20%5B-148.219058%2C%2060.332029%5D%2C%20%5B-148.273827%2C%2060.249875%5D%2C%20%5B-148.087611%2C%2060.217013%5D%2C%20%5B-147.983549%2C%2059.997935%5D%2C%20%5B-148.251919%2C%2059.95412%5D%2C%20%5B-148.399797%2C%2059.997935%5D%2C%20%5B-148.635305%2C%2059.937689%5D%2C%20%5B-148.755798%2C%2059.986981%5D%2C%20%5B-149.067984%2C%2059.981505%5D%2C%20%5B-149.05703%2C%2060.063659%5D%2C%20%5B-149.204907%2C%2060.008889%5D%2C%20%5B-149.287061%2C%2059.904827%5D%2C%20%5B-149.418508%2C%2059.997935%5D%2C%20%5B-149.582816%2C%2059.866489%5D%2C%20%5B-149.511616%2C%2059.806242%5D%2C%20%5B-149.741647%2C%2059.729565%5D%2C%20%5B-149.949771%2C%2059.718611%5D%2C%20%5B-150.031925%2C%2059.61455%5D%2C%20%5B-150.25648%2C%2059.521442%5D%2C%20%5B-150.409834%2C%2059.554303%5D%2C%20%5B-150.579619%2C%2059.444764%5D%2C%20%5B-150.716543%2C%2059.450241%5D%2C%20%5B-151.001343%2C%2059.225687%5D%2C%20%5B-151.308052%2C%2059.209256%5D%2C%20%5B-151.406637%2C%2059.280456%5D%2C%20%5B-151.592853%2C%2059.159963%5D%2C%20%5B-151.976239%2C%2059.253071%5D%2C%20%5B-151.888608%2C%2059.422857%5D%2C%20%5B-151.636669%2C%2059.483103%5D%2C%20%5B-151.47236%2C%2059.472149%5D%2C%20%5B-151.423068%2C%2059.537872%5D%2C%20%5B-151.127313%2C%2059.669319%5D%2C%20%5B-151.116359%2C%2059.778858%5D%2C%20%5B-151.505222%2C%2059.63098%5D%2C%20%5B-151.828361%2C%2059.718611%5D%2C%20%5B-151.8667%2C%2059.778858%5D%2C%20%5B-151.702392%2C%2060.030797%5D%2C%20%5B-151.423068%2C%2060.211536%5D%2C%20%5B-151.379252%2C%2060.359413%5D%2C%20%5B-151.297098%2C%2060.386798%5D%2C%20%5B-151.264237%2C%2060.545629%5D%2C%20%5B-151.406637%2C%2060.720892%5D%2C%20%5B-151.06159%2C%2060.786615%5D%2C%20%5B-150.404357%2C%2061.038554%5D%2C%20%5B-150.245526%2C%2060.939969%5D%2C%20%5B-150.042879%2C%2060.912584%5D%2C%20%5B-149.741647%2C%2061.016646%5D%2C%20%5B-150.075741%2C%2061.15357%5D%2C%20%5B-150.207187%2C%2061.257632%5D%2C%20%5B-150.47008%2C%2061.246678%5D%2C%20%5B-150.656296%2C%2061.29597%5D%2C%20%5B-150.711066%2C%2061.252155%5D%2C%20%5B-151.023251%2C%2061.180954%5D%2C%20%5B-151.165652%2C%2061.044031%5D%2C%20%5B-151.477837%2C%2061.011169%5D%2C%20%5B-151.800977%2C%2060.852338%5D%2C%20%5B-151.833838%2C%2060.748276%5D%2C%20%5B-152.080301%2C%2060.693507%5D%2C%20%5B-152.13507%2C%2060.578491%5D%2C%20%5B-152.310332%2C%2060.507291%5D%2C%20%5B-152.392486%2C%2060.304644%5D%2C%20%5B-152.732057%2C%2060.173197%5D%2C%20%5B-152.567748%2C%2060.069136%5D%2C%20%5B-152.704672%2C%2059.915781%5D%2C%20%5B-153.022334%2C%2059.888397%5D%2C%20%5B-153.049719%2C%2059.691227%5D%2C%20%5B-153.345474%2C%2059.620026%5D%2C%20%5B-153.438582%2C%2059.702181%5D%2C%20%5B-153.586459%2C%2059.548826%5D%2C%20%5B-153.761721%2C%2059.543349%5D%2C%20%5B-153.72886%2C%2059.433811%5D%2C%20%5B-154.117723%2C%2059.368087%5D%2C%20%5B-154.1944%2C%2059.066856%5D%2C%20%5B-153.750768%2C%2059.050425%5D%2C%20%5B-153.400243%2C%2058.968271%5D%2C%20%5B-153.301658%2C%2058.869686%5D%2C%20%5B-153.444059%2C%2058.710854%5D%2C%20%5B-153.679567%2C%2058.612269%5D%2C%20%5B-153.898645%2C%2058.606793%5D%2C%20%5B-153.920553%2C%2058.519161%5D%2C%20%5B-154.062953%2C%2058.4863%5D%2C%20%5B-153.99723%2C%2058.376761%5D%2C%20%5B-154.145107%2C%2058.212453%5D%2C%20%5B-154.46277%2C%2058.059098%5D%2C%20%5B-154.643509%2C%2058.059098%5D%2C%20%5B-154.818771%2C%2058.004329%5D%2C%20%5B-154.988556%2C%2058.015283%5D%2C%20%5B-155.120003%2C%2057.955037%5D%2C%20%5B-155.081664%2C%2057.872883%5D%2C%20%5B-155.328126%2C%2057.829067%5D%2C%20%5B-155.377419%2C%2057.708574%5D%2C%20%5B-155.547204%2C%2057.785251%5D%2C%20%5B-155.73342%2C%2057.549743%5D%2C%20%5B-156.045606%2C%2057.566174%5D%2C%20%5B-156.023698%2C%2057.440204%5D%2C%20%5B-156.209914%2C%2057.473066%5D%2C%20%5B-156.34136%2C%2057.418296%5D%2C%20%5B-156.34136%2C%2057.248511%5D%2C%20%5B-156.549484%2C%2056.985618%5D%2C%20%5B-156.883577%2C%2056.952757%5D%2C%20%5B-157.157424%2C%2056.832264%5D%2C%20%5B-157.20124%2C%2056.766541%5D%2C%20%5B-157.376502%2C%2056.859649%5D%2C%20%5B-157.672257%2C%2056.607709%5D%2C%20%5B-157.754411%2C%2056.67891%5D%2C%20%5B-157.918719%2C%2056.657002%5D%2C%20%5B-157.957058%2C%2056.514601%5D%2C%20%5B-158.126843%2C%2056.459832%5D%2C%20%5B-158.32949%2C%2056.48174%5D%2C%20%5B-158.488321%2C%2056.339339%5D%2C%20%5B-158.208997%2C%2056.295524%5D%2C%20%5B-158.510229%2C%2055.977861%5D%2C%20%5B-159.375585%2C%2055.873799%5D%2C%20%5B-159.616571%2C%2055.594475%5D%2C%20%5B-159.676817%2C%2055.654722%5D%2C%20%5B-159.643955%2C%2055.829984%5D%2C%20%5B-159.813741%2C%2055.857368%5D%2C%20%5B-160.027341%2C%2055.791645%5D%2C%20%5B-160.060203%2C%2055.720445%5D%2C%20%5B-160.394296%2C%2055.605429%5D%2C%20%5B-160.536697%2C%2055.473983%5D%2C%20%5B-160.580512%2C%2055.567091%5D%2C%20%5B-160.668143%2C%2055.457552%5D%2C%20%5B-160.865313%2C%2055.528752%5D%2C%20%5B-161.232268%2C%2055.358967%5D%2C%20%5B-161.506115%2C%2055.364444%5D%2C%20%5B-161.467776%2C%2055.49589%5D%2C%20%5B-161.588269%2C%2055.62186%5D%2C%20%5B-161.697808%2C%2055.517798%5D%2C%20%5B-161.686854%2C%2055.408259%5D%2C%20%5B-162.053809%2C%2055.074166%5D%2C%20%5B-162.179779%2C%2055.15632%5D%2C%20%5B-162.218117%2C%2055.03035%5D%2C%20%5B-162.470057%2C%2055.052258%5D%2C%20%5B-162.508395%2C%2055.249428%5D%2C%20%5B-162.661749%2C%2055.293244%5D%2C%20%5B-162.716519%2C%2055.222043%5D%2C%20%5B-162.579595%2C%2055.134412%5D%2C%20%5B-162.645319%2C%2054.997489%5D%2C%20%5B-162.847965%2C%2054.926289%5D%2C%20%5B-163.00132%2C%2055.079643%5D%2C%20%5B-163.187536%2C%2055.090597%5D%2C%20%5B-163.220397%2C%2055.03035%5D%2C%20%5B-163.034181%2C%2054.942719%5D%2C%20%5B-163.373752%2C%2054.800319%5D%2C%20%5B-163.14372%2C%2054.76198%5D%2C%20%5B-163.138243%2C%2054.696257%5D%2C%20%5B-163.329936%2C%2054.74555%5D%2C%20%5B-163.587352%2C%2054.614103%5D%2C%20%5B-164.085754%2C%2054.61958%5D%2C%20%5B-164.332216%2C%2054.531949%5D%2C%20%5B-164.354124%2C%2054.466226%5D%2C%20%5B-164.638925%2C%2054.389548%5D%2C%20%5B-164.847049%2C%2054.416933%5D%2C%20%5B-164.918249%2C%2054.603149%5D%2C%20%5B-164.710125%2C%2054.663395%5D%2C%20%5B-164.551294%2C%2054.88795%5D%2C%20%5B-164.34317%2C%2054.893427%5D%2C%20%5B-163.894061%2C%2055.041304%5D%2C%20%5B-163.532583%2C%2055.046781%5D%2C%20%5B-163.39566%2C%2054.904381%5D%2C%20%5B-163.291598%2C%2055.008443%5D%2C%20%5B-163.313505%2C%2055.128935%5D%2C%20%5B-163.105382%2C%2055.183705%5D%2C%20%5B-162.880827%2C%2055.183705%5D%2C%20%5B-162.579595%2C%2055.446598%5D%2C%20%5B-162.245502%2C%2055.682106%5D%2C%20%5B-161.807347%2C%2055.89023%5D%2C%20%5B-161.292514%2C%2055.983338%5D%2C%20%5B-161.078914%2C%2055.939523%5D%2C%20%5B-160.87079%2C%2055.999769%5D%2C%20%5B-160.816021%2C%2055.912138%5D%2C%20%5B-160.931036%2C%2055.813553%5D%2C%20%5B-160.805067%2C%2055.736876%5D%2C%20%5B-160.766728%2C%2055.857368%5D%2C%20%5B-160.509312%2C%2055.868322%5D%2C%20%5B-160.438112%2C%2055.791645%5D%2C%20%5B-160.27928%2C%2055.76426%5D%2C%20%5B-160.273803%2C%2055.857368%5D%2C%20%5B-160.536697%2C%2055.939523%5D%2C%20%5B-160.558604%2C%2055.994292%5D%2C%20%5B-160.383342%2C%2056.251708%5D%2C%20%5B-160.147834%2C%2056.399586%5D%2C%20%5B-159.830171%2C%2056.541986%5D%2C%20%5B-159.326293%2C%2056.667956%5D%2C%20%5B-158.959338%2C%2056.848695%5D%2C%20%5B-158.784076%2C%2056.782971%5D%2C%20%5B-158.641675%2C%2056.810356%5D%2C%20%5B-158.701922%2C%2056.925372%5D%2C%20%5B-158.658106%2C%2057.034911%5D%2C%20%5B-158.378782%2C%2057.264942%5D%2C%20%5B-157.995396%2C%2057.41282%5D%2C%20%5B-157.688688%2C%2057.609989%5D%2C%20%5B-157.705118%2C%2057.719528%5D%2C%20%5B-157.458656%2C%2058.497254%5D%2C%20%5B-157.07527%2C%2058.705377%5D%2C%20%5B-157.119086%2C%2058.869686%5D%2C%20%5B-158.039212%2C%2058.634177%5D%2C%20%5B-158.32949%2C%2058.661562%5D%2C%20%5B-158.40069%2C%2058.760147%5D%2C%20%5B-158.564998%2C%2058.803962%5D%2C%20%5B-158.619768%2C%2058.913501%5D%2C%20%5B-158.767645%2C%2058.864209%5D%2C%20%5B-158.860753%2C%2058.694424%5D%2C%20%5B-158.701922%2C%2058.480823%5D%2C%20%5B-158.893615%2C%2058.387715%5D%2C%20%5B-159.0634%2C%2058.420577%5D%2C%20%5B-159.392016%2C%2058.760147%5D%2C%20%5B-159.616571%2C%2058.929932%5D%2C%20%5B-159.731586%2C%2058.929932%5D%2C%20%5B-159.808264%2C%2058.803962%5D%2C%20%5B-159.906848%2C%2058.782055%5D%2C%20%5B-160.054726%2C%2058.886116%5D%2C%20%5B-160.235465%2C%2058.902547%5D%2C%20%5B-160.317619%2C%2059.072332%5D%2C%20%5B-160.854359%2C%2058.88064%5D%2C%20%5B-161.33633%2C%2058.743716%5D%2C%20%5B-161.374669%2C%2058.667039%5D%2C%20%5B-161.752577%2C%2058.552023%5D%2C%20%5B-161.938793%2C%2058.656085%5D%2C%20%5B-161.769008%2C%2058.776578%5D%2C%20%5B-161.829255%2C%2059.061379%5D%2C%20%5B-161.955224%2C%2059.36261%5D%2C%20%5B-161.703285%2C%2059.48858%5D%2C%20%5B-161.911409%2C%2059.740519%5D%2C%20%5B-162.092148%2C%2059.88292%5D%2C%20%5B-162.234548%2C%2060.091043%5D%2C%20%5B-162.448149%2C%2060.178674%5D%2C%20%5B-162.502918%2C%2059.997935%5D%2C%20%5B-162.760334%2C%2059.959597%5D%2C%20%5B-163.171105%2C%2059.844581%5D%2C%20%5B-163.66403%2C%2059.795289%5D%2C%20%5B-163.9324%2C%2059.806242%5D%2C%20%5B-164.162431%2C%2059.866489%5D%2C%20%5B-164.189816%2C%2060.02532%5D%2C%20%5B-164.386986%2C%2060.074613%5D%2C%20%5B-164.699171%2C%2060.29369%5D%2C%20%5B-164.962064%2C%2060.337506%5D%2C%20%5B-165.268773%2C%2060.578491%5D%2C%20%5B-165.060649%2C%2060.68803%5D%2C%20%5B-165.016834%2C%2060.890677%5D%2C%20%5B-165.175665%2C%2060.846861%5D%2C%20%5B-165.197573%2C%2060.972831%5D%2C%20%5B-165.120896%2C%2061.076893%5D%2C%20%5B-165.323543%2C%2061.170001%5D%2C%20%5B-165.34545%2C%2061.071416%5D%2C%20%5B-165.591913%2C%2061.109754%5D%2C%20%5B-165.624774%2C%2061.279539%5D%2C%20%5B-165.816467%2C%2061.301447%5D%2C%20%5B-165.920529%2C%2061.416463%5D%2C%20%5B-165.915052%2C%2061.558863%5D%2C%20%5B-166.106745%2C%2061.49314%5D%2C%20%5B-166.139607%2C%2061.630064%5D%2C%20%5B-165.904098%2C%2061.662925%5D%2C%20%5B-166.095791%2C%2061.81628%5D%2C%20%5B-165.756221%2C%2061.827233%5D%2C%20%5B-165.756221%2C%2062.013449%5D%2C%20%5B-165.674067%2C%2062.139419%5D%2C%20%5B-165.044219%2C%2062.539236%5D%2C%20%5B-164.912772%2C%2062.659728%5D%2C%20%5B-164.819664%2C%2062.637821%5D%2C%20%5B-164.874433%2C%2062.807606%5D%2C%20%5B-164.633448%2C%2063.097884%5D%2C%20%5B-164.425324%2C%2063.212899%5D%2C%20%5B-164.036462%2C%2063.262192%5D%2C%20%5B-163.73523%2C%2063.212899%5D%2C%20%5B-163.313505%2C%2063.037637%5D%2C%20%5B-163.039658%2C%2063.059545%5D%2C%20%5B-162.661749%2C%2063.22933%5D%2C%20%5B-162.272887%2C%2063.486746%5D%2C%20%5B-162.075717%2C%2063.514131%5D%2C%20%5B-162.026424%2C%2063.448408%5D%2C%20%5B-161.555408%2C%2063.448408%5D%2C%20%5B-161.13916%2C%2063.503177%5D%2C%20%5B-160.766728%2C%2063.771547%5D%2C%20%5B-160.766728%2C%2063.837271%5D%2C%20%5B-160.952944%2C%2064.08921%5D%2C%20%5B-160.974852%2C%2064.237087%5D%2C%20%5B-161.26513%2C%2064.395918%5D%2C%20%5B-161.374669%2C%2064.532842%5D%2C%20%5B-161.078914%2C%2064.494503%5D%2C%20%5B-160.79959%2C%2064.609519%5D%2C%20%5B-160.783159%2C%2064.719058%5D%2C%20%5B-161.144637%2C%2064.921705%5D%2C%20%5B-161.413007%2C%2064.762873%5D%2C%20%5B-161.664946%2C%2064.790258%5D%2C%20%5B-161.900455%2C%2064.702627%5D%2C%20%5B-162.168825%2C%2064.680719%5D%2C%20%5B-162.234548%2C%2064.620473%5D%2C%20%5B-162.541257%2C%2064.532842%5D%2C%20%5B-162.634365%2C%2064.384965%5D%2C%20%5B-162.787719%2C%2064.324718%5D%2C%20%5B-162.858919%2C%2064.49998%5D%2C%20%5B-163.045135%2C%2064.538319%5D%2C%20%5B-163.176582%2C%2064.401395%5D%2C%20%5B-163.253259%2C%2064.467119%5D%2C%20%5B-163.598306%2C%2064.565704%5D%2C%20%5B-164.304832%2C%2064.560227%5D%2C%20%5B-164.80871%2C%2064.450688%5D%2C%20%5B-165.000403%2C%2064.434257%5D%2C%20%5B-165.411174%2C%2064.49998%5D%2C%20%5B-166.188899%2C%2064.576658%5D%2C%20%5B-166.391546%2C%2064.636904%5D%2C%20%5B-166.484654%2C%2064.735489%5D%2C%20%5B-166.413454%2C%2064.872412%5D%2C%20%5B-166.692778%2C%2064.987428%5D%2C%20%5B-166.638008%2C%2065.113398%5D%2C%20%5B-166.462746%2C%2065.179121%5D%2C%20%5B-166.517516%2C%2065.337952%5D%2C%20%5B-166.796839%2C%2065.337952%5D%2C%20%5B-167.026871%2C%2065.381768%5D%2C%20%5B-167.47598%2C%2065.414629%5D%2C%20%5B-167.711489%2C%2065.496784%5D%2C%20%5B-168.072967%2C%2065.578938%5D%2C%20%5B-168.105828%2C%2065.682999%5D%2C%20%5B-167.541703%2C%2065.819923%5D%2C%20%5B-166.829701%2C%2066.049954%5D%2C%20%5B-166.3313%2C%2066.186878%5D%2C%20%5B-166.046499%2C%2066.110201%5D%2C%20%5B-165.756221%2C%2066.09377%5D%2C%20%5B-165.690498%2C%2066.203309%5D%2C%20%5B-165.86576%2C%2066.21974%5D%2C%20%5B-165.88219%2C%2066.312848%5D%2C%20%5B-165.186619%2C%2066.466202%5D%2C%20%5B-164.403417%2C%2066.581218%5D%2C%20%5B-163.981692%2C%2066.592172%5D%2C%20%5B-163.751661%2C%2066.553833%5D%2C%20%5B-163.872153%2C%2066.389525%5D%2C%20%5B-163.828338%2C%2066.274509%5D%2C%20%5B-163.915969%2C%2066.192355%5D%2C%20%5B-163.768091%2C%2066.060908%5D%2C%20%5B-163.494244%2C%2066.082816%5D%2C%20%5B-163.149197%2C%2066.060908%5D%2C%20%5B-162.749381%2C%2066.088293%5D%2C%20%5B-162.634365%2C%2066.039001%5D%2C%20%5B-162.371472%2C%2066.028047%5D%2C%20%5B-162.14144%2C%2066.077339%5D%2C%20%5B-161.840208%2C%2066.02257%5D%2C%20%5B-161.549931%2C%2066.241647%5D%2C%20%5B-161.341807%2C%2066.252601%5D%2C%20%5B-161.199406%2C%2066.208786%5D%2C%20%5B-161.128206%2C%2066.334755%5D%2C%20%5B-161.528023%2C%2066.395002%5D%2C%20%5B-161.911409%2C%2066.345709%5D%2C%20%5B-161.87307%2C%2066.510017%5D%2C%20%5B-162.174302%2C%2066.68528%5D%2C%20%5B-162.502918%2C%2066.740049%5D%2C%20%5B-162.601503%2C%2066.89888%5D%2C%20%5B-162.344087%2C%2066.937219%5D%2C%20%5B-162.015471%2C%2066.778388%5D%2C%20%5B-162.075717%2C%2066.652418%5D%2C%20%5B-161.916886%2C%2066.553833%5D%2C%20%5B-161.571838%2C%2066.438817%5D%2C%20%5B-161.489684%2C%2066.55931%5D%2C%20%5B-161.884024%2C%2066.718141%5D%2C%20%5B-161.714239%2C%2067.002942%5D%2C%20%5B-161.851162%2C%2067.052235%5D%2C%20%5B-162.240025%2C%2066.991988%5D%2C%20%5B-162.639842%2C%2067.008419%5D%2C%20%5B-162.700088%2C%2067.057712%5D%2C%20%5B-162.902735%2C%2067.008419%5D%2C%20%5B-163.740707%2C%2067.128912%5D%2C%20%5B-163.757138%2C%2067.254881%5D%2C%20%5B-164.009077%2C%2067.534205%5D%2C%20%5B-164.211724%2C%2067.638267%5D%2C%20%5B-164.534863%2C%2067.725898%5D%2C%20%5B-165.192096%2C%2067.966884%5D%2C%20%5B-165.493328%2C%2068.059992%5D%2C%20%5B-165.794559%2C%2068.081899%5D%2C%20%5B-166.243668%2C%2068.246208%5D%2C%20%5B-166.681824%2C%2068.339316%5D%2C%20%5B-166.703731%2C%2068.372177%5D%2C%20%5B-166.375115%2C%2068.42147%5D%2C%20%5B-166.227238%2C%2068.574824%5D%2C%20%5B-166.216284%2C%2068.881533%5D%2C%20%5B-165.329019%2C%2068.859625%5D%2C%20%5B-164.255539%2C%2068.930825%5D%2C%20%5B-163.976215%2C%2068.985595%5D%2C%20%5B-163.532583%2C%2069.138949%5D%2C%20%5B-163.110859%2C%2069.374457%5D%2C%20%5B-163.023228%2C%2069.609966%5D%2C%20%5B-162.842489%2C%2069.812613%5D%2C%20%5B-162.470057%2C%2069.982398%5D%2C%20%5B-162.311225%2C%2070.108367%5D%2C%20%5B-161.851162%2C%2070.311014%5D%2C%20%5B-161.779962%2C%2070.256245%5D%2C%20%5B-161.396576%2C%2070.239814%5D%2C%20%5B-160.837928%2C%2070.343876%5D%2C%20%5B-160.487404%2C%2070.453415%5D%2C%20%5B-159.649432%2C%2070.792985%5D%2C%20%5B-159.33177%2C%2070.809416%5D%2C%20%5B-159.298908%2C%2070.760123%5D%2C%20%5B-158.975769%2C%2070.798462%5D%2C%20%5B-158.658106%2C%2070.787508%5D%2C%20%5B-158.033735%2C%2070.831323%5D%2C%20%5B-157.420318%2C%2070.979201%5D%2C%20%5B-156.812377%2C%2071.285909%5D%2C%20%5B-156.565915%2C%2071.351633%5D%2C%20%5B-156.522099%2C%2071.296863%5D%2C%20%5B-155.585543%2C%2071.170894%5D%2C%20%5B-155.508865%2C%2071.083263%5D%2C%20%5B-155.832005%2C%2070.968247%5D%2C%20%5B-155.979882%2C%2070.96277%5D%2C%20%5B-155.974405%2C%2070.809416%5D%2C%20%5B-155.503388%2C%2070.858708%5D%2C%20%5B-155.476004%2C%2070.940862%5D%2C%20%5B-155.262403%2C%2071.017539%5D%2C%20%5B-155.191203%2C%2070.973724%5D%2C%20%5B-155.032372%2C%2071.148986%5D%2C%20%5B-154.566832%2C%2070.990155%5D%2C%20%5B-154.643509%2C%2070.869662%5D%2C%20%5B-154.353231%2C%2070.8368%5D%2C%20%5B-154.183446%2C%2070.7656%5D%2C%20%5B-153.931507%2C%2070.880616%5D%2C%20%5B-153.487874%2C%2070.886093%5D%2C%20%5B-153.235935%2C%2070.924431%5D%2C%20%5B-152.589656%2C%2070.886093%5D%2C%20%5B-152.26104%2C%2070.842277%5D%2C%20%5B-152.419871%2C%2070.606769%5D%2C%20%5B-151.817408%2C%2070.546523%5D%2C%20%5B-151.773592%2C%2070.486276%5D%2C%20%5B-151.187559%2C%2070.382214%5D%2C%20%5B-151.182082%2C%2070.431507%5D%2C%20%5B-150.760358%2C%2070.49723%5D%2C%20%5B-150.355064%2C%2070.491753%5D%2C%20%5B-150.349588%2C%2070.436984%5D%2C%20%5B-150.114079%2C%2070.431507%5D%2C%20%5B-149.867617%2C%2070.508184%5D%2C%20%5B-149.462323%2C%2070.519138%5D%2C%20%5B-149.177522%2C%2070.486276%5D%2C%20%5B-148.78866%2C%2070.404122%5D%2C%20%5B-148.607921%2C%2070.420553%5D%2C%20%5B-148.350504%2C%2070.305537%5D%2C%20%5B-148.202627%2C%2070.349353%5D%2C%20%5B-147.961642%2C%2070.316491%5D%2C%20%5B-147.786379%2C%2070.245291%5D%5D%5D%2C%20%5B%5B%5B-152.94018%2C%2058.026237%5D%2C%20%5B-152.945657%2C%2057.982421%5D%2C%20%5B-153.290705%2C%2058.048145%5D%2C%20%5B-153.044242%2C%2058.305561%5D%2C%20%5B-152.819688%2C%2058.327469%5D%2C%20%5B-152.666333%2C%2058.562977%5D%2C%20%5B-152.496548%2C%2058.354853%5D%2C%20%5B-152.354148%2C%2058.426053%5D%2C%20%5B-152.080301%2C%2058.311038%5D%2C%20%5B-152.080301%2C%2058.152206%5D%2C%20%5B-152.480117%2C%2058.130299%5D%2C%20%5B-152.655379%2C%2058.059098%5D%2C%20%5B-152.94018%2C%2058.026237%5D%5D%5D%2C%20%5B%5B%5B-153.958891%2C%2057.538789%5D%2C%20%5B-153.67409%2C%2057.670236%5D%2C%20%5B-153.931507%2C%2057.69762%5D%2C%20%5B-153.936983%2C%2057.812636%5D%2C%20%5B-153.723383%2C%2057.889313%5D%2C%20%5B-153.570028%2C%2057.834544%5D%2C%20%5B-153.548121%2C%2057.719528%5D%2C%20%5B-153.46049%2C%2057.796205%5D%2C%20%5B-153.455013%2C%2057.96599%5D%2C%20%5B-153.268797%2C%2057.889313%5D%2C%20%5B-153.235935%2C%2057.998852%5D%2C%20%5B-153.071627%2C%2057.933129%5D%2C%20%5B-152.874457%2C%2057.933129%5D%2C%20%5B-152.721103%2C%2057.993375%5D%2C%20%5B-152.469163%2C%2057.889313%5D%2C%20%5B-152.469163%2C%2057.599035%5D%2C%20%5B-152.151501%2C%2057.620943%5D%2C%20%5B-152.359625%2C%2057.42925%5D%2C%20%5B-152.74301%2C%2057.505928%5D%2C%20%5B-152.60061%2C%2057.379958%5D%2C%20%5B-152.710149%2C%2057.275896%5D%2C%20%5B-152.907319%2C%2057.325188%5D%2C%20%5B-152.912796%2C%2057.128019%5D%2C%20%5B-153.214027%2C%2057.073249%5D%2C%20%5B-153.312612%2C%2056.991095%5D%2C%20%5B-153.498828%2C%2057.067772%5D%2C%20%5B-153.695998%2C%2056.859649%5D%2C%20%5B-153.849352%2C%2056.837741%5D%2C%20%5B-154.013661%2C%2056.744633%5D%2C%20%5B-154.073907%2C%2056.969187%5D%2C%20%5B-154.303938%2C%2056.848695%5D%2C%20%5B-154.314892%2C%2056.919895%5D%2C%20%5B-154.523016%2C%2056.991095%5D%2C%20%5B-154.539447%2C%2057.193742%5D%2C%20%5B-154.742094%2C%2057.275896%5D%2C%20%5B-154.627078%2C%2057.511404%5D%2C%20%5B-154.227261%2C%2057.659282%5D%2C%20%5B-153.980799%2C%2057.648328%5D%2C%20%5B-153.958891%2C%2057.538789%5D%5D%5D%2C%20%5B%5B%5B-154.53397%2C%2056.602232%5D%2C%20%5B-154.742094%2C%2056.399586%5D%2C%20%5B-154.807817%2C%2056.432447%5D%2C%20%5B-154.53397%2C%2056.602232%5D%5D%5D%2C%20%5B%5B%5B-155.634835%2C%2055.923092%5D%2C%20%5B-155.476004%2C%2055.912138%5D%2C%20%5B-155.530773%2C%2055.704014%5D%2C%20%5B-155.793666%2C%2055.731399%5D%2C%20%5B-155.837482%2C%2055.802599%5D%2C%20%5B-155.634835%2C%2055.923092%5D%5D%5D%2C%20%5B%5B%5B-159.890418%2C%2055.28229%5D%2C%20%5B-159.950664%2C%2055.068689%5D%2C%20%5B-160.257373%2C%2054.893427%5D%2C%20%5B-160.109495%2C%2055.161797%5D%2C%20%5B-160.005433%2C%2055.134412%5D%2C%20%5B-159.890418%2C%2055.28229%5D%5D%5D%2C%20%5B%5B%5B-160.520266%2C%2055.358967%5D%2C%20%5B-160.33405%2C%2055.358967%5D%2C%20%5B-160.339527%2C%2055.249428%5D%2C%20%5B-160.525743%2C%2055.128935%5D%2C%20%5B-160.690051%2C%2055.211089%5D%2C%20%5B-160.794113%2C%2055.134412%5D%2C%20%5B-160.854359%2C%2055.320628%5D%2C%20%5B-160.79959%2C%2055.380875%5D%2C%20%5B-160.520266%2C%2055.358967%5D%5D%5D%2C%20%5B%5B%5B-162.256456%2C%2054.981058%5D%2C%20%5B-162.234548%2C%2054.893427%5D%2C%20%5B-162.349564%2C%2054.838658%5D%2C%20%5B-162.437195%2C%2054.931766%5D%2C%20%5B-162.256456%2C%2054.981058%5D%5D%5D%2C%20%5B%5B%5B-162.415287%2C%2063.634624%5D%2C%20%5B-162.563165%2C%2063.536039%5D%2C%20%5B-162.612457%2C%2063.62367%5D%2C%20%5B-162.415287%2C%2063.634624%5D%5D%5D%2C%20%5B%5B%5B-162.80415%2C%2054.488133%5D%2C%20%5B-162.590549%2C%2054.449795%5D%2C%20%5B-162.612457%2C%2054.367641%5D%2C%20%5B-162.782242%2C%2054.373118%5D%2C%20%5B-162.80415%2C%2054.488133%5D%5D%5D%2C%20%5B%5B%5B-165.548097%2C%2054.29644%5D%2C%20%5B-165.476897%2C%2054.181425%5D%2C%20%5B-165.630251%2C%2054.132132%5D%2C%20%5B-165.685021%2C%2054.252625%5D%2C%20%5B-165.548097%2C%2054.29644%5D%5D%5D%2C%20%5B%5B%5B-165.73979%2C%2054.15404%5D%2C%20%5B-166.046499%2C%2054.044501%5D%2C%20%5B-166.112222%2C%2054.121178%5D%2C%20%5B-165.980775%2C%2054.219763%5D%2C%20%5B-165.73979%2C%2054.15404%5D%5D%5D%2C%20%5B%5B%5B-166.364161%2C%2060.359413%5D%2C%20%5B-166.13413%2C%2060.397752%5D%2C%20%5B-166.084837%2C%2060.326552%5D%2C%20%5B-165.88219%2C%2060.342983%5D%2C%20%5B-165.685021%2C%2060.277259%5D%2C%20%5B-165.646682%2C%2059.992458%5D%2C%20%5B-165.750744%2C%2059.89935%5D%2C%20%5B-166.00816%2C%2059.844581%5D%2C%20%5B-166.062929%2C%2059.745996%5D%2C%20%5B-166.440838%2C%2059.855535%5D%2C%20%5B-166.6161%2C%2059.850058%5D%2C%20%5B-166.994009%2C%2059.992458%5D%2C%20%5B-167.125456%2C%2059.992458%5D%2C%20%5B-167.344534%2C%2060.074613%5D%2C%20%5B-167.421211%2C%2060.206059%5D%2C%20%5B-167.311672%2C%2060.238921%5D%2C%20%5B-166.93924%2C%2060.206059%5D%2C%20%5B-166.763978%2C%2060.310121%5D%2C%20%5B-166.577762%2C%2060.321075%5D%2C%20%5B-166.495608%2C%2060.392275%5D%2C%20%5B-166.364161%2C%2060.359413%5D%5D%5D%2C%20%5B%5B%5B-166.375115%2C%2054.01164%5D%2C%20%5B-166.210807%2C%2053.934962%5D%2C%20%5B-166.5449%2C%2053.748746%5D%2C%20%5B-166.539423%2C%2053.715885%5D%2C%20%5B-166.117699%2C%2053.852808%5D%2C%20%5B-166.112222%2C%2053.776131%5D%2C%20%5B-166.282007%2C%2053.683023%5D%2C%20%5B-166.555854%2C%2053.622777%5D%2C%20%5B-166.583239%2C%2053.529669%5D%2C%20%5B-166.878994%2C%2053.431084%5D%2C%20%5B-167.13641%2C%2053.425607%5D%2C%20%5B-167.306195%2C%2053.332499%5D%2C%20%5B-167.623857%2C%2053.250345%5D%2C%20%5B-167.793643%2C%2053.337976%5D%2C%20%5B-167.459549%2C%2053.442038%5D%2C%20%5B-167.355487%2C%2053.425607%5D%2C%20%5B-167.103548%2C%2053.513238%5D%2C%20%5B-167.163794%2C%2053.611823%5D%2C%20%5B-167.021394%2C%2053.715885%5D%2C%20%5B-166.807793%2C%2053.666592%5D%2C%20%5B-166.785886%2C%2053.732316%5D%2C%20%5B-167.015917%2C%2053.754223%5D%2C%20%5B-167.141887%2C%2053.825424%5D%2C%20%5B-167.032348%2C%2053.945916%5D%2C%20%5B-166.643485%2C%2054.017116%5D%2C%20%5B-166.561331%2C%2053.880193%5D%2C%20%5B-166.375115%2C%2054.01164%5D%5D%5D%2C%20%5B%5B%5B-168.790446%2C%2053.157237%5D%2C%20%5B-168.40706%2C%2053.34893%5D%2C%20%5B-168.385152%2C%2053.431084%5D%2C%20%5B-168.237275%2C%2053.524192%5D%2C%20%5B-168.007243%2C%2053.568007%5D%2C%20%5B-167.886751%2C%2053.518715%5D%2C%20%5B-167.842935%2C%2053.387268%5D%2C%20%5B-168.270136%2C%2053.244868%5D%2C%20%5B-168.500168%2C%2053.036744%5D%2C%20%5B-168.686384%2C%2052.965544%5D%2C%20%5B-168.790446%2C%2053.157237%5D%5D%5D%2C%20%5B%5B%5B-169.74891%2C%2052.894344%5D%2C%20%5B-169.705095%2C%2052.795759%5D%2C%20%5B-169.962511%2C%2052.790282%5D%2C%20%5B-169.989896%2C%2052.856005%5D%2C%20%5B-169.74891%2C%2052.894344%5D%5D%5D%2C%20%5B%5B%5B-170.148727%2C%2057.221127%5D%2C%20%5B-170.28565%2C%2057.128019%5D%2C%20%5B-170.313035%2C%2057.221127%5D%2C%20%5B-170.148727%2C%2057.221127%5D%5D%5D%2C%20%5B%5B%5B-170.669036%2C%2052.697174%5D%2C%20%5B-170.603313%2C%2052.604066%5D%2C%20%5B-170.789529%2C%2052.538343%5D%2C%20%5B-170.816914%2C%2052.636928%5D%2C%20%5B-170.669036%2C%2052.697174%5D%5D%5D%2C%20%5B%5B%5B-171.742517%2C%2063.716778%5D%2C%20%5B-170.94836%2C%2063.5689%5D%2C%20%5B-170.488297%2C%2063.69487%5D%2C%20%5B-170.280174%2C%2063.683916%5D%2C%20%5B-170.093958%2C%2063.612716%5D%2C%20%5B-170.044665%2C%2063.492223%5D%2C%20%5B-169.644848%2C%2063.4265%5D%2C%20%5B-169.518879%2C%2063.366254%5D%2C%20%5B-168.99857%2C%2063.338869%5D%2C%20%5B-168.686384%2C%2063.295053%5D%2C%20%5B-168.856169%2C%2063.147176%5D%2C%20%5B-169.108108%2C%2063.180038%5D%2C%20%5B-169.376478%2C%2063.152653%5D%2C%20%5B-169.513402%2C%2063.08693%5D%2C%20%5B-169.639372%2C%2062.939052%5D%2C%20%5B-169.831064%2C%2063.075976%5D%2C%20%5B-170.055619%2C%2063.169084%5D%2C%20%5B-170.263743%2C%2063.180038%5D%2C%20%5B-170.362328%2C%2063.2841%5D%2C%20%5B-170.866206%2C%2063.415546%5D%2C%20%5B-171.101715%2C%2063.421023%5D%2C%20%5B-171.463193%2C%2063.306007%5D%2C%20%5B-171.73704%2C%2063.366254%5D%2C%20%5B-171.852055%2C%2063.486746%5D%2C%20%5B-171.742517%2C%2063.716778%5D%5D%5D%2C%20%5B%5B%5B-172.432611%2C%2052.390465%5D%2C%20%5B-172.41618%2C%2052.275449%5D%2C%20%5B-172.607873%2C%2052.253542%5D%2C%20%5B-172.569535%2C%2052.352127%5D%2C%20%5B-172.432611%2C%2052.390465%5D%5D%5D%2C%20%5B%5B%5B-173.626584%2C%2052.14948%5D%2C%20%5B-173.495138%2C%2052.105664%5D%2C%20%5B-173.122706%2C%2052.111141%5D%2C%20%5B-173.106275%2C%2052.07828%5D%2C%20%5B-173.549907%2C%2052.028987%5D%2C%20%5B-173.626584%2C%2052.14948%5D%5D%5D%2C%20%5B%5B%5B-174.322156%2C%2052.280926%5D%2C%20%5B-174.327632%2C%2052.379511%5D%2C%20%5B-174.185232%2C%2052.41785%5D%2C%20%5B-173.982585%2C%2052.319265%5D%2C%20%5B-174.059262%2C%2052.226157%5D%2C%20%5B-174.179755%2C%2052.231634%5D%2C%20%5B-174.141417%2C%2052.127572%5D%2C%20%5B-174.333109%2C%2052.116618%5D%2C%20%5B-174.738403%2C%2052.007079%5D%2C%20%5B-174.968435%2C%2052.039941%5D%2C%20%5B-174.902711%2C%2052.116618%5D%2C%20%5B-174.656249%2C%2052.105664%5D%2C%20%5B-174.322156%2C%2052.280926%5D%5D%5D%2C%20%5B%5B%5B-176.469116%2C%2051.853725%5D%2C%20%5B-176.288377%2C%2051.870156%5D%2C%20%5B-176.288377%2C%2051.744186%5D%2C%20%5B-176.518409%2C%2051.760617%5D%2C%20%5B-176.80321%2C%2051.61274%5D%2C%20%5B-176.912748%2C%2051.80991%5D%2C%20%5B-176.792256%2C%2051.815386%5D%2C%20%5B-176.775825%2C%2051.963264%5D%2C%20%5B-176.627947%2C%2051.968741%5D%2C%20%5B-176.627947%2C%2051.859202%5D%2C%20%5B-176.469116%2C%2051.853725%5D%5D%5D%2C%20%5B%5B%5B-177.153734%2C%2051.946833%5D%2C%20%5B-177.044195%2C%2051.897541%5D%2C%20%5B-177.120872%2C%2051.727755%5D%2C%20%5B-177.274226%2C%2051.678463%5D%2C%20%5B-177.279703%2C%2051.782525%5D%2C%20%5B-177.153734%2C%2051.946833%5D%5D%5D%2C%20%5B%5B%5B-178.123152%2C%2051.919448%5D%2C%20%5B-177.953367%2C%2051.913971%5D%2C%20%5B-177.800013%2C%2051.793479%5D%2C%20%5B-177.964321%2C%2051.651078%5D%2C%20%5B-178.123152%2C%2051.919448%5D%5D%5D%2C%20%5B%5B%5B173.107557%2C%2052.992929%5D%2C%20%5B173.293773%2C%2052.927205%5D%2C%20%5B173.304726%2C%2052.823143%5D%2C%20%5B172.90491%2C%2052.762897%5D%2C%20%5B172.642017%2C%2052.927205%5D%2C%20%5B172.642017%2C%2053.003883%5D%2C%20%5B173.107557%2C%2052.992929%5D%5D%5D%5D%2C%20%22type%22%3A%20%22MultiPolygon%22%7D%2C%20%22id%22%3A%20%22AK%22%2C%20%22properties%22%3A%20%7B%22name%22%3A%20%22Alaska%22%7D%2C%20%22type%22%3A%20%22Feature%22%7D%2C%20%7B%22geometry%22%3A%20%7B%22coordinates%22%3A%20%5B%5B%5B-109.042503%2C%2037.000263%5D%2C%20%5B-109.04798%2C%2031.331629%5D%2C%20%5B-111.074448%2C%2031.331629%5D%2C%20%5B-112.246513%2C%2031.704061%5D%2C%20%5B-114.815198%2C%2032.492741%5D%2C%20%5B-114.72209%2C%2032.717295%5D%2C%20%5B-114.524921%2C%2032.755634%5D%2C%20%5B-114.470151%2C%2032.843265%5D%2C%20%5B-114.524921%2C%2033.029481%5D%2C%20%5B-114.661844%2C%2033.034958%5D%2C%20%5B-114.727567%2C%2033.40739%5D%2C%20%5B-114.524921%2C%2033.54979%5D%2C%20%5B-114.497536%2C%2033.697668%5D%2C%20%5B-114.535874%2C%2033.933176%5D%2C%20%5B-114.415382%2C%2034.108438%5D%2C%20%5B-114.256551%2C%2034.174162%5D%2C%20%5B-114.136058%2C%2034.305608%5D%2C%20%5B-114.333228%2C%2034.448009%5D%2C%20%5B-114.470151%2C%2034.710902%5D%2C%20%5B-114.634459%2C%2034.87521%5D%2C%20%5B-114.634459%2C%2035.00118%5D%2C%20%5B-114.574213%2C%2035.138103%5D%2C%20%5B-114.596121%2C%2035.324319%5D%2C%20%5B-114.678275%2C%2035.516012%5D%2C%20%5B-114.738521%2C%2036.102045%5D%2C%20%5B-114.371566%2C%2036.140383%5D%2C%20%5B-114.251074%2C%2036.01989%5D%2C%20%5B-114.152489%2C%2036.025367%5D%2C%20%5B-114.048427%2C%2036.195153%5D%2C%20%5B-114.048427%2C%2037.000263%5D%2C%20%5B-110.499369%2C%2037.00574%5D%2C%20%5B-109.042503%2C%2037.000263%5D%5D%5D%2C%20%22type%22%3A%20%22Polygon%22%7D%2C%20%22id%22%3A%20%22AZ%22%2C%20%22properties%22%3A%20%7B%22name%22%3A%20%22Arizona%22%7D%2C%20%22type%22%3A%20%22Feature%22%7D%2C%20%7B%22geometry%22%3A%20%7B%22coordinates%22%3A%20%5B%5B%5B-94.473842%2C%2036.501861%5D%2C%20%5B-90.152536%2C%2036.496384%5D%2C%20%5B-90.064905%2C%2036.304691%5D%2C%20%5B-90.218259%2C%2036.184199%5D%2C%20%5B-90.377091%2C%2035.997983%5D%2C%20%5B-89.730812%2C%2035.997983%5D%2C%20%5B-89.763673%2C%2035.811767%5D%2C%20%5B-89.911551%2C%2035.756997%5D%2C%20%5B-89.944412%2C%2035.603643%5D%2C%20%5B-90.130628%2C%2035.439335%5D%2C%20%5B-90.114197%2C%2035.198349%5D%2C%20%5B-90.212782%2C%2035.023087%5D%2C%20%5B-90.311367%2C%2034.995703%5D%2C%20%5B-90.251121%2C%2034.908072%5D%2C%20%5B-90.409952%2C%2034.831394%5D%2C%20%5B-90.481152%2C%2034.661609%5D%2C%20%5B-90.585214%2C%2034.617794%5D%2C%20%5B-90.568783%2C%2034.420624%5D%2C%20%5B-90.749522%2C%2034.365854%5D%2C%20%5B-90.744046%2C%2034.300131%5D%2C%20%5B-90.952169%2C%2034.135823%5D%2C%20%5B-90.891923%2C%2034.026284%5D%2C%20%5B-91.072662%2C%2033.867453%5D%2C%20%5B-91.231493%2C%2033.560744%5D%2C%20%5B-91.056231%2C%2033.429298%5D%2C%20%5B-91.143862%2C%2033.347144%5D%2C%20%5B-91.089093%2C%2033.13902%5D%2C%20%5B-91.16577%2C%2033.002096%5D%2C%20%5B-93.608485%2C%2033.018527%5D%2C%20%5B-94.041164%2C%2033.018527%5D%2C%20%5B-94.041164%2C%2033.54979%5D%2C%20%5B-94.183564%2C%2033.593606%5D%2C%20%5B-94.380734%2C%2033.544313%5D%2C%20%5B-94.484796%2C%2033.637421%5D%2C%20%5B-94.430026%2C%2035.395519%5D%2C%20%5B-94.616242%2C%2036.501861%5D%2C%20%5B-94.473842%2C%2036.501861%5D%5D%5D%2C%20%22type%22%3A%20%22Polygon%22%7D%2C%20%22id%22%3A%20%22AR%22%2C%20%22properties%22%3A%20%7B%22name%22%3A%20%22Arkansas%22%7D%2C%20%22type%22%3A%20%22Feature%22%7D%2C%20%7B%22geometry%22%3A%20%7B%22coordinates%22%3A%20%5B%5B%5B-123.233256%2C%2042.006186%5D%2C%20%5B-122.378853%2C%2042.011663%5D%2C%20%5B-121.037003%2C%2041.995232%5D%2C%20%5B-120.001861%2C%2041.995232%5D%2C%20%5B-119.996384%2C%2040.264519%5D%2C%20%5B-120.001861%2C%2038.999346%5D%2C%20%5B-118.71478%2C%2038.101128%5D%2C%20%5B-117.498899%2C%2037.21934%5D%2C%20%5B-116.540435%2C%2036.501861%5D%2C%20%5B-115.85034%2C%2035.970598%5D%2C%20%5B-114.634459%2C%2035.00118%5D%2C%20%5B-114.634459%2C%2034.87521%5D%2C%20%5B-114.470151%2C%2034.710902%5D%2C%20%5B-114.333228%2C%2034.448009%5D%2C%20%5B-114.136058%2C%2034.305608%5D%2C%20%5B-114.256551%2C%2034.174162%5D%2C%20%5B-114.415382%2C%2034.108438%5D%2C%20%5B-114.535874%2C%2033.933176%5D%2C%20%5B-114.497536%2C%2033.697668%5D%2C%20%5B-114.524921%2C%2033.54979%5D%2C%20%5B-114.727567%2C%2033.40739%5D%2C%20%5B-114.661844%2C%2033.034958%5D%2C%20%5B-114.524921%2C%2033.029481%5D%2C%20%5B-114.470151%2C%2032.843265%5D%2C%20%5B-114.524921%2C%2032.755634%5D%2C%20%5B-114.72209%2C%2032.717295%5D%2C%20%5B-116.04751%2C%2032.624187%5D%2C%20%5B-117.126467%2C%2032.536556%5D%2C%20%5B-117.24696%2C%2032.668003%5D%2C%20%5B-117.252437%2C%2032.876127%5D%2C%20%5B-117.329114%2C%2033.122589%5D%2C%20%5B-117.471515%2C%2033.297851%5D%2C%20%5B-117.7837%2C%2033.538836%5D%2C%20%5B-118.183517%2C%2033.763391%5D%2C%20%5B-118.260194%2C%2033.703145%5D%2C%20%5B-118.413548%2C%2033.741483%5D%2C%20%5B-118.391641%2C%2033.840068%5D%2C%20%5B-118.566903%2C%2034.042715%5D%2C%20%5B-118.802411%2C%2033.998899%5D%2C%20%5B-119.218659%2C%2034.146777%5D%2C%20%5B-119.278905%2C%2034.26727%5D%2C%20%5B-119.558229%2C%2034.415147%5D%2C%20%5B-119.875891%2C%2034.40967%5D%2C%20%5B-120.138784%2C%2034.475393%5D%2C%20%5B-120.472878%2C%2034.448009%5D%2C%20%5B-120.64814%2C%2034.579455%5D%2C%20%5B-120.609801%2C%2034.858779%5D%2C%20%5B-120.670048%2C%2034.902595%5D%2C%20%5B-120.631709%2C%2035.099764%5D%2C%20%5B-120.894602%2C%2035.247642%5D%2C%20%5B-120.905556%2C%2035.450289%5D%2C%20%5B-121.004141%2C%2035.461243%5D%2C%20%5B-121.168449%2C%2035.636505%5D%2C%20%5B-121.283465%2C%2035.674843%5D%2C%20%5B-121.332757%2C%2035.784382%5D%2C%20%5B-121.716143%2C%2036.195153%5D%2C%20%5B-121.896882%2C%2036.315645%5D%2C%20%5B-121.935221%2C%2036.638785%5D%2C%20%5B-121.858544%2C%2036.6114%5D%2C%20%5B-121.787344%2C%2036.803093%5D%2C%20%5B-121.929744%2C%2036.978355%5D%2C%20%5B-122.105006%2C%2036.956447%5D%2C%20%5B-122.335038%2C%2037.115279%5D%2C%20%5B-122.417192%2C%2037.241248%5D%2C%20%5B-122.400761%2C%2037.361741%5D%2C%20%5B-122.515777%2C%2037.520572%5D%2C%20%5B-122.515777%2C%2037.783465%5D%2C%20%5B-122.329561%2C%2037.783465%5D%2C%20%5B-122.406238%2C%2038.15042%5D%2C%20%5B-122.488392%2C%2038.112082%5D%2C%20%5B-122.504823%2C%2037.931343%5D%2C%20%5B-122.701993%2C%2037.893004%5D%2C%20%5B-122.937501%2C%2038.029928%5D%2C%20%5B-122.97584%2C%2038.265436%5D%2C%20%5B-123.129194%2C%2038.451652%5D%2C%20%5B-123.331841%2C%2038.566668%5D%2C%20%5B-123.44138%2C%2038.698114%5D%2C%20%5B-123.737134%2C%2038.95553%5D%2C%20%5B-123.687842%2C%2039.032208%5D%2C%20%5B-123.824765%2C%2039.366301%5D%2C%20%5B-123.764519%2C%2039.552517%5D%2C%20%5B-123.85215%2C%2039.831841%5D%2C%20%5B-124.109566%2C%2040.105688%5D%2C%20%5B-124.361506%2C%2040.259042%5D%2C%20%5B-124.410798%2C%2040.439781%5D%2C%20%5B-124.158859%2C%2040.877937%5D%2C%20%5B-124.109566%2C%2041.025814%5D%2C%20%5B-124.158859%2C%2041.14083%5D%2C%20%5B-124.065751%2C%2041.442061%5D%2C%20%5B-124.147905%2C%2041.715908%5D%2C%20%5B-124.257444%2C%2041.781632%5D%2C%20%5B-124.213628%2C%2042.000709%5D%2C%20%5B-123.233256%2C%2042.006186%5D%5D%5D%2C%20%22type%22%3A%20%22Polygon%22%7D%2C%20%22id%22%3A%20%22CA%22%2C%20%22properties%22%3A%20%7B%22name%22%3A%20%22California%22%7D%2C%20%22type%22%3A%20%22Feature%22%7D%2C%20%7B%22geometry%22%3A%20%7B%22coordinates%22%3A%20%5B%5B%5B-107.919731%2C%2041.003906%5D%2C%20%5B-105.728954%2C%2040.998429%5D%2C%20%5B-104.053011%2C%2041.003906%5D%2C%20%5B-102.053927%2C%2041.003906%5D%2C%20%5B-102.053927%2C%2040.001626%5D%2C%20%5B-102.042974%2C%2036.994786%5D%2C%20%5B-103.001438%2C%2037.000263%5D%2C%20%5B-104.337812%2C%2036.994786%5D%2C%20%5B-106.868158%2C%2036.994786%5D%2C%20%5B-107.421329%2C%2037.000263%5D%2C%20%5B-109.042503%2C%2037.000263%5D%2C%20%5B-109.042503%2C%2038.166851%5D%2C%20%5B-109.058934%2C%2038.27639%5D%2C%20%5B-109.053457%2C%2039.125316%5D%2C%20%5B-109.04798%2C%2040.998429%5D%2C%20%5B-107.919731%2C%2041.003906%5D%5D%5D%2C%20%22type%22%3A%20%22Polygon%22%7D%2C%20%22id%22%3A%20%22CO%22%2C%20%22properties%22%3A%20%7B%22name%22%3A%20%22Colorado%22%7D%2C%20%22type%22%3A%20%22Feature%22%7D%2C%20%7B%22geometry%22%3A%20%7B%22coordinates%22%3A%20%5B%5B%5B-73.053528%2C%2042.039048%5D%2C%20%5B-71.799309%2C%2042.022617%5D%2C%20%5B-71.799309%2C%2042.006186%5D%2C%20%5B-71.799309%2C%2041.414677%5D%2C%20%5B-71.859555%2C%2041.321569%5D%2C%20%5B-71.947186%2C%2041.338%5D%2C%20%5B-72.385341%2C%2041.261322%5D%2C%20%5B-72.905651%2C%2041.28323%5D%2C%20%5B-73.130205%2C%2041.146307%5D%2C%20%5B-73.371191%2C%2041.102491%5D%2C%20%5B-73.655992%2C%2040.987475%5D%2C%20%5B-73.727192%2C%2041.102491%5D%2C%20%5B-73.48073%2C%2041.21203%5D%2C%20%5B-73.55193%2C%2041.294184%5D%2C%20%5B-73.486206%2C%2042.050002%5D%2C%20%5B-73.053528%2C%2042.039048%5D%5D%5D%2C%20%22type%22%3A%20%22Polygon%22%7D%2C%20%22id%22%3A%20%22CT%22%2C%20%22properties%22%3A%20%7B%22name%22%3A%20%22Connecticut%22%7D%2C%20%22type%22%3A%20%22Feature%22%7D%2C%20%7B%22geometry%22%3A%20%7B%22coordinates%22%3A%20%5B%5B%5B-75.414089%2C%2039.804456%5D%2C%20%5B-75.507197%2C%2039.683964%5D%2C%20%5B-75.611259%2C%2039.61824%5D%2C%20%5B-75.589352%2C%2039.459409%5D%2C%20%5B-75.441474%2C%2039.311532%5D%2C%20%5B-75.403136%2C%2039.065069%5D%2C%20%5B-75.189535%2C%2038.807653%5D%2C%20%5B-75.09095%2C%2038.796699%5D%2C%20%5B-75.047134%2C%2038.451652%5D%2C%20%5B-75.693413%2C%2038.462606%5D%2C%20%5B-75.786521%2C%2039.722302%5D%2C%20%5B-75.616736%2C%2039.831841%5D%2C%20%5B-75.414089%2C%2039.804456%5D%5D%5D%2C%20%22type%22%3A%20%22Polygon%22%7D%2C%20%22id%22%3A%20%22DE%22%2C%20%22properties%22%3A%20%7B%22name%22%3A%20%22Delaware%22%7D%2C%20%22type%22%3A%20%22Feature%22%7D%2C%20%7B%22geometry%22%3A%20%7B%22coordinates%22%3A%20%5B%5B%5B-85.497137%2C%2030.997536%5D%2C%20%5B-85.004212%2C%2031.003013%5D%2C%20%5B-84.867289%2C%2030.712735%5D%2C%20%5B-83.498053%2C%2030.647012%5D%2C%20%5B-82.216449%2C%2030.570335%5D%2C%20%5B-82.167157%2C%2030.356734%5D%2C%20%5B-82.046664%2C%2030.362211%5D%2C%20%5B-82.002849%2C%2030.564858%5D%2C%20%5B-82.041187%2C%2030.751074%5D%2C%20%5B-81.948079%2C%2030.827751%5D%2C%20%5B-81.718048%2C%2030.745597%5D%2C%20%5B-81.444201%2C%2030.707258%5D%2C%20%5B-81.383954%2C%2030.27458%5D%2C%20%5B-81.257985%2C%2029.787132%5D%2C%20%5B-80.967707%2C%2029.14633%5D%2C%20%5B-80.524075%2C%2028.461713%5D%2C%20%5B-80.589798%2C%2028.41242%5D%2C%20%5B-80.56789%2C%2028.094758%5D%2C%20%5B-80.381674%2C%2027.738757%5D%2C%20%5B-80.091397%2C%2027.021277%5D%2C%20%5B-80.03115%2C%2026.796723%5D%2C%20%5B-80.036627%2C%2026.566691%5D%2C%20%5B-80.146166%2C%2025.739673%5D%2C%20%5B-80.239274%2C%2025.723243%5D%2C%20%5B-80.337859%2C%2025.465826%5D%2C%20%5B-80.304997%2C%2025.383672%5D%2C%20%5B-80.49669%2C%2025.197456%5D%2C%20%5B-80.573367%2C%2025.241272%5D%2C%20%5B-80.759583%2C%2025.164595%5D%2C%20%5B-81.077246%2C%2025.120779%5D%2C%20%5B-81.170354%2C%2025.224841%5D%2C%20%5B-81.126538%2C%2025.378195%5D%2C%20%5B-81.351093%2C%2025.821827%5D%2C%20%5B-81.526355%2C%2025.903982%5D%2C%20%5B-81.679709%2C%2025.843735%5D%2C%20%5B-81.800202%2C%2026.090198%5D%2C%20%5B-81.833064%2C%2026.292844%5D%2C%20%5B-82.041187%2C%2026.517399%5D%2C%20%5B-82.09048%2C%2026.665276%5D%2C%20%5B-82.057618%2C%2026.878877%5D%2C%20%5B-82.172634%2C%2026.917216%5D%2C%20%5B-82.145249%2C%2026.791246%5D%2C%20%5B-82.249311%2C%2026.758384%5D%2C%20%5B-82.566974%2C%2027.300601%5D%2C%20%5B-82.692943%2C%2027.437525%5D%2C%20%5B-82.391711%2C%2027.837342%5D%2C%20%5B-82.588881%2C%2027.815434%5D%2C%20%5B-82.720328%2C%2027.689464%5D%2C%20%5B-82.851774%2C%2027.886634%5D%2C%20%5B-82.676512%2C%2028.434328%5D%2C%20%5B-82.643651%2C%2028.888914%5D%2C%20%5B-82.764143%2C%2028.998453%5D%2C%20%5B-82.802482%2C%2029.14633%5D%2C%20%5B-82.994175%2C%2029.179192%5D%2C%20%5B-83.218729%2C%2029.420177%5D%2C%20%5B-83.399469%2C%2029.518762%5D%2C%20%5B-83.410422%2C%2029.66664%5D%2C%20%5B-83.536392%2C%2029.721409%5D%2C%20%5B-83.640454%2C%2029.885717%5D%2C%20%5B-84.02384%2C%2030.104795%5D%2C%20%5B-84.357933%2C%2030.055502%5D%2C%20%5B-84.341502%2C%2029.902148%5D%2C%20%5B-84.451041%2C%2029.929533%5D%2C%20%5B-84.867289%2C%2029.743317%5D%2C%20%5B-85.310921%2C%2029.699501%5D%2C%20%5B-85.299967%2C%2029.80904%5D%2C%20%5B-85.404029%2C%2029.940487%5D%2C%20%5B-85.924338%2C%2030.236241%5D%2C%20%5B-86.29677%2C%2030.362211%5D%2C%20%5B-86.630863%2C%2030.395073%5D%2C%20%5B-86.910187%2C%2030.373165%5D%2C%20%5B-87.518128%2C%2030.280057%5D%2C%20%5B-87.37025%2C%2030.427934%5D%2C%20%5B-87.446927%2C%2030.510088%5D%2C%20%5B-87.408589%2C%2030.674397%5D%2C%20%5B-87.633143%2C%2030.86609%5D%2C%20%5B-87.600282%2C%2030.997536%5D%2C%20%5B-85.497137%2C%2030.997536%5D%5D%5D%2C%20%22type%22%3A%20%22Polygon%22%7D%2C%20%22id%22%3A%20%22FL%22%2C%20%22properties%22%3A%20%7B%22name%22%3A%20%22Florida%22%7D%2C%20%22type%22%3A%20%22Feature%22%7D%2C%20%7B%22geometry%22%3A%20%7B%22coordinates%22%3A%20%5B%5B%5B-83.109191%2C%2035.00118%5D%2C%20%5B-83.322791%2C%2034.787579%5D%2C%20%5B-83.339222%2C%2034.683517%5D%2C%20%5B-83.005129%2C%2034.469916%5D%2C%20%5B-82.901067%2C%2034.486347%5D%2C%20%5B-82.747713%2C%2034.26727%5D%2C%20%5B-82.714851%2C%2034.152254%5D%2C%20%5B-82.55602%2C%2033.94413%5D%2C%20%5B-82.325988%2C%2033.81816%5D%2C%20%5B-82.194542%2C%2033.631944%5D%2C%20%5B-81.926172%2C%2033.462159%5D%2C%20%5B-81.937125%2C%2033.347144%5D%2C%20%5B-81.761863%2C%2033.160928%5D%2C%20%5B-81.493493%2C%2033.007573%5D%2C%20%5B-81.42777%2C%2032.843265%5D%2C%20%5B-81.416816%2C%2032.629664%5D%2C%20%5B-81.279893%2C%2032.558464%5D%2C%20%5B-81.121061%2C%2032.290094%5D%2C%20%5B-81.115584%2C%2032.120309%5D%2C%20%5B-80.885553%2C%2032.032678%5D%2C%20%5B-81.132015%2C%2031.693108%5D%2C%20%5B-81.175831%2C%2031.517845%5D%2C%20%5B-81.279893%2C%2031.364491%5D%2C%20%5B-81.290846%2C%2031.20566%5D%2C%20%5B-81.400385%2C%2031.13446%5D%2C%20%5B-81.444201%2C%2030.707258%5D%2C%20%5B-81.718048%2C%2030.745597%5D%2C%20%5B-81.948079%2C%2030.827751%5D%2C%20%5B-82.041187%2C%2030.751074%5D%2C%20%5B-82.002849%2C%2030.564858%5D%2C%20%5B-82.046664%2C%2030.362211%5D%2C%20%5B-82.167157%2C%2030.356734%5D%2C%20%5B-82.216449%2C%2030.570335%5D%2C%20%5B-83.498053%2C%2030.647012%5D%2C%20%5B-84.867289%2C%2030.712735%5D%2C%20%5B-85.004212%2C%2031.003013%5D%2C%20%5B-85.113751%2C%2031.27686%5D%2C%20%5B-85.042551%2C%2031.539753%5D%2C%20%5B-85.141136%2C%2031.840985%5D%2C%20%5B-85.053504%2C%2032.01077%5D%2C%20%5B-85.058981%2C%2032.13674%5D%2C%20%5B-84.889196%2C%2032.262709%5D%2C%20%5B-85.004212%2C%2032.322956%5D%2C%20%5B-84.960397%2C%2032.421541%5D%2C%20%5B-85.069935%2C%2032.580372%5D%2C%20%5B-85.184951%2C%2032.859696%5D%2C%20%5B-85.431413%2C%2034.124869%5D%2C%20%5B-85.606675%2C%2034.984749%5D%2C%20%5B-84.319594%2C%2034.990226%5D%2C%20%5B-83.618546%2C%2034.984749%5D%2C%20%5B-83.109191%2C%2035.00118%5D%5D%5D%2C%20%22type%22%3A%20%22Polygon%22%7D%2C%20%22id%22%3A%20%22GA%22%2C%20%22properties%22%3A%20%7B%22name%22%3A%20%22Georgia%22%7D%2C%20%22type%22%3A%20%22Feature%22%7D%2C%20%7B%22geometry%22%3A%20%7B%22coordinates%22%3A%20%5B%5B%5B%5B-155.634835%2C%2018.948267%5D%2C%20%5B-155.881297%2C%2019.035898%5D%2C%20%5B-155.919636%2C%2019.123529%5D%2C%20%5B-155.886774%2C%2019.348084%5D%2C%20%5B-156.062036%2C%2019.73147%5D%2C%20%5B-155.925113%2C%2019.857439%5D%2C%20%5B-155.826528%2C%2020.032702%5D%2C%20%5B-155.897728%2C%2020.147717%5D%2C%20%5B-155.87582%2C%2020.26821%5D%2C%20%5B-155.596496%2C%2020.12581%5D%2C%20%5B-155.284311%2C%2020.021748%5D%2C%20%5B-155.092618%2C%2019.868393%5D%2C%20%5B-155.092618%2C%2019.736947%5D%2C%20%5B-154.807817%2C%2019.523346%5D%2C%20%5B-154.983079%2C%2019.348084%5D%2C%20%5B-155.295265%2C%2019.26593%5D%2C%20%5B-155.514342%2C%2019.134483%5D%2C%20%5B-155.634835%2C%2018.948267%5D%5D%5D%2C%20%5B%5B%5B-156.587823%2C%2021.029505%5D%2C%20%5B-156.472807%2C%2020.892581%5D%2C%20%5B-156.324929%2C%2020.952827%5D%2C%20%5B-156.00179%2C%2020.793996%5D%2C%20%5B-156.051082%2C%2020.651596%5D%2C%20%5B-156.379699%2C%2020.580396%5D%2C%20%5B-156.445422%2C%2020.60778%5D%2C%20%5B-156.461853%2C%2020.783042%5D%2C%20%5B-156.631638%2C%2020.821381%5D%2C%20%5B-156.697361%2C%2020.919966%5D%2C%20%5B-156.587823%2C%2021.029505%5D%5D%5D%2C%20%5B%5B%5B-156.982162%2C%2021.210244%5D%2C%20%5B-157.080747%2C%2021.106182%5D%2C%20%5B-157.310779%2C%2021.106182%5D%2C%20%5B-157.239579%2C%2021.221198%5D%2C%20%5B-156.982162%2C%2021.210244%5D%5D%5D%2C%20%5B%5B%5B-157.951581%2C%2021.697691%5D%2C%20%5B-157.842042%2C%2021.462183%5D%2C%20%5B-157.896811%2C%2021.325259%5D%2C%20%5B-158.110412%2C%2021.303352%5D%2C%20%5B-158.252813%2C%2021.582676%5D%2C%20%5B-158.126843%2C%2021.588153%5D%2C%20%5B-157.951581%2C%2021.697691%5D%5D%5D%2C%20%5B%5B%5B-159.468693%2C%2022.228955%5D%2C%20%5B-159.353678%2C%2022.218001%5D%2C%20%5B-159.298908%2C%2022.113939%5D%2C%20%5B-159.33177%2C%2021.966061%5D%2C%20%5B-159.446786%2C%2021.872953%5D%2C%20%5B-159.764448%2C%2021.987969%5D%2C%20%5B-159.726109%2C%2022.152277%5D%2C%20%5B-159.468693%2C%2022.228955%5D%5D%5D%5D%2C%20%22type%22%3A%20%22MultiPolygon%22%7D%2C%20%22id%22%3A%20%22HI%22%2C%20%22properties%22%3A%20%7B%22name%22%3A%20%22Hawaii%22%7D%2C%20%22type%22%3A%20%22Feature%22%7D%2C%20%7B%22geometry%22%3A%20%7B%22coordinates%22%3A%20%5B%5B%5B-116.04751%2C%2049.000239%5D%2C%20%5B-116.04751%2C%2047.976051%5D%2C%20%5B-115.724371%2C%2047.696727%5D%2C%20%5B-115.718894%2C%2047.42288%5D%2C%20%5B-115.527201%2C%2047.302388%5D%2C%20%5B-115.324554%2C%2047.258572%5D%2C%20%5B-115.302646%2C%2047.187372%5D%2C%20%5B-114.930214%2C%2046.919002%5D%2C%20%5B-114.886399%2C%2046.809463%5D%2C%20%5B-114.623506%2C%2046.705401%5D%2C%20%5B-114.612552%2C%2046.639678%5D%2C%20%5B-114.322274%2C%2046.645155%5D%2C%20%5B-114.464674%2C%2046.272723%5D%2C%20%5B-114.492059%2C%2046.037214%5D%2C%20%5B-114.387997%2C%2045.88386%5D%2C%20%5B-114.568736%2C%2045.774321%5D%2C%20%5B-114.497536%2C%2045.670259%5D%2C%20%5B-114.546828%2C%2045.560721%5D%2C%20%5B-114.333228%2C%2045.456659%5D%2C%20%5B-114.086765%2C%2045.593582%5D%2C%20%5B-113.98818%2C%2045.703121%5D%2C%20%5B-113.807441%2C%2045.604536%5D%2C%20%5B-113.834826%2C%2045.522382%5D%2C%20%5B-113.736241%2C%2045.330689%5D%2C%20%5B-113.571933%2C%2045.128042%5D%2C%20%5B-113.45144%2C%2045.056842%5D%2C%20%5B-113.456917%2C%2044.865149%5D%2C%20%5B-113.341901%2C%2044.782995%5D%2C%20%5B-113.133778%2C%2044.772041%5D%2C%20%5B-113.002331%2C%2044.448902%5D%2C%20%5B-112.887315%2C%2044.394132%5D%2C%20%5B-112.783254%2C%2044.48724%5D%2C%20%5B-112.471068%2C%2044.481763%5D%2C%20%5B-112.241036%2C%2044.569394%5D%2C%20%5B-112.104113%2C%2044.520102%5D%2C%20%5B-111.868605%2C%2044.563917%5D%2C%20%5B-111.819312%2C%2044.509148%5D%2C%20%5B-111.616665%2C%2044.547487%5D%2C%20%5B-111.386634%2C%2044.75561%5D%2C%20%5B-111.227803%2C%2044.580348%5D%2C%20%5B-111.047063%2C%2044.476286%5D%2C%20%5B-111.047063%2C%2042.000709%5D%2C%20%5B-112.164359%2C%2041.995232%5D%2C%20%5B-114.04295%2C%2041.995232%5D%2C%20%5B-117.027882%2C%2042.000709%5D%2C%20%5B-117.027882%2C%2043.830007%5D%2C%20%5B-116.896436%2C%2044.158624%5D%2C%20%5B-116.97859%2C%2044.240778%5D%2C%20%5B-117.170283%2C%2044.257209%5D%2C%20%5B-117.241483%2C%2044.394132%5D%2C%20%5B-117.038836%2C%2044.750133%5D%2C%20%5B-116.934774%2C%2044.782995%5D%2C%20%5B-116.830713%2C%2044.930872%5D%2C%20%5B-116.847143%2C%2045.02398%5D%2C%20%5B-116.732128%2C%2045.144473%5D%2C%20%5B-116.671881%2C%2045.319735%5D%2C%20%5B-116.463758%2C%2045.61549%5D%2C%20%5B-116.545912%2C%2045.752413%5D%2C%20%5B-116.78142%2C%2045.823614%5D%2C%20%5B-116.918344%2C%2045.993399%5D%2C%20%5B-116.92382%2C%2046.168661%5D%2C%20%5B-117.055267%2C%2046.343923%5D%2C%20%5B-117.038836%2C%2046.426077%5D%2C%20%5B-117.044313%2C%2047.762451%5D%2C%20%5B-117.033359%2C%2049.000239%5D%2C%20%5B-116.04751%2C%2049.000239%5D%5D%5D%2C%20%22type%22%3A%20%22Polygon%22%7D%2C%20%22id%22%3A%20%22ID%22%2C%20%22properties%22%3A%20%7B%22name%22%3A%20%22Idaho%22%7D%2C%20%22type%22%3A%20%22Feature%22%7D%2C%20%7B%22geometry%22%3A%20%7B%22coordinates%22%3A%20%5B%5B%5B-90.639984%2C%2042.510065%5D%2C%20%5B-88.788778%2C%2042.493634%5D%2C%20%5B-87.802929%2C%2042.493634%5D%2C%20%5B-87.83579%2C%2042.301941%5D%2C%20%5B-87.682436%2C%2042.077386%5D%2C%20%5B-87.523605%2C%2041.710431%5D%2C%20%5B-87.529082%2C%2039.34987%5D%2C%20%5B-87.63862%2C%2039.169131%5D%2C%20%5B-87.512651%2C%2038.95553%5D%2C%20%5B-87.49622%2C%2038.780268%5D%2C%20%5B-87.62219%2C%2038.637868%5D%2C%20%5B-87.655051%2C%2038.506421%5D%2C%20%5B-87.83579%2C%2038.292821%5D%2C%20%5B-87.950806%2C%2038.27639%5D%2C%20%5B-87.923421%2C%2038.15042%5D%2C%20%5B-88.000098%2C%2038.101128%5D%2C%20%5B-88.060345%2C%2037.865619%5D%2C%20%5B-88.027483%2C%2037.799896%5D%2C%20%5B-88.15893%2C%2037.657496%5D%2C%20%5B-88.065822%2C%2037.482234%5D%2C%20%5B-88.476592%2C%2037.389126%5D%2C%20%5B-88.514931%2C%2037.285064%5D%2C%20%5B-88.421823%2C%2037.153617%5D%2C%20%5B-88.547792%2C%2037.071463%5D%2C%20%5B-88.914747%2C%2037.224817%5D%2C%20%5B-89.029763%2C%2037.213863%5D%2C%20%5B-89.183118%2C%2037.038601%5D%2C%20%5B-89.133825%2C%2036.983832%5D%2C%20%5B-89.292656%2C%2036.994786%5D%2C%20%5B-89.517211%2C%2037.279587%5D%2C%20%5B-89.435057%2C%2037.34531%5D%2C%20%5B-89.517211%2C%2037.537003%5D%2C%20%5B-89.517211%2C%2037.690357%5D%2C%20%5B-89.84035%2C%2037.903958%5D%2C%20%5B-89.949889%2C%2037.88205%5D%2C%20%5B-90.059428%2C%2038.013497%5D%2C%20%5B-90.355183%2C%2038.216144%5D%2C%20%5B-90.349706%2C%2038.374975%5D%2C%20%5B-90.179921%2C%2038.632391%5D%2C%20%5B-90.207305%2C%2038.725499%5D%2C%20%5B-90.10872%2C%2038.845992%5D%2C%20%5B-90.251121%2C%2038.917192%5D%2C%20%5B-90.470199%2C%2038.961007%5D%2C%20%5B-90.585214%2C%2038.867899%5D%2C%20%5B-90.661891%2C%2038.928146%5D%2C%20%5B-90.727615%2C%2039.256762%5D%2C%20%5B-91.061708%2C%2039.470363%5D%2C%20%5B-91.368417%2C%2039.727779%5D%2C%20%5B-91.494386%2C%2040.034488%5D%2C%20%5B-91.50534%2C%2040.237135%5D%2C%20%5B-91.417709%2C%2040.379535%5D%2C%20%5B-91.401278%2C%2040.560274%5D%2C%20%5B-91.121954%2C%2040.669813%5D%2C%20%5B-91.09457%2C%2040.823167%5D%2C%20%5B-90.963123%2C%2040.921752%5D%2C%20%5B-90.946692%2C%2041.097014%5D%2C%20%5B-91.111001%2C%2041.239415%5D%2C%20%5B-91.045277%2C%2041.414677%5D%2C%20%5B-90.656414%2C%2041.463969%5D%2C%20%5B-90.344229%2C%2041.589939%5D%2C%20%5B-90.311367%2C%2041.743293%5D%2C%20%5B-90.179921%2C%2041.809016%5D%2C%20%5B-90.141582%2C%2042.000709%5D%2C%20%5B-90.168967%2C%2042.126679%5D%2C%20%5B-90.393521%2C%2042.225264%5D%2C%20%5B-90.420906%2C%2042.329326%5D%2C%20%5B-90.639984%2C%2042.510065%5D%5D%5D%2C%20%22type%22%3A%20%22Polygon%22%7D%2C%20%22id%22%3A%20%22IL%22%2C%20%22properties%22%3A%20%7B%22name%22%3A%20%22Illinois%22%7D%2C%20%22type%22%3A%20%22Feature%22%7D%2C%20%7B%22geometry%22%3A%20%7B%22coordinates%22%3A%20%5B%5B%5B-85.990061%2C%2041.759724%5D%2C%20%5B-84.807042%2C%2041.759724%5D%2C%20%5B-84.807042%2C%2041.694001%5D%2C%20%5B-84.801565%2C%2040.500028%5D%2C%20%5B-84.817996%2C%2039.103408%5D%2C%20%5B-84.894673%2C%2039.059592%5D%2C%20%5B-84.812519%2C%2038.785745%5D%2C%20%5B-84.987781%2C%2038.780268%5D%2C%20%5B-85.173997%2C%2038.68716%5D%2C%20%5B-85.431413%2C%2038.730976%5D%2C%20%5B-85.42046%2C%2038.533806%5D%2C%20%5B-85.590245%2C%2038.451652%5D%2C%20%5B-85.655968%2C%2038.325682%5D%2C%20%5B-85.83123%2C%2038.27639%5D%2C%20%5B-85.924338%2C%2038.024451%5D%2C%20%5B-86.039354%2C%2037.958727%5D%2C%20%5B-86.263908%2C%2038.051835%5D%2C%20%5B-86.302247%2C%2038.166851%5D%2C%20%5B-86.521325%2C%2038.040881%5D%2C%20%5B-86.504894%2C%2037.931343%5D%2C%20%5B-86.729448%2C%2037.893004%5D%2C%20%5B-86.795172%2C%2037.991589%5D%2C%20%5B-87.047111%2C%2037.893004%5D%2C%20%5B-87.129265%2C%2037.788942%5D%2C%20%5B-87.381204%2C%2037.93682%5D%2C%20%5B-87.512651%2C%2037.903958%5D%2C%20%5B-87.600282%2C%2037.975158%5D%2C%20%5B-87.682436%2C%2037.903958%5D%2C%20%5B-87.934375%2C%2037.893004%5D%2C%20%5B-88.027483%2C%2037.799896%5D%2C%20%5B-88.060345%2C%2037.865619%5D%2C%20%5B-88.000098%2C%2038.101128%5D%2C%20%5B-87.923421%2C%2038.15042%5D%2C%20%5B-87.950806%2C%2038.27639%5D%2C%20%5B-87.83579%2C%2038.292821%5D%2C%20%5B-87.655051%2C%2038.506421%5D%2C%20%5B-87.62219%2C%2038.637868%5D%2C%20%5B-87.49622%2C%2038.780268%5D%2C%20%5B-87.512651%2C%2038.95553%5D%2C%20%5B-87.63862%2C%2039.169131%5D%2C%20%5B-87.529082%2C%2039.34987%5D%2C%20%5B-87.523605%2C%2041.710431%5D%2C%20%5B-87.42502%2C%2041.644708%5D%2C%20%5B-87.118311%2C%2041.644708%5D%2C%20%5B-86.822556%2C%2041.759724%5D%2C%20%5B-85.990061%2C%2041.759724%5D%5D%5D%2C%20%22type%22%3A%20%22Polygon%22%7D%2C%20%22id%22%3A%20%22IN%22%2C%20%22properties%22%3A%20%7B%22name%22%3A%20%22Indiana%22%7D%2C%20%22type%22%3A%20%22Feature%22%7D%2C%20%7B%22geometry%22%3A%20%7B%22coordinates%22%3A%20%5B%5B%5B-91.368417%2C%2043.501391%5D%2C%20%5B-91.215062%2C%2043.501391%5D%2C%20%5B-91.204109%2C%2043.353514%5D%2C%20%5B-91.056231%2C%2043.254929%5D%2C%20%5B-91.176724%2C%2043.134436%5D%2C%20%5B-91.143862%2C%2042.909881%5D%2C%20%5B-91.067185%2C%2042.75105%5D%2C%20%5B-90.711184%2C%2042.636034%5D%2C%20%5B-90.639984%2C%2042.510065%5D%2C%20%5B-90.420906%2C%2042.329326%5D%2C%20%5B-90.393521%2C%2042.225264%5D%2C%20%5B-90.168967%2C%2042.126679%5D%2C%20%5B-90.141582%2C%2042.000709%5D%2C%20%5B-90.179921%2C%2041.809016%5D%2C%20%5B-90.311367%2C%2041.743293%5D%2C%20%5B-90.344229%2C%2041.589939%5D%2C%20%5B-90.656414%2C%2041.463969%5D%2C%20%5B-91.045277%2C%2041.414677%5D%2C%20%5B-91.111001%2C%2041.239415%5D%2C%20%5B-90.946692%2C%2041.097014%5D%2C%20%5B-90.963123%2C%2040.921752%5D%2C%20%5B-91.09457%2C%2040.823167%5D%2C%20%5B-91.121954%2C%2040.669813%5D%2C%20%5B-91.401278%2C%2040.560274%5D%2C%20%5B-91.417709%2C%2040.379535%5D%2C%20%5B-91.527248%2C%2040.412397%5D%2C%20%5B-91.729895%2C%2040.615043%5D%2C%20%5B-91.833957%2C%2040.609566%5D%2C%20%5B-93.257961%2C%2040.582182%5D%2C%20%5B-94.632673%2C%2040.571228%5D%2C%20%5B-95.7664%2C%2040.587659%5D%2C%20%5B-95.881416%2C%2040.719105%5D%2C%20%5B-95.826646%2C%2040.976521%5D%2C%20%5B-95.925231%2C%2041.201076%5D%2C%20%5B-95.919754%2C%2041.453015%5D%2C%20%5B-96.095016%2C%2041.540646%5D%2C%20%5B-96.122401%2C%2041.67757%5D%2C%20%5B-96.062155%2C%2041.798063%5D%2C%20%5B-96.127878%2C%2041.973325%5D%2C%20%5B-96.264801%2C%2042.039048%5D%2C%20%5B-96.44554%2C%2042.488157%5D%2C%20%5B-96.631756%2C%2042.707235%5D%2C%20%5B-96.544125%2C%2042.855112%5D%2C%20%5B-96.511264%2C%2043.052282%5D%2C%20%5B-96.434587%2C%2043.123482%5D%2C%20%5B-96.560556%2C%2043.222067%5D%2C%20%5B-96.527695%2C%2043.397329%5D%2C%20%5B-96.582464%2C%2043.479483%5D%2C%20%5B-96.451017%2C%2043.501391%5D%2C%20%5B-91.368417%2C%2043.501391%5D%5D%5D%2C%20%22type%22%3A%20%22Polygon%22%7D%2C%20%22id%22%3A%20%22IA%22%2C%20%22properties%22%3A%20%7B%22name%22%3A%20%22Iowa%22%7D%2C%20%22type%22%3A%20%22Feature%22%7D%2C%20%7B%22geometry%22%3A%20%7B%22coordinates%22%3A%20%5B%5B%5B-101.90605%2C%2040.001626%5D%2C%20%5B-95.306337%2C%2040.001626%5D%2C%20%5B-95.207752%2C%2039.908518%5D%2C%20%5B-94.884612%2C%2039.831841%5D%2C%20%5B-95.109167%2C%2039.541563%5D%2C%20%5B-94.983197%2C%2039.442978%5D%2C%20%5B-94.824366%2C%2039.20747%5D%2C%20%5B-94.610765%2C%2039.158177%5D%2C%20%5B-94.616242%2C%2037.000263%5D%2C%20%5B-100.087706%2C%2037.000263%5D%2C%20%5B-102.042974%2C%2036.994786%5D%2C%20%5B-102.053927%2C%2040.001626%5D%2C%20%5B-101.90605%2C%2040.001626%5D%5D%5D%2C%20%22type%22%3A%20%22Polygon%22%7D%2C%20%22id%22%3A%20%22KS%22%2C%20%22properties%22%3A%20%7B%22name%22%3A%20%22Kansas%22%7D%2C%20%22type%22%3A%20%22Feature%22%7D%2C%20%7B%22geometry%22%3A%20%7B%22coordinates%22%3A%20%5B%5B%5B-83.903347%2C%2038.769315%5D%2C%20%5B-83.678792%2C%2038.632391%5D%2C%20%5B-83.519961%2C%2038.703591%5D%2C%20%5B-83.142052%2C%2038.626914%5D%2C%20%5B-83.032514%2C%2038.725499%5D%2C%20%5B-82.890113%2C%2038.758361%5D%2C%20%5B-82.846298%2C%2038.588575%5D%2C%20%5B-82.731282%2C%2038.561191%5D%2C%20%5B-82.594358%2C%2038.424267%5D%2C%20%5B-82.621743%2C%2038.123036%5D%2C%20%5B-82.50125%2C%2037.931343%5D%2C%20%5B-82.342419%2C%2037.783465%5D%2C%20%5B-82.293127%2C%2037.668449%5D%2C%20%5B-82.101434%2C%2037.553434%5D%2C%20%5B-81.969987%2C%2037.537003%5D%2C%20%5B-82.353373%2C%2037.268633%5D%2C%20%5B-82.720328%2C%2037.120755%5D%2C%20%5B-82.720328%2C%2037.044078%5D%2C%20%5B-82.868205%2C%2036.978355%5D%2C%20%5B-82.879159%2C%2036.890724%5D%2C%20%5B-83.070852%2C%2036.852385%5D%2C%20%5B-83.136575%2C%2036.742847%5D%2C%20%5B-83.673316%2C%2036.600446%5D%2C%20%5B-83.689746%2C%2036.584015%5D%2C%20%5B-84.544149%2C%2036.594969%5D%2C%20%5B-85.289013%2C%2036.627831%5D%2C%20%5B-85.486183%2C%2036.616877%5D%2C%20%5B-86.592525%2C%2036.655216%5D%2C%20%5B-87.852221%2C%2036.633308%5D%2C%20%5B-88.071299%2C%2036.677123%5D%2C%20%5B-88.054868%2C%2036.496384%5D%2C%20%5B-89.298133%2C%2036.507338%5D%2C%20%5B-89.418626%2C%2036.496384%5D%2C%20%5B-89.363857%2C%2036.622354%5D%2C%20%5B-89.215979%2C%2036.578538%5D%2C%20%5B-89.133825%2C%2036.983832%5D%2C%20%5B-89.183118%2C%2037.038601%5D%2C%20%5B-89.029763%2C%2037.213863%5D%2C%20%5B-88.914747%2C%2037.224817%5D%2C%20%5B-88.547792%2C%2037.071463%5D%2C%20%5B-88.421823%2C%2037.153617%5D%2C%20%5B-88.514931%2C%2037.285064%5D%2C%20%5B-88.476592%2C%2037.389126%5D%2C%20%5B-88.065822%2C%2037.482234%5D%2C%20%5B-88.15893%2C%2037.657496%5D%2C%20%5B-88.027483%2C%2037.799896%5D%2C%20%5B-87.934375%2C%2037.893004%5D%2C%20%5B-87.682436%2C%2037.903958%5D%2C%20%5B-87.600282%2C%2037.975158%5D%2C%20%5B-87.512651%2C%2037.903958%5D%2C%20%5B-87.381204%2C%2037.93682%5D%2C%20%5B-87.129265%2C%2037.788942%5D%2C%20%5B-87.047111%2C%2037.893004%5D%2C%20%5B-86.795172%2C%2037.991589%5D%2C%20%5B-86.729448%2C%2037.893004%5D%2C%20%5B-86.504894%2C%2037.931343%5D%2C%20%5B-86.521325%2C%2038.040881%5D%2C%20%5B-86.302247%2C%2038.166851%5D%2C%20%5B-86.263908%2C%2038.051835%5D%2C%20%5B-86.039354%2C%2037.958727%5D%2C%20%5B-85.924338%2C%2038.024451%5D%2C%20%5B-85.83123%2C%2038.27639%5D%2C%20%5B-85.655968%2C%2038.325682%5D%2C%20%5B-85.590245%2C%2038.451652%5D%2C%20%5B-85.42046%2C%2038.533806%5D%2C%20%5B-85.431413%2C%2038.730976%5D%2C%20%5B-85.173997%2C%2038.68716%5D%2C%20%5B-84.987781%2C%2038.780268%5D%2C%20%5B-84.812519%2C%2038.785745%5D%2C%20%5B-84.894673%2C%2039.059592%5D%2C%20%5B-84.817996%2C%2039.103408%5D%2C%20%5B-84.43461%2C%2039.103408%5D%2C%20%5B-84.231963%2C%2038.895284%5D%2C%20%5B-84.215533%2C%2038.807653%5D%2C%20%5B-83.903347%2C%2038.769315%5D%5D%5D%2C%20%22type%22%3A%20%22Polygon%22%7D%2C%20%22id%22%3A%20%22KY%22%2C%20%22properties%22%3A%20%7B%22name%22%3A%20%22Kentucky%22%7D%2C%20%22type%22%3A%20%22Feature%22%7D%2C%20%7B%22geometry%22%3A%20%7B%22coordinates%22%3A%20%5B%5B%5B-93.608485%2C%2033.018527%5D%2C%20%5B-91.16577%2C%2033.002096%5D%2C%20%5B-91.072662%2C%2032.887081%5D%2C%20%5B-91.143862%2C%2032.843265%5D%2C%20%5B-91.154816%2C%2032.640618%5D%2C%20%5B-91.006939%2C%2032.514649%5D%2C%20%5B-90.985031%2C%2032.218894%5D%2C%20%5B-91.105524%2C%2031.988862%5D%2C%20%5B-91.341032%2C%2031.846462%5D%2C%20%5B-91.401278%2C%2031.621907%5D%2C%20%5B-91.499863%2C%2031.643815%5D%2C%20%5B-91.516294%2C%2031.27686%5D%2C%20%5B-91.636787%2C%2031.265906%5D%2C%20%5B-91.565587%2C%2031.068736%5D%2C%20%5B-91.636787%2C%2030.997536%5D%2C%20%5B-89.747242%2C%2030.997536%5D%2C%20%5B-89.845827%2C%2030.66892%5D%2C%20%5B-89.681519%2C%2030.449842%5D%2C%20%5B-89.643181%2C%2030.285534%5D%2C%20%5B-89.522688%2C%2030.181472%5D%2C%20%5B-89.818443%2C%2030.044549%5D%2C%20%5B-89.84035%2C%2029.945964%5D%2C%20%5B-89.599365%2C%2029.88024%5D%2C%20%5B-89.495303%2C%2030.039072%5D%2C%20%5B-89.287179%2C%2029.88024%5D%2C%20%5B-89.30361%2C%2029.754271%5D%2C%20%5B-89.424103%2C%2029.699501%5D%2C%20%5B-89.648657%2C%2029.748794%5D%2C%20%5B-89.621273%2C%2029.655686%5D%2C%20%5B-89.69795%2C%2029.513285%5D%2C%20%5B-89.506257%2C%2029.387316%5D%2C%20%5B-89.199548%2C%2029.348977%5D%2C%20%5B-89.09001%2C%2029.2011%5D%2C%20%5B-89.002379%2C%2029.179192%5D%2C%20%5B-89.16121%2C%2029.009407%5D%2C%20%5B-89.336472%2C%2029.042268%5D%2C%20%5B-89.484349%2C%2029.217531%5D%2C%20%5B-89.851304%2C%2029.310638%5D%2C%20%5B-89.851304%2C%2029.480424%5D%2C%20%5B-90.032043%2C%2029.425654%5D%2C%20%5B-90.021089%2C%2029.283254%5D%2C%20%5B-90.103244%2C%2029.151807%5D%2C%20%5B-90.23469%2C%2029.129899%5D%2C%20%5B-90.333275%2C%2029.277777%5D%2C%20%5B-90.563307%2C%2029.283254%5D%2C%20%5B-90.645461%2C%2029.129899%5D%2C%20%5B-90.798815%2C%2029.086084%5D%2C%20%5B-90.963123%2C%2029.179192%5D%2C%20%5B-91.09457%2C%2029.190146%5D%2C%20%5B-91.220539%2C%2029.436608%5D%2C%20%5B-91.445094%2C%2029.546147%5D%2C%20%5B-91.532725%2C%2029.529716%5D%2C%20%5B-91.620356%2C%2029.73784%5D%2C%20%5B-91.883249%2C%2029.710455%5D%2C%20%5B-91.888726%2C%2029.836425%5D%2C%20%5B-92.146142%2C%2029.715932%5D%2C%20%5B-92.113281%2C%2029.622824%5D%2C%20%5B-92.31045%2C%2029.535193%5D%2C%20%5B-92.617159%2C%2029.579009%5D%2C%20%5B-92.97316%2C%2029.715932%5D%2C%20%5B-93.2251%2C%2029.776178%5D%2C%20%5B-93.767317%2C%2029.726886%5D%2C%20%5B-93.838517%2C%2029.688547%5D%2C%20%5B-93.926148%2C%2029.787132%5D%2C%20%5B-93.690639%2C%2030.143133%5D%2C%20%5B-93.767317%2C%2030.334826%5D%2C%20%5B-93.696116%2C%2030.438888%5D%2C%20%5B-93.728978%2C%2030.575812%5D%2C%20%5B-93.630393%2C%2030.679874%5D%2C%20%5B-93.526331%2C%2030.93729%5D%2C%20%5B-93.542762%2C%2031.15089%5D%2C%20%5B-93.816609%2C%2031.556184%5D%2C%20%5B-93.822086%2C%2031.775262%5D%2C%20%5B-94.041164%2C%2031.994339%5D%2C%20%5B-94.041164%2C%2033.018527%5D%2C%20%5B-93.608485%2C%2033.018527%5D%5D%5D%2C%20%22type%22%3A%20%22Polygon%22%7D%2C%20%22id%22%3A%20%22LA%22%2C%20%22properties%22%3A%20%7B%22name%22%3A%20%22Louisiana%22%7D%2C%20%22type%22%3A%20%22Feature%22%7D%2C%20%7B%22geometry%22%3A%20%7B%22coordinates%22%3A%20%5B%5B%5B-70.703921%2C%2043.057759%5D%2C%20%5B-70.824413%2C%2043.128959%5D%2C%20%5B-70.807983%2C%2043.227544%5D%2C%20%5B-70.966814%2C%2043.34256%5D%2C%20%5B-71.032537%2C%2044.657025%5D%2C%20%5B-71.08183%2C%2045.303304%5D%2C%20%5B-70.649151%2C%2045.440228%5D%2C%20%5B-70.720352%2C%2045.511428%5D%2C%20%5B-70.556043%2C%2045.664782%5D%2C%20%5B-70.386258%2C%2045.735983%5D%2C%20%5B-70.41912%2C%2045.796229%5D%2C%20%5B-70.260289%2C%2045.889337%5D%2C%20%5B-70.309581%2C%2046.064599%5D%2C%20%5B-70.210996%2C%2046.327492%5D%2C%20%5B-70.057642%2C%2046.415123%5D%2C%20%5B-69.997395%2C%2046.694447%5D%2C%20%5B-69.225147%2C%2047.461219%5D%2C%20%5B-69.044408%2C%2047.428357%5D%2C%20%5B-69.033454%2C%2047.242141%5D%2C%20%5B-68.902007%2C%2047.176418%5D%2C%20%5B-68.578868%2C%2047.285957%5D%2C%20%5B-68.376221%2C%2047.285957%5D%2C%20%5B-68.233821%2C%2047.357157%5D%2C%20%5B-67.954497%2C%2047.198326%5D%2C%20%5B-67.790188%2C%2047.066879%5D%2C%20%5B-67.779235%2C%2045.944106%5D%2C%20%5B-67.801142%2C%2045.675736%5D%2C%20%5B-67.456095%2C%2045.604536%5D%2C%20%5B-67.505388%2C%2045.48952%5D%2C%20%5B-67.417757%2C%2045.379982%5D%2C%20%5B-67.488957%2C%2045.281397%5D%2C%20%5B-67.346556%2C%2045.128042%5D%2C%20%5B-67.16034%2C%2045.160904%5D%2C%20%5B-66.979601%2C%2044.804903%5D%2C%20%5B-67.187725%2C%2044.646072%5D%2C%20%5B-67.308218%2C%2044.706318%5D%2C%20%5B-67.406803%2C%2044.596779%5D%2C%20%5B-67.549203%2C%2044.624164%5D%2C%20%5B-67.565634%2C%2044.531056%5D%2C%20%5B-67.75185%2C%2044.54201%5D%2C%20%5B-68.047605%2C%2044.328409%5D%2C%20%5B-68.118805%2C%2044.476286%5D%2C%20%5B-68.222867%2C%2044.48724%5D%2C%20%5B-68.173574%2C%2044.328409%5D%2C%20%5B-68.403606%2C%2044.251732%5D%2C%20%5B-68.458375%2C%2044.377701%5D%2C%20%5B-68.567914%2C%2044.311978%5D%2C%20%5B-68.82533%2C%2044.311978%5D%2C%20%5B-68.830807%2C%2044.459856%5D%2C%20%5B-68.984161%2C%2044.426994%5D%2C%20%5B-68.956777%2C%2044.322932%5D%2C%20%5B-69.099177%2C%2044.103854%5D%2C%20%5B-69.071793%2C%2044.043608%5D%2C%20%5B-69.258008%2C%2043.923115%5D%2C%20%5B-69.444224%2C%2043.966931%5D%2C%20%5B-69.553763%2C%2043.840961%5D%2C%20%5B-69.707118%2C%2043.82453%5D%2C%20%5B-69.833087%2C%2043.720469%5D%2C%20%5B-69.986442%2C%2043.742376%5D%2C%20%5B-70.030257%2C%2043.851915%5D%2C%20%5B-70.254812%2C%2043.676653%5D%2C%20%5B-70.194565%2C%2043.567114%5D%2C%20%5B-70.358873%2C%2043.528776%5D%2C%20%5B-70.369827%2C%2043.435668%5D%2C%20%5B-70.556043%2C%2043.320652%5D%2C%20%5B-70.703921%2C%2043.057759%5D%5D%5D%2C%20%22type%22%3A%20%22Polygon%22%7D%2C%20%22id%22%3A%20%22ME%22%2C%20%22properties%22%3A%20%7B%22name%22%3A%20%22Maine%22%7D%2C%20%22type%22%3A%20%22Feature%22%7D%2C%20%7B%22geometry%22%3A%20%7B%22coordinates%22%3A%20%5B%5B%5B%5B-75.994645%2C%2037.95325%5D%2C%20%5B-76.016553%2C%2037.95325%5D%2C%20%5B-76.043938%2C%2037.95325%5D%2C%20%5B-75.994645%2C%2037.95325%5D%5D%5D%2C%20%5B%5B%5B-79.477979%2C%2039.722302%5D%2C%20%5B-75.786521%2C%2039.722302%5D%2C%20%5B-75.693413%2C%2038.462606%5D%2C%20%5B-75.047134%2C%2038.451652%5D%2C%20%5B-75.244304%2C%2038.029928%5D%2C%20%5B-75.397659%2C%2038.013497%5D%2C%20%5B-75.671506%2C%2037.95325%5D%2C%20%5B-75.885106%2C%2037.909435%5D%2C%20%5B-75.879629%2C%2038.073743%5D%2C%20%5B-75.961783%2C%2038.139466%5D%2C%20%5B-75.846768%2C%2038.210667%5D%2C%20%5B-76.000122%2C%2038.374975%5D%2C%20%5B-76.049415%2C%2038.303775%5D%2C%20%5B-76.257538%2C%2038.320205%5D%2C%20%5B-76.328738%2C%2038.500944%5D%2C%20%5B-76.263015%2C%2038.500944%5D%2C%20%5B-76.257538%2C%2038.736453%5D%2C%20%5B-76.191815%2C%2038.829561%5D%2C%20%5B-76.279446%2C%2039.147223%5D%2C%20%5B-76.169907%2C%2039.333439%5D%2C%20%5B-76.000122%2C%2039.366301%5D%2C%20%5B-75.972737%2C%2039.557994%5D%2C%20%5B-76.098707%2C%2039.536086%5D%2C%20%5B-76.104184%2C%2039.437501%5D%2C%20%5B-76.367077%2C%2039.311532%5D%2C%20%5B-76.443754%2C%2039.196516%5D%2C%20%5B-76.460185%2C%2038.906238%5D%2C%20%5B-76.55877%2C%2038.769315%5D%2C%20%5B-76.514954%2C%2038.539283%5D%2C%20%5B-76.383508%2C%2038.380452%5D%2C%20%5B-76.399939%2C%2038.259959%5D%2C%20%5B-76.317785%2C%2038.139466%5D%2C%20%5B-76.3616%2C%2038.057312%5D%2C%20%5B-76.591632%2C%2038.216144%5D%2C%20%5B-76.920248%2C%2038.292821%5D%2C%20%5B-77.018833%2C%2038.446175%5D%2C%20%5B-77.205049%2C%2038.358544%5D%2C%20%5B-77.276249%2C%2038.479037%5D%2C%20%5B-77.128372%2C%2038.632391%5D%2C%20%5B-77.040741%2C%2038.791222%5D%2C%20%5B-76.909294%2C%2038.895284%5D%2C%20%5B-77.035264%2C%2038.993869%5D%2C%20%5B-77.117418%2C%2038.933623%5D%2C%20%5B-77.248864%2C%2039.026731%5D%2C%20%5B-77.456988%2C%2039.076023%5D%2C%20%5B-77.456988%2C%2039.223901%5D%2C%20%5B-77.566527%2C%2039.306055%5D%2C%20%5B-77.719881%2C%2039.322485%5D%2C%20%5B-77.834897%2C%2039.601809%5D%2C%20%5B-78.004682%2C%2039.601809%5D%2C%20%5B-78.174467%2C%2039.694917%5D%2C%20%5B-78.267575%2C%2039.61824%5D%2C%20%5B-78.431884%2C%2039.623717%5D%2C%20%5B-78.470222%2C%2039.514178%5D%2C%20%5B-78.765977%2C%2039.585379%5D%2C%20%5B-78.963147%2C%2039.437501%5D%2C%20%5B-79.094593%2C%2039.470363%5D%2C%20%5B-79.291763%2C%2039.300578%5D%2C%20%5B-79.488933%2C%2039.20747%5D%2C%20%5B-79.477979%2C%2039.722302%5D%5D%5D%5D%2C%20%22type%22%3A%20%22MultiPolygon%22%7D%2C%20%22id%22%3A%20%22MD%22%2C%20%22properties%22%3A%20%7B%22name%22%3A%20%22Maryland%22%7D%2C%20%22type%22%3A%20%22Feature%22%7D%2C%20%7B%22geometry%22%3A%20%7B%22coordinates%22%3A%20%5B%5B%5B-70.917521%2C%2042.887974%5D%2C%20%5B-70.818936%2C%2042.871543%5D%2C%20%5B-70.780598%2C%2042.696281%5D%2C%20%5B-70.824413%2C%2042.55388%5D%2C%20%5B-70.983245%2C%2042.422434%5D%2C%20%5B-70.988722%2C%2042.269079%5D%2C%20%5B-70.769644%2C%2042.247172%5D%2C%20%5B-70.638197%2C%2042.08834%5D%2C%20%5B-70.660105%2C%2041.962371%5D%2C%20%5B-70.550566%2C%2041.929509%5D%2C%20%5B-70.539613%2C%2041.814493%5D%2C%20%5B-70.260289%2C%2041.715908%5D%2C%20%5B-69.937149%2C%2041.809016%5D%2C%20%5B-70.008349%2C%2041.672093%5D%2C%20%5B-70.484843%2C%2041.5516%5D%2C%20%5B-70.660105%2C%2041.546123%5D%2C%20%5B-70.764167%2C%2041.639231%5D%2C%20%5B-70.928475%2C%2041.611847%5D%2C%20%5B-70.933952%2C%2041.540646%5D%2C%20%5B-71.120168%2C%2041.496831%5D%2C%20%5B-71.196845%2C%2041.67757%5D%2C%20%5B-71.22423%2C%2041.710431%5D%2C%20%5B-71.328292%2C%2041.781632%5D%2C%20%5B-71.383061%2C%2042.01714%5D%2C%20%5B-71.530939%2C%2042.01714%5D%2C%20%5B-71.799309%2C%2042.006186%5D%2C%20%5B-71.799309%2C%2042.022617%5D%2C%20%5B-73.053528%2C%2042.039048%5D%2C%20%5B-73.486206%2C%2042.050002%5D%2C%20%5B-73.508114%2C%2042.08834%5D%2C%20%5B-73.267129%2C%2042.745573%5D%2C%20%5B-72.456542%2C%2042.729142%5D%2C%20%5B-71.29543%2C%2042.696281%5D%2C%20%5B-71.185891%2C%2042.789389%5D%2C%20%5B-70.917521%2C%2042.887974%5D%5D%5D%2C%20%22type%22%3A%20%22Polygon%22%7D%2C%20%22id%22%3A%20%22MA%22%2C%20%22properties%22%3A%20%7B%22name%22%3A%20%22Massachusetts%22%7D%2C%20%22type%22%3A%20%22Feature%22%7D%2C%20%7B%22geometry%22%3A%20%7B%22coordinates%22%3A%20%5B%5B%5B%5B-83.454238%2C%2041.732339%5D%2C%20%5B-84.807042%2C%2041.694001%5D%2C%20%5B-84.807042%2C%2041.759724%5D%2C%20%5B-85.990061%2C%2041.759724%5D%2C%20%5B-86.822556%2C%2041.759724%5D%2C%20%5B-86.619909%2C%2041.891171%5D%2C%20%5B-86.482986%2C%2042.115725%5D%2C%20%5B-86.357016%2C%2042.252649%5D%2C%20%5B-86.263908%2C%2042.444341%5D%2C%20%5B-86.209139%2C%2042.718189%5D%2C%20%5B-86.231047%2C%2043.013943%5D%2C%20%5B-86.526801%2C%2043.594499%5D%2C%20%5B-86.433693%2C%2043.813577%5D%2C%20%5B-86.499417%2C%2044.07647%5D%2C%20%5B-86.269385%2C%2044.34484%5D%2C%20%5B-86.220093%2C%2044.569394%5D%2C%20%5B-86.252954%2C%2044.689887%5D%2C%20%5B-86.088646%2C%2044.73918%5D%2C%20%5B-86.066738%2C%2044.903488%5D%2C%20%5B-85.809322%2C%2044.947303%5D%2C%20%5B-85.612152%2C%2045.128042%5D%2C%20%5B-85.628583%2C%2044.766564%5D%2C%20%5B-85.524521%2C%2044.750133%5D%2C%20%5B-85.393075%2C%2044.930872%5D%2C%20%5B-85.387598%2C%2045.237581%5D%2C%20%5B-85.305444%2C%2045.314258%5D%2C%20%5B-85.031597%2C%2045.363551%5D%2C%20%5B-85.119228%2C%2045.577151%5D%2C%20%5B-84.938489%2C%2045.75789%5D%2C%20%5B-84.713934%2C%2045.768844%5D%2C%20%5B-84.461995%2C%2045.653829%5D%2C%20%5B-84.215533%2C%2045.637398%5D%2C%20%5B-84.09504%2C%2045.494997%5D%2C%20%5B-83.908824%2C%2045.484043%5D%2C%20%5B-83.596638%2C%2045.352597%5D%2C%20%5B-83.4871%2C%2045.358074%5D%2C%20%5B-83.317314%2C%2045.144473%5D%2C%20%5B-83.454238%2C%2045.029457%5D%2C%20%5B-83.322791%2C%2044.88158%5D%2C%20%5B-83.273499%2C%2044.711795%5D%2C%20%5B-83.333745%2C%2044.339363%5D%2C%20%5B-83.536392%2C%2044.246255%5D%2C%20%5B-83.585684%2C%2044.054562%5D%2C%20%5B-83.82667%2C%2043.988839%5D%2C%20%5B-83.958116%2C%2043.758807%5D%2C%20%5B-83.908824%2C%2043.671176%5D%2C%20%5B-83.667839%2C%2043.589022%5D%2C%20%5B-83.481623%2C%2043.714992%5D%2C%20%5B-83.262545%2C%2043.972408%5D%2C%20%5B-82.917498%2C%2044.070993%5D%2C%20%5B-82.747713%2C%2043.994316%5D%2C%20%5B-82.643651%2C%2043.851915%5D%2C%20%5B-82.539589%2C%2043.435668%5D%2C%20%5B-82.523158%2C%2043.227544%5D%2C%20%5B-82.413619%2C%2042.975605%5D%2C%20%5B-82.517681%2C%2042.614127%5D%2C%20%5B-82.681989%2C%2042.559357%5D%2C%20%5B-82.687466%2C%2042.690804%5D%2C%20%5B-82.797005%2C%2042.652465%5D%2C%20%5B-82.922975%2C%2042.351234%5D%2C%20%5B-83.125621%2C%2042.236218%5D%2C%20%5B-83.185868%2C%2042.006186%5D%2C%20%5B-83.437807%2C%2041.814493%5D%2C%20%5B-83.454238%2C%2041.732339%5D%5D%5D%2C%20%5B%5B%5B-85.508091%2C%2045.730506%5D%2C%20%5B-85.49166%2C%2045.610013%5D%2C%20%5B-85.623106%2C%2045.588105%5D%2C%20%5B-85.568337%2C%2045.75789%5D%2C%20%5B-85.508091%2C%2045.730506%5D%5D%5D%2C%20%5B%5B%5B-87.589328%2C%2045.095181%5D%2C%20%5B-87.742682%2C%2045.199243%5D%2C%20%5B-87.649574%2C%2045.341643%5D%2C%20%5B-87.885083%2C%2045.363551%5D%2C%20%5B-87.791975%2C%2045.500474%5D%2C%20%5B-87.781021%2C%2045.675736%5D%2C%20%5B-87.989145%2C%2045.796229%5D%2C%20%5B-88.10416%2C%2045.922199%5D%2C%20%5B-88.531362%2C%2046.020784%5D%2C%20%5B-88.662808%2C%2045.987922%5D%2C%20%5B-89.09001%2C%2046.135799%5D%2C%20%5B-90.119674%2C%2046.338446%5D%2C%20%5B-90.229213%2C%2046.508231%5D%2C%20%5B-90.415429%2C%2046.568478%5D%2C%20%5B-90.026566%2C%2046.672539%5D%2C%20%5B-89.851304%2C%2046.793032%5D%2C%20%5B-89.413149%2C%2046.842325%5D%2C%20%5B-89.128348%2C%2046.990202%5D%2C%20%5B-88.996902%2C%2046.995679%5D%2C%20%5B-88.887363%2C%2047.099741%5D%2C%20%5B-88.575177%2C%2047.247618%5D%2C%20%5B-88.416346%2C%2047.373588%5D%2C%20%5B-88.180837%2C%2047.455742%5D%2C%20%5B-87.956283%2C%2047.384542%5D%2C%20%5B-88.350623%2C%2047.077833%5D%2C%20%5B-88.443731%2C%2046.973771%5D%2C%20%5B-88.438254%2C%2046.787555%5D%2C%20%5B-88.246561%2C%2046.929956%5D%2C%20%5B-87.901513%2C%2046.908048%5D%2C%20%5B-87.633143%2C%2046.809463%5D%2C%20%5B-87.392158%2C%2046.535616%5D%2C%20%5B-87.260711%2C%2046.486323%5D%2C%20%5B-87.008772%2C%2046.530139%5D%2C%20%5B-86.948526%2C%2046.469893%5D%2C%20%5B-86.696587%2C%2046.437031%5D%2C%20%5B-86.159846%2C%2046.667063%5D%2C%20%5B-85.880522%2C%2046.68897%5D%2C%20%5B-85.508091%2C%2046.678016%5D%2C%20%5B-85.256151%2C%2046.754694%5D%2C%20%5B-85.064458%2C%2046.760171%5D%2C%20%5B-85.02612%2C%2046.480847%5D%2C%20%5B-84.82895%2C%2046.442508%5D%2C%20%5B-84.63178%2C%2046.486323%5D%2C%20%5B-84.549626%2C%2046.4206%5D%2C%20%5B-84.418179%2C%2046.502754%5D%2C%20%5B-84.127902%2C%2046.530139%5D%2C%20%5B-84.122425%2C%2046.179615%5D%2C%20%5B-83.990978%2C%2046.031737%5D%2C%20%5B-83.793808%2C%2045.993399%5D%2C%20%5B-83.7719%2C%2046.091984%5D%2C%20%5B-83.580208%2C%2046.091984%5D%2C%20%5B-83.476146%2C%2045.987922%5D%2C%20%5B-83.563777%2C%2045.911245%5D%2C%20%5B-84.111471%2C%2045.976968%5D%2C%20%5B-84.374364%2C%2045.933153%5D%2C%20%5B-84.659165%2C%2046.053645%5D%2C%20%5B-84.741319%2C%2045.944106%5D%2C%20%5B-84.70298%2C%2045.850998%5D%2C%20%5B-84.82895%2C%2045.872906%5D%2C%20%5B-85.015166%2C%2046.00983%5D%2C%20%5B-85.338305%2C%2046.091984%5D%2C%20%5B-85.502614%2C%2046.097461%5D%2C%20%5B-85.661445%2C%2045.966014%5D%2C%20%5B-85.924338%2C%2045.933153%5D%2C%20%5B-86.209139%2C%2045.960537%5D%2C%20%5B-86.324155%2C%2045.905768%5D%2C%20%5B-86.351539%2C%2045.796229%5D%2C%20%5B-86.663725%2C%2045.703121%5D%2C%20%5B-86.647294%2C%2045.834568%5D%2C%20%5B-86.784218%2C%2045.861952%5D%2C%20%5B-86.838987%2C%2045.725029%5D%2C%20%5B-87.069019%2C%2045.719552%5D%2C%20%5B-87.17308%2C%2045.659305%5D%2C%20%5B-87.326435%2C%2045.423797%5D%2C%20%5B-87.611236%2C%2045.122565%5D%2C%20%5B-87.589328%2C%2045.095181%5D%5D%5D%2C%20%5B%5B%5B-88.805209%2C%2047.976051%5D%2C%20%5B-89.057148%2C%2047.850082%5D%2C%20%5B-89.188594%2C%2047.833651%5D%2C%20%5B-89.177641%2C%2047.937713%5D%2C%20%5B-88.547792%2C%2048.173221%5D%2C%20%5B-88.668285%2C%2048.008913%5D%2C%20%5B-88.805209%2C%2047.976051%5D%5D%5D%5D%2C%20%22type%22%3A%20%22MultiPolygon%22%7D%2C%20%22id%22%3A%20%22MI%22%2C%20%22properties%22%3A%20%7B%22name%22%3A%20%22Michigan%22%7D%2C%20%22type%22%3A%20%22Feature%22%7D%2C%20%7B%22geometry%22%3A%20%7B%22coordinates%22%3A%20%5B%5B%5B-92.014696%2C%2046.705401%5D%2C%20%5B-92.091373%2C%2046.749217%5D%2C%20%5B-92.29402%2C%2046.667063%5D%2C%20%5B-92.29402%2C%2046.075553%5D%2C%20%5B-92.354266%2C%2046.015307%5D%2C%20%5B-92.639067%2C%2045.933153%5D%2C%20%5B-92.869098%2C%2045.719552%5D%2C%20%5B-92.885529%2C%2045.577151%5D%2C%20%5B-92.770513%2C%2045.566198%5D%2C%20%5B-92.644544%2C%2045.440228%5D%2C%20%5B-92.75956%2C%2045.286874%5D%2C%20%5B-92.737652%2C%2045.117088%5D%2C%20%5B-92.808852%2C%2044.750133%5D%2C%20%5B-92.545959%2C%2044.569394%5D%2C%20%5B-92.337835%2C%2044.552964%5D%2C%20%5B-92.233773%2C%2044.443425%5D%2C%20%5B-91.927065%2C%2044.333886%5D%2C%20%5B-91.877772%2C%2044.202439%5D%2C%20%5B-91.592971%2C%2044.032654%5D%2C%20%5B-91.43414%2C%2043.994316%5D%2C%20%5B-91.242447%2C%2043.775238%5D%2C%20%5B-91.269832%2C%2043.616407%5D%2C%20%5B-91.215062%2C%2043.501391%5D%2C%20%5B-91.368417%2C%2043.501391%5D%2C%20%5B-96.451017%2C%2043.501391%5D%2C%20%5B-96.451017%2C%2045.297827%5D%2C%20%5B-96.681049%2C%2045.412843%5D%2C%20%5B-96.856311%2C%2045.604536%5D%2C%20%5B-96.582464%2C%2045.818137%5D%2C%20%5B-96.560556%2C%2045.933153%5D%2C%20%5B-96.598895%2C%2046.332969%5D%2C%20%5B-96.719387%2C%2046.437031%5D%2C%20%5B-96.801542%2C%2046.656109%5D%2C%20%5B-96.785111%2C%2046.924479%5D%2C%20%5B-96.823449%2C%2046.968294%5D%2C%20%5B-96.856311%2C%2047.609096%5D%2C%20%5B-97.053481%2C%2047.948667%5D%2C%20%5B-97.130158%2C%2048.140359%5D%2C%20%5B-97.16302%2C%2048.545653%5D%2C%20%5B-97.097296%2C%2048.682577%5D%2C%20%5B-97.228743%2C%2049.000239%5D%2C%20%5B-95.152983%2C%2049.000239%5D%2C%20%5B-95.152983%2C%2049.383625%5D%2C%20%5B-94.955813%2C%2049.372671%5D%2C%20%5B-94.824366%2C%2049.295994%5D%2C%20%5B-94.69292%2C%2048.775685%5D%2C%20%5B-94.588858%2C%2048.715438%5D%2C%20%5B-94.260241%2C%2048.699007%5D%2C%20%5B-94.221903%2C%2048.649715%5D%2C%20%5B-93.838517%2C%2048.627807%5D%2C%20%5B-93.794701%2C%2048.518268%5D%2C%20%5B-93.466085%2C%2048.545653%5D%2C%20%5B-93.466085%2C%2048.589469%5D%2C%20%5B-93.208669%2C%2048.644238%5D%2C%20%5B-92.984114%2C%2048.62233%5D%2C%20%5B-92.726698%2C%2048.540176%5D%2C%20%5B-92.655498%2C%2048.436114%5D%2C%20%5B-92.50762%2C%2048.447068%5D%2C%20%5B-92.370697%2C%2048.222514%5D%2C%20%5B-92.304974%2C%2048.315622%5D%2C%20%5B-92.053034%2C%2048.359437%5D%2C%20%5B-92.009219%2C%2048.266329%5D%2C%20%5B-91.713464%2C%2048.200606%5D%2C%20%5B-91.713464%2C%2048.112975%5D%2C%20%5B-91.565587%2C%2048.041775%5D%2C%20%5B-91.264355%2C%2048.080113%5D%2C%20%5B-91.083616%2C%2048.178698%5D%2C%20%5B-90.837154%2C%2048.238944%5D%2C%20%5B-90.749522%2C%2048.091067%5D%2C%20%5B-90.579737%2C%2048.123929%5D%2C%20%5B-90.377091%2C%2048.091067%5D%2C%20%5B-90.141582%2C%2048.112975%5D%2C%20%5B-89.873212%2C%2047.987005%5D%2C%20%5B-89.615796%2C%2048.008913%5D%2C%20%5B-89.637704%2C%2047.954144%5D%2C%20%5B-89.971797%2C%2047.828174%5D%2C%20%5B-90.437337%2C%2047.729589%5D%2C%20%5B-90.738569%2C%2047.625527%5D%2C%20%5B-91.171247%2C%2047.368111%5D%2C%20%5B-91.357463%2C%2047.20928%5D%2C%20%5B-91.642264%2C%2047.028541%5D%2C%20%5B-92.091373%2C%2046.787555%5D%2C%20%5B-92.014696%2C%2046.705401%5D%5D%5D%2C%20%22type%22%3A%20%22Polygon%22%7D%2C%20%22id%22%3A%20%22MN%22%2C%20%22properties%22%3A%20%7B%22name%22%3A%20%22Minnesota%22%7D%2C%20%22type%22%3A%20%22Feature%22%7D%2C%20%7B%22geometry%22%3A%20%7B%22coordinates%22%3A%20%5B%5B%5B-88.471115%2C%2034.995703%5D%2C%20%5B-88.202745%2C%2034.995703%5D%2C%20%5B-88.098683%2C%2034.891641%5D%2C%20%5B-88.241084%2C%2033.796253%5D%2C%20%5B-88.471115%2C%2031.895754%5D%2C%20%5B-88.394438%2C%2030.367688%5D%2C%20%5B-88.503977%2C%2030.323872%5D%2C%20%5B-88.744962%2C%2030.34578%5D%2C%20%5B-88.843547%2C%2030.411504%5D%2C%20%5B-89.084533%2C%2030.367688%5D%2C%20%5B-89.418626%2C%2030.252672%5D%2C%20%5B-89.522688%2C%2030.181472%5D%2C%20%5B-89.643181%2C%2030.285534%5D%2C%20%5B-89.681519%2C%2030.449842%5D%2C%20%5B-89.845827%2C%2030.66892%5D%2C%20%5B-89.747242%2C%2030.997536%5D%2C%20%5B-91.636787%2C%2030.997536%5D%2C%20%5B-91.565587%2C%2031.068736%5D%2C%20%5B-91.636787%2C%2031.265906%5D%2C%20%5B-91.516294%2C%2031.27686%5D%2C%20%5B-91.499863%2C%2031.643815%5D%2C%20%5B-91.401278%2C%2031.621907%5D%2C%20%5B-91.341032%2C%2031.846462%5D%2C%20%5B-91.105524%2C%2031.988862%5D%2C%20%5B-90.985031%2C%2032.218894%5D%2C%20%5B-91.006939%2C%2032.514649%5D%2C%20%5B-91.154816%2C%2032.640618%5D%2C%20%5B-91.143862%2C%2032.843265%5D%2C%20%5B-91.072662%2C%2032.887081%5D%2C%20%5B-91.16577%2C%2033.002096%5D%2C%20%5B-91.089093%2C%2033.13902%5D%2C%20%5B-91.143862%2C%2033.347144%5D%2C%20%5B-91.056231%2C%2033.429298%5D%2C%20%5B-91.231493%2C%2033.560744%5D%2C%20%5B-91.072662%2C%2033.867453%5D%2C%20%5B-90.891923%2C%2034.026284%5D%2C%20%5B-90.952169%2C%2034.135823%5D%2C%20%5B-90.744046%2C%2034.300131%5D%2C%20%5B-90.749522%2C%2034.365854%5D%2C%20%5B-90.568783%2C%2034.420624%5D%2C%20%5B-90.585214%2C%2034.617794%5D%2C%20%5B-90.481152%2C%2034.661609%5D%2C%20%5B-90.409952%2C%2034.831394%5D%2C%20%5B-90.251121%2C%2034.908072%5D%2C%20%5B-90.311367%2C%2034.995703%5D%2C%20%5B-88.471115%2C%2034.995703%5D%5D%5D%2C%20%22type%22%3A%20%22Polygon%22%7D%2C%20%22id%22%3A%20%22MS%22%2C%20%22properties%22%3A%20%7B%22name%22%3A%20%22Mississippi%22%7D%2C%20%22type%22%3A%20%22Feature%22%7D%2C%20%7B%22geometry%22%3A%20%7B%22coordinates%22%3A%20%5B%5B%5B-91.833957%2C%2040.609566%5D%2C%20%5B-91.729895%2C%2040.615043%5D%2C%20%5B-91.527248%2C%2040.412397%5D%2C%20%5B-91.417709%2C%2040.379535%5D%2C%20%5B-91.50534%2C%2040.237135%5D%2C%20%5B-91.494386%2C%2040.034488%5D%2C%20%5B-91.368417%2C%2039.727779%5D%2C%20%5B-91.061708%2C%2039.470363%5D%2C%20%5B-90.727615%2C%2039.256762%5D%2C%20%5B-90.661891%2C%2038.928146%5D%2C%20%5B-90.585214%2C%2038.867899%5D%2C%20%5B-90.470199%2C%2038.961007%5D%2C%20%5B-90.251121%2C%2038.917192%5D%2C%20%5B-90.10872%2C%2038.845992%5D%2C%20%5B-90.207305%2C%2038.725499%5D%2C%20%5B-90.179921%2C%2038.632391%5D%2C%20%5B-90.349706%2C%2038.374975%5D%2C%20%5B-90.355183%2C%2038.216144%5D%2C%20%5B-90.059428%2C%2038.013497%5D%2C%20%5B-89.949889%2C%2037.88205%5D%2C%20%5B-89.84035%2C%2037.903958%5D%2C%20%5B-89.517211%2C%2037.690357%5D%2C%20%5B-89.517211%2C%2037.537003%5D%2C%20%5B-89.435057%2C%2037.34531%5D%2C%20%5B-89.517211%2C%2037.279587%5D%2C%20%5B-89.292656%2C%2036.994786%5D%2C%20%5B-89.133825%2C%2036.983832%5D%2C%20%5B-89.215979%2C%2036.578538%5D%2C%20%5B-89.363857%2C%2036.622354%5D%2C%20%5B-89.418626%2C%2036.496384%5D%2C%20%5B-89.484349%2C%2036.496384%5D%2C%20%5B-89.539119%2C%2036.496384%5D%2C%20%5B-89.533642%2C%2036.249922%5D%2C%20%5B-89.730812%2C%2035.997983%5D%2C%20%5B-90.377091%2C%2035.997983%5D%2C%20%5B-90.218259%2C%2036.184199%5D%2C%20%5B-90.064905%2C%2036.304691%5D%2C%20%5B-90.152536%2C%2036.496384%5D%2C%20%5B-94.473842%2C%2036.501861%5D%2C%20%5B-94.616242%2C%2036.501861%5D%2C%20%5B-94.616242%2C%2037.000263%5D%2C%20%5B-94.610765%2C%2039.158177%5D%2C%20%5B-94.824366%2C%2039.20747%5D%2C%20%5B-94.983197%2C%2039.442978%5D%2C%20%5B-95.109167%2C%2039.541563%5D%2C%20%5B-94.884612%2C%2039.831841%5D%2C%20%5B-95.207752%2C%2039.908518%5D%2C%20%5B-95.306337%2C%2040.001626%5D%2C%20%5B-95.552799%2C%2040.264519%5D%2C%20%5B-95.7664%2C%2040.587659%5D%2C%20%5B-94.632673%2C%2040.571228%5D%2C%20%5B-93.257961%2C%2040.582182%5D%2C%20%5B-91.833957%2C%2040.609566%5D%5D%5D%2C%20%22type%22%3A%20%22Polygon%22%7D%2C%20%22id%22%3A%20%22MO%22%2C%20%22properties%22%3A%20%7B%22name%22%3A%20%22Missouri%22%7D%2C%20%22type%22%3A%20%22Feature%22%7D%2C%20%7B%22geometry%22%3A%20%7B%22coordinates%22%3A%20%5B%5B%5B-104.047534%2C%2049.000239%5D%2C%20%5B-104.042057%2C%2047.861036%5D%2C%20%5B-104.047534%2C%2045.944106%5D%2C%20%5B-104.042057%2C%2044.996596%5D%2C%20%5B-104.058488%2C%2044.996596%5D%2C%20%5B-105.91517%2C%2045.002073%5D%2C%20%5B-109.080842%2C%2045.002073%5D%2C%20%5B-111.05254%2C%2045.002073%5D%2C%20%5B-111.047063%2C%2044.476286%5D%2C%20%5B-111.227803%2C%2044.580348%5D%2C%20%5B-111.386634%2C%2044.75561%5D%2C%20%5B-111.616665%2C%2044.547487%5D%2C%20%5B-111.819312%2C%2044.509148%5D%2C%20%5B-111.868605%2C%2044.563917%5D%2C%20%5B-112.104113%2C%2044.520102%5D%2C%20%5B-112.241036%2C%2044.569394%5D%2C%20%5B-112.471068%2C%2044.481763%5D%2C%20%5B-112.783254%2C%2044.48724%5D%2C%20%5B-112.887315%2C%2044.394132%5D%2C%20%5B-113.002331%2C%2044.448902%5D%2C%20%5B-113.133778%2C%2044.772041%5D%2C%20%5B-113.341901%2C%2044.782995%5D%2C%20%5B-113.456917%2C%2044.865149%5D%2C%20%5B-113.45144%2C%2045.056842%5D%2C%20%5B-113.571933%2C%2045.128042%5D%2C%20%5B-113.736241%2C%2045.330689%5D%2C%20%5B-113.834826%2C%2045.522382%5D%2C%20%5B-113.807441%2C%2045.604536%5D%2C%20%5B-113.98818%2C%2045.703121%5D%2C%20%5B-114.086765%2C%2045.593582%5D%2C%20%5B-114.333228%2C%2045.456659%5D%2C%20%5B-114.546828%2C%2045.560721%5D%2C%20%5B-114.497536%2C%2045.670259%5D%2C%20%5B-114.568736%2C%2045.774321%5D%2C%20%5B-114.387997%2C%2045.88386%5D%2C%20%5B-114.492059%2C%2046.037214%5D%2C%20%5B-114.464674%2C%2046.272723%5D%2C%20%5B-114.322274%2C%2046.645155%5D%2C%20%5B-114.612552%2C%2046.639678%5D%2C%20%5B-114.623506%2C%2046.705401%5D%2C%20%5B-114.886399%2C%2046.809463%5D%2C%20%5B-114.930214%2C%2046.919002%5D%2C%20%5B-115.302646%2C%2047.187372%5D%2C%20%5B-115.324554%2C%2047.258572%5D%2C%20%5B-115.527201%2C%2047.302388%5D%2C%20%5B-115.718894%2C%2047.42288%5D%2C%20%5B-115.724371%2C%2047.696727%5D%2C%20%5B-116.04751%2C%2047.976051%5D%2C%20%5B-116.04751%2C%2049.000239%5D%2C%20%5B-111.50165%2C%2048.994762%5D%2C%20%5B-109.453274%2C%2049.000239%5D%2C%20%5B-104.047534%2C%2049.000239%5D%5D%5D%2C%20%22type%22%3A%20%22Polygon%22%7D%2C%20%22id%22%3A%20%22MT%22%2C%20%22properties%22%3A%20%7B%22name%22%3A%20%22Montana%22%7D%2C%20%22type%22%3A%20%22Feature%22%7D%2C%20%7B%22geometry%22%3A%20%7B%22coordinates%22%3A%20%5B%5B%5B-103.324578%2C%2043.002989%5D%2C%20%5B-101.626726%2C%2042.997512%5D%2C%20%5B-98.499393%2C%2042.997512%5D%2C%20%5B-98.466531%2C%2042.94822%5D%2C%20%5B-97.951699%2C%2042.767481%5D%2C%20%5B-97.831206%2C%2042.866066%5D%2C%20%5B-97.688806%2C%2042.844158%5D%2C%20%5B-97.217789%2C%2042.844158%5D%2C%20%5B-96.692003%2C%2042.657942%5D%2C%20%5B-96.626279%2C%2042.515542%5D%2C%20%5B-96.44554%2C%2042.488157%5D%2C%20%5B-96.264801%2C%2042.039048%5D%2C%20%5B-96.127878%2C%2041.973325%5D%2C%20%5B-96.062155%2C%2041.798063%5D%2C%20%5B-96.122401%2C%2041.67757%5D%2C%20%5B-96.095016%2C%2041.540646%5D%2C%20%5B-95.919754%2C%2041.453015%5D%2C%20%5B-95.925231%2C%2041.201076%5D%2C%20%5B-95.826646%2C%2040.976521%5D%2C%20%5B-95.881416%2C%2040.719105%5D%2C%20%5B-95.7664%2C%2040.587659%5D%2C%20%5B-95.552799%2C%2040.264519%5D%2C%20%5B-95.306337%2C%2040.001626%5D%2C%20%5B-101.90605%2C%2040.001626%5D%2C%20%5B-102.053927%2C%2040.001626%5D%2C%20%5B-102.053927%2C%2041.003906%5D%2C%20%5B-104.053011%2C%2041.003906%5D%2C%20%5B-104.053011%2C%2043.002989%5D%2C%20%5B-103.324578%2C%2043.002989%5D%5D%5D%2C%20%22type%22%3A%20%22Polygon%22%7D%2C%20%22id%22%3A%20%22NE%22%2C%20%22properties%22%3A%20%7B%22name%22%3A%20%22Nebraska%22%7D%2C%20%22type%22%3A%20%22Feature%22%7D%2C%20%7B%22geometry%22%3A%20%7B%22coordinates%22%3A%20%5B%5B%5B-117.027882%2C%2042.000709%5D%2C%20%5B-114.04295%2C%2041.995232%5D%2C%20%5B-114.048427%2C%2037.000263%5D%2C%20%5B-114.048427%2C%2036.195153%5D%2C%20%5B-114.152489%2C%2036.025367%5D%2C%20%5B-114.251074%2C%2036.01989%5D%2C%20%5B-114.371566%2C%2036.140383%5D%2C%20%5B-114.738521%2C%2036.102045%5D%2C%20%5B-114.678275%2C%2035.516012%5D%2C%20%5B-114.596121%2C%2035.324319%5D%2C%20%5B-114.574213%2C%2035.138103%5D%2C%20%5B-114.634459%2C%2035.00118%5D%2C%20%5B-115.85034%2C%2035.970598%5D%2C%20%5B-116.540435%2C%2036.501861%5D%2C%20%5B-117.498899%2C%2037.21934%5D%2C%20%5B-118.71478%2C%2038.101128%5D%2C%20%5B-120.001861%2C%2038.999346%5D%2C%20%5B-119.996384%2C%2040.264519%5D%2C%20%5B-120.001861%2C%2041.995232%5D%2C%20%5B-118.698349%2C%2041.989755%5D%2C%20%5B-117.027882%2C%2042.000709%5D%5D%5D%2C%20%22type%22%3A%20%22Polygon%22%7D%2C%20%22id%22%3A%20%22NV%22%2C%20%22properties%22%3A%20%7B%22name%22%3A%20%22Nevada%22%7D%2C%20%22type%22%3A%20%22Feature%22%7D%2C%20%7B%22geometry%22%3A%20%7B%22coordinates%22%3A%20%5B%5B%5B-71.08183%2C%2045.303304%5D%2C%20%5B-71.032537%2C%2044.657025%5D%2C%20%5B-70.966814%2C%2043.34256%5D%2C%20%5B-70.807983%2C%2043.227544%5D%2C%20%5B-70.824413%2C%2043.128959%5D%2C%20%5B-70.703921%2C%2043.057759%5D%2C%20%5B-70.818936%2C%2042.871543%5D%2C%20%5B-70.917521%2C%2042.887974%5D%2C%20%5B-71.185891%2C%2042.789389%5D%2C%20%5B-71.29543%2C%2042.696281%5D%2C%20%5B-72.456542%2C%2042.729142%5D%2C%20%5B-72.544173%2C%2042.80582%5D%2C%20%5B-72.533219%2C%2042.953697%5D%2C%20%5B-72.445588%2C%2043.008466%5D%2C%20%5B-72.456542%2C%2043.150867%5D%2C%20%5B-72.379864%2C%2043.572591%5D%2C%20%5B-72.204602%2C%2043.769761%5D%2C%20%5B-72.116971%2C%2043.994316%5D%2C%20%5B-72.02934%2C%2044.07647%5D%2C%20%5B-72.034817%2C%2044.322932%5D%2C%20%5B-71.700724%2C%2044.41604%5D%2C%20%5B-71.536416%2C%2044.585825%5D%2C%20%5B-71.629524%2C%2044.750133%5D%2C%20%5B-71.4926%2C%2044.914442%5D%2C%20%5B-71.503554%2C%2045.013027%5D%2C%20%5B-71.361154%2C%2045.270443%5D%2C%20%5B-71.131122%2C%2045.243058%5D%2C%20%5B-71.08183%2C%2045.303304%5D%5D%5D%2C%20%22type%22%3A%20%22Polygon%22%7D%2C%20%22id%22%3A%20%22NH%22%2C%20%22properties%22%3A%20%7B%22name%22%3A%20%22New%20Hampshire%22%7D%2C%20%22type%22%3A%20%22Feature%22%7D%2C%20%7B%22geometry%22%3A%20%7B%22coordinates%22%3A%20%5B%5B%5B-74.236547%2C%2041.14083%5D%2C%20%5B-73.902454%2C%2040.998429%5D%2C%20%5B-74.022947%2C%2040.708151%5D%2C%20%5B-74.187255%2C%2040.642428%5D%2C%20%5B-74.274886%2C%2040.489074%5D%2C%20%5B-74.001039%2C%2040.412397%5D%2C%20%5B-73.979131%2C%2040.297381%5D%2C%20%5B-74.099624%2C%2039.760641%5D%2C%20%5B-74.411809%2C%2039.360824%5D%2C%20%5B-74.614456%2C%2039.245808%5D%2C%20%5B-74.795195%2C%2038.993869%5D%2C%20%5B-74.888303%2C%2039.158177%5D%2C%20%5B-75.178581%2C%2039.240331%5D%2C%20%5B-75.534582%2C%2039.459409%5D%2C%20%5B-75.55649%2C%2039.607286%5D%2C%20%5B-75.561967%2C%2039.629194%5D%2C%20%5B-75.507197%2C%2039.683964%5D%2C%20%5B-75.414089%2C%2039.804456%5D%2C%20%5B-75.145719%2C%2039.88661%5D%2C%20%5B-75.129289%2C%2039.963288%5D%2C%20%5B-74.82258%2C%2040.127596%5D%2C%20%5B-74.773287%2C%2040.215227%5D%2C%20%5B-75.058088%2C%2040.417874%5D%2C%20%5B-75.069042%2C%2040.543843%5D%2C%20%5B-75.195012%2C%2040.576705%5D%2C%20%5B-75.205966%2C%2040.691721%5D%2C%20%5B-75.052611%2C%2040.866983%5D%2C%20%5B-75.134765%2C%2040.971045%5D%2C%20%5B-74.882826%2C%2041.179168%5D%2C%20%5B-74.828057%2C%2041.288707%5D%2C%20%5B-74.69661%2C%2041.359907%5D%2C%20%5B-74.236547%2C%2041.14083%5D%5D%5D%2C%20%22type%22%3A%20%22Polygon%22%7D%2C%20%22id%22%3A%20%22NJ%22%2C%20%22properties%22%3A%20%7B%22name%22%3A%20%22New%20Jersey%22%7D%2C%20%22type%22%3A%20%22Feature%22%7D%2C%20%7B%22geometry%22%3A%20%7B%22coordinates%22%3A%20%5B%5B%5B-107.421329%2C%2037.000263%5D%2C%20%5B-106.868158%2C%2036.994786%5D%2C%20%5B-104.337812%2C%2036.994786%5D%2C%20%5B-103.001438%2C%2037.000263%5D%2C%20%5B-103.001438%2C%2036.501861%5D%2C%20%5B-103.039777%2C%2036.501861%5D%2C%20%5B-103.045254%2C%2034.01533%5D%2C%20%5B-103.067161%2C%2033.002096%5D%2C%20%5B-103.067161%2C%2031.999816%5D%2C%20%5B-106.616219%2C%2031.999816%5D%2C%20%5B-106.643603%2C%2031.901231%5D%2C%20%5B-106.528588%2C%2031.786216%5D%2C%20%5B-108.210008%2C%2031.786216%5D%2C%20%5B-108.210008%2C%2031.331629%5D%2C%20%5B-109.04798%2C%2031.331629%5D%2C%20%5B-109.042503%2C%2037.000263%5D%2C%20%5B-107.421329%2C%2037.000263%5D%5D%5D%2C%20%22type%22%3A%20%22Polygon%22%7D%2C%20%22id%22%3A%20%22NM%22%2C%20%22properties%22%3A%20%7B%22name%22%3A%20%22New%20Mexico%22%7D%2C%20%22type%22%3A%20%22Feature%22%7D%2C%20%7B%22geometry%22%3A%20%7B%22coordinates%22%3A%20%5B%5B%5B-73.343806%2C%2045.013027%5D%2C%20%5B-73.332852%2C%2044.804903%5D%2C%20%5B-73.387622%2C%2044.618687%5D%2C%20%5B-73.294514%2C%2044.437948%5D%2C%20%5B-73.321898%2C%2044.246255%5D%2C%20%5B-73.436914%2C%2044.043608%5D%2C%20%5B-73.349283%2C%2043.769761%5D%2C%20%5B-73.404052%2C%2043.687607%5D%2C%20%5B-73.245221%2C%2043.523299%5D%2C%20%5B-73.278083%2C%2042.833204%5D%2C%20%5B-73.267129%2C%2042.745573%5D%2C%20%5B-73.508114%2C%2042.08834%5D%2C%20%5B-73.486206%2C%2042.050002%5D%2C%20%5B-73.55193%2C%2041.294184%5D%2C%20%5B-73.48073%2C%2041.21203%5D%2C%20%5B-73.727192%2C%2041.102491%5D%2C%20%5B-73.655992%2C%2040.987475%5D%2C%20%5B-73.22879%2C%2040.905321%5D%2C%20%5B-73.141159%2C%2040.965568%5D%2C%20%5B-72.774204%2C%2040.965568%5D%2C%20%5B-72.587988%2C%2040.998429%5D%2C%20%5B-72.28128%2C%2041.157261%5D%2C%20%5B-72.259372%2C%2041.042245%5D%2C%20%5B-72.100541%2C%2040.992952%5D%2C%20%5B-72.467496%2C%2040.845075%5D%2C%20%5B-73.239744%2C%2040.625997%5D%2C%20%5B-73.562884%2C%2040.582182%5D%2C%20%5B-73.776484%2C%2040.593136%5D%2C%20%5B-73.935316%2C%2040.543843%5D%2C%20%5B-74.022947%2C%2040.708151%5D%2C%20%5B-73.902454%2C%2040.998429%5D%2C%20%5B-74.236547%2C%2041.14083%5D%2C%20%5B-74.69661%2C%2041.359907%5D%2C%20%5B-74.740426%2C%2041.431108%5D%2C%20%5B-74.89378%2C%2041.436584%5D%2C%20%5B-75.074519%2C%2041.60637%5D%2C%20%5B-75.052611%2C%2041.754247%5D%2C%20%5B-75.173104%2C%2041.869263%5D%2C%20%5B-75.249781%2C%2041.863786%5D%2C%20%5B-75.35932%2C%2042.000709%5D%2C%20%5B-79.76278%2C%2042.000709%5D%2C%20%5B-79.76278%2C%2042.252649%5D%2C%20%5B-79.76278%2C%2042.269079%5D%2C%20%5B-79.149363%2C%2042.55388%5D%2C%20%5B-79.050778%2C%2042.690804%5D%2C%20%5B-78.853608%2C%2042.783912%5D%2C%20%5B-78.930285%2C%2042.953697%5D%2C%20%5B-79.012439%2C%2042.986559%5D%2C%20%5B-79.072686%2C%2043.260406%5D%2C%20%5B-78.486653%2C%2043.375421%5D%2C%20%5B-77.966344%2C%2043.369944%5D%2C%20%5B-77.75822%2C%2043.34256%5D%2C%20%5B-77.533665%2C%2043.233021%5D%2C%20%5B-77.391265%2C%2043.276836%5D%2C%20%5B-76.958587%2C%2043.271359%5D%2C%20%5B-76.695693%2C%2043.34256%5D%2C%20%5B-76.41637%2C%2043.523299%5D%2C%20%5B-76.235631%2C%2043.528776%5D%2C%20%5B-76.230154%2C%2043.802623%5D%2C%20%5B-76.137046%2C%2043.961454%5D%2C%20%5B-76.3616%2C%2044.070993%5D%2C%20%5B-76.312308%2C%2044.196962%5D%2C%20%5B-75.912491%2C%2044.366748%5D%2C%20%5B-75.764614%2C%2044.514625%5D%2C%20%5B-75.282643%2C%2044.848718%5D%2C%20%5B-74.828057%2C%2045.018503%5D%2C%20%5B-74.148916%2C%2044.991119%5D%2C%20%5B-73.343806%2C%2045.013027%5D%5D%5D%2C%20%22type%22%3A%20%22Polygon%22%7D%2C%20%22id%22%3A%20%22NY%22%2C%20%22properties%22%3A%20%7B%22name%22%3A%20%22New%20York%22%7D%2C%20%22type%22%3A%20%22Feature%22%7D%2C%20%7B%22geometry%22%3A%20%7B%22coordinates%22%3A%20%5B%5B%5B-80.978661%2C%2036.562108%5D%2C%20%5B-80.294043%2C%2036.545677%5D%2C%20%5B-79.510841%2C%2036.5402%5D%2C%20%5B-75.868676%2C%2036.551154%5D%2C%20%5B-75.75366%2C%2036.151337%5D%2C%20%5B-76.032984%2C%2036.189676%5D%2C%20%5B-76.071322%2C%2036.140383%5D%2C%20%5B-76.410893%2C%2036.080137%5D%2C%20%5B-76.460185%2C%2036.025367%5D%2C%20%5B-76.68474%2C%2036.008937%5D%2C%20%5B-76.673786%2C%2035.937736%5D%2C%20%5B-76.399939%2C%2035.987029%5D%2C%20%5B-76.3616%2C%2035.943213%5D%2C%20%5B-76.060368%2C%2035.992506%5D%2C%20%5B-75.961783%2C%2035.899398%5D%2C%20%5B-75.781044%2C%2035.937736%5D%2C%20%5B-75.715321%2C%2035.696751%5D%2C%20%5B-75.775568%2C%2035.581735%5D%2C%20%5B-75.89606%2C%2035.570781%5D%2C%20%5B-76.147999%2C%2035.324319%5D%2C%20%5B-76.482093%2C%2035.313365%5D%2C%20%5B-76.536862%2C%2035.14358%5D%2C%20%5B-76.394462%2C%2034.973795%5D%2C%20%5B-76.279446%2C%2034.940933%5D%2C%20%5B-76.493047%2C%2034.661609%5D%2C%20%5B-76.673786%2C%2034.694471%5D%2C%20%5B-76.991448%2C%2034.667086%5D%2C%20%5B-77.210526%2C%2034.60684%5D%2C%20%5B-77.555573%2C%2034.415147%5D%2C%20%5B-77.82942%2C%2034.163208%5D%2C%20%5B-77.971821%2C%2033.845545%5D%2C%20%5B-78.179944%2C%2033.916745%5D%2C%20%5B-78.541422%2C%2033.851022%5D%2C%20%5B-79.675149%2C%2034.80401%5D%2C%20%5B-80.797922%2C%2034.820441%5D%2C%20%5B-80.781491%2C%2034.935456%5D%2C%20%5B-80.934845%2C%2035.105241%5D%2C%20%5B-81.038907%2C%2035.044995%5D%2C%20%5B-81.044384%2C%2035.149057%5D%2C%20%5B-82.276696%2C%2035.198349%5D%2C%20%5B-82.550543%2C%2035.160011%5D%2C%20%5B-82.764143%2C%2035.066903%5D%2C%20%5B-83.109191%2C%2035.00118%5D%2C%20%5B-83.618546%2C%2034.984749%5D%2C%20%5B-84.319594%2C%2034.990226%5D%2C%20%5B-84.29221%2C%2035.225734%5D%2C%20%5B-84.09504%2C%2035.247642%5D%2C%20%5B-84.018363%2C%2035.41195%5D%2C%20%5B-83.7719%2C%2035.559827%5D%2C%20%5B-83.498053%2C%2035.565304%5D%2C%20%5B-83.251591%2C%2035.718659%5D%2C%20%5B-82.994175%2C%2035.773428%5D%2C%20%5B-82.775097%2C%2035.997983%5D%2C%20%5B-82.638174%2C%2036.063706%5D%2C%20%5B-82.610789%2C%2035.965121%5D%2C%20%5B-82.216449%2C%2036.156814%5D%2C%20%5B-82.03571%2C%2036.118475%5D%2C%20%5B-81.909741%2C%2036.304691%5D%2C%20%5B-81.723525%2C%2036.353984%5D%2C%20%5B-81.679709%2C%2036.589492%5D%2C%20%5B-80.978661%2C%2036.562108%5D%5D%5D%2C%20%22type%22%3A%20%22Polygon%22%7D%2C%20%22id%22%3A%20%22NC%22%2C%20%22properties%22%3A%20%7B%22name%22%3A%20%22North%20Carolina%22%7D%2C%20%22type%22%3A%20%22Feature%22%7D%2C%20%7B%22geometry%22%3A%20%7B%22coordinates%22%3A%20%5B%5B%5B-97.228743%2C%2049.000239%5D%2C%20%5B-97.097296%2C%2048.682577%5D%2C%20%5B-97.16302%2C%2048.545653%5D%2C%20%5B-97.130158%2C%2048.140359%5D%2C%20%5B-97.053481%2C%2047.948667%5D%2C%20%5B-96.856311%2C%2047.609096%5D%2C%20%5B-96.823449%2C%2046.968294%5D%2C%20%5B-96.785111%2C%2046.924479%5D%2C%20%5B-96.801542%2C%2046.656109%5D%2C%20%5B-96.719387%2C%2046.437031%5D%2C%20%5B-96.598895%2C%2046.332969%5D%2C%20%5B-96.560556%2C%2045.933153%5D%2C%20%5B-104.047534%2C%2045.944106%5D%2C%20%5B-104.042057%2C%2047.861036%5D%2C%20%5B-104.047534%2C%2049.000239%5D%2C%20%5B-97.228743%2C%2049.000239%5D%5D%5D%2C%20%22type%22%3A%20%22Polygon%22%7D%2C%20%22id%22%3A%20%22ND%22%2C%20%22properties%22%3A%20%7B%22name%22%3A%20%22North%20Dakota%22%7D%2C%20%22type%22%3A%20%22Feature%22%7D%2C%20%7B%22geometry%22%3A%20%7B%22coordinates%22%3A%20%5B%5B%5B-80.518598%2C%2041.978802%5D%2C%20%5B-80.518598%2C%2040.636951%5D%2C%20%5B-80.666475%2C%2040.582182%5D%2C%20%5B-80.595275%2C%2040.472643%5D%2C%20%5B-80.600752%2C%2040.319289%5D%2C%20%5B-80.737675%2C%2040.078303%5D%2C%20%5B-80.830783%2C%2039.711348%5D%2C%20%5B-81.219646%2C%2039.388209%5D%2C%20%5B-81.345616%2C%2039.344393%5D%2C%20%5B-81.455155%2C%2039.410117%5D%2C%20%5B-81.57017%2C%2039.267716%5D%2C%20%5B-81.685186%2C%2039.273193%5D%2C%20%5B-81.811156%2C%2039.0815%5D%2C%20%5B-81.783771%2C%2038.966484%5D%2C%20%5B-81.887833%2C%2038.873376%5D%2C%20%5B-82.03571%2C%2039.026731%5D%2C%20%5B-82.221926%2C%2038.785745%5D%2C%20%5B-82.172634%2C%2038.632391%5D%2C%20%5B-82.293127%2C%2038.577622%5D%2C%20%5B-82.331465%2C%2038.446175%5D%2C%20%5B-82.594358%2C%2038.424267%5D%2C%20%5B-82.731282%2C%2038.561191%5D%2C%20%5B-82.846298%2C%2038.588575%5D%2C%20%5B-82.890113%2C%2038.758361%5D%2C%20%5B-83.032514%2C%2038.725499%5D%2C%20%5B-83.142052%2C%2038.626914%5D%2C%20%5B-83.519961%2C%2038.703591%5D%2C%20%5B-83.678792%2C%2038.632391%5D%2C%20%5B-83.903347%2C%2038.769315%5D%2C%20%5B-84.215533%2C%2038.807653%5D%2C%20%5B-84.231963%2C%2038.895284%5D%2C%20%5B-84.43461%2C%2039.103408%5D%2C%20%5B-84.817996%2C%2039.103408%5D%2C%20%5B-84.801565%2C%2040.500028%5D%2C%20%5B-84.807042%2C%2041.694001%5D%2C%20%5B-83.454238%2C%2041.732339%5D%2C%20%5B-83.065375%2C%2041.595416%5D%2C%20%5B-82.933929%2C%2041.513262%5D%2C%20%5B-82.835344%2C%2041.589939%5D%2C%20%5B-82.616266%2C%2041.431108%5D%2C%20%5B-82.479343%2C%2041.381815%5D%2C%20%5B-82.013803%2C%2041.513262%5D%2C%20%5B-81.739956%2C%2041.485877%5D%2C%20%5B-81.444201%2C%2041.672093%5D%2C%20%5B-81.011523%2C%2041.852832%5D%2C%20%5B-80.518598%2C%2041.978802%5D%2C%20%5B-80.518598%2C%2041.978802%5D%5D%5D%2C%20%22type%22%3A%20%22Polygon%22%7D%2C%20%22id%22%3A%20%22OH%22%2C%20%22properties%22%3A%20%7B%22name%22%3A%20%22Ohio%22%7D%2C%20%22type%22%3A%20%22Feature%22%7D%2C%20%7B%22geometry%22%3A%20%7B%22coordinates%22%3A%20%5B%5B%5B-100.087706%2C%2037.000263%5D%2C%20%5B-94.616242%2C%2037.000263%5D%2C%20%5B-94.616242%2C%2036.501861%5D%2C%20%5B-94.430026%2C%2035.395519%5D%2C%20%5B-94.484796%2C%2033.637421%5D%2C%20%5B-94.868182%2C%2033.74696%5D%2C%20%5B-94.966767%2C%2033.861976%5D%2C%20%5B-95.224183%2C%2033.960561%5D%2C%20%5B-95.289906%2C%2033.87293%5D%2C%20%5B-95.547322%2C%2033.878407%5D%2C%20%5B-95.602092%2C%2033.933176%5D%2C%20%5B-95.8376%2C%2033.834591%5D%2C%20%5B-95.936185%2C%2033.889361%5D%2C%20%5B-96.149786%2C%2033.840068%5D%2C%20%5B-96.346956%2C%2033.686714%5D%2C%20%5B-96.423633%2C%2033.774345%5D%2C%20%5B-96.631756%2C%2033.845545%5D%2C%20%5B-96.850834%2C%2033.845545%5D%2C%20%5B-96.922034%2C%2033.960561%5D%2C%20%5B-97.173974%2C%2033.736006%5D%2C%20%5B-97.256128%2C%2033.861976%5D%2C%20%5B-97.371143%2C%2033.823637%5D%2C%20%5B-97.458774%2C%2033.905791%5D%2C%20%5B-97.694283%2C%2033.982469%5D%2C%20%5B-97.869545%2C%2033.851022%5D%2C%20%5B-97.946222%2C%2033.987946%5D%2C%20%5B-98.088623%2C%2034.004376%5D%2C%20%5B-98.170777%2C%2034.113915%5D%2C%20%5B-98.36247%2C%2034.157731%5D%2C%20%5B-98.488439%2C%2034.064623%5D%2C%20%5B-98.570593%2C%2034.146777%5D%2C%20%5B-98.767763%2C%2034.135823%5D%2C%20%5B-98.986841%2C%2034.223454%5D%2C%20%5B-99.189488%2C%2034.2125%5D%2C%20%5B-99.260688%2C%2034.404193%5D%2C%20%5B-99.57835%2C%2034.415147%5D%2C%20%5B-99.698843%2C%2034.382285%5D%2C%20%5B-99.923398%2C%2034.573978%5D%2C%20%5B-100.000075%2C%2034.563024%5D%2C%20%5B-100.000075%2C%2036.501861%5D%2C%20%5B-101.812942%2C%2036.501861%5D%2C%20%5B-103.001438%2C%2036.501861%5D%2C%20%5B-103.001438%2C%2037.000263%5D%2C%20%5B-102.042974%2C%2036.994786%5D%2C%20%5B-100.087706%2C%2037.000263%5D%5D%5D%2C%20%22type%22%3A%20%22Polygon%22%7D%2C%20%22id%22%3A%20%22OK%22%2C%20%22properties%22%3A%20%7B%22name%22%3A%20%22Oklahoma%22%7D%2C%20%22type%22%3A%20%22Feature%22%7D%2C%20%7B%22geometry%22%3A%20%7B%22coordinates%22%3A%20%5B%5B%5B-123.211348%2C%2046.174138%5D%2C%20%5B-123.11824%2C%2046.185092%5D%2C%20%5B-122.904639%2C%2046.08103%5D%2C%20%5B-122.811531%2C%2045.960537%5D%2C%20%5B-122.762239%2C%2045.659305%5D%2C%20%5B-122.247407%2C%2045.549767%5D%2C%20%5B-121.809251%2C%2045.708598%5D%2C%20%5B-121.535404%2C%2045.725029%5D%2C%20%5B-121.217742%2C%2045.670259%5D%2C%20%5B-121.18488%2C%2045.604536%5D%2C%20%5B-120.637186%2C%2045.746937%5D%2C%20%5B-120.505739%2C%2045.697644%5D%2C%20%5B-120.209985%2C%2045.725029%5D%2C%20%5B-119.963522%2C%2045.823614%5D%2C%20%5B-119.525367%2C%2045.911245%5D%2C%20%5B-119.125551%2C%2045.933153%5D%2C%20%5B-118.988627%2C%2045.998876%5D%2C%20%5B-116.918344%2C%2045.993399%5D%2C%20%5B-116.78142%2C%2045.823614%5D%2C%20%5B-116.545912%2C%2045.752413%5D%2C%20%5B-116.463758%2C%2045.61549%5D%2C%20%5B-116.671881%2C%2045.319735%5D%2C%20%5B-116.732128%2C%2045.144473%5D%2C%20%5B-116.847143%2C%2045.02398%5D%2C%20%5B-116.830713%2C%2044.930872%5D%2C%20%5B-116.934774%2C%2044.782995%5D%2C%20%5B-117.038836%2C%2044.750133%5D%2C%20%5B-117.241483%2C%2044.394132%5D%2C%20%5B-117.170283%2C%2044.257209%5D%2C%20%5B-116.97859%2C%2044.240778%5D%2C%20%5B-116.896436%2C%2044.158624%5D%2C%20%5B-117.027882%2C%2043.830007%5D%2C%20%5B-117.027882%2C%2042.000709%5D%2C%20%5B-118.698349%2C%2041.989755%5D%2C%20%5B-120.001861%2C%2041.995232%5D%2C%20%5B-121.037003%2C%2041.995232%5D%2C%20%5B-122.378853%2C%2042.011663%5D%2C%20%5B-123.233256%2C%2042.006186%5D%2C%20%5B-124.213628%2C%2042.000709%5D%2C%20%5B-124.356029%2C%2042.115725%5D%2C%20%5B-124.432706%2C%2042.438865%5D%2C%20%5B-124.416275%2C%2042.663419%5D%2C%20%5B-124.553198%2C%2042.838681%5D%2C%20%5B-124.454613%2C%2043.002989%5D%2C%20%5B-124.383413%2C%2043.271359%5D%2C%20%5B-124.235536%2C%2043.55616%5D%2C%20%5B-124.169813%2C%2043.8081%5D%2C%20%5B-124.060274%2C%2044.657025%5D%2C%20%5B-124.076705%2C%2044.772041%5D%2C%20%5B-123.97812%2C%2045.144473%5D%2C%20%5B-123.939781%2C%2045.659305%5D%2C%20%5B-123.994551%2C%2045.944106%5D%2C%20%5B-123.945258%2C%2046.113892%5D%2C%20%5B-123.545441%2C%2046.261769%5D%2C%20%5B-123.370179%2C%2046.146753%5D%2C%20%5B-123.211348%2C%2046.174138%5D%5D%5D%2C%20%22type%22%3A%20%22Polygon%22%7D%2C%20%22id%22%3A%20%22OR%22%2C%20%22properties%22%3A%20%7B%22name%22%3A%20%22Oregon%22%7D%2C%20%22type%22%3A%20%22Feature%22%7D%2C%20%7B%22geometry%22%3A%20%7B%22coordinates%22%3A%20%5B%5B%5B-79.76278%2C%2042.252649%5D%2C%20%5B-79.76278%2C%2042.000709%5D%2C%20%5B-75.35932%2C%2042.000709%5D%2C%20%5B-75.249781%2C%2041.863786%5D%2C%20%5B-75.173104%2C%2041.869263%5D%2C%20%5B-75.052611%2C%2041.754247%5D%2C%20%5B-75.074519%2C%2041.60637%5D%2C%20%5B-74.89378%2C%2041.436584%5D%2C%20%5B-74.740426%2C%2041.431108%5D%2C%20%5B-74.69661%2C%2041.359907%5D%2C%20%5B-74.828057%2C%2041.288707%5D%2C%20%5B-74.882826%2C%2041.179168%5D%2C%20%5B-75.134765%2C%2040.971045%5D%2C%20%5B-75.052611%2C%2040.866983%5D%2C%20%5B-75.205966%2C%2040.691721%5D%2C%20%5B-75.195012%2C%2040.576705%5D%2C%20%5B-75.069042%2C%2040.543843%5D%2C%20%5B-75.058088%2C%2040.417874%5D%2C%20%5B-74.773287%2C%2040.215227%5D%2C%20%5B-74.82258%2C%2040.127596%5D%2C%20%5B-75.129289%2C%2039.963288%5D%2C%20%5B-75.145719%2C%2039.88661%5D%2C%20%5B-75.414089%2C%2039.804456%5D%2C%20%5B-75.616736%2C%2039.831841%5D%2C%20%5B-75.786521%2C%2039.722302%5D%2C%20%5B-79.477979%2C%2039.722302%5D%2C%20%5B-80.518598%2C%2039.722302%5D%2C%20%5B-80.518598%2C%2040.636951%5D%2C%20%5B-80.518598%2C%2041.978802%5D%2C%20%5B-80.518598%2C%2041.978802%5D%2C%20%5B-80.332382%2C%2042.033571%5D%2C%20%5B-79.76278%2C%2042.269079%5D%2C%20%5B-79.76278%2C%2042.252649%5D%5D%5D%2C%20%22type%22%3A%20%22Polygon%22%7D%2C%20%22id%22%3A%20%22PA%22%2C%20%22properties%22%3A%20%7B%22name%22%3A%20%22Pennsylvania%22%7D%2C%20%22type%22%3A%20%22Feature%22%7D%2C%20%7B%22geometry%22%3A%20%7B%22coordinates%22%3A%20%5B%5B%5B%5B-71.196845%2C%2041.67757%5D%2C%20%5B-71.120168%2C%2041.496831%5D%2C%20%5B-71.317338%2C%2041.474923%5D%2C%20%5B-71.196845%2C%2041.67757%5D%5D%5D%2C%20%5B%5B%5B-71.530939%2C%2042.01714%5D%2C%20%5B-71.383061%2C%2042.01714%5D%2C%20%5B-71.328292%2C%2041.781632%5D%2C%20%5B-71.22423%2C%2041.710431%5D%2C%20%5B-71.344723%2C%2041.726862%5D%2C%20%5B-71.448785%2C%2041.578985%5D%2C%20%5B-71.481646%2C%2041.370861%5D%2C%20%5B-71.859555%2C%2041.321569%5D%2C%20%5B-71.799309%2C%2041.414677%5D%2C%20%5B-71.799309%2C%2042.006186%5D%2C%20%5B-71.530939%2C%2042.01714%5D%5D%5D%5D%2C%20%22type%22%3A%20%22MultiPolygon%22%7D%2C%20%22id%22%3A%20%22RI%22%2C%20%22properties%22%3A%20%7B%22name%22%3A%20%22Rhode%20Island%22%7D%2C%20%22type%22%3A%20%22Feature%22%7D%2C%20%7B%22geometry%22%3A%20%7B%22coordinates%22%3A%20%5B%5B%5B-82.764143%2C%2035.066903%5D%2C%20%5B-82.550543%2C%2035.160011%5D%2C%20%5B-82.276696%2C%2035.198349%5D%2C%20%5B-81.044384%2C%2035.149057%5D%2C%20%5B-81.038907%2C%2035.044995%5D%2C%20%5B-80.934845%2C%2035.105241%5D%2C%20%5B-80.781491%2C%2034.935456%5D%2C%20%5B-80.797922%2C%2034.820441%5D%2C%20%5B-79.675149%2C%2034.80401%5D%2C%20%5B-78.541422%2C%2033.851022%5D%2C%20%5B-78.716684%2C%2033.80173%5D%2C%20%5B-78.935762%2C%2033.637421%5D%2C%20%5B-79.149363%2C%2033.380005%5D%2C%20%5B-79.187701%2C%2033.171881%5D%2C%20%5B-79.357487%2C%2033.007573%5D%2C%20%5B-79.582041%2C%2033.007573%5D%2C%20%5B-79.631334%2C%2032.887081%5D%2C%20%5B-79.866842%2C%2032.755634%5D%2C%20%5B-79.998289%2C%2032.613234%5D%2C%20%5B-80.206412%2C%2032.552987%5D%2C%20%5B-80.430967%2C%2032.399633%5D%2C%20%5B-80.452875%2C%2032.328433%5D%2C%20%5B-80.660998%2C%2032.246279%5D%2C%20%5B-80.885553%2C%2032.032678%5D%2C%20%5B-81.115584%2C%2032.120309%5D%2C%20%5B-81.121061%2C%2032.290094%5D%2C%20%5B-81.279893%2C%2032.558464%5D%2C%20%5B-81.416816%2C%2032.629664%5D%2C%20%5B-81.42777%2C%2032.843265%5D%2C%20%5B-81.493493%2C%2033.007573%5D%2C%20%5B-81.761863%2C%2033.160928%5D%2C%20%5B-81.937125%2C%2033.347144%5D%2C%20%5B-81.926172%2C%2033.462159%5D%2C%20%5B-82.194542%2C%2033.631944%5D%2C%20%5B-82.325988%2C%2033.81816%5D%2C%20%5B-82.55602%2C%2033.94413%5D%2C%20%5B-82.714851%2C%2034.152254%5D%2C%20%5B-82.747713%2C%2034.26727%5D%2C%20%5B-82.901067%2C%2034.486347%5D%2C%20%5B-83.005129%2C%2034.469916%5D%2C%20%5B-83.339222%2C%2034.683517%5D%2C%20%5B-83.322791%2C%2034.787579%5D%2C%20%5B-83.109191%2C%2035.00118%5D%2C%20%5B-82.764143%2C%2035.066903%5D%5D%5D%2C%20%22type%22%3A%20%22Polygon%22%7D%2C%20%22id%22%3A%20%22SC%22%2C%20%22properties%22%3A%20%7B%22name%22%3A%20%22South%20Carolina%22%7D%2C%20%22type%22%3A%20%22Feature%22%7D%2C%20%7B%22geometry%22%3A%20%7B%22coordinates%22%3A%20%5B%5B%5B-104.047534%2C%2045.944106%5D%2C%20%5B-96.560556%2C%2045.933153%5D%2C%20%5B-96.582464%2C%2045.818137%5D%2C%20%5B-96.856311%2C%2045.604536%5D%2C%20%5B-96.681049%2C%2045.412843%5D%2C%20%5B-96.451017%2C%2045.297827%5D%2C%20%5B-96.451017%2C%2043.501391%5D%2C%20%5B-96.582464%2C%2043.479483%5D%2C%20%5B-96.527695%2C%2043.397329%5D%2C%20%5B-96.560556%2C%2043.222067%5D%2C%20%5B-96.434587%2C%2043.123482%5D%2C%20%5B-96.511264%2C%2043.052282%5D%2C%20%5B-96.544125%2C%2042.855112%5D%2C%20%5B-96.631756%2C%2042.707235%5D%2C%20%5B-96.44554%2C%2042.488157%5D%2C%20%5B-96.626279%2C%2042.515542%5D%2C%20%5B-96.692003%2C%2042.657942%5D%2C%20%5B-97.217789%2C%2042.844158%5D%2C%20%5B-97.688806%2C%2042.844158%5D%2C%20%5B-97.831206%2C%2042.866066%5D%2C%20%5B-97.951699%2C%2042.767481%5D%2C%20%5B-98.466531%2C%2042.94822%5D%2C%20%5B-98.499393%2C%2042.997512%5D%2C%20%5B-101.626726%2C%2042.997512%5D%2C%20%5B-103.324578%2C%2043.002989%5D%2C%20%5B-104.053011%2C%2043.002989%5D%2C%20%5B-104.058488%2C%2044.996596%5D%2C%20%5B-104.042057%2C%2044.996596%5D%2C%20%5B-104.047534%2C%2045.944106%5D%5D%5D%2C%20%22type%22%3A%20%22Polygon%22%7D%2C%20%22id%22%3A%20%22SD%22%2C%20%22properties%22%3A%20%7B%22name%22%3A%20%22South%20Dakota%22%7D%2C%20%22type%22%3A%20%22Feature%22%7D%2C%20%7B%22geometry%22%3A%20%7B%22coordinates%22%3A%20%5B%5B%5B-88.054868%2C%2036.496384%5D%2C%20%5B-88.071299%2C%2036.677123%5D%2C%20%5B-87.852221%2C%2036.633308%5D%2C%20%5B-86.592525%2C%2036.655216%5D%2C%20%5B-85.486183%2C%2036.616877%5D%2C%20%5B-85.289013%2C%2036.627831%5D%2C%20%5B-84.544149%2C%2036.594969%5D%2C%20%5B-83.689746%2C%2036.584015%5D%2C%20%5B-83.673316%2C%2036.600446%5D%2C%20%5B-81.679709%2C%2036.589492%5D%2C%20%5B-81.723525%2C%2036.353984%5D%2C%20%5B-81.909741%2C%2036.304691%5D%2C%20%5B-82.03571%2C%2036.118475%5D%2C%20%5B-82.216449%2C%2036.156814%5D%2C%20%5B-82.610789%2C%2035.965121%5D%2C%20%5B-82.638174%2C%2036.063706%5D%2C%20%5B-82.775097%2C%2035.997983%5D%2C%20%5B-82.994175%2C%2035.773428%5D%2C%20%5B-83.251591%2C%2035.718659%5D%2C%20%5B-83.498053%2C%2035.565304%5D%2C%20%5B-83.7719%2C%2035.559827%5D%2C%20%5B-84.018363%2C%2035.41195%5D%2C%20%5B-84.09504%2C%2035.247642%5D%2C%20%5B-84.29221%2C%2035.225734%5D%2C%20%5B-84.319594%2C%2034.990226%5D%2C%20%5B-85.606675%2C%2034.984749%5D%2C%20%5B-87.359296%2C%2035.00118%5D%2C%20%5B-88.202745%2C%2034.995703%5D%2C%20%5B-88.471115%2C%2034.995703%5D%2C%20%5B-90.311367%2C%2034.995703%5D%2C%20%5B-90.212782%2C%2035.023087%5D%2C%20%5B-90.114197%2C%2035.198349%5D%2C%20%5B-90.130628%2C%2035.439335%5D%2C%20%5B-89.944412%2C%2035.603643%5D%2C%20%5B-89.911551%2C%2035.756997%5D%2C%20%5B-89.763673%2C%2035.811767%5D%2C%20%5B-89.730812%2C%2035.997983%5D%2C%20%5B-89.533642%2C%2036.249922%5D%2C%20%5B-89.539119%2C%2036.496384%5D%2C%20%5B-89.484349%2C%2036.496384%5D%2C%20%5B-89.418626%2C%2036.496384%5D%2C%20%5B-89.298133%2C%2036.507338%5D%2C%20%5B-88.054868%2C%2036.496384%5D%5D%5D%2C%20%22type%22%3A%20%22Polygon%22%7D%2C%20%22id%22%3A%20%22TN%22%2C%20%22properties%22%3A%20%7B%22name%22%3A%20%22Tennessee%22%7D%2C%20%22type%22%3A%20%22Feature%22%7D%2C%20%7B%22geometry%22%3A%20%7B%22coordinates%22%3A%20%5B%5B%5B-101.812942%2C%2036.501861%5D%2C%20%5B-100.000075%2C%2036.501861%5D%2C%20%5B-100.000075%2C%2034.563024%5D%2C%20%5B-99.923398%2C%2034.573978%5D%2C%20%5B-99.698843%2C%2034.382285%5D%2C%20%5B-99.57835%2C%2034.415147%5D%2C%20%5B-99.260688%2C%2034.404193%5D%2C%20%5B-99.189488%2C%2034.2125%5D%2C%20%5B-98.986841%2C%2034.223454%5D%2C%20%5B-98.767763%2C%2034.135823%5D%2C%20%5B-98.570593%2C%2034.146777%5D%2C%20%5B-98.488439%2C%2034.064623%5D%2C%20%5B-98.36247%2C%2034.157731%5D%2C%20%5B-98.170777%2C%2034.113915%5D%2C%20%5B-98.088623%2C%2034.004376%5D%2C%20%5B-97.946222%2C%2033.987946%5D%2C%20%5B-97.869545%2C%2033.851022%5D%2C%20%5B-97.694283%2C%2033.982469%5D%2C%20%5B-97.458774%2C%2033.905791%5D%2C%20%5B-97.371143%2C%2033.823637%5D%2C%20%5B-97.256128%2C%2033.861976%5D%2C%20%5B-97.173974%2C%2033.736006%5D%2C%20%5B-96.922034%2C%2033.960561%5D%2C%20%5B-96.850834%2C%2033.845545%5D%2C%20%5B-96.631756%2C%2033.845545%5D%2C%20%5B-96.423633%2C%2033.774345%5D%2C%20%5B-96.346956%2C%2033.686714%5D%2C%20%5B-96.149786%2C%2033.840068%5D%2C%20%5B-95.936185%2C%2033.889361%5D%2C%20%5B-95.8376%2C%2033.834591%5D%2C%20%5B-95.602092%2C%2033.933176%5D%2C%20%5B-95.547322%2C%2033.878407%5D%2C%20%5B-95.289906%2C%2033.87293%5D%2C%20%5B-95.224183%2C%2033.960561%5D%2C%20%5B-94.966767%2C%2033.861976%5D%2C%20%5B-94.868182%2C%2033.74696%5D%2C%20%5B-94.484796%2C%2033.637421%5D%2C%20%5B-94.380734%2C%2033.544313%5D%2C%20%5B-94.183564%2C%2033.593606%5D%2C%20%5B-94.041164%2C%2033.54979%5D%2C%20%5B-94.041164%2C%2033.018527%5D%2C%20%5B-94.041164%2C%2031.994339%5D%2C%20%5B-93.822086%2C%2031.775262%5D%2C%20%5B-93.816609%2C%2031.556184%5D%2C%20%5B-93.542762%2C%2031.15089%5D%2C%20%5B-93.526331%2C%2030.93729%5D%2C%20%5B-93.630393%2C%2030.679874%5D%2C%20%5B-93.728978%2C%2030.575812%5D%2C%20%5B-93.696116%2C%2030.438888%5D%2C%20%5B-93.767317%2C%2030.334826%5D%2C%20%5B-93.690639%2C%2030.143133%5D%2C%20%5B-93.926148%2C%2029.787132%5D%2C%20%5B-93.838517%2C%2029.688547%5D%2C%20%5B-94.002825%2C%2029.68307%5D%2C%20%5B-94.523134%2C%2029.546147%5D%2C%20%5B-94.70935%2C%2029.622824%5D%2C%20%5B-94.742212%2C%2029.787132%5D%2C%20%5B-94.873659%2C%2029.672117%5D%2C%20%5B-94.966767%2C%2029.699501%5D%2C%20%5B-95.016059%2C%2029.557101%5D%2C%20%5B-94.911997%2C%2029.496854%5D%2C%20%5B-94.895566%2C%2029.310638%5D%2C%20%5B-95.081782%2C%2029.113469%5D%2C%20%5B-95.383014%2C%2028.867006%5D%2C%20%5B-95.985477%2C%2028.604113%5D%2C%20%5B-96.045724%2C%2028.647929%5D%2C%20%5B-96.226463%2C%2028.582205%5D%2C%20%5B-96.23194%2C%2028.642452%5D%2C%20%5B-96.478402%2C%2028.598636%5D%2C%20%5B-96.593418%2C%2028.724606%5D%2C%20%5B-96.664618%2C%2028.697221%5D%2C%20%5B-96.401725%2C%2028.439805%5D%2C%20%5B-96.593418%2C%2028.357651%5D%2C%20%5B-96.774157%2C%2028.406943%5D%2C%20%5B-96.801542%2C%2028.226204%5D%2C%20%5B-97.026096%2C%2028.039988%5D%2C%20%5B-97.256128%2C%2027.694941%5D%2C%20%5B-97.404005%2C%2027.333463%5D%2C%20%5B-97.513544%2C%2027.360848%5D%2C%20%5B-97.540929%2C%2027.229401%5D%2C%20%5B-97.425913%2C%2027.262263%5D%2C%20%5B-97.480682%2C%2026.99937%5D%2C%20%5B-97.557359%2C%2026.988416%5D%2C%20%5B-97.562836%2C%2026.840538%5D%2C%20%5B-97.469728%2C%2026.758384%5D%2C%20%5B-97.442344%2C%2026.457153%5D%2C%20%5B-97.332805%2C%2026.353091%5D%2C%20%5B-97.30542%2C%2026.161398%5D%2C%20%5B-97.217789%2C%2025.991613%5D%2C%20%5B-97.524498%2C%2025.887551%5D%2C%20%5B-97.650467%2C%2026.018997%5D%2C%20%5B-97.885976%2C%2026.06829%5D%2C%20%5B-98.198161%2C%2026.057336%5D%2C%20%5B-98.466531%2C%2026.221644%5D%2C%20%5B-98.669178%2C%2026.238075%5D%2C%20%5B-98.822533%2C%2026.369522%5D%2C%20%5B-99.030656%2C%2026.413337%5D%2C%20%5B-99.173057%2C%2026.539307%5D%2C%20%5B-99.266165%2C%2026.840538%5D%2C%20%5B-99.446904%2C%2027.021277%5D%2C%20%5B-99.424996%2C%2027.174632%5D%2C%20%5B-99.50715%2C%2027.33894%5D%2C%20%5B-99.479765%2C%2027.48134%5D%2C%20%5B-99.605735%2C%2027.640172%5D%2C%20%5B-99.709797%2C%2027.656603%5D%2C%20%5B-99.879582%2C%2027.799003%5D%2C%20%5B-99.934351%2C%2027.979742%5D%2C%20%5B-100.082229%2C%2028.14405%5D%2C%20%5B-100.29583%2C%2028.280974%5D%2C%20%5B-100.399891%2C%2028.582205%5D%2C%20%5B-100.498476%2C%2028.66436%5D%2C%20%5B-100.629923%2C%2028.905345%5D%2C%20%5B-100.673738%2C%2029.102515%5D%2C%20%5B-100.799708%2C%2029.244915%5D%2C%20%5B-101.013309%2C%2029.370885%5D%2C%20%5B-101.062601%2C%2029.458516%5D%2C%20%5B-101.259771%2C%2029.535193%5D%2C%20%5B-101.413125%2C%2029.754271%5D%2C%20%5B-101.851281%2C%2029.803563%5D%2C%20%5B-102.114174%2C%2029.792609%5D%2C%20%5B-102.338728%2C%2029.869286%5D%2C%20%5B-102.388021%2C%2029.765225%5D%2C%20%5B-102.629006%2C%2029.732363%5D%2C%20%5B-102.809745%2C%2029.524239%5D%2C%20%5B-102.919284%2C%2029.190146%5D%2C%20%5B-102.97953%2C%2029.184669%5D%2C%20%5B-103.116454%2C%2028.987499%5D%2C%20%5B-103.280762%2C%2028.982022%5D%2C%20%5B-103.527224%2C%2029.135376%5D%2C%20%5B-104.146119%2C%2029.381839%5D%2C%20%5B-104.266611%2C%2029.513285%5D%2C%20%5B-104.507597%2C%2029.639255%5D%2C%20%5B-104.677382%2C%2029.924056%5D%2C%20%5B-104.688336%2C%2030.181472%5D%2C%20%5B-104.858121%2C%2030.389596%5D%2C%20%5B-104.896459%2C%2030.570335%5D%2C%20%5B-105.005998%2C%2030.685351%5D%2C%20%5B-105.394861%2C%2030.855136%5D%2C%20%5B-105.602985%2C%2031.085167%5D%2C%20%5B-105.77277%2C%2031.167321%5D%2C%20%5B-105.953509%2C%2031.364491%5D%2C%20%5B-106.205448%2C%2031.468553%5D%2C%20%5B-106.38071%2C%2031.731446%5D%2C%20%5B-106.528588%2C%2031.786216%5D%2C%20%5B-106.643603%2C%2031.901231%5D%2C%20%5B-106.616219%2C%2031.999816%5D%2C%20%5B-103.067161%2C%2031.999816%5D%2C%20%5B-103.067161%2C%2033.002096%5D%2C%20%5B-103.045254%2C%2034.01533%5D%2C%20%5B-103.039777%2C%2036.501861%5D%2C%20%5B-103.001438%2C%2036.501861%5D%2C%20%5B-101.812942%2C%2036.501861%5D%5D%5D%2C%20%22type%22%3A%20%22Polygon%22%7D%2C%20%22id%22%3A%20%22TX%22%2C%20%22properties%22%3A%20%7B%22name%22%3A%20%22Texas%22%7D%2C%20%22type%22%3A%20%22Feature%22%7D%2C%20%7B%22geometry%22%3A%20%7B%22coordinates%22%3A%20%5B%5B%5B-112.164359%2C%2041.995232%5D%2C%20%5B-111.047063%2C%2042.000709%5D%2C%20%5B-111.047063%2C%2040.998429%5D%2C%20%5B-109.04798%2C%2040.998429%5D%2C%20%5B-109.053457%2C%2039.125316%5D%2C%20%5B-109.058934%2C%2038.27639%5D%2C%20%5B-109.042503%2C%2038.166851%5D%2C%20%5B-109.042503%2C%2037.000263%5D%2C%20%5B-110.499369%2C%2037.00574%5D%2C%20%5B-114.048427%2C%2037.000263%5D%2C%20%5B-114.04295%2C%2041.995232%5D%2C%20%5B-112.164359%2C%2041.995232%5D%5D%5D%2C%20%22type%22%3A%20%22Polygon%22%7D%2C%20%22id%22%3A%20%22UT%22%2C%20%22properties%22%3A%20%7B%22name%22%3A%20%22Utah%22%7D%2C%20%22type%22%3A%20%22Feature%22%7D%2C%20%7B%22geometry%22%3A%20%7B%22coordinates%22%3A%20%5B%5B%5B-71.503554%2C%2045.013027%5D%2C%20%5B-71.4926%2C%2044.914442%5D%2C%20%5B-71.629524%2C%2044.750133%5D%2C%20%5B-71.536416%2C%2044.585825%5D%2C%20%5B-71.700724%2C%2044.41604%5D%2C%20%5B-72.034817%2C%2044.322932%5D%2C%20%5B-72.02934%2C%2044.07647%5D%2C%20%5B-72.116971%2C%2043.994316%5D%2C%20%5B-72.204602%2C%2043.769761%5D%2C%20%5B-72.379864%2C%2043.572591%5D%2C%20%5B-72.456542%2C%2043.150867%5D%2C%20%5B-72.445588%2C%2043.008466%5D%2C%20%5B-72.533219%2C%2042.953697%5D%2C%20%5B-72.544173%2C%2042.80582%5D%2C%20%5B-72.456542%2C%2042.729142%5D%2C%20%5B-73.267129%2C%2042.745573%5D%2C%20%5B-73.278083%2C%2042.833204%5D%2C%20%5B-73.245221%2C%2043.523299%5D%2C%20%5B-73.404052%2C%2043.687607%5D%2C%20%5B-73.349283%2C%2043.769761%5D%2C%20%5B-73.436914%2C%2044.043608%5D%2C%20%5B-73.321898%2C%2044.246255%5D%2C%20%5B-73.294514%2C%2044.437948%5D%2C%20%5B-73.387622%2C%2044.618687%5D%2C%20%5B-73.332852%2C%2044.804903%5D%2C%20%5B-73.343806%2C%2045.013027%5D%2C%20%5B-72.308664%2C%2045.002073%5D%2C%20%5B-71.503554%2C%2045.013027%5D%5D%5D%2C%20%22type%22%3A%20%22Polygon%22%7D%2C%20%22id%22%3A%20%22VT%22%2C%20%22properties%22%3A%20%7B%22name%22%3A%20%22Vermont%22%7D%2C%20%22type%22%3A%20%22Feature%22%7D%2C%20%7B%22geometry%22%3A%20%7B%22coordinates%22%3A%20%5B%5B%5B%5B-75.397659%2C%2038.013497%5D%2C%20%5B-75.244304%2C%2038.029928%5D%2C%20%5B-75.375751%2C%2037.860142%5D%2C%20%5B-75.512674%2C%2037.799896%5D%2C%20%5B-75.594828%2C%2037.569865%5D%2C%20%5B-75.802952%2C%2037.197433%5D%2C%20%5B-75.972737%2C%2037.120755%5D%2C%20%5B-76.027507%2C%2037.257679%5D%2C%20%5B-75.939876%2C%2037.564388%5D%2C%20%5B-75.671506%2C%2037.95325%5D%2C%20%5B-75.397659%2C%2038.013497%5D%5D%5D%2C%20%5B%5B%5B-76.016553%2C%2037.95325%5D%2C%20%5B-75.994645%2C%2037.95325%5D%2C%20%5B-76.043938%2C%2037.95325%5D%2C%20%5B-76.016553%2C%2037.95325%5D%5D%5D%2C%20%5B%5B%5B-78.349729%2C%2039.464886%5D%2C%20%5B-77.82942%2C%2039.130793%5D%2C%20%5B-77.719881%2C%2039.322485%5D%2C%20%5B-77.566527%2C%2039.306055%5D%2C%20%5B-77.456988%2C%2039.223901%5D%2C%20%5B-77.456988%2C%2039.076023%5D%2C%20%5B-77.248864%2C%2039.026731%5D%2C%20%5B-77.117418%2C%2038.933623%5D%2C%20%5B-77.040741%2C%2038.791222%5D%2C%20%5B-77.128372%2C%2038.632391%5D%2C%20%5B-77.248864%2C%2038.588575%5D%2C%20%5B-77.325542%2C%2038.446175%5D%2C%20%5B-77.281726%2C%2038.342113%5D%2C%20%5B-77.013356%2C%2038.374975%5D%2C%20%5B-76.964064%2C%2038.216144%5D%2C%20%5B-76.613539%2C%2038.15042%5D%2C%20%5B-76.514954%2C%2038.024451%5D%2C%20%5B-76.235631%2C%2037.887527%5D%2C%20%5B-76.3616%2C%2037.608203%5D%2C%20%5B-76.246584%2C%2037.389126%5D%2C%20%5B-76.383508%2C%2037.285064%5D%2C%20%5B-76.399939%2C%2037.159094%5D%2C%20%5B-76.273969%2C%2037.082417%5D%2C%20%5B-76.410893%2C%2036.961924%5D%2C%20%5B-76.619016%2C%2037.120755%5D%2C%20%5B-76.668309%2C%2037.065986%5D%2C%20%5B-76.48757%2C%2036.95097%5D%2C%20%5B-75.994645%2C%2036.923586%5D%2C%20%5B-75.868676%2C%2036.551154%5D%2C%20%5B-79.510841%2C%2036.5402%5D%2C%20%5B-80.294043%2C%2036.545677%5D%2C%20%5B-80.978661%2C%2036.562108%5D%2C%20%5B-81.679709%2C%2036.589492%5D%2C%20%5B-83.673316%2C%2036.600446%5D%2C%20%5B-83.136575%2C%2036.742847%5D%2C%20%5B-83.070852%2C%2036.852385%5D%2C%20%5B-82.879159%2C%2036.890724%5D%2C%20%5B-82.868205%2C%2036.978355%5D%2C%20%5B-82.720328%2C%2037.044078%5D%2C%20%5B-82.720328%2C%2037.120755%5D%2C%20%5B-82.353373%2C%2037.268633%5D%2C%20%5B-81.969987%2C%2037.537003%5D%2C%20%5B-81.986418%2C%2037.454849%5D%2C%20%5B-81.849494%2C%2037.285064%5D%2C%20%5B-81.679709%2C%2037.20291%5D%2C%20%5B-81.55374%2C%2037.208387%5D%2C%20%5B-81.362047%2C%2037.339833%5D%2C%20%5B-81.225123%2C%2037.235771%5D%2C%20%5B-80.967707%2C%2037.290541%5D%2C%20%5B-80.513121%2C%2037.482234%5D%2C%20%5B-80.474782%2C%2037.421987%5D%2C%20%5B-80.29952%2C%2037.509618%5D%2C%20%5B-80.294043%2C%2037.690357%5D%2C%20%5B-80.184505%2C%2037.849189%5D%2C%20%5B-79.998289%2C%2037.997066%5D%2C%20%5B-79.921611%2C%2038.177805%5D%2C%20%5B-79.724442%2C%2038.364021%5D%2C%20%5B-79.647764%2C%2038.594052%5D%2C%20%5B-79.477979%2C%2038.457129%5D%2C%20%5B-79.313671%2C%2038.413313%5D%2C%20%5B-79.209609%2C%2038.495467%5D%2C%20%5B-78.996008%2C%2038.851469%5D%2C%20%5B-78.870039%2C%2038.763838%5D%2C%20%5B-78.404499%2C%2039.169131%5D%2C%20%5B-78.349729%2C%2039.464886%5D%5D%5D%5D%2C%20%22type%22%3A%20%22MultiPolygon%22%7D%2C%20%22id%22%3A%20%22VA%22%2C%20%22properties%22%3A%20%7B%22name%22%3A%20%22Virginia%22%7D%2C%20%22type%22%3A%20%22Feature%22%7D%2C%20%7B%22geometry%22%3A%20%7B%22coordinates%22%3A%20%5B%5B%5B%5B-117.033359%2C%2049.000239%5D%2C%20%5B-117.044313%2C%2047.762451%5D%2C%20%5B-117.038836%2C%2046.426077%5D%2C%20%5B-117.055267%2C%2046.343923%5D%2C%20%5B-116.92382%2C%2046.168661%5D%2C%20%5B-116.918344%2C%2045.993399%5D%2C%20%5B-118.988627%2C%2045.998876%5D%2C%20%5B-119.125551%2C%2045.933153%5D%2C%20%5B-119.525367%2C%2045.911245%5D%2C%20%5B-119.963522%2C%2045.823614%5D%2C%20%5B-120.209985%2C%2045.725029%5D%2C%20%5B-120.505739%2C%2045.697644%5D%2C%20%5B-120.637186%2C%2045.746937%5D%2C%20%5B-121.18488%2C%2045.604536%5D%2C%20%5B-121.217742%2C%2045.670259%5D%2C%20%5B-121.535404%2C%2045.725029%5D%2C%20%5B-121.809251%2C%2045.708598%5D%2C%20%5B-122.247407%2C%2045.549767%5D%2C%20%5B-122.762239%2C%2045.659305%5D%2C%20%5B-122.811531%2C%2045.960537%5D%2C%20%5B-122.904639%2C%2046.08103%5D%2C%20%5B-123.11824%2C%2046.185092%5D%2C%20%5B-123.211348%2C%2046.174138%5D%2C%20%5B-123.370179%2C%2046.146753%5D%2C%20%5B-123.545441%2C%2046.261769%5D%2C%20%5B-123.72618%2C%2046.300108%5D%2C%20%5B-123.874058%2C%2046.239861%5D%2C%20%5B-124.065751%2C%2046.327492%5D%2C%20%5B-124.027412%2C%2046.464416%5D%2C%20%5B-123.895966%2C%2046.535616%5D%2C%20%5B-124.098612%2C%2046.74374%5D%2C%20%5B-124.235536%2C%2047.285957%5D%2C%20%5B-124.31769%2C%2047.357157%5D%2C%20%5B-124.427229%2C%2047.740543%5D%2C%20%5B-124.624399%2C%2047.88842%5D%2C%20%5B-124.706553%2C%2048.184175%5D%2C%20%5B-124.597014%2C%2048.381345%5D%2C%20%5B-124.394367%2C%2048.288237%5D%2C%20%5B-123.983597%2C%2048.162267%5D%2C%20%5B-123.704273%2C%2048.167744%5D%2C%20%5B-123.424949%2C%2048.118452%5D%2C%20%5B-123.162056%2C%2048.167744%5D%2C%20%5B-123.036086%2C%2048.080113%5D%2C%20%5B-122.800578%2C%2048.08559%5D%2C%20%5B-122.636269%2C%2047.866512%5D%2C%20%5B-122.515777%2C%2047.882943%5D%2C%20%5B-122.493869%2C%2047.587189%5D%2C%20%5B-122.422669%2C%2047.318818%5D%2C%20%5B-122.324084%2C%2047.346203%5D%2C%20%5B-122.422669%2C%2047.576235%5D%2C%20%5B-122.395284%2C%2047.800789%5D%2C%20%5B-122.230976%2C%2048.030821%5D%2C%20%5B-122.362422%2C%2048.123929%5D%2C%20%5B-122.373376%2C%2048.288237%5D%2C%20%5B-122.471961%2C%2048.468976%5D%2C%20%5B-122.422669%2C%2048.600422%5D%2C%20%5B-122.488392%2C%2048.753777%5D%2C%20%5B-122.647223%2C%2048.775685%5D%2C%20%5B-122.795101%2C%2048.8907%5D%2C%20%5B-122.756762%2C%2049.000239%5D%2C%20%5B-117.033359%2C%2049.000239%5D%5D%5D%2C%20%5B%5B%5B-122.718423%2C%2048.310145%5D%2C%20%5B-122.586977%2C%2048.35396%5D%2C%20%5B-122.608885%2C%2048.151313%5D%2C%20%5B-122.767716%2C%2048.227991%5D%2C%20%5B-122.718423%2C%2048.310145%5D%5D%5D%2C%20%5B%5B%5B-123.025132%2C%2048.583992%5D%2C%20%5B-122.915593%2C%2048.715438%5D%2C%20%5B-122.767716%2C%2048.556607%5D%2C%20%5B-122.811531%2C%2048.419683%5D%2C%20%5B-123.041563%2C%2048.458022%5D%2C%20%5B-123.025132%2C%2048.583992%5D%5D%5D%5D%2C%20%22type%22%3A%20%22MultiPolygon%22%7D%2C%20%22id%22%3A%20%22WA%22%2C%20%22properties%22%3A%20%7B%22name%22%3A%20%22Washington%22%7D%2C%20%22type%22%3A%20%22Feature%22%7D%2C%20%7B%22geometry%22%3A%20%7B%22coordinates%22%3A%20%5B%5B%5B-80.518598%2C%2040.636951%5D%2C%20%5B-80.518598%2C%2039.722302%5D%2C%20%5B-79.477979%2C%2039.722302%5D%2C%20%5B-79.488933%2C%2039.20747%5D%2C%20%5B-79.291763%2C%2039.300578%5D%2C%20%5B-79.094593%2C%2039.470363%5D%2C%20%5B-78.963147%2C%2039.437501%5D%2C%20%5B-78.765977%2C%2039.585379%5D%2C%20%5B-78.470222%2C%2039.514178%5D%2C%20%5B-78.431884%2C%2039.623717%5D%2C%20%5B-78.267575%2C%2039.61824%5D%2C%20%5B-78.174467%2C%2039.694917%5D%2C%20%5B-78.004682%2C%2039.601809%5D%2C%20%5B-77.834897%2C%2039.601809%5D%2C%20%5B-77.719881%2C%2039.322485%5D%2C%20%5B-77.82942%2C%2039.130793%5D%2C%20%5B-78.349729%2C%2039.464886%5D%2C%20%5B-78.404499%2C%2039.169131%5D%2C%20%5B-78.870039%2C%2038.763838%5D%2C%20%5B-78.996008%2C%2038.851469%5D%2C%20%5B-79.209609%2C%2038.495467%5D%2C%20%5B-79.313671%2C%2038.413313%5D%2C%20%5B-79.477979%2C%2038.457129%5D%2C%20%5B-79.647764%2C%2038.594052%5D%2C%20%5B-79.724442%2C%2038.364021%5D%2C%20%5B-79.921611%2C%2038.177805%5D%2C%20%5B-79.998289%2C%2037.997066%5D%2C%20%5B-80.184505%2C%2037.849189%5D%2C%20%5B-80.294043%2C%2037.690357%5D%2C%20%5B-80.29952%2C%2037.509618%5D%2C%20%5B-80.474782%2C%2037.421987%5D%2C%20%5B-80.513121%2C%2037.482234%5D%2C%20%5B-80.967707%2C%2037.290541%5D%2C%20%5B-81.225123%2C%2037.235771%5D%2C%20%5B-81.362047%2C%2037.339833%5D%2C%20%5B-81.55374%2C%2037.208387%5D%2C%20%5B-81.679709%2C%2037.20291%5D%2C%20%5B-81.849494%2C%2037.285064%5D%2C%20%5B-81.986418%2C%2037.454849%5D%2C%20%5B-81.969987%2C%2037.537003%5D%2C%20%5B-82.101434%2C%2037.553434%5D%2C%20%5B-82.293127%2C%2037.668449%5D%2C%20%5B-82.342419%2C%2037.783465%5D%2C%20%5B-82.50125%2C%2037.931343%5D%2C%20%5B-82.621743%2C%2038.123036%5D%2C%20%5B-82.594358%2C%2038.424267%5D%2C%20%5B-82.331465%2C%2038.446175%5D%2C%20%5B-82.293127%2C%2038.577622%5D%2C%20%5B-82.172634%2C%2038.632391%5D%2C%20%5B-82.221926%2C%2038.785745%5D%2C%20%5B-82.03571%2C%2039.026731%5D%2C%20%5B-81.887833%2C%2038.873376%5D%2C%20%5B-81.783771%2C%2038.966484%5D%2C%20%5B-81.811156%2C%2039.0815%5D%2C%20%5B-81.685186%2C%2039.273193%5D%2C%20%5B-81.57017%2C%2039.267716%5D%2C%20%5B-81.455155%2C%2039.410117%5D%2C%20%5B-81.345616%2C%2039.344393%5D%2C%20%5B-81.219646%2C%2039.388209%5D%2C%20%5B-80.830783%2C%2039.711348%5D%2C%20%5B-80.737675%2C%2040.078303%5D%2C%20%5B-80.600752%2C%2040.319289%5D%2C%20%5B-80.595275%2C%2040.472643%5D%2C%20%5B-80.666475%2C%2040.582182%5D%2C%20%5B-80.518598%2C%2040.636951%5D%5D%5D%2C%20%22type%22%3A%20%22Polygon%22%7D%2C%20%22id%22%3A%20%22WV%22%2C%20%22properties%22%3A%20%7B%22name%22%3A%20%22West%20Virginia%22%7D%2C%20%22type%22%3A%20%22Feature%22%7D%2C%20%7B%22geometry%22%3A%20%7B%22coordinates%22%3A%20%5B%5B%5B-90.415429%2C%2046.568478%5D%2C%20%5B-90.229213%2C%2046.508231%5D%2C%20%5B-90.119674%2C%2046.338446%5D%2C%20%5B-89.09001%2C%2046.135799%5D%2C%20%5B-88.662808%2C%2045.987922%5D%2C%20%5B-88.531362%2C%2046.020784%5D%2C%20%5B-88.10416%2C%2045.922199%5D%2C%20%5B-87.989145%2C%2045.796229%5D%2C%20%5B-87.781021%2C%2045.675736%5D%2C%20%5B-87.791975%2C%2045.500474%5D%2C%20%5B-87.885083%2C%2045.363551%5D%2C%20%5B-87.649574%2C%2045.341643%5D%2C%20%5B-87.742682%2C%2045.199243%5D%2C%20%5B-87.589328%2C%2045.095181%5D%2C%20%5B-87.627666%2C%2044.974688%5D%2C%20%5B-87.819359%2C%2044.95278%5D%2C%20%5B-87.983668%2C%2044.722749%5D%2C%20%5B-88.043914%2C%2044.563917%5D%2C%20%5B-87.928898%2C%2044.536533%5D%2C%20%5B-87.775544%2C%2044.640595%5D%2C%20%5B-87.611236%2C%2044.837764%5D%2C%20%5B-87.403112%2C%2044.914442%5D%2C%20%5B-87.238804%2C%2045.166381%5D%2C%20%5B-87.03068%2C%2045.22115%5D%2C%20%5B-87.047111%2C%2045.089704%5D%2C%20%5B-87.189511%2C%2044.969211%5D%2C%20%5B-87.468835%2C%2044.552964%5D%2C%20%5B-87.545512%2C%2044.322932%5D%2C%20%5B-87.540035%2C%2044.158624%5D%2C%20%5B-87.644097%2C%2044.103854%5D%2C%20%5B-87.737205%2C%2043.8793%5D%2C%20%5B-87.704344%2C%2043.687607%5D%2C%20%5B-87.791975%2C%2043.561637%5D%2C%20%5B-87.912467%2C%2043.249452%5D%2C%20%5B-87.885083%2C%2043.002989%5D%2C%20%5B-87.76459%2C%2042.783912%5D%2C%20%5B-87.802929%2C%2042.493634%5D%2C%20%5B-88.788778%2C%2042.493634%5D%2C%20%5B-90.639984%2C%2042.510065%5D%2C%20%5B-90.711184%2C%2042.636034%5D%2C%20%5B-91.067185%2C%2042.75105%5D%2C%20%5B-91.143862%2C%2042.909881%5D%2C%20%5B-91.176724%2C%2043.134436%5D%2C%20%5B-91.056231%2C%2043.254929%5D%2C%20%5B-91.204109%2C%2043.353514%5D%2C%20%5B-91.215062%2C%2043.501391%5D%2C%20%5B-91.269832%2C%2043.616407%5D%2C%20%5B-91.242447%2C%2043.775238%5D%2C%20%5B-91.43414%2C%2043.994316%5D%2C%20%5B-91.592971%2C%2044.032654%5D%2C%20%5B-91.877772%2C%2044.202439%5D%2C%20%5B-91.927065%2C%2044.333886%5D%2C%20%5B-92.233773%2C%2044.443425%5D%2C%20%5B-92.337835%2C%2044.552964%5D%2C%20%5B-92.545959%2C%2044.569394%5D%2C%20%5B-92.808852%2C%2044.750133%5D%2C%20%5B-92.737652%2C%2045.117088%5D%2C%20%5B-92.75956%2C%2045.286874%5D%2C%20%5B-92.644544%2C%2045.440228%5D%2C%20%5B-92.770513%2C%2045.566198%5D%2C%20%5B-92.885529%2C%2045.577151%5D%2C%20%5B-92.869098%2C%2045.719552%5D%2C%20%5B-92.639067%2C%2045.933153%5D%2C%20%5B-92.354266%2C%2046.015307%5D%2C%20%5B-92.29402%2C%2046.075553%5D%2C%20%5B-92.29402%2C%2046.667063%5D%2C%20%5B-92.091373%2C%2046.749217%5D%2C%20%5B-92.014696%2C%2046.705401%5D%2C%20%5B-91.790141%2C%2046.694447%5D%2C%20%5B-91.09457%2C%2046.864232%5D%2C%20%5B-90.837154%2C%2046.95734%5D%2C%20%5B-90.749522%2C%2046.88614%5D%2C%20%5B-90.886446%2C%2046.754694%5D%2C%20%5B-90.55783%2C%2046.584908%5D%2C%20%5B-90.415429%2C%2046.568478%5D%5D%5D%2C%20%22type%22%3A%20%22Polygon%22%7D%2C%20%22id%22%3A%20%22WI%22%2C%20%22properties%22%3A%20%7B%22name%22%3A%20%22Wisconsin%22%7D%2C%20%22type%22%3A%20%22Feature%22%7D%2C%20%7B%22geometry%22%3A%20%7B%22coordinates%22%3A%20%5B%5B%5B-109.080842%2C%2045.002073%5D%2C%20%5B-105.91517%2C%2045.002073%5D%2C%20%5B-104.058488%2C%2044.996596%5D%2C%20%5B-104.053011%2C%2043.002989%5D%2C%20%5B-104.053011%2C%2041.003906%5D%2C%20%5B-105.728954%2C%2040.998429%5D%2C%20%5B-107.919731%2C%2041.003906%5D%2C%20%5B-109.04798%2C%2040.998429%5D%2C%20%5B-111.047063%2C%2040.998429%5D%2C%20%5B-111.047063%2C%2042.000709%5D%2C%20%5B-111.047063%2C%2044.476286%5D%2C%20%5B-111.05254%2C%2045.002073%5D%2C%20%5B-109.080842%2C%2045.002073%5D%5D%5D%2C%20%22type%22%3A%20%22Polygon%22%7D%2C%20%22id%22%3A%20%22WY%22%2C%20%22properties%22%3A%20%7B%22name%22%3A%20%22Wyoming%22%7D%2C%20%22type%22%3A%20%22Feature%22%7D%5D%2C%20%22type%22%3A%20%22FeatureCollection%22%7D%29%3B%0A%0A%20%20%20%20%20%20%20%20%0A%20%20%20%20%0A%20%20%20%20var%20color_map_04574e3b87ef40e8ad12c1b12ca7debd%20%3D%20%7B%7D%3B%0A%0A%20%20%20%20%0A%20%20%20%20color_map_04574e3b87ef40e8ad12c1b12ca7debd.color%20%3D%20d3.scale.threshold%28%29%0A%20%20%20%20%20%20%20%20%20%20%20%20%20%20.domain%28%5B98.0%2C%20117.05410821643287%2C%20136.10821643286573%2C%20155.1623246492986%2C%20174.21643286573146%2C%20193.27054108216433%2C%20212.3246492985972%2C%20231.37875751503006%2C%20250.43286573146293%2C%20269.48697394789576%2C%20288.54108216432866%2C%20307.59519038076155%2C%20326.6492985971944%2C%20345.7034068136272%2C%20364.7575150300601%2C%20383.811623246493%2C%20402.86573146292585%2C%20421.91983967935874%2C%20440.9739478957916%2C%20460.0280561122245%2C%20479.0821643286573%2C%20498.1362725450902%2C%20517.1903807615231%2C%20536.2444889779559%2C%20555.2985971943888%2C%20574.3527054108217%2C%20593.4068136272545%2C%20612.4609218436874%2C%20631.5150300601202%2C%20650.5691382765531%2C%20669.623246492986%2C%20688.6773547094189%2C%20707.7314629258517%2C%20726.7855711422845%2C%20745.8396793587175%2C%20764.8937875751503%2C%20783.9478957915832%2C%20803.002004008016%2C%20822.056112224449%2C%20841.1102204408818%2C%20860.1643286573146%2C%20879.2184368737475%2C%20898.2725450901804%2C%20917.3266533066133%2C%20936.3807615230461%2C%20955.4348697394789%2C%20974.4889779559119%2C%20993.5430861723447%2C%201012.5971943887776%2C%201031.6513026052103%2C%201050.7054108216435%2C%201069.7595190380762%2C%201088.813627254509%2C%201107.8677354709419%2C%201126.9218436873748%2C%201145.9759519038075%2C%201165.0300601202405%2C%201184.0841683366734%2C%201203.1382765531062%2C%201222.192384769539%2C%201241.246492985972%2C%201260.3006012024048%2C%201279.3547094188377%2C%201298.4088176352705%2C%201317.4629258517034%2C%201336.5170340681364%2C%201355.571142284569%2C%201374.625250501002%2C%201393.679358717435%2C%201412.7334669338677%2C%201431.7875751503007%2C%201450.8416833667334%2C%201469.8957915831663%2C%201488.9498997995993%2C%201508.004008016032%2C%201527.058116232465%2C%201546.112224448898%2C%201565.1663326653306%2C%201584.2204408817636%2C%201603.2745490981963%2C%201622.3286573146293%2C%201641.3827655310622%2C%201660.436873747495%2C%201679.4909819639279%2C%201698.5450901803608%2C%201717.5991983967936%2C%201736.6533066132265%2C%201755.7074148296592%2C%201774.7615230460922%2C%201793.8156312625251%2C%201812.8697394789579%2C%201831.9238476953908%2C%201850.9779559118238%2C%201870.0320641282565%2C%201889.0861723446894%2C%201908.1402805611222%2C%201927.194388777555%2C%201946.248496993988%2C%201965.3026052104208%2C%201984.3567134268537%2C%202003.4108216432867%2C%202022.4649298597194%2C%202041.5190380761524%2C%202060.573146292585%2C%202079.627254509018%2C%202098.681362725451%2C%202117.7354709418837%2C%202136.789579158317%2C%202155.8436873747496%2C%202174.8977955911823%2C%202193.951903807615%2C%202213.0060120240482%2C%202232.060120240481%2C%202251.1142284569137%2C%202270.168336673347%2C%202289.2224448897796%2C%202308.2765531062123%2C%202327.3306613226455%2C%202346.384769539078%2C%202365.438877755511%2C%202384.492985971944%2C%202403.547094188377%2C%202422.6012024048096%2C%202441.6553106212423%2C%202460.7094188376755%2C%202479.763527054108%2C%202498.817635270541%2C%202517.871743486974%2C%202536.925851703407%2C%202555.9799599198395%2C%202575.0340681362727%2C%202594.0881763527054%2C%202613.142284569138%2C%202632.1963927855713%2C%202651.250501002004%2C%202670.304609218437%2C%202689.35871743487%2C%202708.4128256513027%2C%202727.4669338677354%2C%202746.521042084168%2C%202765.5751503006013%2C%202784.629258517034%2C%202803.6833667334668%2C%202822.7374749499%2C%202841.7915831663327%2C%202860.8456913827654%2C%202879.8997995991986%2C%202898.9539078156313%2C%202918.008016032064%2C%202937.062124248497%2C%202956.11623246493%2C%202975.1703406813626%2C%202994.224448897796%2C%203013.2785571142285%2C%203032.3326653306613%2C%203051.386773547094%2C%203070.440881763527%2C%203089.49498997996%2C%203108.5490981963926%2C%203127.603206412826%2C%203146.6573146292585%2C%203165.7114228456912%2C%203184.7655310621244%2C%203203.819639278557%2C%203222.87374749499%2C%203241.927855711423%2C%203260.9819639278558%2C%203280.0360721442885%2C%203299.0901803607217%2C%203318.1442885771544%2C%203337.198396793587%2C%203356.25250501002%2C%203375.306613226453%2C%203394.3607214428857%2C%203413.4148296593185%2C%203432.4689378757516%2C%203451.5230460921844%2C%203470.577154308617%2C%203489.6312625250503%2C%203508.685370741483%2C%203527.7394789579157%2C%203546.793587174349%2C%203565.8476953907816%2C%203584.9018036072143%2C%203603.9559118236475%2C%203623.0100200400802%2C%203642.064128256513%2C%203661.1182364729457%2C%203680.172344689379%2C%203699.2264529058116%2C%203718.2805611222443%2C%203737.3346693386775%2C%203756.38877755511%2C%203775.442885771543%2C%203794.496993987976%2C%203813.551102204409%2C%203832.6052104208416%2C%203851.6593186372747%2C%203870.7134268537075%2C%203889.76753507014%2C%203908.8216432865734%2C%203927.875751503006%2C%203946.929859719439%2C%203965.9839679358715%2C%203985.0380761523047%2C%204004.0921843687374%2C%204023.14629258517%2C%204042.2004008016033%2C%204061.254509018036%2C%204080.308617234469%2C%204099.362725450902%2C%204118.416833667335%2C%204137.470941883767%2C%204156.525050100201%2C%204175.579158316634%2C%204194.6332665330665%2C%204213.687374749499%2C%204232.741482965932%2C%204251.795591182365%2C%204270.849699398797%2C%204289.90380761523%2C%204308.957915831664%2C%204328.0120240480965%2C%204347.066132264529%2C%204366.120240480962%2C%204385.174348697395%2C%204404.228456913827%2C%204423.28256513026%2C%204442.336673346694%2C%204461.390781563126%2C%204480.444889779559%2C%204499.498997995992%2C%204518.553106212425%2C%204537.607214428857%2C%204556.661322645291%2C%204575.715430861724%2C%204594.769539078156%2C%204613.823647294589%2C%204632.877755511022%2C%204651.931863727455%2C%204670.985971943888%2C%204690.040080160321%2C%204709.094188376754%2C%204728.148296593186%2C%204747.202404809619%2C%204766.256513026052%2C%204785.310621242485%2C%204804.364729458918%2C%204823.418837675351%2C%204842.472945891784%2C%204861.527054108216%2C%204880.581162324649%2C%204899.635270541082%2C%204918.689378757515%2C%204937.743486973948%2C%204956.797595190381%2C%204975.851703406814%2C%204994.905811623246%2C%205013.959919839679%2C%205033.014028056112%2C%205052.068136272545%2C%205071.122244488978%2C%205090.176352705411%2C%205109.230460921844%2C%205128.284569138276%2C%205147.338677354709%2C%205166.392785571143%2C%205185.446893787575%2C%205204.501002004008%2C%205223.555110220441%2C%205242.609218436874%2C%205261.663326653306%2C%205280.71743486974%2C%205299.771543086173%2C%205318.825651302605%2C%205337.879759519038%2C%205356.933867735471%2C%205375.9879759519035%2C%205395.042084168336%2C%205414.09619238477%2C%205433.150300601203%2C%205452.204408817635%2C%205471.258517034068%2C%205490.312625250501%2C%205509.3667334669335%2C%205528.420841683367%2C%205547.4749498998%2C%205566.529058116233%2C%205585.583166332665%2C%205604.637274549098%2C%205623.691382765531%2C%205642.7454909819635%2C%205661.799599198397%2C%205680.85370741483%2C%205699.907815631263%2C%205718.961923847695%2C%205738.016032064128%2C%205757.070140280561%2C%205776.124248496994%2C%205795.178356713427%2C%205814.23246492986%2C%205833.2865731462925%2C%205852.340681362725%2C%205871.394789579158%2C%205890.448897795592%2C%205909.503006012024%2C%205928.557114228457%2C%205947.61122244489%2C%205966.6653306613225%2C%205985.719438877755%2C%206004.773547094188%2C%206023.827655310622%2C%206042.881763527054%2C%206061.935871743487%2C%206080.98997995992%2C%206100.0440881763525%2C%206119.098196392785%2C%206138.152304609219%2C%206157.206412825652%2C%206176.260521042084%2C%206195.314629258517%2C%206214.36873747495%2C%206233.4228456913825%2C%206252.476953907815%2C%206271.531062124249%2C%206290.5851703406815%2C%206309.639278557114%2C%206328.693386773547%2C%206347.74749498998%2C%206366.801603206412%2C%206385.855711422846%2C%206404.909819639279%2C%206423.9639278557115%2C%206443.018036072144%2C%206462.072144288577%2C%206481.12625250501%2C%206500.180360721443%2C%206519.234468937876%2C%206538.288577154309%2C%206557.3426853707415%2C%206576.396793587174%2C%206595.450901803607%2C%206614.50501002004%2C%206633.559118236473%2C%206652.613226452906%2C%206671.667334669339%2C%206690.7214428857715%2C%206709.775551102204%2C%206728.829659318637%2C%206747.883767535071%2C%206766.937875751503%2C%206785.991983967936%2C%206805.046092184369%2C%206824.100200400801%2C%206843.154308617234%2C%206862.208416833667%2C%206881.2625250501005%2C%206900.316633266533%2C%206919.370741482966%2C%206938.424849699399%2C%206957.478957915831%2C%206976.533066132264%2C%206995.587174348698%2C%207014.6412825651305%2C%207033.695390781563%2C%207052.749498997996%2C%207071.803607214429%2C%207090.857715430861%2C%207109.911823647295%2C%207128.965931863728%2C%207148.0200400801605%2C%207167.074148296593%2C%207186.128256513026%2C%207205.182364729459%2C%207224.236472945891%2C%207243.290581162325%2C%207262.344689378758%2C%207281.39879759519%2C%207300.452905811623%2C%207319.507014028056%2C%207338.561122244489%2C%207357.615230460922%2C%207376.669338677355%2C%207395.723446893788%2C%207414.77755511022%2C%207433.831663326653%2C%207452.885771543086%2C%207471.939879759519%2C%207490.993987975952%2C%207510.048096192385%2C%207529.102204408818%2C%207548.15631262525%2C%207567.210420841683%2C%207586.264529058116%2C%207605.3186372745495%2C%207624.372745490982%2C%207643.426853707415%2C%207662.480961923848%2C%207681.53507014028%2C%207700.589178356713%2C%207719.643286573147%2C%207738.697394789579%2C%207757.751503006012%2C%207776.805611222445%2C%207795.859719438878%2C%207814.91382765531%2C%207833.967935871743%2C%207853.022044088177%2C%207872.076152304609%2C%207891.130260521042%2C%207910.184368737475%2C%207929.238476953908%2C%207948.29258517034%2C%207967.346693386774%2C%207986.400801603207%2C%208005.454909819639%2C%208024.509018036072%2C%208043.563126252505%2C%208062.617234468938%2C%208081.67134268537%2C%208100.725450901804%2C%208119.779559118237%2C%208138.833667334669%2C%208157.887775551102%2C%208176.941883767535%2C%208195.995991983968%2C%208215.050100200402%2C%208234.104208416833%2C%208253.158316633268%2C%208272.212424849698%2C%208291.266533066133%2C%208310.320641282566%2C%208329.374749498998%2C%208348.428857715431%2C%208367.482965931864%2C%208386.537074148297%2C%208405.59118236473%2C%208424.645290581162%2C%208443.699398797595%2C%208462.753507014027%2C%208481.80761523046%2C%208500.861723446893%2C%208519.915831663327%2C%208538.96993987976%2C%208558.024048096193%2C%208577.078156312626%2C%208596.132264529058%2C%208615.186372745491%2C%208634.240480961924%2C%208653.294589178357%2C%208672.34869739479%2C%208691.402805611222%2C%208710.456913827655%2C%208729.511022044087%2C%208748.56513026052%2C%208767.619238476955%2C%208786.673346693387%2C%208805.72745490982%2C%208824.781563126253%2C%208843.835671342686%2C%208862.889779559118%2C%208881.943887775551%2C%208900.997995991984%2C%208920.052104208416%2C%208939.10621242485%2C%208958.160320641282%2C%208977.214428857715%2C%208996.268537074147%2C%209015.322645290582%2C%209034.376753507015%2C%209053.430861723447%2C%209072.48496993988%2C%209091.539078156313%2C%209110.593186372746%2C%209129.647294589178%2C%209148.701402805611%2C%209167.755511022044%2C%209186.809619238476%2C%209205.86372745491%2C%209224.917835671342%2C%209243.971943887776%2C%209263.02605210421%2C%209282.080160320642%2C%209301.134268537075%2C%209320.188376753507%2C%209339.24248496994%2C%209358.296593186373%2C%209377.350701402805%2C%209396.404809619238%2C%209415.458917835671%2C%209434.513026052104%2C%209453.567134268536%2C%209472.62124248497%2C%209491.675350701404%2C%209510.729458917836%2C%209529.78356713427%2C%209548.837675350702%2C%209567.891783567135%2C%209586.945891783567%2C%209606.0%5D%29%0A%20%20%20%20%20%20%20%20%20%20%20%20%20%20.range%28%5B%27%23ffffccff%27%2C%20%27%23ffffccff%27%2C%20%27%23ffffccff%27%2C%20%27%23ffffccff%27%2C%20%27%23ffffccff%27%2C%20%27%23ffffccff%27%2C%20%27%23ffffccff%27%2C%20%27%23ffffccff%27%2C%20%27%23ffffccff%27%2C%20%27%23ffffccff%27%2C%20%27%23ffffccff%27%2C%20%27%23ffffccff%27%2C%20%27%23ffffccff%27%2C%20%27%23ffffccff%27%2C%20%27%23ffffccff%27%2C%20%27%23ffffccff%27%2C%20%27%23ffffccff%27%2C%20%27%23ffffccff%27%2C%20%27%23ffffccff%27%2C%20%27%23ffffccff%27%2C%20%27%23ffffccff%27%2C%20%27%23ffffccff%27%2C%20%27%23ffffccff%27%2C%20%27%23ffffccff%27%2C%20%27%23ffffccff%27%2C%20%27%23ffffccff%27%2C%20%27%23ffffccff%27%2C%20%27%23ffffccff%27%2C%20%27%23ffffccff%27%2C%20%27%23ffffccff%27%2C%20%27%23ffffccff%27%2C%20%27%23ffffccff%27%2C%20%27%23ffffccff%27%2C%20%27%23ffffccff%27%2C%20%27%23ffffccff%27%2C%20%27%23ffffccff%27%2C%20%27%23ffffccff%27%2C%20%27%23ffffccff%27%2C%20%27%23ffffccff%27%2C%20%27%23ffffccff%27%2C%20%27%23ffffccff%27%2C%20%27%23ffffccff%27%2C%20%27%23ffffccff%27%2C%20%27%23ffffccff%27%2C%20%27%23ffffccff%27%2C%20%27%23ffffccff%27%2C%20%27%23ffffccff%27%2C%20%27%23ffffccff%27%2C%20%27%23ffffccff%27%2C%20%27%23ffffccff%27%2C%20%27%23ffffccff%27%2C%20%27%23ffffccff%27%2C%20%27%23ffffccff%27%2C%20%27%23ffffccff%27%2C%20%27%23ffffccff%27%2C%20%27%23ffffccff%27%2C%20%27%23ffffccff%27%2C%20%27%23ffffccff%27%2C%20%27%23ffffccff%27%2C%20%27%23ffffccff%27%2C%20%27%23ffffccff%27%2C%20%27%23ffffccff%27%2C%20%27%23ffffccff%27%2C%20%27%23ffffccff%27%2C%20%27%23ffffccff%27%2C%20%27%23ffffccff%27%2C%20%27%23ffffccff%27%2C%20%27%23ffffccff%27%2C%20%27%23ffffccff%27%2C%20%27%23ffffccff%27%2C%20%27%23ffffccff%27%2C%20%27%23ffffccff%27%2C%20%27%23ffffccff%27%2C%20%27%23ffffccff%27%2C%20%27%23ffffccff%27%2C%20%27%23ffffccff%27%2C%20%27%23ffffccff%27%2C%20%27%23ffffccff%27%2C%20%27%23ffffccff%27%2C%20%27%23ffffccff%27%2C%20%27%23ffffccff%27%2C%20%27%23ffffccff%27%2C%20%27%23ffffccff%27%2C%20%27%23ffffccff%27%2C%20%27%23d9f0a3ff%27%2C%20%27%23d9f0a3ff%27%2C%20%27%23d9f0a3ff%27%2C%20%27%23d9f0a3ff%27%2C%20%27%23d9f0a3ff%27%2C%20%27%23d9f0a3ff%27%2C%20%27%23d9f0a3ff%27%2C%20%27%23d9f0a3ff%27%2C%20%27%23d9f0a3ff%27%2C%20%27%23d9f0a3ff%27%2C%20%27%23d9f0a3ff%27%2C%20%27%23d9f0a3ff%27%2C%20%27%23d9f0a3ff%27%2C%20%27%23d9f0a3ff%27%2C%20%27%23d9f0a3ff%27%2C%20%27%23d9f0a3ff%27%2C%20%27%23d9f0a3ff%27%2C%20%27%23d9f0a3ff%27%2C%20%27%23d9f0a3ff%27%2C%20%27%23d9f0a3ff%27%2C%20%27%23d9f0a3ff%27%2C%20%27%23d9f0a3ff%27%2C%20%27%23d9f0a3ff%27%2C%20%27%23d9f0a3ff%27%2C%20%27%23d9f0a3ff%27%2C%20%27%23d9f0a3ff%27%2C%20%27%23d9f0a3ff%27%2C%20%27%23d9f0a3ff%27%2C%20%27%23d9f0a3ff%27%2C%20%27%23d9f0a3ff%27%2C%20%27%23d9f0a3ff%27%2C%20%27%23d9f0a3ff%27%2C%20%27%23d9f0a3ff%27%2C%20%27%23d9f0a3ff%27%2C%20%27%23d9f0a3ff%27%2C%20%27%23d9f0a3ff%27%2C%20%27%23d9f0a3ff%27%2C%20%27%23d9f0a3ff%27%2C%20%27%23d9f0a3ff%27%2C%20%27%23d9f0a3ff%27%2C%20%27%23d9f0a3ff%27%2C%20%27%23d9f0a3ff%27%2C%20%27%23d9f0a3ff%27%2C%20%27%23d9f0a3ff%27%2C%20%27%23d9f0a3ff%27%2C%20%27%23d9f0a3ff%27%2C%20%27%23d9f0a3ff%27%2C%20%27%23d9f0a3ff%27%2C%20%27%23d9f0a3ff%27%2C%20%27%23d9f0a3ff%27%2C%20%27%23d9f0a3ff%27%2C%20%27%23d9f0a3ff%27%2C%20%27%23d9f0a3ff%27%2C%20%27%23d9f0a3ff%27%2C%20%27%23d9f0a3ff%27%2C%20%27%23d9f0a3ff%27%2C%20%27%23d9f0a3ff%27%2C%20%27%23d9f0a3ff%27%2C%20%27%23d9f0a3ff%27%2C%20%27%23d9f0a3ff%27%2C%20%27%23d9f0a3ff%27%2C%20%27%23d9f0a3ff%27%2C%20%27%23d9f0a3ff%27%2C%20%27%23d9f0a3ff%27%2C%20%27%23d9f0a3ff%27%2C%20%27%23d9f0a3ff%27%2C%20%27%23d9f0a3ff%27%2C%20%27%23d9f0a3ff%27%2C%20%27%23d9f0a3ff%27%2C%20%27%23d9f0a3ff%27%2C%20%27%23d9f0a3ff%27%2C%20%27%23d9f0a3ff%27%2C%20%27%23d9f0a3ff%27%2C%20%27%23d9f0a3ff%27%2C%20%27%23d9f0a3ff%27%2C%20%27%23d9f0a3ff%27%2C%20%27%23d9f0a3ff%27%2C%20%27%23d9f0a3ff%27%2C%20%27%23d9f0a3ff%27%2C%20%27%23d9f0a3ff%27%2C%20%27%23d9f0a3ff%27%2C%20%27%23d9f0a3ff%27%2C%20%27%23d9f0a3ff%27%2C%20%27%23addd8eff%27%2C%20%27%23addd8eff%27%2C%20%27%23addd8eff%27%2C%20%27%23addd8eff%27%2C%20%27%23addd8eff%27%2C%20%27%23addd8eff%27%2C%20%27%23addd8eff%27%2C%20%27%23addd8eff%27%2C%20%27%23addd8eff%27%2C%20%27%23addd8eff%27%2C%20%27%23addd8eff%27%2C%20%27%23addd8eff%27%2C%20%27%23addd8eff%27%2C%20%27%23addd8eff%27%2C%20%27%23addd8eff%27%2C%20%27%23addd8eff%27%2C%20%27%23addd8eff%27%2C%20%27%23addd8eff%27%2C%20%27%23addd8eff%27%2C%20%27%23addd8eff%27%2C%20%27%23addd8eff%27%2C%20%27%23addd8eff%27%2C%20%27%23addd8eff%27%2C%20%27%23addd8eff%27%2C%20%27%23addd8eff%27%2C%20%27%23addd8eff%27%2C%20%27%23addd8eff%27%2C%20%27%23addd8eff%27%2C%20%27%23addd8eff%27%2C%20%27%23addd8eff%27%2C%20%27%23addd8eff%27%2C%20%27%23addd8eff%27%2C%20%27%23addd8eff%27%2C%20%27%23addd8eff%27%2C%20%27%23addd8eff%27%2C%20%27%23addd8eff%27%2C%20%27%23addd8eff%27%2C%20%27%23addd8eff%27%2C%20%27%23addd8eff%27%2C%20%27%23addd8eff%27%2C%20%27%23addd8eff%27%2C%20%27%23addd8eff%27%2C%20%27%23addd8eff%27%2C%20%27%23addd8eff%27%2C%20%27%23addd8eff%27%2C%20%27%23addd8eff%27%2C%20%27%23addd8eff%27%2C%20%27%23addd8eff%27%2C%20%27%23addd8eff%27%2C%20%27%23addd8eff%27%2C%20%27%23addd8eff%27%2C%20%27%23addd8eff%27%2C%20%27%23addd8eff%27%2C%20%27%23addd8eff%27%2C%20%27%23addd8eff%27%2C%20%27%23addd8eff%27%2C%20%27%23addd8eff%27%2C%20%27%23addd8eff%27%2C%20%27%23addd8eff%27%2C%20%27%23addd8eff%27%2C%20%27%23addd8eff%27%2C%20%27%23addd8eff%27%2C%20%27%23addd8eff%27%2C%20%27%23addd8eff%27%2C%20%27%23addd8eff%27%2C%20%27%23addd8eff%27%2C%20%27%23addd8eff%27%2C%20%27%23addd8eff%27%2C%20%27%23addd8eff%27%2C%20%27%23addd8eff%27%2C%20%27%23addd8eff%27%2C%20%27%23addd8eff%27%2C%20%27%23addd8eff%27%2C%20%27%23addd8eff%27%2C%20%27%23addd8eff%27%2C%20%27%23addd8eff%27%2C%20%27%23addd8eff%27%2C%20%27%23addd8eff%27%2C%20%27%23addd8eff%27%2C%20%27%23addd8eff%27%2C%20%27%23addd8eff%27%2C%20%27%23addd8eff%27%2C%20%27%23addd8eff%27%2C%20%27%2378c679ff%27%2C%20%27%2378c679ff%27%2C%20%27%2378c679ff%27%2C%20%27%2378c679ff%27%2C%20%27%2378c679ff%27%2C%20%27%2378c679ff%27%2C%20%27%2378c679ff%27%2C%20%27%2378c679ff%27%2C%20%27%2378c679ff%27%2C%20%27%2378c679ff%27%2C%20%27%2378c679ff%27%2C%20%27%2378c679ff%27%2C%20%27%2378c679ff%27%2C%20%27%2378c679ff%27%2C%20%27%2378c679ff%27%2C%20%27%2378c679ff%27%2C%20%27%2378c679ff%27%2C%20%27%2378c679ff%27%2C%20%27%2378c679ff%27%2C%20%27%2378c679ff%27%2C%20%27%2378c679ff%27%2C%20%27%2378c679ff%27%2C%20%27%2378c679ff%27%2C%20%27%2378c679ff%27%2C%20%27%2378c679ff%27%2C%20%27%2378c679ff%27%2C%20%27%2378c679ff%27%2C%20%27%2378c679ff%27%2C%20%27%2378c679ff%27%2C%20%27%2378c679ff%27%2C%20%27%2378c679ff%27%2C%20%27%2378c679ff%27%2C%20%27%2378c679ff%27%2C%20%27%2378c679ff%27%2C%20%27%2378c679ff%27%2C%20%27%2378c679ff%27%2C%20%27%2378c679ff%27%2C%20%27%2378c679ff%27%2C%20%27%2378c679ff%27%2C%20%27%2378c679ff%27%2C%20%27%2378c679ff%27%2C%20%27%2378c679ff%27%2C%20%27%2378c679ff%27%2C%20%27%2378c679ff%27%2C%20%27%2378c679ff%27%2C%20%27%2378c679ff%27%2C%20%27%2378c679ff%27%2C%20%27%2378c679ff%27%2C%20%27%2378c679ff%27%2C%20%27%2378c679ff%27%2C%20%27%2378c679ff%27%2C%20%27%2378c679ff%27%2C%20%27%2378c679ff%27%2C%20%27%2378c679ff%27%2C%20%27%2378c679ff%27%2C%20%27%2378c679ff%27%2C%20%27%2378c679ff%27%2C%20%27%2378c679ff%27%2C%20%27%2378c679ff%27%2C%20%27%2378c679ff%27%2C%20%27%2378c679ff%27%2C%20%27%2378c679ff%27%2C%20%27%2378c679ff%27%2C%20%27%2378c679ff%27%2C%20%27%2378c679ff%27%2C%20%27%2378c679ff%27%2C%20%27%2378c679ff%27%2C%20%27%2378c679ff%27%2C%20%27%2378c679ff%27%2C%20%27%2378c679ff%27%2C%20%27%2378c679ff%27%2C%20%27%2378c679ff%27%2C%20%27%2378c679ff%27%2C%20%27%2378c679ff%27%2C%20%27%2378c679ff%27%2C%20%27%2378c679ff%27%2C%20%27%2378c679ff%27%2C%20%27%2378c679ff%27%2C%20%27%2378c679ff%27%2C%20%27%2378c679ff%27%2C%20%27%2378c679ff%27%2C%20%27%2378c679ff%27%2C%20%27%2378c679ff%27%2C%20%27%2331a354ff%27%2C%20%27%2331a354ff%27%2C%20%27%2331a354ff%27%2C%20%27%2331a354ff%27%2C%20%27%2331a354ff%27%2C%20%27%2331a354ff%27%2C%20%27%2331a354ff%27%2C%20%27%2331a354ff%27%2C%20%27%2331a354ff%27%2C%20%27%2331a354ff%27%2C%20%27%2331a354ff%27%2C%20%27%2331a354ff%27%2C%20%27%2331a354ff%27%2C%20%27%2331a354ff%27%2C%20%27%2331a354ff%27%2C%20%27%2331a354ff%27%2C%20%27%2331a354ff%27%2C%20%27%2331a354ff%27%2C%20%27%2331a354ff%27%2C%20%27%2331a354ff%27%2C%20%27%2331a354ff%27%2C%20%27%2331a354ff%27%2C%20%27%2331a354ff%27%2C%20%27%2331a354ff%27%2C%20%27%2331a354ff%27%2C%20%27%2331a354ff%27%2C%20%27%2331a354ff%27%2C%20%27%2331a354ff%27%2C%20%27%2331a354ff%27%2C%20%27%2331a354ff%27%2C%20%27%2331a354ff%27%2C%20%27%2331a354ff%27%2C%20%27%2331a354ff%27%2C%20%27%2331a354ff%27%2C%20%27%2331a354ff%27%2C%20%27%2331a354ff%27%2C%20%27%2331a354ff%27%2C%20%27%2331a354ff%27%2C%20%27%2331a354ff%27%2C%20%27%2331a354ff%27%2C%20%27%2331a354ff%27%2C%20%27%2331a354ff%27%2C%20%27%2331a354ff%27%2C%20%27%2331a354ff%27%2C%20%27%2331a354ff%27%2C%20%27%2331a354ff%27%2C%20%27%2331a354ff%27%2C%20%27%2331a354ff%27%2C%20%27%2331a354ff%27%2C%20%27%2331a354ff%27%2C%20%27%2331a354ff%27%2C%20%27%2331a354ff%27%2C%20%27%2331a354ff%27%2C%20%27%2331a354ff%27%2C%20%27%2331a354ff%27%2C%20%27%2331a354ff%27%2C%20%27%2331a354ff%27%2C%20%27%2331a354ff%27%2C%20%27%2331a354ff%27%2C%20%27%2331a354ff%27%2C%20%27%2331a354ff%27%2C%20%27%2331a354ff%27%2C%20%27%2331a354ff%27%2C%20%27%2331a354ff%27%2C%20%27%2331a354ff%27%2C%20%27%2331a354ff%27%2C%20%27%2331a354ff%27%2C%20%27%2331a354ff%27%2C%20%27%2331a354ff%27%2C%20%27%2331a354ff%27%2C%20%27%2331a354ff%27%2C%20%27%2331a354ff%27%2C%20%27%2331a354ff%27%2C%20%27%2331a354ff%27%2C%20%27%2331a354ff%27%2C%20%27%2331a354ff%27%2C%20%27%2331a354ff%27%2C%20%27%2331a354ff%27%2C%20%27%2331a354ff%27%2C%20%27%2331a354ff%27%2C%20%27%2331a354ff%27%2C%20%27%2331a354ff%27%2C%20%27%2331a354ff%27%2C%20%27%23006837ff%27%2C%20%27%23006837ff%27%2C%20%27%23006837ff%27%2C%20%27%23006837ff%27%2C%20%27%23006837ff%27%2C%20%27%23006837ff%27%2C%20%27%23006837ff%27%2C%20%27%23006837ff%27%2C%20%27%23006837ff%27%2C%20%27%23006837ff%27%2C%20%27%23006837ff%27%2C%20%27%23006837ff%27%2C%20%27%23006837ff%27%2C%20%27%23006837ff%27%2C%20%27%23006837ff%27%2C%20%27%23006837ff%27%2C%20%27%23006837ff%27%2C%20%27%23006837ff%27%2C%20%27%23006837ff%27%2C%20%27%23006837ff%27%2C%20%27%23006837ff%27%2C%20%27%23006837ff%27%2C%20%27%23006837ff%27%2C%20%27%23006837ff%27%2C%20%27%23006837ff%27%2C%20%27%23006837ff%27%2C%20%27%23006837ff%27%2C%20%27%23006837ff%27%2C%20%27%23006837ff%27%2C%20%27%23006837ff%27%2C%20%27%23006837ff%27%2C%20%27%23006837ff%27%2C%20%27%23006837ff%27%2C%20%27%23006837ff%27%2C%20%27%23006837ff%27%2C%20%27%23006837ff%27%2C%20%27%23006837ff%27%2C%20%27%23006837ff%27%2C%20%27%23006837ff%27%2C%20%27%23006837ff%27%2C%20%27%23006837ff%27%2C%20%27%23006837ff%27%2C%20%27%23006837ff%27%2C%20%27%23006837ff%27%2C%20%27%23006837ff%27%2C%20%27%23006837ff%27%2C%20%27%23006837ff%27%2C%20%27%23006837ff%27%2C%20%27%23006837ff%27%2C%20%27%23006837ff%27%2C%20%27%23006837ff%27%2C%20%27%23006837ff%27%2C%20%27%23006837ff%27%2C%20%27%23006837ff%27%2C%20%27%23006837ff%27%2C%20%27%23006837ff%27%2C%20%27%23006837ff%27%2C%20%27%23006837ff%27%2C%20%27%23006837ff%27%2C%20%27%23006837ff%27%2C%20%27%23006837ff%27%2C%20%27%23006837ff%27%2C%20%27%23006837ff%27%2C%20%27%23006837ff%27%2C%20%27%23006837ff%27%2C%20%27%23006837ff%27%2C%20%27%23006837ff%27%2C%20%27%23006837ff%27%2C%20%27%23006837ff%27%2C%20%27%23006837ff%27%2C%20%27%23006837ff%27%2C%20%27%23006837ff%27%2C%20%27%23006837ff%27%2C%20%27%23006837ff%27%2C%20%27%23006837ff%27%2C%20%27%23006837ff%27%2C%20%27%23006837ff%27%2C%20%27%23006837ff%27%2C%20%27%23006837ff%27%2C%20%27%23006837ff%27%2C%20%27%23006837ff%27%2C%20%27%23006837ff%27%2C%20%27%23006837ff%27%2C%20%27%23006837ff%27%5D%29%3B%0A%20%20%20%20%0A%0A%20%20%20%20color_map_04574e3b87ef40e8ad12c1b12ca7debd.x%20%3D%20d3.scale.linear%28%29%0A%20%20%20%20%20%20%20%20%20%20%20%20%20%20.domain%28%5B98.0%2C%209606.0%5D%29%0A%20%20%20%20%20%20%20%20%20%20%20%20%20%20.range%28%5B0%2C%20400%5D%29%3B%0A%0A%20%20%20%20color_map_04574e3b87ef40e8ad12c1b12ca7debd.legend%20%3D%20L.control%28%7Bposition%3A%20%27topright%27%7D%29%3B%0A%20%20%20%20color_map_04574e3b87ef40e8ad12c1b12ca7debd.legend.onAdd%20%3D%20function%20%28map%29%20%7Bvar%20div%20%3D%20L.DomUtil.create%28%27div%27%2C%20%27legend%27%29%3B%20return%20div%7D%3B%0A%20%20%20%20color_map_04574e3b87ef40e8ad12c1b12ca7debd.legend.addTo%28map_5c291525162d4d7fa90bbf34f00bf97a%29%3B%0A%0A%20%20%20%20color_map_04574e3b87ef40e8ad12c1b12ca7debd.xAxis%20%3D%20d3.svg.axis%28%29%0A%20%20%20%20%20%20%20%20.scale%28color_map_04574e3b87ef40e8ad12c1b12ca7debd.x%29%0A%20%20%20%20%20%20%20%20.orient%28%22top%22%29%0A%20%20%20%20%20%20%20%20.tickSize%281%29%0A%20%20%20%20%20%20%20%20.tickValues%28%5B98.0%2C%201682.6666666666667%2C%203267.3333333333335%2C%204852.0%2C%206436.666666666667%2C%208021.333333333334%2C%209606.0%5D%29%3B%0A%0A%20%20%20%20color_map_04574e3b87ef40e8ad12c1b12ca7debd.svg%20%3D%20d3.select%28%22.legend.leaflet-control%22%29.append%28%22svg%22%29%0A%20%20%20%20%20%20%20%20.attr%28%22id%22%2C%20%27legend%27%29%0A%20%20%20%20%20%20%20%20.attr%28%22width%22%2C%20450%29%0A%20%20%20%20%20%20%20%20.attr%28%22height%22%2C%2040%29%3B%0A%0A%20%20%20%20color_map_04574e3b87ef40e8ad12c1b12ca7debd.g%20%3D%20color_map_04574e3b87ef40e8ad12c1b12ca7debd.svg.append%28%22g%22%29%0A%20%20%20%20%20%20%20%20.attr%28%22class%22%2C%20%22key%22%29%0A%20%20%20%20%20%20%20%20.attr%28%22transform%22%2C%20%22translate%2825%2C16%29%22%29%3B%0A%0A%20%20%20%20color_map_04574e3b87ef40e8ad12c1b12ca7debd.g.selectAll%28%22rect%22%29%0A%20%20%20%20%20%20%20%20.data%28color_map_04574e3b87ef40e8ad12c1b12ca7debd.color.range%28%29.map%28function%28d%2C%20i%29%20%7B%0A%20%20%20%20%20%20%20%20%20%20return%20%7B%0A%20%20%20%20%20%20%20%20%20%20%20%20x0%3A%20i%20%3F%20color_map_04574e3b87ef40e8ad12c1b12ca7debd.x%28color_map_04574e3b87ef40e8ad12c1b12ca7debd.color.domain%28%29%5Bi%20-%201%5D%29%20%3A%20color_map_04574e3b87ef40e8ad12c1b12ca7debd.x.range%28%29%5B0%5D%2C%0A%20%20%20%20%20%20%20%20%20%20%20%20x1%3A%20i%20%3C%20color_map_04574e3b87ef40e8ad12c1b12ca7debd.color.domain%28%29.length%20%3F%20color_map_04574e3b87ef40e8ad12c1b12ca7debd.x%28color_map_04574e3b87ef40e8ad12c1b12ca7debd.color.domain%28%29%5Bi%5D%29%20%3A%20color_map_04574e3b87ef40e8ad12c1b12ca7debd.x.range%28%29%5B1%5D%2C%0A%20%20%20%20%20%20%20%20%20%20%20%20z%3A%20d%0A%20%20%20%20%20%20%20%20%20%20%7D%3B%0A%20%20%20%20%20%20%20%20%7D%29%29%0A%20%20%20%20%20%20.enter%28%29.append%28%22rect%22%29%0A%20%20%20%20%20%20%20%20.attr%28%22height%22%2C%2010%29%0A%20%20%20%20%20%20%20%20.attr%28%22x%22%2C%20function%28d%29%20%7B%20return%20d.x0%3B%20%7D%29%0A%20%20%20%20%20%20%20%20.attr%28%22width%22%2C%20function%28d%29%20%7B%20return%20d.x1%20-%20d.x0%3B%20%7D%29%0A%20%20%20%20%20%20%20%20.style%28%22fill%22%2C%20function%28d%29%20%7B%20return%20d.z%3B%20%7D%29%3B%0A%0A%20%20%20%20color_map_04574e3b87ef40e8ad12c1b12ca7debd.g.call%28color_map_04574e3b87ef40e8ad12c1b12ca7debd.xAxis%29.append%28%22text%22%29%0A%20%20%20%20%20%20%20%20.attr%28%22class%22%2C%20%22caption%22%29%0A%20%20%20%20%20%20%20%20.attr%28%22y%22%2C%2021%29%0A%20%20%20%20%20%20%20%20.text%28%27Frequency%27%29%3B%0A%20%20%20%20%0A%20%20%20%20%20%20%20%20%20%20%20%20var%20layer_control_1537d99ad4dd476d8d53d10454e2da18%20%3D%20%7B%0A%20%20%20%20%20%20%20%20%20%20%20%20%20%20%20%20base_layers%20%3A%20%7B%0A%20%20%20%20%20%20%20%20%20%20%20%20%20%20%20%20%20%20%20%20%22openstreetmap%22%20%3A%20tile_layer_b020dd3322cd4b27ae5008b1efebcc68%2C%0A%20%20%20%20%20%20%20%20%20%20%20%20%20%20%20%20%7D%2C%0A%20%20%20%20%20%20%20%20%20%20%20%20%20%20%20%20overlays%20%3A%20%20%7B%0A%20%20%20%20%20%20%20%20%20%20%20%20%20%20%20%20%20%20%20%20%22choropleth%22%20%3A%20choropleth_91fbe38f6b9149a994540bcb0da6e5af%2C%0A%20%20%20%20%20%20%20%20%20%20%20%20%20%20%20%20%7D%2C%0A%20%20%20%20%20%20%20%20%20%20%20%20%7D%3B%0A%20%20%20%20%20%20%20%20%20%20%20%20L.control.layers%28%0A%20%20%20%20%20%20%20%20%20%20%20%20%20%20%20%20layer_control_1537d99ad4dd476d8d53d10454e2da18.base_layers%2C%0A%20%20%20%20%20%20%20%20%20%20%20%20%20%20%20%20layer_control_1537d99ad4dd476d8d53d10454e2da18.overlays%2C%0A%20%20%20%20%20%20%20%20%20%20%20%20%20%20%20%20%7B%22autoZIndex%22%3A%20true%2C%20%22collapsed%22%3A%20true%2C%20%22position%22%3A%20%22topright%22%7D%0A%20%20%20%20%20%20%20%20%20%20%20%20%29.addTo%28map_5c291525162d4d7fa90bbf34f00bf97a%29%3B%0A%20%20%20%20%20%20%20%20%0A%3C/script%3E onload=\"this.contentDocument.open();this.contentDocument.write(    decodeURIComponent(this.getAttribute('data-html')));this.contentDocument.close();\" allowfullscreen webkitallowfullscreen mozallowfullscreen></iframe></div></div>"
      ],
      "text/plain": [
       "<folium.folium.Map at 0x22bba9b7e50>"
      ]
     },
     "metadata": {},
     "output_type": "display_data"
    }
   ],
   "source": [
    "# Aggiungo i colori per la coropletica\n",
    "m.choropleth(\n",
    " geo_data=state_geo, \n",
    " name='choropleth',\n",
    " data= df_us,                        #i dati che voglio mappare\n",
    " columns=['state', 'frequency'],\n",
    " key_on='feature.properties.name',\n",
    " fill_color='YlGn',\n",
    " fill_opacity=0.7,\n",
    " line_opacity=0.2,\n",
    " legend_name='Frequency'\n",
    ")\n",
    "folium.LayerControl().add_to(m)\n",
    "\n",
    "display(m)"
   ]
  },
  {
   "cell_type": "markdown",
   "metadata": {},
   "source": [
    "Avvistamenti in base alla dimensione temporale"
   ]
  },
  {
   "cell_type": "code",
   "execution_count": 37,
   "metadata": {},
   "outputs": [
    {
     "name": "stderr",
     "output_type": "stream",
     "text": [
      "<ipython-input-37-72406013601f>:2: SettingWithCopyWarning: \n",
      "A value is trying to be set on a copy of a slice from a DataFrame.\n",
      "Try using .loc[row_indexer,col_indexer] = value instead\n",
      "\n",
      "See the caveats in the documentation: https://pandas.pydata.org/pandas-docs/stable/user_guide/indexing.html#returning-a-view-versus-a-copy\n",
      "  ufo_clean['year'] = pd.DatetimeIndex(ufo_clean['datetime']).year\n",
      "<ipython-input-37-72406013601f>:3: SettingWithCopyWarning: \n",
      "A value is trying to be set on a copy of a slice from a DataFrame.\n",
      "Try using .loc[row_indexer,col_indexer] = value instead\n",
      "\n",
      "See the caveats in the documentation: https://pandas.pydata.org/pandas-docs/stable/user_guide/indexing.html#returning-a-view-versus-a-copy\n",
      "  ufo_clean['month'] = pd.DatetimeIndex(ufo_clean['datetime']).month\n",
      "<ipython-input-37-72406013601f>:4: SettingWithCopyWarning: \n",
      "A value is trying to be set on a copy of a slice from a DataFrame.\n",
      "Try using .loc[row_indexer,col_indexer] = value instead\n",
      "\n",
      "See the caveats in the documentation: https://pandas.pydata.org/pandas-docs/stable/user_guide/indexing.html#returning-a-view-versus-a-copy\n",
      "  ufo_clean['day'] = pd.DatetimeIndex(ufo_clean['datetime']).day\n",
      "<ipython-input-37-72406013601f>:5: SettingWithCopyWarning: \n",
      "A value is trying to be set on a copy of a slice from a DataFrame.\n",
      "Try using .loc[row_indexer,col_indexer] = value instead\n",
      "\n",
      "See the caveats in the documentation: https://pandas.pydata.org/pandas-docs/stable/user_guide/indexing.html#returning-a-view-versus-a-copy\n",
      "  ufo_clean['hour'] = pd.DatetimeIndex(ufo_clean['datetime']).hour\n"
     ]
    }
   ],
   "source": [
    "# Creo nuove variabili temporali \n",
    "ufo_clean['year'] = pd.DatetimeIndex(ufo_clean['datetime']).year\n",
    "ufo_clean['month'] = pd.DatetimeIndex(ufo_clean['datetime']).month\n",
    "ufo_clean['day'] = pd.DatetimeIndex(ufo_clean['datetime']).day\n",
    "ufo_clean['hour'] = pd.DatetimeIndex(ufo_clean['datetime']).hour "
   ]
  },
  {
   "cell_type": "markdown",
   "metadata": {},
   "source": [
    "Frequenza degli avvistamenti annuali dal 1906 al 2014\n",
    "Notiamo un evidente aumento degli avvistamenti a partire dal 1995."
   ]
  },
  {
   "cell_type": "code",
   "execution_count": 38,
   "metadata": {},
   "outputs": [
    {
     "data": {
      "image/png": "[encoded data removed]",
      "text/plain": [
       "<Figure size 2160x720 with 1 Axes>"
      ]
     },
     "metadata": {
      "needs_background": "light"
     },
     "output_type": "display_data"
    }
   ],
   "source": [
    "plt.figure(figsize=(30,10))\n",
    "sns.countplot(x=ufo_clean['year'])\n",
    "plt.title('Avvistamenti per anno')\n",
    "plt.xlabel('Year')\n",
    "plt.show()"
   ]
  },
  {
   "cell_type": "markdown",
   "metadata": {},
   "source": [
    "Avvistamenti per mese\n",
    "Notiamo che il numero maggiore di avvistamenti è nei mesi caldi, in particolare a luglio"
   ]
  },
  {
   "cell_type": "code",
   "execution_count": 39,
   "metadata": {},
   "outputs": [
    {
     "data": {
      "image/png": "[encoded data removed]",
      "text/plain": [
       "<Figure size 720x504 with 1 Axes>"
      ]
     },
     "metadata": {
      "needs_background": "light"
     },
     "output_type": "display_data"
    }
   ],
   "source": [
    "plt.figure(figsize=(10,7))\n",
    "sns.countplot(x=ufo_clean['month'])\n",
    "plt.title('Avvistamenti per mese')\n",
    "plt.show()"
   ]
  },
  {
   "cell_type": "markdown",
   "metadata": {},
   "source": [
    "Avvistamenti per giorno del mese.\n",
    "Ci sono più avvistamenti il 1 e il 15 del mese. \n",
    "Il motivo?\n",
    "solo gli alieni lo sanno"
   ]
  },
  {
   "cell_type": "code",
   "execution_count": 40,
   "metadata": {},
   "outputs": [
    {
     "data": {
      "image/png": "[encoded data removed]",
      "text/plain": [
       "<Figure size 1440x504 with 1 Axes>"
      ]
     },
     "metadata": {
      "needs_background": "light"
     },
     "output_type": "display_data"
    }
   ],
   "source": [
    "plt.figure(figsize=(20,7))\n",
    "sns.countplot(x=ufo_clean['day'])\n",
    "plt.title('Avvistamenti per giorno del mese')\n",
    "plt.show()"
   ]
  },
  {
   "cell_type": "markdown",
   "metadata": {},
   "source": [
    "Avvistamenti per ora del giorno.\n",
    "Gli avvistamenti aumentano nelle ore serali a patire dalle 17, per arrivare ad un picco alle 21 e poi riscendere nella notte."
   ]
  },
  {
   "cell_type": "code",
   "execution_count": 41,
   "metadata": {},
   "outputs": [
    {
     "data": {
      "image/png": "[encoded data removed]",
      "text/plain": [
       "<Figure size 1440x504 with 1 Axes>"
      ]
     },
     "metadata": {
      "needs_background": "light"
     },
     "output_type": "display_data"
    }
   ],
   "source": [
    "plt.figure(figsize=(20,7))\n",
    "sns.countplot(x=ufo_clean['hour'])\n",
    "plt.title('Avvistamenti per ora del giorno')\n",
    "plt.show()"
   ]
  },
  {
   "cell_type": "markdown",
   "metadata": {},
   "source": [
    "Avvistamenti per giorno della settimana\n",
    "Il numero maggiore di avvistamenti è di sabato"
   ]
  },
  {
   "cell_type": "code",
   "execution_count": 42,
   "metadata": {},
   "outputs": [
    {
     "name": "stderr",
     "output_type": "stream",
     "text": [
      "<ipython-input-42-20e56cc100bb>:2: SettingWithCopyWarning: \n",
      "A value is trying to be set on a copy of a slice from a DataFrame.\n",
      "Try using .loc[row_indexer,col_indexer] = value instead\n",
      "\n",
      "See the caveats in the documentation: https://pandas.pydata.org/pandas-docs/stable/user_guide/indexing.html#returning-a-view-versus-a-copy\n",
      "  ufo_clean['dayofweek'] = pd.DatetimeIndex(ufo_clean['datetime']).dayofweek\n",
      "<ipython-input-42-20e56cc100bb>:3: SettingWithCopyWarning: \n",
      "A value is trying to be set on a copy of a slice from a DataFrame.\n",
      "Try using .loc[row_indexer,col_indexer] = value instead\n",
      "\n",
      "See the caveats in the documentation: https://pandas.pydata.org/pandas-docs/stable/user_guide/indexing.html#returning-a-view-versus-a-copy\n",
      "  ufo_clean['dayofweek'] = ufo_clean['dayofweek'].astype('str')\n",
      "<ipython-input-42-20e56cc100bb>:4: SettingWithCopyWarning: \n",
      "A value is trying to be set on a copy of a slice from a DataFrame.\n",
      "Try using .loc[row_indexer,col_indexer] = value instead\n",
      "\n",
      "See the caveats in the documentation: https://pandas.pydata.org/pandas-docs/stable/user_guide/indexing.html#returning-a-view-versus-a-copy\n",
      "  ufo_clean['dayofweek'] = ufo_clean['dayofweek'].replace({'0': 'Lunedì','1':'Martedì','2':'Mercoledì','3':'Giovedì','4':'Venerdì','5':'Sabato','6':'Domenica'}, regex=True)\n"
     ]
    }
   ],
   "source": [
    "#giorno della settimana\n",
    "ufo_clean['dayofweek'] = pd.DatetimeIndex(ufo_clean['datetime']).dayofweek\n",
    "ufo_clean['dayofweek'] = ufo_clean['dayofweek'].astype('str')\n",
    "ufo_clean['dayofweek'] = ufo_clean['dayofweek'].replace({'0': 'Lunedì','1':'Martedì','2':'Mercoledì','3':'Giovedì','4':'Venerdì','5':'Sabato','6':'Domenica'}, regex=True)"
   ]
  },
  {
   "cell_type": "code",
   "execution_count": 42,
   "metadata": {},
   "outputs": [
    {
     "data": {
      "image/png": "[encoded data removed]",
      "text/plain": [
       "<Figure size 720x504 with 1 Axes>"
      ]
     },
     "metadata": {
      "needs_background": "light"
     },
     "output_type": "display_data"
    }
   ],
   "source": [
    "plt.figure(figsize=(10,7))\n",
    "sns.countplot(x = ufo_clean['dayofweek'], order=['Lunedì', 'Martedì', 'Mercoledì', 'Giovedì', 'Venerdì', 'Sabato', 'Domenica'])\n",
    "plt.title('Avvistamenti per giorno della settimana')\n",
    "plt.show()"
   ]
  },
  {
   "cell_type": "markdown",
   "metadata": {},
   "source": [
    "# commenti"
   ]
  },
  {
   "cell_type": "code",
   "execution_count": 43,
   "metadata": {},
   "outputs": [],
   "source": [
    "comments = ufo_clean['comments'].dropna().tolist() # rimuovo i missing e trasformo in lista\n",
    "com2 = \"\".join(comments) #unisco i commenti "
   ]
  },
  {
   "cell_type": "code",
   "execution_count": 44,
   "metadata": {},
   "outputs": [],
   "source": [
    "from wordcloud import WordCloud "
   ]
  },
  {
   "cell_type": "code",
   "execution_count": 45,
   "metadata": {},
   "outputs": [],
   "source": [
    "from PIL import Image  # importo l'immagine"
   ]
  },
  {
   "cell_type": "code",
   "execution_count": 46,
   "metadata": {},
   "outputs": [],
   "source": [
    "ufo_mask = np.array(Image.open( \"ufo2.jpg\")) # Carico l'immagine"
   ]
  },
  {
   "cell_type": "code",
   "execution_count": 47,
   "metadata": {},
   "outputs": [
    {
     "data": {
      "image/png": "[encoded data removed]",
      "text/plain": [
       "<Figure size 432x288 with 1 Axes>"
      ]
     },
     "metadata": {
      "needs_background": "light"
     },
     "output_type": "display_data"
    }
   ],
   "source": [
    "# Creo il wordcloud\n",
    "wordcloud = WordCloud(mask=ufo_mask).generate(com2)\n",
    "plt.figure()\n",
    "plt.imshow(wordcloud, interpolation=\"bilinear\")\n",
    "plt.axis(\"off\")\n",
    "plt.margins(x=0, y=0)\n",
    "plt.show()"
   ]
  },
  {
   "cell_type": "markdown",
   "metadata": {},
   "source": [
    "Forma degli UFO"
   ]
  },
  {
   "cell_type": "code",
   "execution_count": 48,
   "metadata": {},
   "outputs": [
    {
     "data": {
      "text/plain": [
       "([<matplotlib.axis.XTick at 0x22bbc265100>,\n",
       "  <matplotlib.axis.XTick at 0x22bbc265130>,\n",
       "  <matplotlib.axis.XTick at 0x22bbc2638b0>,\n",
       "  <matplotlib.axis.XTick at 0x22bbc1fd370>,\n",
       "  <matplotlib.axis.XTick at 0x22bbc1dd790>,\n",
       "  <matplotlib.axis.XTick at 0x22bbc1dd550>,\n",
       "  <matplotlib.axis.XTick at 0x22bbc1d7580>,\n",
       "  <matplotlib.axis.XTick at 0x22bbc1d7700>,\n",
       "  <matplotlib.axis.XTick at 0x22bbc1d76a0>,\n",
       "  <matplotlib.axis.XTick at 0x22bbc1dabb0>,\n",
       "  <matplotlib.axis.XTick at 0x22bbc1da970>,\n",
       "  <matplotlib.axis.XTick at 0x22bbc1da520>,\n",
       "  <matplotlib.axis.XTick at 0x22bbc1d7220>,\n",
       "  <matplotlib.axis.XTick at 0x22bbc1dd880>,\n",
       "  <matplotlib.axis.XTick at 0x22bbc1daf10>,\n",
       "  <matplotlib.axis.XTick at 0x22bbc16d2e0>,\n",
       "  <matplotlib.axis.XTick at 0x22bbc16d970>,\n",
       "  <matplotlib.axis.XTick at 0x22bbc16d1f0>,\n",
       "  <matplotlib.axis.XTick at 0x22bbc15fa30>,\n",
       "  <matplotlib.axis.XTick at 0x22bbc15f940>,\n",
       "  <matplotlib.axis.XTick at 0x22bbc15f910>,\n",
       "  <matplotlib.axis.XTick at 0x22bbc15fd60>,\n",
       "  <matplotlib.axis.XTick at 0x22bbc16d5b0>,\n",
       "  <matplotlib.axis.XTick at 0x22bbc1dd070>,\n",
       "  <matplotlib.axis.XTick at 0x22bbc1d2b80>,\n",
       "  <matplotlib.axis.XTick at 0x22bbc1d20d0>,\n",
       "  <matplotlib.axis.XTick at 0x22bbc1d2d90>,\n",
       "  <matplotlib.axis.XTick at 0x22bbc7d3370>,\n",
       "  <matplotlib.axis.XTick at 0x22bbc144a30>],\n",
       " [Text(0, 0, 'light'),\n",
       "  Text(1, 0, 'triangle'),\n",
       "  Text(2, 0, 'circle'),\n",
       "  Text(3, 0, 'fireball'),\n",
       "  Text(4, 0, 'other'),\n",
       "  Text(5, 0, 'unknown'),\n",
       "  Text(6, 0, 'sphere'),\n",
       "  Text(7, 0, 'disk'),\n",
       "  Text(8, 0, 'oval'),\n",
       "  Text(9, 0, 'formation'),\n",
       "  Text(10, 0, 'cigar'),\n",
       "  Text(11, 0, 'changing'),\n",
       "  Text(12, 0, 'flash'),\n",
       "  Text(13, 0, 'rectangle'),\n",
       "  Text(14, 0, 'cylinder'),\n",
       "  Text(15, 0, 'diamond'),\n",
       "  Text(16, 0, 'chevron'),\n",
       "  Text(17, 0, 'egg'),\n",
       "  Text(18, 0, 'teardrop'),\n",
       "  Text(19, 0, 'cone'),\n",
       "  Text(20, 0, 'cross'),\n",
       "  Text(21, 0, 'delta'),\n",
       "  Text(22, 0, 'crescent'),\n",
       "  Text(23, 0, 'round'),\n",
       "  Text(24, 0, 'hexagon'),\n",
       "  Text(25, 0, 'flare'),\n",
       "  Text(26, 0, 'dome'),\n",
       "  Text(27, 0, 'changed'),\n",
       "  Text(28, 0, 'pyramid')])"
      ]
     },
     "execution_count": 48,
     "metadata": {},
     "output_type": "execute_result"
    },
    {
     "data": {
      "image/png": "[encoded data removed]",
      "text/plain": [
       "<Figure size 432x288 with 1 Axes>"
      ]
     },
     "metadata": {
      "needs_background": "light"
     },
     "output_type": "display_data"
    }
   ],
   "source": [
    "# barplot delle shape\n",
    "counts = ufo_clean['shape'].value_counts()\n",
    "names = counts.index\n",
    "\n",
    "postionofbars = list(range(len(names)))\n",
    "plt.bar(postionofbars,counts)\n",
    "plt.xticks(postionofbars,names,rotation=90)"
   ]
  },
  {
   "cell_type": "markdown",
   "metadata": {},
   "source": [
    "Aggrego le forme simili"
   ]
  },
  {
   "cell_type": "code",
   "execution_count": 49,
   "metadata": {},
   "outputs": [
    {
     "name": "stderr",
     "output_type": "stream",
     "text": [
      "<ipython-input-49-0676a915c5f7>:4: SettingWithCopyWarning: \n",
      "A value is trying to be set on a copy of a slice from a DataFrame.\n",
      "Try using .loc[row_indexer,col_indexer] = value instead\n",
      "\n",
      "See the caveats in the documentation: https://pandas.pydata.org/pandas-docs/stable/user_guide/indexing.html#returning-a-view-versus-a-copy\n",
      "  ufo_clean['shape_group2'] = [\"circular or light\" if x in circular_light\n"
     ]
    }
   ],
   "source": [
    "circular_light = [\"disk\", \"circle\", \"sphere\", \"egg\", \"oval\", \"round\", \"light\", \"fireball\", \"flash\", \"flare\"]\n",
    "geometric_other = [\"triangle\", \"delta\", \"diamond\", \"pyramid\", \"chevron\", \"rectangle\", \"cylinder\", \"cone\", \"hexagon\", \"other\", \"unknow\", \"formation\", \"cigar\", \"changing\", \"teardrop\", \"cross\", \"crescent\", \"dome\", \"changed\"]\n",
    "\n",
    "ufo_clean['shape_group2'] = [\"circular or light\" if x in circular_light\n",
    "                             else \"geometricor other\"\n",
    "                             for x in ufo_clean['shape']]"
   ]
  },
  {
   "cell_type": "code",
   "execution_count": 50,
   "metadata": {},
   "outputs": [
    {
     "data": {
      "text/plain": [
       "([<matplotlib.axis.XTick at 0x22bbc1ffa90>,\n",
       "  <matplotlib.axis.XTick at 0x22bbc0b58b0>],\n",
       " [Text(0, 0, 'circular or light'), Text(1, 0, 'geometricor other')])"
      ]
     },
     "execution_count": 50,
     "metadata": {},
     "output_type": "execute_result"
    },
    {
     "data": {
      "image/png": "[encoded data removed]",
      "text/plain": [
       "<Figure size 432x288 with 1 Axes>"
      ]
     },
     "metadata": {
      "needs_background": "light"
     },
     "output_type": "display_data"
    }
   ],
   "source": [
    "# barplot delle shape\n",
    "counts = ufo_clean['shape_group2'].value_counts()\n",
    "names = counts.index\n",
    "\n",
    "postionofbars = list(range(len(names)))\n",
    "plt.bar(postionofbars,counts)\n",
    "plt.xticks(postionofbars,names,rotation=90)"
   ]
  },
  {
   "cell_type": "markdown",
   "metadata": {},
   "source": [
    "### Multinomial Naive Bayes"
   ]
  },
  {
   "cell_type": "markdown",
   "metadata": {},
   "source": [
    "Utilizzeremo il Naive Bayes per fare text classification.\n",
    "Faremo riferimento alla variabile *comments*. L'obiettivo è quello di prevedere la classe di apparteneza in base al tipo di commento.\n",
    "La classe di appartenenza è definita da *shape group2*.\n",
    "Utilizzeremo quindi il seguente dataset."
   ]
  },
  {
   "cell_type": "code",
   "execution_count": 67,
   "metadata": {},
   "outputs": [
    {
     "data": {
      "text/html": [
       "<div>\n",
       "<style scoped>\n",
       "    .dataframe tbody tr th:only-of-type {\n",
       "        vertical-align: middle;\n",
       "    }\n",
       "\n",
       "    .dataframe tbody tr th {\n",
       "        vertical-align: top;\n",
       "    }\n",
       "\n",
       "    .dataframe thead th {\n",
       "        text-align: right;\n",
       "    }\n",
       "</style>\n",
       "<table border=\"1\" class=\"dataframe\">\n",
       "  <thead>\n",
       "    <tr style=\"text-align: right;\">\n",
       "      <th></th>\n",
       "      <th>comments</th>\n",
       "      <th>shape_group2</th>\n",
       "    </tr>\n",
       "  </thead>\n",
       "  <tbody>\n",
       "    <tr>\n",
       "      <th>0</th>\n",
       "      <td>This event took place in early fall around 194...</td>\n",
       "      <td>geometricor other</td>\n",
       "    </tr>\n",
       "    <tr>\n",
       "      <th>1</th>\n",
       "      <td>1949 Lackland AFB&amp;#44 TX.  Lights racing acros...</td>\n",
       "      <td>circular or light</td>\n",
       "    </tr>\n",
       "    <tr>\n",
       "      <th>2</th>\n",
       "      <td>Green/Orange circular disc over Chester&amp;#44 En...</td>\n",
       "      <td>circular or light</td>\n",
       "    </tr>\n",
       "    <tr>\n",
       "      <th>3</th>\n",
       "      <td>My older brother and twin sister were leaving ...</td>\n",
       "      <td>circular or light</td>\n",
       "    </tr>\n",
       "    <tr>\n",
       "      <th>4</th>\n",
       "      <td>AS a Marine 1st Lt. flying an FJ4B fighter/att...</td>\n",
       "      <td>circular or light</td>\n",
       "    </tr>\n",
       "  </tbody>\n",
       "</table>\n",
       "</div>"
      ],
      "text/plain": [
       "                                            comments       shape_group2\n",
       "0  This event took place in early fall around 194...  geometricor other\n",
       "1  1949 Lackland AFB&#44 TX.  Lights racing acros...  circular or light\n",
       "2  Green/Orange circular disc over Chester&#44 En...  circular or light\n",
       "3  My older brother and twin sister were leaving ...  circular or light\n",
       "4  AS a Marine 1st Lt. flying an FJ4B fighter/att...  circular or light"
      ]
     },
     "execution_count": 67,
     "metadata": {},
     "output_type": "execute_result"
    }
   ],
   "source": [
    "ufo_clean[['comments', 'shape_group2']].head()"
   ]
  },
  {
   "cell_type": "code",
   "execution_count": 68,
   "metadata": {},
   "outputs": [],
   "source": [
    "#Rimiovo le osservazioni che non hanno shape o comments\n",
    "ufo_clean = ufo_clean.dropna(axis = 0, subset = ['shape', 'comments'])\n",
    "ufo_clean['comments'] = ufo_clean['comments'].astype(str) #trasformo i commenti in stringa"
   ]
  },
  {
   "cell_type": "code",
   "execution_count": 69,
   "metadata": {},
   "outputs": [
    {
     "data": {
      "text/plain": [
       "circular or light    46798\n",
       "geometricor other    31594\n",
       "Name: shape_group2, dtype: int64"
      ]
     },
     "execution_count": 69,
     "metadata": {},
     "output_type": "execute_result"
    }
   ],
   "source": [
    "ufo_clean['shape_group2'].value_counts()"
   ]
  },
  {
   "cell_type": "markdown",
   "metadata": {},
   "source": [
    "### Natural Language Processing\n",
    "Prima di procedere con il Naive Bayes dobbiamo applicare delle trasformazioni ai commenti"
   ]
  },
  {
   "cell_type": "code",
   "execution_count": 70,
   "metadata": {},
   "outputs": [],
   "source": [
    "import nltk \n",
    "from nltk import word_tokenize #per splittare una frase in parole"
   ]
  },
  {
   "cell_type": "code",
   "execution_count": 71,
   "metadata": {},
   "outputs": [
    {
     "name": "stdout",
     "output_type": "stream",
     "text": [
      "{'this', 'you', 'against', 'they', 'did', 'only', 'these', 'ain', \"aren't\", 'needn', 'aren', 'not', 'after', 'himself', 'during', 'weren', 'will', 'into', 'those', 'now', 'ourselves', 'having', 'have', 'who', 'haven', 'between', \"don't\", \"you'll\", 'was', 'had', 'other', 'own', 'be', 'don', 'any', 'yours', 'when', 'if', 'at', 'them', 'yourself', 'couldn', 'for', 'of', 'from', 'each', 'while', 'herself', 'and', 'won', 'an', 'just', 'we', 'it', 'too', 't', 'should', 'than', 'in', 'd', \"hadn't\", 'ma', 'such', 'on', \"should've\", 'again', 'been', 'about', \"mightn't\", 'before', 'how', 'didn', \"mustn't\", 'our', 'because', 'shouldn', \"shouldn't\", 'then', \"you've\", \"couldn't\", 'she', 'mightn', \"you'd\", 'which', 'off', 'by', 'wouldn', 'out', \"she's\", \"hasn't\", 'isn', 'hasn', 'there', 'above', 'o', 'below', 'your', 'a', 'her', 'ours', 'their', 'is', 'but', 'll', 'shan', 'theirs', 'both', 'most', \"haven't\", 's', 'do', 'nor', 'doesn', \"weren't\", 'or', 'am', 'with', 'that', 'what', 'my', 'has', \"shan't\", 'yourselves', 're', 'i', 'him', 'myself', 'through', 'mustn', 'some', 'does', \"needn't\", \"wouldn't\", 'why', 'very', 'itself', 'hers', 'no', 'whom', 'up', \"that'll\", 'he', 'to', 'further', 'the', 'where', 'once', 'wasn', 'over', 'his', \"it's\", \"you're\", 'all', 'few', 'were', 'doing', 'under', 'hadn', 'themselves', 'here', 've', 'as', \"wasn't\", 'down', 'm', 'being', 'so', 'y', 'until', 'its', 'same', \"won't\", 'can', \"didn't\", 'more', \"doesn't\", 'me', 'are', \"isn't\"}\n"
     ]
    }
   ],
   "source": [
    "from nltk.corpus import stopwords \n",
    "\n",
    "stopWords = set(stopwords.words('english'))\n",
    "print(stopWords) #Stopwwords della lingua inglese che eliminerò"
   ]
  },
  {
   "cell_type": "markdown",
   "metadata": {},
   "source": [
    "Per poter applicare il Naive Bayes è necessario rimuovere la punteggiatura.\n",
    "Creo la funzione 'text_cleaning' che effettua la pulizia del testo rimuovendo punteggiatura e stopwords"
   ]
  },
  {
   "cell_type": "code",
   "execution_count": 72,
   "metadata": {},
   "outputs": [],
   "source": [
    "import string # modulo con la funzione per rimuovere la punteggiaura"
   ]
  },
  {
   "cell_type": "code",
   "execution_count": 73,
   "metadata": {},
   "outputs": [],
   "source": [
    "def text_cleaning(a):\n",
    "    remove_punctuation = [char for char in a if char not in string.punctuation] # seleziono ogni carattere che non è in punteggiatura \n",
    "    #print(remove_puntuaction)\n",
    "    remove_punctuation = \"\".join(remove_punctuation) #ri-unisco i miei caratteri puliti\n",
    "    #print(remove_punctuation)\n",
    "    return [word for word in remove_punctuation.split() if word.lower() not in stopwords.words('english')] #divido la nuova frase in parole, ed elimino le stopwords"
   ]
  },
  {
   "cell_type": "code",
   "execution_count": 74,
   "metadata": {},
   "outputs": [
    {
     "name": "stdout",
     "output_type": "stream",
     "text": [
      "0        [event, took, place, early, fall, around, 1949...\n",
      "1        [1949, Lackland, AFB44, TX, Lights, racing, ac...\n",
      "2        [GreenOrange, circular, disc, Chester44, England]\n",
      "3        [older, brother, twin, sister, leaving, Edna, ...\n",
      "4        [Marine, 1st, Lt, flying, FJ4B, fighterattack,...\n",
      "                               ...                        \n",
      "80327    [Round, distanceslowly, changing, colors, hove...\n",
      "80328    [Boise44, ID44, spherical44, 20, min44, 10, re...\n",
      "80329                                        [Napa, UFO44]\n",
      "80330    [Saw, five, gold, lit, cicular, craft, moving,...\n",
      "80331    [2, witnesses, 2, miles, apart44, Red, amp, Wh...\n",
      "Name: comments, Length: 78392, dtype: object\n"
     ]
    }
   ],
   "source": [
    "print(ufo_clean.iloc[:,6].apply(text_cleaning)) # commenti splittati in parole dopo aver rimosso punteggiatura e stopwords"
   ]
  },
  {
   "cell_type": "markdown",
   "metadata": {},
   "source": [
    "Splitto il dataset in trainset e testset"
   ]
  },
  {
   "cell_type": "code",
   "execution_count": 75,
   "metadata": {},
   "outputs": [
    {
     "name": "stdout",
     "output_type": "stream",
     "text": [
      "(58794,) (19598,) (58794,) (19598,)\n"
     ]
    }
   ],
   "source": [
    "# split a dataset into train and test sets\n",
    "from sklearn.datasets import make_blobs\n",
    "from sklearn.model_selection import train_test_split\n",
    "\n",
    "# split in train test sets\n",
    "x_train, x_test, y_train, y_test = train_test_split(ufo_clean['comments'], ufo_clean['shape_group2'], test_size=0.25)\n",
    "print(x_train.shape, x_test.shape, y_train.shape, y_test.shape)"
   ]
  },
  {
   "cell_type": "markdown",
   "metadata": {},
   "source": [
    "Il Naive Bayes necessita di numeri, non parole. Dobbiamo quindi fare *labeling coding*, cioè assegnare un numero ad ogni parola. Per questo utilizzeremo *CountVectorizer*."
   ]
  },
  {
   "cell_type": "markdown",
   "metadata": {},
   "source": [
    "Applico la Trasformazione al training set"
   ]
  },
  {
   "cell_type": "code",
   "execution_count": 76,
   "metadata": {},
   "outputs": [],
   "source": [
    "from sklearn.feature_extraction.text import CountVectorizer"
   ]
  },
  {
   "cell_type": "code",
   "execution_count": 77,
   "metadata": {},
   "outputs": [],
   "source": [
    "###  Train  ###\n",
    "vectorizer_train = CountVectorizer(analyzer = text_cleaning)\n",
    "ufo_transformer_train = vectorizer_train.fit(x_train) #'adatto' i dati alla funzione CountVectorizer"
   ]
  },
  {
   "cell_type": "code",
   "execution_count": 78,
   "metadata": {},
   "outputs": [
    {
     "data": {
      "text/plain": [
       "{'NUFORC': 15065,\n",
       " 'Note': 15395,\n",
       " 'Possible': 16909,\n",
       " 'sighting': 42341,\n",
       " 'Mars': 14156,\n",
       " 'PD': 16087,\n",
       " 'Massive': 14200,\n",
       " 'brilliant': 25183,\n",
       " 'white': 47396,\n",
       " 'light': 34281,\n",
       " 'hung': 32768,\n",
       " 'Southern': 19284,\n",
       " 'sky': 42666,\n",
       " 'left': 34161,\n",
       " 'Broad': 6610,\n",
       " 'ACRES': 4542,\n",
       " 'APPROX': 4708,\n",
       " '2215': 2031,\n",
       " 'DRIVING': 8501,\n",
       " 'NORTHEAST44PASSENGER': 15032,\n",
       " 'SPOTTED': 18294,\n",
       " 'OBJECT': 15479,\n",
       " 'FIRSTIT': 9816,\n",
       " 'LAKE': 12942,\n",
       " 'TRAVELING': 20032,\n",
       " 'SW': 18458,\n",
       " 'NE': 14950,\n",
       " 'DOWNWARD': 8481,\n",
       " 'AR': 4720,\n",
       " 'White': 21850,\n",
       " 'disk': 28425,\n",
       " 'flying': 30785,\n",
       " 'park': 38056,\n",
       " 'fast': 30119,\n",
       " 'thing': 45126,\n",
       " 'Ive': 12409,\n",
       " 'seen': 41766,\n",
       " 'point': 38786,\n",
       " 'light44': 34291,\n",
       " 'two': 46046,\n",
       " 'objects': 37068,\n",
       " 'parallel': 38021,\n",
       " 'turn': 45967,\n",
       " '1530': 1375,\n",
       " 'observed': 37175,\n",
       " '2': 1765,\n",
       " 'spheres': 43526,\n",
       " 'high': 32250,\n",
       " 'altitude': 22977,\n",
       " 'west': 47269,\n",
       " 'east': 29063,\n",
       " 'fast44': 30122,\n",
       " 'passing': 38128,\n",
       " 'sun': 44451,\n",
       " 'could': 27078,\n",
       " 'see': 41737,\n",
       " 'spherical': 43538,\n",
       " 'shape': 41975,\n",
       " 'Came': 7185,\n",
       " 'moving': 36153,\n",
       " 'slowly': 42911,\n",
       " 'Bright': 6564,\n",
       " 'orange': 37517,\n",
       " 'red': 40502,\n",
       " 'fireballs': 30385,\n",
       " 'moved': 36109,\n",
       " 'across': 22514,\n",
       " 'went': 47248,\n",
       " 'disappeared': 28297,\n",
       " 'Skunk': 19090,\n",
       " 'smell': 42965,\n",
       " '10': 446,\n",
       " 'miles': 35642,\n",
       " 'large': 34009,\n",
       " 'craft': 27193,\n",
       " 'flew': 30640,\n",
       " 'lightly': 34393,\n",
       " 'strobing': 44299,\n",
       " 'area': 23559,\n",
       " 'Constellation': 7949,\n",
       " 'Scorpius': 18663,\n",
       " 'childhood': 25933,\n",
       " 'ufo': 46082,\n",
       " 'Orange': 15823,\n",
       " 'center': 25737,\n",
       " '3': 2365,\n",
       " 'lights': 34421,\n",
       " 'rear': 40395,\n",
       " 'Object': 15628,\n",
       " 'flashing': 30586,\n",
       " 'lights44': 34429,\n",
       " 'steady': 44008,\n",
       " 'illumination': 32940,\n",
       " 'Daylight': 8622,\n",
       " 'San': 18522,\n",
       " 'Angelo': 5203,\n",
       " 'oval': 37806,\n",
       " '23AUG201244': 2153,\n",
       " '2030Hrs44': 1871,\n",
       " 'Boston': 6447,\n",
       " 'City': 7662,\n",
       " 'Hall': 11326,\n",
       " 'Plaza44': 16793,\n",
       " 'Triangular': 20630,\n",
       " 'Craft': 8118,\n",
       " 'Sphere': 19358,\n",
       " 'shaped': 42006,\n",
       " 'object': 36989,\n",
       " 'rising': 41035,\n",
       " 'tracking': 45544,\n",
       " 'rainbow': 40231,\n",
       " 'Last': 13248,\n",
       " 'night44': 36536,\n",
       " 'October': 15699,\n",
       " '1044': 702,\n",
       " '1100PM': 783,\n",
       " 'ten': 44955,\n",
       " 'minutes': 35767,\n",
       " 'peculiar': 38249,\n",
       " 'source': 43242,\n",
       " 'Eastern': 9332,\n",
       " 'Mysterious': 14914,\n",
       " 'city': 26166,\n",
       " 'Pittsburgh': 16733,\n",
       " 'lady': 33918,\n",
       " 'amp': 23089,\n",
       " 'witnessed': 47716,\n",
       " 'floating': 30696,\n",
       " 'like': 34605,\n",
       " 'balloon': 24104,\n",
       " 'stopped': 44111,\n",
       " 'moving44': 36155,\n",
       " '20sec': 1932,\n",
       " 'nothing': 36853,\n",
       " 'happened': 31974,\n",
       " 'stre': 44219,\n",
       " 'Triangle': 20606,\n",
       " 'back': 24003,\n",
       " 'switching': 44680,\n",
       " 'one': 37414,\n",
       " 'never': 36485,\n",
       " 'time': 45281,\n",
       " 'Darker': 8575,\n",
       " 'night': 36531,\n",
       " 'rectangle': 40475,\n",
       " 'dim': 28112,\n",
       " 'sitting': 42583,\n",
       " 'backyard': 24040,\n",
       " 'facing': 29998,\n",
       " 'north': 36744,\n",
       " '2245': 2063,\n",
       " 'hours': 32534,\n",
       " 'July': 12605,\n",
       " '4th44': 3330,\n",
       " '2011': 1840,\n",
       " 'lar': 34006,\n",
       " 'Indiana': 12199,\n",
       " 'sky44': 42680,\n",
       " '4': 2867,\n",
       " 'witnesses': 47720,\n",
       " 'Two': 20766,\n",
       " 'orangeyellow': 37562,\n",
       " 'quietly': 39406,\n",
       " 'quickly': 39388,\n",
       " 'town': 45503,\n",
       " 'Red': 17473,\n",
       " 'Ball': 5848,\n",
       " 'UFO': 20799,\n",
       " 'Elizabethtown44': 9432,\n",
       " 'KY': 12688,\n",
       " '2013': 1847,\n",
       " 'Circular': 7645,\n",
       " 'Disc': 8888,\n",
       " 'descends': 27883,\n",
       " 'along': 22933,\n",
       " 'outside': 37785,\n",
       " 'Chicago': 7555,\n",
       " 'lake': 33933,\n",
       " 'front': 31144,\n",
       " 'hirise': 32324,\n",
       " 'sure': 44539,\n",
       " 'was44': 47033,\n",
       " 'unusual': 46397,\n",
       " 'Shaped': 18846,\n",
       " 'object44': 36997,\n",
       " 'Glowing': 10831,\n",
       " 'outline': 37764,\n",
       " 'orb': 37582,\n",
       " 'divided': 28629,\n",
       " '6': 3547,\n",
       " 'lasted': 34051,\n",
       " 'low': 34919,\n",
       " 'horizon': 32451,\n",
       " '12': 1015,\n",
       " 'Three': 20356,\n",
       " 'stationary': 43971,\n",
       " 'cylindrical': 27488,\n",
       " 'clouds': 26351,\n",
       " 'formation': 30945,\n",
       " 'unidentified': 46276,\n",
       " 'lighted': 34356,\n",
       " 'zigzagging': 48136,\n",
       " 'green': 31683,\n",
       " 'stream': 44233,\n",
       " 'south': 43249,\n",
       " '119': 997,\n",
       " 'South': 19254,\n",
       " 'Luminous': 13663,\n",
       " 'whitegreen': 47430,\n",
       " 'ball': 24075,\n",
       " 'tail': 44757,\n",
       " 'Francisco': 10408,\n",
       " 'Bay': 5994,\n",
       " 'Area': 5341,\n",
       " 'going': 31505,\n",
       " 'NS': 15058,\n",
       " '2248': 2066,\n",
       " 'PST': 16272,\n",
       " 'May': 14233,\n",
       " '4401': 3018,\n",
       " 'greenturquoise': 31734,\n",
       " 'fireball': 30364,\n",
       " 'traveling': 45707,\n",
       " 'quotsparklersquot': 40049,\n",
       " 'around': 23614,\n",
       " 'perimeter': 38340,\n",
       " 'approx': 23438,\n",
       " '5quot': 3538,\n",
       " 'diam': 28001,\n",
       " 'sight': 42330,\n",
       " 'Large44': 13228,\n",
       " 'saucershaped': 41487,\n",
       " 'three': 45189,\n",
       " 'bright': 25097,\n",
       " 'ground': 31778,\n",
       " 'several': 41925,\n",
       " 'crafts': 27236,\n",
       " 'Vshaped': 21397,\n",
       " 'Guelph44': 11060,\n",
       " 'Ontario': 15798,\n",
       " 'Grouped': 11042,\n",
       " 'Lights': 13428,\n",
       " 'noise': 36619,\n",
       " 'body': 24843,\n",
       " 'heads': 32095,\n",
       " 'towards': 45494,\n",
       " 'level': 34216,\n",
       " 'glowing': 31468,\n",
       " 'shot': 42223,\n",
       " 'trail': 45567,\n",
       " 'behind': 24381,\n",
       " 'SURE': 18446,\n",
       " 'WIFE': 21496,\n",
       " 'SAW': 17939,\n",
       " 'second': 41686,\n",
       " 'incident44': 33045,\n",
       " 'nearly': 36392,\n",
       " 'year': 47965,\n",
       " 'Haiti9One': 11308,\n",
       " 'think': 45137,\n",
       " 'August': 5497,\n",
       " '199744': 1715,\n",
       " 'home': 32375,\n",
       " 'b': 23988,\n",
       " 'reddish44': 40541,\n",
       " 'coming': 26630,\n",
       " 'joining': 33685,\n",
       " 'ft': 31170,\n",
       " 'diameter': 28007,\n",
       " '20': 1766,\n",
       " 'yards': 47952,\n",
       " 'away44': 23935,\n",
       " 'interacting': 33306,\n",
       " 'movement': 36118,\n",
       " 'Large': 13226,\n",
       " 'Flickering': 10254,\n",
       " 'Light': 13399,\n",
       " 'saw': 41505,\n",
       " 'birthday': 24577,\n",
       " 'friends3333333333': 31111,\n",
       " 'appx': 23483,\n",
       " '8220644': 4109,\n",
       " 'diamond': 28012,\n",
       " 'whitishyellow': 47484,\n",
       " 'bottom44': 24967,\n",
       " 'flashed': 30570,\n",
       " 'sequence44': 41875,\n",
       " 'fro': 31129,\n",
       " 'ocean': 37246,\n",
       " 'ultraviolet': 46117,\n",
       " 'sphere': 43507,\n",
       " 'hovered': 32596,\n",
       " 'sound': 43180,\n",
       " '200': 1767,\n",
       " 'yds': 47958,\n",
       " 'away': 23932,\n",
       " '100Ft': 513,\n",
       " 'air': 22709,\n",
       " 'looking': 34841,\n",
       " 'clear': 26218,\n",
       " 'day': 27615,\n",
       " 'huge': 32712,\n",
       " 'resembled': 40819,\n",
       " 'mini': 35718,\n",
       " 'sunIt': 44458,\n",
       " 'didnt': 28058,\n",
       " 'particular': 38086,\n",
       " 'colors': 26556,\n",
       " 'unknown': 46319,\n",
       " 'blue': 24737,\n",
       " 'shaft': 41964,\n",
       " 'standing': 43800,\n",
       " 'directly': 28227,\n",
       " 'period': 38344,\n",
       " 'time44': 45284,\n",
       " 'lost': 34887,\n",
       " '1hr': 1745,\n",
       " 'trip': 45880,\n",
       " 'took': 45426,\n",
       " '4hr39s': 3317,\n",
       " 'Multi': 14851,\n",
       " 'colored': 26538,\n",
       " 'hovored': 32635,\n",
       " 'calm': 25461,\n",
       " 'Orb': 15875,\n",
       " 'Flashes': 10227,\n",
       " 'Hovers': 11758,\n",
       " 'smalltown': 42957,\n",
       " 'Louisiana': 13610,\n",
       " 'Flashing': 10229,\n",
       " 'roughly': 41186,\n",
       " 'position': 38907,\n",
       " 'blinking': 24691,\n",
       " '30': 2366,\n",
       " 'seconds': 41694,\n",
       " 'apart': 23296,\n",
       " '5': 3334,\n",
       " 'times': 45306,\n",
       " 'planet': 38664,\n",
       " 'Many': 14090,\n",
       " 'appearing': 23378,\n",
       " 'spheres44': 43527,\n",
       " 'made': 35041,\n",
       " 'erratic': 29549,\n",
       " 'squiggly': 43723,\n",
       " 'lines': 34663,\n",
       " 'various': 46620,\n",
       " 'altitudes': 22998,\n",
       " 'Brilliant': 6591,\n",
       " 'darting': 27572,\n",
       " 'rapid': 40281,\n",
       " 'speed': 43431,\n",
       " 'strange': 44195,\n",
       " 'objectIt': 37026,\n",
       " 'total': 45471,\n",
       " 'diffirent': 28097,\n",
       " 'anything': 23280,\n",
       " 'afterThis': 22619,\n",
       " 'form': 30928,\n",
       " 'Sideways': 18976,\n",
       " 'teardrop': 44870,\n",
       " 'florescent': 30721,\n",
       " 'many': 35205,\n",
       " 'shores': 42203,\n",
       " 'Golden': 10854,\n",
       " 'Lake': 13155,\n",
       " 'Woman44': 22047,\n",
       " '20s44': 1931,\n",
       " 'sees': 41777,\n",
       " 'round': 41190,\n",
       " 'near': 36380,\n",
       " 'Ft': 10477,\n",
       " 'Duchesne44': 9081,\n",
       " 'UT': 20941,\n",
       " 'I39m': 11908,\n",
       " 'wondering': 47781,\n",
       " 'can39t': 25525,\n",
       " 'find': 30335,\n",
       " 'info': 33160,\n",
       " 'siting': 42572,\n",
       " 'place': 38613,\n",
       " '998': 4478,\n",
       " 'amp999': 23091,\n",
       " 'Seattle': 18699,\n",
       " 'enormous': 29451,\n",
       " 'One': 15786,\n",
       " 'friends': 31109,\n",
       " 'house44I': 32552,\n",
       " 'walking': 46977,\n",
       " 'something': 43112,\n",
       " 'bright44i': 25103,\n",
       " 'reconize': 40444,\n",
       " 'morning': 36001,\n",
       " 'jog': 33675,\n",
       " 'friend': 31101,\n",
       " 'early': 29036,\n",
       " 'arrow': 23644,\n",
       " 'l': 33894,\n",
       " 'Mass': 14189,\n",
       " '198444': 1680,\n",
       " 'newspaper': 36502,\n",
       " 'reports': 40794,\n",
       " 'it44': 33522,\n",
       " 'police': 38823,\n",
       " 'reputable': 40801,\n",
       " 'peole': 38295,\n",
       " 'also': 22945,\n",
       " 'Multicolored': 14857,\n",
       " 'liquid': 34684,\n",
       " 'balls': 24119,\n",
       " 'Sighting': 18987,\n",
       " 'quottwinklingquot': 40122,\n",
       " 'star': 43814,\n",
       " 'QQ': 17098,\n",
       " 'Silver': 19013,\n",
       " 'shining': 42137,\n",
       " 'sun44': 44455,\n",
       " 'radio': 40207,\n",
       " 'reception': 40426,\n",
       " 'scrambled44': 41617,\n",
       " 'vanished': 46578,\n",
       " 'thin': 45124,\n",
       " 'Halloween': 11330,\n",
       " 'Tinley': 20421,\n",
       " 'ParkEastern': 16395,\n",
       " 'Sky': 19092,\n",
       " 'racing': 40185,\n",
       " 'stop': 44097,\n",
       " 'split': 43596,\n",
       " 'second44': 41689,\n",
       " 'semicircles': 41798,\n",
       " 'others': 37715,\n",
       " 'take': 44780,\n",
       " '90': 4263,\n",
       " 'degree': 27775,\n",
       " 'race': 40179,\n",
       " 'ball44': 24077,\n",
       " 'sounds': 43232,\n",
       " 'Saw': 18619,\n",
       " 'reddish': 40540,\n",
       " 'move': 36105,\n",
       " 'little': 34715,\n",
       " 'tujunga': 45946,\n",
       " 'mountain': 36075,\n",
       " 'side': 42287,\n",
       " 'perfect': 38323,\n",
       " 'looked': 34832,\n",
       " 'fly': 30771,\n",
       " 'change': 25811,\n",
       " 'directions': 28214,\n",
       " 'angle': 23184,\n",
       " 'spots': 43642,\n",
       " 'appear': 23352,\n",
       " 'suddenly': 44404,\n",
       " 'disappear': 28285,\n",
       " 'photographed': 38465,\n",
       " 'Viet': 21344,\n",
       " 'Namno': 15097,\n",
       " 'doubt': 28744,\n",
       " 'Amber': 5136,\n",
       " 'pulsating': 39252,\n",
       " 'circular': 26117,\n",
       " 'pinwheel': 38579,\n",
       " 'RED': 17209,\n",
       " 'FIERY': 9793,\n",
       " 'SHAPES': 18038,\n",
       " 'SKY': 18149,\n",
       " 'THINGS': 19939,\n",
       " 'FLYING': 9888,\n",
       " 'FORM': 9911,\n",
       " 'TRIANGLE': 20047,\n",
       " 'Electrical': 9414,\n",
       " 'magnetic': 35054,\n",
       " 'affects': 22607,\n",
       " 'least': 34135,\n",
       " 'homes44': 32392,\n",
       " 'lightning': 34398,\n",
       " 'flashes': 30575,\n",
       " 'haze': 32051,\n",
       " 'Cylinder': 8262,\n",
       " 'w5': 46927,\n",
       " 'crosses': 27362,\n",
       " 'Nevada': 15201,\n",
       " 'skyline': 42774,\n",
       " 'EW': 9258,\n",
       " 'silently': 42426,\n",
       " '9pm': 4492,\n",
       " 'following': 30847,\n",
       " 'nose44': 36830,\n",
       " 'ground44': 31781,\n",
       " 'linearly': 34652,\n",
       " 'southward': 43315,\n",
       " 'without': 47698,\n",
       " 'possible': 38929,\n",
       " 'midafternoon': 35572,\n",
       " 'Mississippi': 14601,\n",
       " 'sister': 42553,\n",
       " 'dream': 28830,\n",
       " 'Gainesville': 10634,\n",
       " 'showed': 42238,\n",
       " 'us': 46476,\n",
       " 'ship44and': 42152,\n",
       " 'greys': 31756,\n",
       " 'told': 45393,\n",
       " 'flash': 30563,\n",
       " 'flies': 30666,\n",
       " 'Colorado': 7835,\n",
       " 'Springs': 19425,\n",
       " 'Observed': 15661,\n",
       " 'staggered': 43764,\n",
       " 'lower': 34932,\n",
       " 'right44': 40989,\n",
       " 'East': 9318,\n",
       " 'Sarasota44': 18563,\n",
       " 'FL': 9828,\n",
       " 'appeared': 23363,\n",
       " '50': 3335,\n",
       " 'min': 35687,\n",
       " 'PADANG44': 16041,\n",
       " 'WEST': 21463,\n",
       " 'SUMATERA44': 18431,\n",
       " 'INDONESIA44': 12049,\n",
       " 'Ok': 15746,\n",
       " 'exciting': 29743,\n",
       " 'try': 45920,\n",
       " 'keep': 33770,\n",
       " 'facts': 30004,\n",
       " 'straightAprox': 44177,\n",
       " 'ago': 22682,\n",
       " 'noticed': 36869,\n",
       " 'flying44': 30786,\n",
       " 'cloud': 26328,\n",
       " 'level44': 34217,\n",
       " 'large44': 34011,\n",
       " 'clearsighting44': 26240,\n",
       " 'round44': 41191,\n",
       " 'covered': 27160,\n",
       " 'plane': 38634,\n",
       " 'silent44': 42411,\n",
       " 'triangular': 45841,\n",
       " 'stopping': 44121,\n",
       " 'suddenly44': 44405,\n",
       " 'disappearing': 28315,\n",
       " 'Balls': 5865,\n",
       " 'Fire': 10147,\n",
       " 'Dance': 8553,\n",
       " 'Northern': 15364,\n",
       " 'illuminated': 32935,\n",
       " 'objects44': 37072,\n",
       " 'silence': 42403,\n",
       " 'passes': 38127,\n",
       " 'house': 32547,\n",
       " 'activity': 22531,\n",
       " 'Five': 10198,\n",
       " 'orbs': 37607,\n",
       " 'size': 42600,\n",
       " 'hot': 32506,\n",
       " 'balloons': 24112,\n",
       " 'rotated': 41161,\n",
       " 'sped': 43428,\n",
       " '1': 445,\n",
       " 'oclock': 37266,\n",
       " 'information': 33164,\n",
       " 'provided': 39189,\n",
       " 'witness': 47710,\n",
       " 'Like': 13451,\n",
       " 'phoenix44': 38444,\n",
       " 'az': 23981,\n",
       " 'Cigarshaped': 7624,\n",
       " 'southsouthwest': 43311,\n",
       " 'Mexico': 14434,\n",
       " 'Green': 10960,\n",
       " 'streak44': 44223,\n",
       " 'vapor': 46598,\n",
       " 'glow': 31458,\n",
       " 'driving': 28882,\n",
       " 'work': 47799,\n",
       " 'falling': 30054,\n",
       " 'star44': 43819,\n",
       " 'Grandma39s': 10922,\n",
       " 'crossing': 27364,\n",
       " 'Thanksgiving': 20296,\n",
       " '2002': 1782,\n",
       " '7': 3758,\n",
       " 'veiwed': 46666,\n",
       " 'Kansas': 12721,\n",
       " 'Disk': 8906,\n",
       " 'Austin': 5515,\n",
       " 'TX': 20110,\n",
       " 'UTCapital': 20945,\n",
       " 'Night': 15249,\n",
       " '911': 4307,\n",
       " 'HOAX': 11188,\n",
       " 'Blue': 6318,\n",
       " 'wall': 46983,\n",
       " 'Tacoma': 20124,\n",
       " 'quick': 39380,\n",
       " 'beam': 24273,\n",
       " 'silvery': 42490,\n",
       " 'tjatshot': 45354,\n",
       " 'Around': 5385,\n",
       " '10pm': 765,\n",
       " 'drivewayfacing': 28878,\n",
       " 'shooting': 42189,\n",
       " 'breeze': 25073,\n",
       " 'impossible': 33004,\n",
       " 'manuvers': 35202,\n",
       " 'making': 35093,\n",
       " 'whatsoever': 47340,\n",
       " 'far': 30087,\n",
       " 'faster': 30142,\n",
       " 'known': 33869,\n",
       " 'jet': 33630,\n",
       " 'noise33': 36621,\n",
       " 'Black': 6248,\n",
       " 'Metallic': 14399,\n",
       " 'BoomerangShaped': 6417,\n",
       " 'Hovering': 11754,\n",
       " 'Motionlessly': 14775,\n",
       " 'ORANGE': 15552,\n",
       " 'later': 34062,\n",
       " 'disapered': 28271,\n",
       " 'brilant': 25172,\n",
       " 'shapes': 42051,\n",
       " 'lighting': 34382,\n",
       " 'strobe': 44284,\n",
       " 'STRANGE': 18390,\n",
       " 'SIGHTING': 18088,\n",
       " 'SEEN': 17986,\n",
       " 'RETURNING': 17264,\n",
       " 'HOME': 11200,\n",
       " 'WORK': 21547,\n",
       " 'MUNICIPAL': 13945,\n",
       " 'EMPLOYEES': 9182,\n",
       " 'THAUGHT': 19921,\n",
       " 'Could': 8064,\n",
       " 'hit': 32329,\n",
       " 'Missing': 14596,\n",
       " 'Time': 20409,\n",
       " 'erased': 29525,\n",
       " 'life': 34259,\n",
       " 'pair': 37954,\n",
       " 'military': 35653,\n",
       " 'jets': 33646,\n",
       " 'similar': 42501,\n",
       " 'c17': 25412,\n",
       " 'guessing': 31827,\n",
       " 'load': 34745,\n",
       " 'engine': 29419,\n",
       " 'Judging': 12602,\n",
       " 'colorful': 26547,\n",
       " 'quottwinkling': 40121,\n",
       " 'starquot': 43887,\n",
       " 'came': 25471,\n",
       " 'nowhere': 36904,\n",
       " 'hovering': 32610,\n",
       " 'disappears': 28323,\n",
       " 'reappears': 40388,\n",
       " 'pulsing': 39263,\n",
       " 'redwhite': 40591,\n",
       " 'groves': 31804,\n",
       " 'V': 21109,\n",
       " 'Houston': 11739,\n",
       " 'Multiple': 14862,\n",
       " 'desert': 27911,\n",
       " 'moveing': 36114,\n",
       " 'patterns': 38182,\n",
       " '1444': 1310,\n",
       " '200444': 1800,\n",
       " 'black44': 24597,\n",
       " 'shped': 42254,\n",
       " 'come': 26609,\n",
       " 'bank': 24147,\n",
       " 'shopping': 42194,\n",
       " 'Topeka44': 20478,\n",
       " 'KS': 12679,\n",
       " 'Driving': 9049,\n",
       " 'Los': 13595,\n",
       " 'Angeles': 5198,\n",
       " 'Las': 13244,\n",
       " 'Vegas': 21260,\n",
       " '120': 1016,\n",
       " 'am44': 23025,\n",
       " 'admire': 22557,\n",
       " 'stars44': 43895,\n",
       " 'bright44': 25100,\n",
       " 'look': 34824,\n",
       " 'sky39': 42678,\n",
       " 'dark': 27545,\n",
       " 'street': 44245,\n",
       " 'eyes': 29965,\n",
       " 'Redorange': 17527,\n",
       " 'circles': 26095,\n",
       " 'moon': 35946,\n",
       " 'minutes44': 35772,\n",
       " 'Hovered44': 11753,\n",
       " 'grew': 31745,\n",
       " 'brighter': 25123,\n",
       " 'Long': 13564,\n",
       " 'Island44': 12373,\n",
       " 'dissapeared': 28500,\n",
       " 'pictures': 38518,\n",
       " 'STREAK': 18395,\n",
       " 'WHITE': 21478,\n",
       " 'LIGHT': 13011,\n",
       " 'FORT': 9923,\n",
       " 'PIERCE': 16149,\n",
       " 'feeding': 30195,\n",
       " 'dogs': 28670,\n",
       " 'blueish': 24764,\n",
       " 'caught': 25689,\n",
       " 'eye': 29950,\n",
       " 'Dot': 8988,\n",
       " 'week': 47194,\n",
       " 'Croatia33': 8176,\n",
       " 'fire': 30355,\n",
       " '2152014': 1997,\n",
       " 'airport': 22800,\n",
       " 'watched': 47071,\n",
       " 'Orangewhite': 15860,\n",
       " 'triangle': 45804,\n",
       " 'formation44': 30946,\n",
       " '1844': 1514,\n",
       " '2012': 1843,\n",
       " '9': 4262,\n",
       " 'PM': 16189,\n",
       " 'daylight': 27631,\n",
       " 'highway': 32292,\n",
       " 'floated': 30693,\n",
       " 'water': 47081,\n",
       " 'dear': 27675,\n",
       " 'sirs': 42547,\n",
       " 'nights': 36565,\n",
       " 'chair': 25790,\n",
       " 'yard': 47941,\n",
       " 'addressing': 22550,\n",
       " 'u': 46076,\n",
       " 'shone': 42183,\n",
       " 'window': 47578,\n",
       " 'unbeleivably': 46139,\n",
       " 'beautiful': 24291,\n",
       " 'rays': 40325,\n",
       " 'Sets': 18800,\n",
       " 'Formation': 10370,\n",
       " 'Winter': 22009,\n",
       " 'Park44': 16391,\n",
       " 'Low': 13623,\n",
       " 'horizontally': 32472,\n",
       " 'Reminescent': 17570,\n",
       " 'CE3K': 6857,\n",
       " 'ship': 42150,\n",
       " 'football': 30879,\n",
       " 'feilds': 30217,\n",
       " 'let': 34207,\n",
       " 'four': 31026,\n",
       " 'ships': 42160,\n",
       " 'biright44': 24574,\n",
       " 'wite': 47680,\n",
       " 'teloscope': 44944,\n",
       " 'Twinkling': 20760,\n",
       " 'Victoria44': 21327,\n",
       " 'BC44': 5615,\n",
       " 'Canada': 7211,\n",
       " 'flower': 30741,\n",
       " 'petal': 38404,\n",
       " 'center44': 25739,\n",
       " 'silver44': 42458,\n",
       " 'black': 24596,\n",
       " 'cirles': 26151,\n",
       " 'silver': 42457,\n",
       " 'frames': 31047,\n",
       " 'visible': 46854,\n",
       " 'getting': 31337,\n",
       " 'view': 46794,\n",
       " 'centre': 25758,\n",
       " 'things': 45132,\n",
       " 'spotlights': 43639,\n",
       " 'kind': 33816,\n",
       " 'submarine': 44364,\n",
       " 'exploring': 29865,\n",
       " 'skyThe': 42745,\n",
       " 'ufo39s': 46086,\n",
       " 'may': 35312,\n",
       " 'experimenting': 29826,\n",
       " 'local': 34756,\n",
       " 'animals': 23206,\n",
       " '500': 3336,\n",
       " 'Object0': 15629,\n",
       " 'Yes': 22217,\n",
       " 'Chevron': 7540,\n",
       " 'barn': 24175,\n",
       " 'pasture': 38140,\n",
       " 'pure': 39278,\n",
       " 'white44': 47398,\n",
       " 'shiny44': 42149,\n",
       " 'horizon44': 32452,\n",
       " 'stop44': 44099,\n",
       " 'fade': 30008,\n",
       " 'reaching': 40338,\n",
       " 'GapWhite': 10656,\n",
       " 'Horse': 11715,\n",
       " 'Pennsylvania': 16535,\n",
       " 'I39em': 11906,\n",
       " 'warehouse': 47012,\n",
       " 'worker': 47808,\n",
       " 'Small': 19144,\n",
       " 'sat': 41405,\n",
       " 'levitation': 34234,\n",
       " 'seconds44': 41696,\n",
       " 'viewers': 46809,\n",
       " 'focused': 30821,\n",
       " 'pass': 38108,\n",
       " 'overhead': 37847,\n",
       " 'Aircraft': 4959,\n",
       " 'dog': 28659,\n",
       " 'staring': 43864,\n",
       " 'constellation': 26861,\n",
       " 'Cassiopeia': 7359,\n",
       " 'turned': 45974,\n",
       " 'heading': 32081,\n",
       " 'ontario': 37449,\n",
       " 'burn': 25334,\n",
       " 'NOSS': 15040,\n",
       " 'satellites': 41439,\n",
       " 'laying': 34102,\n",
       " 'table': 44737,\n",
       " 'silent': 42408,\n",
       " 'fully': 31196,\n",
       " 'cross': 27356,\n",
       " 'aprrox500quot': 23509,\n",
       " 'trees': 45744,\n",
       " 'perfectly': 38326,\n",
       " 'still': 44065,\n",
       " 'yellowish': 48004,\n",
       " 'flexing': 30645,\n",
       " 'noodles': 36717,\n",
       " 'explosion': 29867,\n",
       " 'leaves': 34143,\n",
       " 'confused': 26802,\n",
       " 'Extremely': 9713,\n",
       " 'goldenyellow': 31526,\n",
       " 'globeshaped': 31454,\n",
       " 'spotted': 43648,\n",
       " 'midnight': 35603,\n",
       " 'Genesee': 10703,\n",
       " 'County44': 8073,\n",
       " 'MI': 13793,\n",
       " 'High': 11567,\n",
       " 'cluster': 26399,\n",
       " 'changing': 25825,\n",
       " 'intensity': 33291,\n",
       " 'I8': 11962,\n",
       " '60': 3548,\n",
       " 'Yuma': 22257,\n",
       " 'Proving': 17029,\n",
       " 'Ground': 11034,\n",
       " 'apporx': 23406,\n",
       " '1900': 1527,\n",
       " 'hrs': 32653,\n",
       " 'flight': 30672,\n",
       " 'path': 38151,\n",
       " 'none': 36680,\n",
       " 'Numerous': 15449,\n",
       " 'simultaneously': 42511,\n",
       " 'different': 28083,\n",
       " 'quadrants': 39341,\n",
       " 'Palm': 16335,\n",
       " 'Desert44': 8782,\n",
       " 'CA': 6783,\n",
       " 'Four': 10391,\n",
       " 'gold': 31510,\n",
       " 'line': 34639,\n",
       " 'Highlands': 11576,\n",
       " 'bay': 24245,\n",
       " 'Oak': 15601,\n",
       " 'Harbor44': 11383,\n",
       " 'WA': 21405,\n",
       " 'Several': 18806,\n",
       " 'field': 30263,\n",
       " 'Lit': 13498,\n",
       " 'disapeared': 28256,\n",
       " 'row': 41236,\n",
       " 'asterisk': 23728,\n",
       " 'arc44': 23535,\n",
       " 'dimmed': 28142,\n",
       " 'dot': 28725,\n",
       " 'Big': 6200,\n",
       " 'winfield': 47621,\n",
       " 'spinning': 43570,\n",
       " 'spot': 43627,\n",
       " 'ever': 29667,\n",
       " 'greenishbluish': 31717,\n",
       " 'streaking': 44227,\n",
       " 'NW': 15072,\n",
       " 'Ushaped': 21089,\n",
       " 'lights44and': 34436,\n",
       " 'revolving': 40944,\n",
       " 'bottom': 24964,\n",
       " 'Feb199944Va': 10068,\n",
       " 'orange44': 37518,\n",
       " 'cigar': 26008,\n",
       " 'bayou': 24249,\n",
       " 'brother': 25233,\n",
       " 'clock': 26283,\n",
       " 'stoped': 44103,\n",
       " 'working': 47811,\n",
       " 'Ufo': 20952,\n",
       " 'SAUDI': 17937,\n",
       " 'ARABIA': 4722,\n",
       " 'YANBU': 22138,\n",
       " 'CITY': 6922,\n",
       " 'JAN2009': 12423,\n",
       " 'Noticed': 15409,\n",
       " 'seemed': 41757,\n",
       " 'obj': 36979,\n",
       " 'son': 43139,\n",
       " 'rate': 40303,\n",
       " 'speed44': 43437,\n",
       " 'green44': 31685,\n",
       " 'bead': 24271,\n",
       " 'give': 31382,\n",
       " 'rational': 40313,\n",
       " 'explanation': 29846,\n",
       " 'Union': 21020,\n",
       " 'Ohio': 15734,\n",
       " 'first': 30447,\n",
       " 'Gray44': 10942,\n",
       " 'Covina': 8100,\n",
       " 'Mingus': 14549,\n",
       " 'Mountain': 14786,\n",
       " 'pulsated': 39245,\n",
       " 'Real': 17440,\n",
       " 'believe': 24407,\n",
       " 'everything': 29681,\n",
       " 'government': 31580,\n",
       " 'tells': 44943,\n",
       " '44High': 3051,\n",
       " 'Science': 18657,\n",
       " 'holds': 32354,\n",
       " 'key': 33785,\n",
       " 'slowed': 42897,\n",
       " 'kept': 33783,\n",
       " 'straight': 44174,\n",
       " 'rte': 41259,\n",
       " 'holding': 32353,\n",
       " 'wth': 47899,\n",
       " 'strength': 44257,\n",
       " 'roll': 41115,\n",
       " 'wildly': 47560,\n",
       " 'break': 25060,\n",
       " 'loose': 34868,\n",
       " 'dissappeared33': 28531,\n",
       " 'way': 47125,\n",
       " 'summer': 44437,\n",
       " 'pulled': 39232,\n",
       " 'I81': 11965,\n",
       " 'rest': 40867,\n",
       " 'disc': 28355,\n",
       " 'lakeside': 33947,\n",
       " 'shift': 42108,\n",
       " 'manufacturing': 35192,\n",
       " 'plant': 38682,\n",
       " '100130am': 474,\n",
       " 'visabil': 46838,\n",
       " 'third': 45146,\n",
       " 'grade': 31597,\n",
       " 'sleeping': 42838,\n",
       " 'right': 40987,\n",
       " 'circ': 26060,\n",
       " 'orangish': 37569,\n",
       " 'streaks': 44230,\n",
       " '44': 3016,\n",
       " 'moves': 36136,\n",
       " 'aroud': 23612,\n",
       " 'Toronto': 20483,\n",
       " 'blinding': 24675,\n",
       " 'encircling': 29379,\n",
       " 'equater': 29507,\n",
       " 'Florida': 10281,\n",
       " '25minutes': 2234,\n",
       " '196039s': 1594,\n",
       " 'soldiers': 43075,\n",
       " 'observe': 37173,\n",
       " 'fighters': 30295,\n",
       " 'chase': 25861,\n",
       " 'sighted': 42333,\n",
       " 'conventonal': 26955,\n",
       " 'aircraft': 22735,\n",
       " 'buzzing': 25396,\n",
       " 'adult': 22566,\n",
       " 'witinesses': 47703,\n",
       " 'Objects': 15637,\n",
       " 'northern': 36779,\n",
       " 'DeSoto': 8643,\n",
       " 'Parish44': 16389,\n",
       " '1983': 1675,\n",
       " 'Point': 16825,\n",
       " 'abrupt': 22389,\n",
       " 'changes': 25820,\n",
       " 'direction': 28191,\n",
       " ...}"
      ]
     },
     "execution_count": 78,
     "metadata": {},
     "output_type": "execute_result"
    }
   ],
   "source": [
    "#print(len(ufo_transformer.vocabulary_))\n",
    "ufo_transformer_train.vocabulary_  # così vedo quale numero è assegnato ad ogni parola"
   ]
  },
  {
   "cell_type": "markdown",
   "metadata": {},
   "source": [
    "Ora bisogna trasformare i risultati attraverso *.transform* "
   ]
  },
  {
   "cell_type": "code",
   "execution_count": 79,
   "metadata": {},
   "outputs": [
    {
     "name": "stdout",
     "output_type": "stream",
     "text": [
      "  (0, 14156)\t1\n",
      "  (0, 14200)\t1\n",
      "  (0, 15065)\t1\n",
      "  (0, 15395)\t1\n",
      "  (0, 16087)\t1\n",
      "  (0, 16909)\t1\n",
      "  (0, 19284)\t1\n",
      "  (0, 25183)\t1\n",
      "  (0, 32768)\t1\n",
      "  (0, 34281)\t1\n",
      "  (0, 42341)\t1\n",
      "  (0, 42666)\t1\n",
      "  (0, 47396)\t1\n",
      "  (1, 2031)\t1\n",
      "  (1, 4542)\t1\n",
      "  (1, 4708)\t1\n",
      "  (1, 4720)\t1\n",
      "  (1, 6610)\t1\n",
      "  (1, 8481)\t1\n",
      "  (1, 8501)\t1\n",
      "  (1, 9816)\t1\n",
      "  (1, 12942)\t1\n",
      "  (1, 14950)\t1\n",
      "  (1, 15032)\t1\n",
      "  (1, 15479)\t1\n",
      "  :\t:\n",
      "  (58791, 20799)\t1\n",
      "  (58791, 39597)\t1\n",
      "  (58792, 1765)\t1\n",
      "  (58792, 12630)\t1\n",
      "  (58792, 15065)\t1\n",
      "  (58792, 15395)\t1\n",
      "  (58792, 16087)\t1\n",
      "  (58792, 30586)\t1\n",
      "  (58792, 30945)\t1\n",
      "  (58792, 34421)\t1\n",
      "  (58792, 38665)\t1\n",
      "  (58792, 41857)\t1\n",
      "  (58792, 41912)\t1\n",
      "  (58792, 42666)\t1\n",
      "  (58792, 43318)\t1\n",
      "  (58792, 45786)\t1\n",
      "  (58793, 6352)\t1\n",
      "  (58793, 30010)\t1\n",
      "  (58793, 34281)\t1\n",
      "  (58793, 36109)\t1\n",
      "  (58793, 40674)\t1\n",
      "  (58793, 42666)\t1\n",
      "  (58793, 42911)\t1\n",
      "  (58793, 43875)\t1\n",
      "  (58793, 46578)\t1\n"
     ]
    }
   ],
   "source": [
    "#trasformo\n",
    "comments_ufo_train = ufo_transformer_train.transform(x_train)\n",
    "print(comments_ufo_train)"
   ]
  },
  {
   "cell_type": "markdown",
   "metadata": {},
   "source": [
    "Il primo numero indica la riga (0 = primo commento, 1 = secondo commento etc..). \n",
    "Il secondo numero indica il valore numerico assegnato alla parola.\n",
    "Il terzo numero indica il numero di volte che quella parola è presente in quel commento."
   ]
  },
  {
   "cell_type": "markdown",
   "metadata": {},
   "source": [
    "Lo applico anche al test set"
   ]
  },
  {
   "cell_type": "code",
   "execution_count": 80,
   "metadata": {},
   "outputs": [
    {
     "name": "stdout",
     "output_type": "stream",
     "text": [
      "  (0, 21703)\t1\n",
      "  (0, 36989)\t1\n",
      "  (0, 42666)\t1\n",
      "  (1, 2365)\t1\n",
      "  (1, 11952)\t1\n",
      "  (1, 25097)\t1\n",
      "  (1, 28882)\t1\n",
      "  (1, 30046)\t1\n",
      "  (1, 34009)\t1\n",
      "  (1, 34421)\t1\n",
      "  (1, 36744)\t1\n",
      "  (1, 36865)\t1\n",
      "  (1, 36989)\t1\n",
      "  (1, 38634)\t1\n",
      "  (1, 41975)\t1\n",
      "  (1, 45804)\t1\n",
      "  (1, 46067)\t1\n",
      "  (2, 10229)\t1\n",
      "  (2, 11782)\t1\n",
      "  (2, 13428)\t1\n",
      "  (2, 14451)\t1\n",
      "  (3, 33862)\t1\n",
      "  (3, 35711)\t1\n",
      "  (3, 36328)\t1\n",
      "  (3, 40776)\t1\n",
      "  :\t:\n",
      "  (19595, 26071)\t1\n",
      "  (19595, 27160)\t1\n",
      "  (19595, 29551)\t1\n",
      "  (19595, 32458)\t1\n",
      "  (19595, 34421)\t1\n",
      "  (19595, 36153)\t1\n",
      "  (19595, 36989)\t1\n",
      "  (19595, 41190)\t1\n",
      "  (19595, 42945)\t1\n",
      "  (19595, 43507)\t1\n",
      "  (19595, 46724)\t1\n",
      "  (19595, 47396)\t1\n",
      "  (19596, 11065)\t1\n",
      "  (19596, 14434)\t1\n",
      "  (19596, 15111)\t1\n",
      "  (19596, 15357)\t1\n",
      "  (19596, 26630)\t1\n",
      "  (19596, 28191)\t1\n",
      "  (19596, 30364)\t1\n",
      "  (19596, 37517)\t1\n",
      "  (19597, 15823)\t1\n",
      "  (19597, 30785)\t1\n",
      "  (19597, 37068)\t1\n",
      "  (19597, 42666)\t1\n",
      "  (19597, 46276)\t1\n"
     ]
    }
   ],
   "source": [
    "comments_ufo_test = vectorizer_train.transform(x_test)\n",
    "print(comments_ufo_test)\n",
    "\n",
    "# \"Your CountVectorizer has already been fitted with the training data. So for your test data, you just want to call transform(), not fit_transform()\". cit. stackoverflow"
   ]
  },
  {
   "cell_type": "markdown",
   "metadata": {},
   "source": [
    "Ora devo trovare in ogni commento quale parola è più importate, assegnando ad essa un peso.\n",
    "TF-IDF (term frequency-inverse document frequency) serve a trovare la parola più significativa."
   ]
  },
  {
   "cell_type": "code",
   "execution_count": 81,
   "metadata": {},
   "outputs": [],
   "source": [
    "from sklearn.feature_extraction.text import TfidfTransformer"
   ]
  },
  {
   "cell_type": "code",
   "execution_count": 82,
   "metadata": {},
   "outputs": [
    {
     "name": "stdout",
     "output_type": "stream",
     "text": [
      "TfidfTransformer()\n"
     ]
    }
   ],
   "source": [
    "### Train ###\n",
    "tfidf_transformer_train = TfidfTransformer().fit(comments_ufo_train) # fit\n",
    "print(tfidf_transformer_train)"
   ]
  },
  {
   "cell_type": "code",
   "execution_count": 83,
   "metadata": {},
   "outputs": [
    {
     "name": "stdout",
     "output_type": "stream",
     "text": [
      "  (0, 47396)\t0.17352733227667527\n",
      "  (0, 42666)\t0.12998669939952442\n",
      "  (0, 42341)\t0.22982450629507148\n",
      "  (0, 34281)\t0.12933883862955067\n",
      "  (0, 32768)\t0.4040370917265026\n",
      "  (0, 25183)\t0.3238750431143014\n",
      "  (0, 19284)\t0.34547974226941225\n",
      "  (0, 16909)\t0.26390653213674337\n",
      "  (0, 16087)\t0.20957528522018415\n",
      "  (0, 15395)\t0.20905490023861184\n",
      "  (0, 15065)\t0.20967505903046785\n",
      "  (0, 14200)\t0.38337094600564753\n",
      "  (0, 14156)\t0.3843660948687704\n",
      "  (1, 34161)\t0.1537340176136312\n",
      "  (1, 20032)\t0.23539260064689776\n",
      "  (1, 18458)\t0.18210380690760464\n",
      "  (1, 18294)\t0.24574949078101\n",
      "  (1, 15479)\t0.17802300479656208\n",
      "  (1, 15032)\t0.31202964040866704\n",
      "  (1, 14950)\t0.18004641784005818\n",
      "  (1, 12942)\t0.24574949078101\n",
      "  (1, 9816)\t0.31202964040866704\n",
      "  (1, 8501)\t0.2321369633738845\n",
      "  (1, 8481)\t0.31202964040866704\n",
      "  (1, 6610)\t0.25455186058734014\n",
      "  :\t:\n",
      "  (58791, 18840)\t0.47181978251457807\n",
      "  (58791, 16390)\t0.44546092842199736\n",
      "  (58792, 45786)\t0.4005971249089671\n",
      "  (58792, 43318)\t0.2863665336089364\n",
      "  (58792, 42666)\t0.11600027283153137\n",
      "  (58792, 41912)\t0.3244355519453003\n",
      "  (58792, 41857)\t0.32273672401714293\n",
      "  (58792, 38665)\t0.38349385295637367\n",
      "  (58792, 34421)\t0.11549140874662124\n",
      "  (58792, 30945)\t0.19329474101515953\n",
      "  (58792, 30586)\t0.20329186627651244\n",
      "  (58792, 16087)\t0.1870252139379755\n",
      "  (58792, 15395)\t0.18656082181079114\n",
      "  (58792, 15065)\t0.18711425219548813\n",
      "  (58792, 12630)\t0.3972207747131391\n",
      "  (58792, 1765)\t0.18156808525056659\n",
      "  (58793, 46578)\t0.3334802952216523\n",
      "  (58793, 43875)\t0.36208063609557684\n",
      "  (58793, 42911)\t0.25117064574300463\n",
      "  (58793, 42666)\t0.15296363705605442\n",
      "  (58793, 40674)\t0.47369024712966834\n",
      "  (58793, 36109)\t0.25960725854581584\n",
      "  (58793, 34281)\t0.15220125798081896\n",
      "  (58793, 30010)\t0.3558939255277462\n",
      "  (58793, 6352)\t0.4791657855535959\n",
      "(58794, 48173)\n"
     ]
    }
   ],
   "source": [
    "comments_tfidf_train = tfidf_transformer_train.transform(comments_ufo_train)\n",
    "print(comments_tfidf_train) #questi sono i valori tfidf per tutti i commenti\n",
    "print(comments_tfidf_train.shape)\n",
    "#La parola che ha il valore TF-IDF più alto sarà quella più importante nel commento. (importanza calcolato su tutto il dataset)"
   ]
  },
  {
   "cell_type": "code",
   "execution_count": 84,
   "metadata": {},
   "outputs": [
    {
     "name": "stdout",
     "output_type": "stream",
     "text": [
      "TfidfTransformer()\n"
     ]
    }
   ],
   "source": [
    "###   Test   ###\n",
    "tfidf_transformer_test = TfidfTransformer().fit(comments_ufo_test) #fit\n",
    "print(tfidf_transformer_test)"
   ]
  },
  {
   "cell_type": "code",
   "execution_count": 85,
   "metadata": {},
   "outputs": [
    {
     "name": "stdout",
     "output_type": "stream",
     "text": [
      "  (0, 42666)\t0.25274240705536183\n",
      "  (0, 36989)\t0.2653374701979445\n",
      "  (0, 21703)\t0.9304393062337901\n",
      "  (1, 46067)\t0.3133925891828533\n",
      "  (1, 45804)\t0.22040902463733344\n",
      "  (1, 41975)\t0.21814594304567642\n",
      "  (1, 38634)\t0.2783502661284352\n",
      "  (1, 36989)\t0.14088000834283557\n",
      "  (1, 36865)\t0.3643712858002917\n",
      "  (1, 36744)\t0.22406120531391263\n",
      "  (1, 34421)\t0.13373112466715026\n",
      "  (1, 34009)\t0.22049490564351074\n",
      "  (1, 30046)\t0.3800192802438823\n",
      "  (1, 28882)\t0.25729618303575774\n",
      "  (1, 25097)\t0.1611058610631247\n",
      "  (1, 11952)\t0.4268062238423749\n",
      "  (1, 2365)\t0.2002117427341902\n",
      "  (2, 14451)\t0.4696769355552101\n",
      "  (2, 13428)\t0.3431967267167023\n",
      "  (2, 11782)\t0.6845609475273757\n",
      "  (2, 10229)\t0.4393129773849502\n",
      "  (3, 47003)\t0.508461125345834\n",
      "  (3, 40776)\t0.3581433436418668\n",
      "  (3, 36328)\t0.49006889875624093\n",
      "  (3, 35711)\t0.46492719739511373\n",
      "  :\t:\n",
      "  (19595, 46724)\t0.34378447400048007\n",
      "  (19595, 43507)\t0.23634376758990214\n",
      "  (19595, 42945)\t0.23663493722401618\n",
      "  (19595, 41190)\t0.22885799591156622\n",
      "  (19595, 36989)\t0.1341103570282968\n",
      "  (19595, 36153)\t0.15187431392562223\n",
      "  (19595, 34421)\t0.1273049958320737\n",
      "  (19595, 32458)\t0.47027488224368025\n",
      "  (19595, 29551)\t0.3265854224081281\n",
      "  (19595, 27160)\t0.34378447400048007\n",
      "  (19595, 26071)\t0.2628647183917959\n",
      "  (19595, 24546)\t0.34231926414658637\n",
      "  (19596, 37517)\t0.19931401485160466\n",
      "  (19596, 30364)\t0.2623741611584774\n",
      "  (19596, 28191)\t0.279818114982313\n",
      "  (19596, 26630)\t0.3022464785707904\n",
      "  (19596, 15357)\t0.4117999157307529\n",
      "  (19596, 15111)\t0.47761273361208234\n",
      "  (19596, 14434)\t0.3694770952679571\n",
      "  (19596, 11065)\t0.43310067412498127\n",
      "  (19597, 46276)\t0.6641480666361033\n",
      "  (19597, 42666)\t0.26138876465555033\n",
      "  (19597, 37068)\t0.3931215105340808\n",
      "  (19597, 30785)\t0.37550668175762664\n",
      "  (19597, 15823)\t0.4416259381039007\n",
      "(19598, 48173)\n"
     ]
    }
   ],
   "source": [
    "comments_tfidf_test = tfidf_transformer_test.transform(comments_ufo_test) #trasformo\n",
    "print(comments_tfidf_test) #questo sono i valori tfidf per tutto il vocabilario\n",
    "print(comments_tfidf_test.shape)"
   ]
  },
  {
   "cell_type": "markdown",
   "metadata": {},
   "source": [
    "### Multinomial Naive Bayes"
   ]
  },
  {
   "cell_type": "code",
   "execution_count": 86,
   "metadata": {},
   "outputs": [],
   "source": [
    "from sklearn.naive_bayes import MultinomialNB"
   ]
  },
  {
   "cell_type": "code",
   "execution_count": 87,
   "metadata": {},
   "outputs": [],
   "source": [
    "#inserisco nel modello comments_tfidf e la variabile che funge da classe 'shape_group'\n",
    "model = MultinomialNB().fit(comments_tfidf_train, y_train)\n"
   ]
  },
  {
   "cell_type": "code",
   "execution_count": 88,
   "metadata": {},
   "outputs": [
    {
     "name": "stdout",
     "output_type": "stream",
     "text": [
      "['circular or light' 'geometricor other' 'circular or light' ...\n",
      " 'circular or light' 'circular or light' 'circular or light']\n"
     ]
    }
   ],
   "source": [
    "all_predictions = model.predict(comments_tfidf_test)\n",
    "print(all_predictions)"
   ]
  },
  {
   "cell_type": "code",
   "execution_count": 89,
   "metadata": {},
   "outputs": [],
   "source": [
    "from sklearn.metrics import confusion_matrix"
   ]
  },
  {
   "cell_type": "code",
   "execution_count": 90,
   "metadata": {},
   "outputs": [
    {
     "data": {
      "text/plain": [
       "array([[11245,   524],\n",
       "       [ 4896,  2933]], dtype=int64)"
      ]
     },
     "execution_count": 90,
     "metadata": {},
     "output_type": "execute_result"
    }
   ],
   "source": [
    "#Confusion matrix di valori osservati e predizioni\n",
    "confusion_matrix(y_test, all_predictions)\n"
   ]
  },
  {
   "cell_type": "code",
   "execution_count": 91,
   "metadata": {},
   "outputs": [
    {
     "data": {
      "image/png": "[encoded data removed]",
      "text/plain": [
       "<Figure size 432x288 with 1 Axes>"
      ]
     },
     "metadata": {
      "needs_background": "light"
     },
     "output_type": "display_data"
    }
   ],
   "source": [
    "mat = confusion_matrix(y_test, all_predictions)\n",
    "sns.heatmap(mat, square=True, annot=True, fmt='d', cbar=False, xticklabels = ['circular/light', 'geometric'],\n",
    "            yticklabels = ['circular/light', 'geometric'])\n",
    "plt.xlabel('true label')\n",
    "plt.ylabel('predicted label');"
   ]
  },
  {
   "cell_type": "markdown",
   "metadata": {},
   "source": [
    "La procedura del Multinomial Naive Bayes l'ho presa da questo video:\n",
    "https://www.youtube.com/watch?v=oq68P8Kv7nE\n",
    "\n",
    "Un'altro riferimento utile per il Naive Bayes ma anche per tutto il resto: https://jakevdp.github.io/PythonDataScienceHandbook/05.05-naive-bayes.html"
   ]
  },
  {
   "cell_type": "code",
   "execution_count": null,
   "metadata": {},
   "outputs": [],
   "source": []
  },
  {
   "cell_type": "code",
   "execution_count": null,
   "metadata": {},
   "outputs": [],
   "source": []
  },
  {
   "cell_type": "code",
   "execution_count": null,
   "metadata": {},
   "outputs": [],
   "source": []
  },
  {
   "cell_type": "code",
   "execution_count": null,
   "metadata": {},
   "outputs": [],
   "source": []
  },
  {
   "cell_type": "code",
   "execution_count": null,
   "metadata": {},
   "outputs": [],
   "source": []
  },
  {
   "cell_type": "code",
   "execution_count": null,
   "metadata": {},
   "outputs": [],
   "source": []
  },
  {
   "cell_type": "code",
   "execution_count": null,
   "metadata": {},
   "outputs": [],
   "source": []
  },
  {
   "cell_type": "code",
   "execution_count": null,
   "metadata": {},
   "outputs": [],
   "source": []
  },
  {
   "cell_type": "code",
   "execution_count": null,
   "metadata": {},
   "outputs": [],
   "source": []
  },
  {
   "cell_type": "code",
   "execution_count": null,
   "metadata": {},
   "outputs": [],
   "source": []
  },
  {
   "cell_type": "code",
   "execution_count": null,
   "metadata": {},
   "outputs": [],
   "source": []
  },
  {
   "cell_type": "code",
   "execution_count": null,
   "metadata": {},
   "outputs": [],
   "source": []
  },
  {
   "cell_type": "code",
   "execution_count": null,
   "metadata": {},
   "outputs": [],
   "source": []
  },
  {
   "cell_type": "code",
   "execution_count": null,
   "metadata": {},
   "outputs": [],
   "source": []
  },
  {
   "cell_type": "code",
   "execution_count": null,
   "metadata": {},
   "outputs": [],
   "source": []
  },
  {
   "cell_type": "code",
   "execution_count": null,
   "metadata": {},
   "outputs": [],
   "source": []
  },
  {
   "cell_type": "code",
   "execution_count": null,
   "metadata": {},
   "outputs": [],
   "source": []
  },
  {
   "cell_type": "code",
   "execution_count": null,
   "metadata": {},
   "outputs": [],
   "source": []
  },
  {
   "cell_type": "code",
   "execution_count": null,
   "metadata": {},
   "outputs": [],
   "source": []
  }
 ],
 "metadata": {
  "kernelspec": {
   "display_name": "Python 3",
   "language": "python",
   "name": "python3"
  },
  "language_info": {
   "codemirror_mode": {
    "name": "ipython",
    "version": 3
   },
   "file_extension": ".py",
   "mimetype": "text/x-python",
   "name": "python",
   "nbconvert_exporter": "python",
   "pygments_lexer": "ipython3",
   "version": "3.8.5"
  }
 },
 "nbformat": 4,
 "nbformat_minor": 4
}
